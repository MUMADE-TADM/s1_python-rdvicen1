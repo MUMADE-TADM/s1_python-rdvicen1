{
  "cells": [
    {
      "cell_type": "markdown",
      "metadata": {
        "id": "view-in-github",
        "colab_type": "text"
      },
      "source": [
        "<a href=\"https://colab.research.google.com/github/MUMADE-TADM/s1_python-rdvicen1/blob/main/Perceptron.ipynb\" target=\"_parent\"><img src=\"https://colab.research.google.com/assets/colab-badge.svg\" alt=\"Open In Colab\"/></a>"
      ]
    },
    {
      "cell_type": "markdown",
      "metadata": {
        "id": "m_kY8a5rr5qC"
      },
      "source": [
        "[Yahoo finance](https://finance.yahoo.com/)"
      ]
    },
    {
      "cell_type": "code",
      "execution_count": null,
      "metadata": {
        "id": "U3zKcC8XtEnq",
        "colab": {
          "base_uri": "https://localhost:8080/"
        },
        "outputId": "10c4f1bc-ab57-48b6-ef06-b2d474986253"
      },
      "outputs": [
        {
          "output_type": "stream",
          "name": "stdout",
          "text": [
            "Looking in indexes: https://pypi.org/simple, https://us-python.pkg.dev/colab-wheels/public/simple/\n",
            "Collecting yfinance\n",
            "  Downloading yfinance-0.2.3-py2.py3-none-any.whl (50 kB)\n",
            "\u001b[K     |████████████████████████████████| 50 kB 2.6 MB/s \n",
            "\u001b[?25hRequirement already satisfied: pandas_datareader in /usr/local/lib/python3.8/dist-packages (0.9.0)\n",
            "Collecting pandas_datareader\n",
            "  Downloading pandas_datareader-0.10.0-py3-none-any.whl (109 kB)\n",
            "\u001b[K     |████████████████████████████████| 109 kB 9.7 MB/s \n",
            "\u001b[?25hCollecting html5lib>=1.1\n",
            "  Downloading html5lib-1.1-py2.py3-none-any.whl (112 kB)\n",
            "\u001b[K     |████████████████████████████████| 112 kB 56.8 MB/s \n",
            "\u001b[?25hRequirement already satisfied: pandas>=1.3.0 in /usr/local/lib/python3.8/dist-packages (from yfinance) (1.3.5)\n",
            "Requirement already satisfied: pytz>=2022.5 in /usr/local/lib/python3.8/dist-packages (from yfinance) (2022.6)\n",
            "Requirement already satisfied: numpy>=1.16.5 in /usr/local/lib/python3.8/dist-packages (from yfinance) (1.21.6)\n",
            "Collecting requests>=2.26\n",
            "  Downloading requests-2.28.1-py3-none-any.whl (62 kB)\n",
            "\u001b[K     |████████████████████████████████| 62 kB 1.0 MB/s \n",
            "\u001b[?25hCollecting frozendict>=2.3.4\n",
            "  Downloading frozendict-2.3.4-cp38-cp38-manylinux_2_17_x86_64.manylinux2014_x86_64.whl (110 kB)\n",
            "\u001b[K     |████████████████████████████████| 110 kB 16.4 MB/s \n",
            "\u001b[?25hRequirement already satisfied: appdirs>=1.4.4 in /usr/local/lib/python3.8/dist-packages (from yfinance) (1.4.4)\n",
            "Collecting cryptography>=3.3.2\n",
            "  Downloading cryptography-39.0.0-cp36-abi3-manylinux_2_24_x86_64.whl (4.1 MB)\n",
            "\u001b[K     |████████████████████████████████| 4.1 MB 53.5 MB/s \n",
            "\u001b[?25hCollecting beautifulsoup4>=4.11.1\n",
            "  Downloading beautifulsoup4-4.11.1-py3-none-any.whl (128 kB)\n",
            "\u001b[K     |████████████████████████████████| 128 kB 45.1 MB/s \n",
            "\u001b[?25hRequirement already satisfied: lxml>=4.9.1 in /usr/local/lib/python3.8/dist-packages (from yfinance) (4.9.2)\n",
            "Requirement already satisfied: multitasking>=0.0.7 in /usr/local/lib/python3.8/dist-packages (from yfinance) (0.0.11)\n",
            "Collecting soupsieve>1.2\n",
            "  Downloading soupsieve-2.3.2.post1-py3-none-any.whl (37 kB)\n",
            "Requirement already satisfied: cffi>=1.12 in /usr/local/lib/python3.8/dist-packages (from cryptography>=3.3.2->yfinance) (1.15.1)\n",
            "Requirement already satisfied: pycparser in /usr/local/lib/python3.8/dist-packages (from cffi>=1.12->cryptography>=3.3.2->yfinance) (2.21)\n",
            "Requirement already satisfied: webencodings in /usr/local/lib/python3.8/dist-packages (from html5lib>=1.1->yfinance) (0.5.1)\n",
            "Requirement already satisfied: six>=1.9 in /usr/local/lib/python3.8/dist-packages (from html5lib>=1.1->yfinance) (1.15.0)\n",
            "Requirement already satisfied: python-dateutil>=2.7.3 in /usr/local/lib/python3.8/dist-packages (from pandas>=1.3.0->yfinance) (2.8.2)\n",
            "Requirement already satisfied: charset-normalizer<3,>=2 in /usr/local/lib/python3.8/dist-packages (from requests>=2.26->yfinance) (2.1.1)\n",
            "Requirement already satisfied: urllib3<1.27,>=1.21.1 in /usr/local/lib/python3.8/dist-packages (from requests>=2.26->yfinance) (1.24.3)\n",
            "Requirement already satisfied: idna<4,>=2.5 in /usr/local/lib/python3.8/dist-packages (from requests>=2.26->yfinance) (2.10)\n",
            "Requirement already satisfied: certifi>=2017.4.17 in /usr/local/lib/python3.8/dist-packages (from requests>=2.26->yfinance) (2022.12.7)\n",
            "Installing collected packages: soupsieve, requests, html5lib, frozendict, cryptography, beautifulsoup4, yfinance, pandas-datareader\n",
            "  Attempting uninstall: requests\n",
            "    Found existing installation: requests 2.23.0\n",
            "    Uninstalling requests-2.23.0:\n",
            "      Successfully uninstalled requests-2.23.0\n",
            "  Attempting uninstall: html5lib\n",
            "    Found existing installation: html5lib 1.0.1\n",
            "    Uninstalling html5lib-1.0.1:\n",
            "      Successfully uninstalled html5lib-1.0.1\n",
            "  Attempting uninstall: beautifulsoup4\n",
            "    Found existing installation: beautifulsoup4 4.6.3\n",
            "    Uninstalling beautifulsoup4-4.6.3:\n",
            "      Successfully uninstalled beautifulsoup4-4.6.3\n",
            "  Attempting uninstall: pandas-datareader\n",
            "    Found existing installation: pandas-datareader 0.9.0\n",
            "    Uninstalling pandas-datareader-0.9.0:\n",
            "      Successfully uninstalled pandas-datareader-0.9.0\n",
            "Successfully installed beautifulsoup4-4.11.1 cryptography-39.0.0 frozendict-2.3.4 html5lib-1.1 pandas-datareader-0.10.0 requests-2.28.1 soupsieve-2.3.2.post1 yfinance-0.2.3\n"
          ]
        }
      ],
      "source": [
        "!pip install -U yfinance pandas_datareader"
      ]
    },
    {
      "cell_type": "markdown",
      "metadata": {
        "id": "4Mad_HUVxyXd"
      },
      "source": [
        "# Datos\n",
        "\n",
        "Valor de cierre del IBEX"
      ]
    },
    {
      "cell_type": "markdown",
      "source": [
        "instala libreria"
      ],
      "metadata": {
        "id": "tpEH5N8tpx20"
      }
    },
    {
      "cell_type": "markdown",
      "source": [
        "pip install yahoo finance previo para poder importar"
      ],
      "metadata": {
        "id": "Zu_6P-x_L-Gp"
      }
    },
    {
      "cell_type": "code",
      "execution_count": null,
      "metadata": {
        "id": "WxaB4kY0tofH"
      },
      "outputs": [],
      "source": [
        "import pandas as pd\n",
        "import yfinance as yf\n",
        "from pandas_datareader import data as pdr"
      ]
    },
    {
      "cell_type": "code",
      "execution_count": null,
      "metadata": {
        "id": "yBeJELUotfza",
        "colab": {
          "base_uri": "https://localhost:8080/"
        },
        "outputId": "2119fe8d-1e69-4009-8a18-928140ec0413"
      },
      "outputs": [
        {
          "output_type": "stream",
          "name": "stdout",
          "text": [
            "\r[*********************100%***********************]  1 of 1 completed\n"
          ]
        }
      ],
      "source": [
        "yf.pdr_override() # <== that's all it takes :-)\n",
        "data = pdr.get_data_yahoo(\"^IBEX\", start=\"2020-01-01\", end=\"2020-10-30\")"
      ]
    },
    {
      "cell_type": "markdown",
      "metadata": {
        "id": "q3UO3lLZvASE"
      },
      "source": [
        "## [Bollinger Bands](https://en.wikipedia.org/wiki/Bollinger_Bands)\n",
        "\n",
        "El 97% de los valores de un activo se encuentran entre un máximo de $+1.96 \\times  \\sigma(20\\ valores\\ anteriores)$ y $-1.96 \\times \\sigma(20\\ valores\\  anteriores)$ centrados en la media de los 20 valores anteriores."
      ]
    },
    {
      "cell_type": "markdown",
      "source": [
        "se hace la media de cada 20 valores, se va moviendo un elemento cada vez, y se obtiene la media los 20 valores. -> rolling(20).mean()\n",
        "\n",
        "*1,96 por lo que indica el texto\n",
        "\n",
        "df va a tener una columna con R, otra con M, otra +M, -M"
      ],
      "metadata": {
        "id": "EwetxDusqupB"
      }
    },
    {
      "cell_type": "code",
      "execution_count": null,
      "metadata": {
        "id": "Gz2OmhmRt4n4",
        "scrolled": true,
        "colab": {
          "base_uri": "https://localhost:8080/",
          "height": 343
        },
        "outputId": "73957fd9-2bad-4c60-985f-68b89065bcef"
      },
      "outputs": [
        {
          "output_type": "execute_result",
          "data": {
            "text/plain": [
              "<matplotlib.axes._subplots.AxesSubplot at 0x7f5e830b6760>"
            ]
          },
          "metadata": {},
          "execution_count": 4
        },
        {
          "output_type": "display_data",
          "data": {
            "text/plain": [
              "<Figure size 1080x360 with 1 Axes>"
            ],
            "image/png": "[encoded data removed]"
          },
          "metadata": {
            "needs_background": "light"
          }
        }
      ],
      "source": [
        "d=pd.DataFrame()\n",
        "d['R']=data['Close']\n",
        "d['M']=data['Close'].rolling(20).mean()\n",
        "d['+M']=d['M']+data['Close'].rolling(20).std()*1.96\n",
        "d['-M']=d['M']-data['Close'].rolling(20).std()*1.96\n",
        "d.plot(figsize=(15,5))"
      ]
    },
    {
      "cell_type": "markdown",
      "source": [
        "esto es necesario para poder predecir"
      ],
      "metadata": {
        "id": "y5tS9TnRryL0"
      }
    },
    {
      "cell_type": "markdown",
      "metadata": {
        "id": "J4g6TlcVyfex"
      },
      "source": [
        "## Transformación de los datos para un problema de regresión / clasificación\n",
        "- Datos originales $[c_0,\\ldots,c_T]$\n",
        "- Datos transformados:$[[c_0,\\ldots,c_{19}],c_{20}],\\ldots,[[c_{T-20},\\ldots,c_{T-1}],c_T]$."
      ]
    },
    {
      "cell_type": "markdown",
      "source": [
        "transformar en datos de forma predictivas\n",
        "\n",
        "datos compuestos por elementos dependientes e independientes\n",
        "\n",
        "Hay que transformar serie continua de 20 datos anterior a elementos anteriores(20) + 1"
      ],
      "metadata": {
        "id": "ou5A-NbVr2Wt"
      }
    },
    {
      "cell_type": "code",
      "execution_count": null,
      "metadata": {
        "id": "PTbZ91vZ9tiv"
      },
      "outputs": [],
      "source": [
        "def windowData(s,window_input=1,window_output=1,step=1):\n",
        "  X=[]\n",
        "  Y=[]\n",
        "  #Datos necesarios\n",
        "  dn=window_input+window_output\n",
        "  #Calcular cuantos pasos completos podemos realizar\n",
        "  #sin contar el último bloque [input,output]\n",
        "  ld=int((len(s)-dn)/step)*step\n",
        "  for i in range(len(s)-ld-1,len(s)-dn,step):\n",
        "    X.append(s[i:i+window_input])\n",
        "    Y.append(s[i+window_input:i+dn])\n",
        "  return X,Y"
      ]
    },
    {
      "cell_type": "markdown",
      "source": [
        "devolvera x e y\n",
        "\n",
        "divider tamaño completo de nuestros datos/dn(ventana de entrada y salida)\n",
        "\n",
        "x desde donte toque hasta el tamaño de i, x no tiene el valor i+window_input(este no esta incluido)\n",
        "\n",
        "y empieza en i+window_input porque ese valor si lo coge"
      ],
      "metadata": {
        "id": "rY3H8BadsZvT"
      }
    },
    {
      "cell_type": "markdown",
      "source": [
        "scalada datos\n",
        "\n",
        "poner values necesarios para k sea vector\n",
        "\n",
        "dimension con funcion shape-> ,n. de elementos\n",
        "necesitamos que cada elemento tenga su propia dimension ->(1)"
      ],
      "metadata": {
        "id": "UJMjam7utyBr"
      }
    },
    {
      "cell_type": "markdown",
      "source": [],
      "metadata": {
        "id": "1ZGjomNFt9B1"
      }
    },
    {
      "cell_type": "code",
      "execution_count": null,
      "metadata": {
        "id": "nkai0YWG1QiW"
      },
      "outputs": [],
      "source": [
        "import numpy as np\n",
        "from sklearn.preprocessing import MinMaxScaler\n",
        "from sklearn.model_selection import train_test_split\n",
        "\n",
        "#Escalanos los datos\n",
        "dScale = MinMaxScaler()\n",
        "ldatos=d['R'].values #ldatos.shape=(len(d['R']),)\n",
        "ldatos=ldatos.reshape((len(d['R']),1)) #ldatos.shape=(len(d['R']),1)\n",
        "dScale.fit(ldatos)\n",
        "ldatos=dScale.transform(ldatos).reshape((len(ldatos),))\n",
        "\n",
        "#Contruimos los conjunto de datos X e Y\n",
        "X,Y=windowData(ldatos,window_input=20,window_output=1,step=1)\n",
        "X=np.array(X)\n",
        "Y=np.array(Y)\n",
        "\n",
        "#partmos los conjuntos en entranamiento y test\n",
        "X_train,X_test,Y_train,Y_test=train_test_split(X,Y,test_size=0.33,shuffle=False, random_state=42)"
      ]
    },
    {
      "cell_type": "markdown",
      "source": [
        "queremos como entrada input =20, salida de 1, y de paso 1 a 1"
      ],
      "metadata": {
        "id": "hbNDGLNDudce"
      }
    },
    {
      "cell_type": "markdown",
      "metadata": {
        "id": "83AkZGPRo-k8"
      },
      "source": [
        "# PERCEPTRON"
      ]
    },
    {
      "cell_type": "markdown",
      "metadata": {
        "id": "I4iLDwKJpKIq"
      },
      "source": [
        "## Librerías necesarias \n",
        "- [Keras](https://keras.io/)\n",
        "- [Tensorflow](https://www.tensorflow.org/)"
      ]
    },
    {
      "cell_type": "markdown",
      "source": [
        "librerias tensorflow mas popular para redes neuronales"
      ],
      "metadata": {
        "id": "y-nveTDTu2DS"
      }
    },
    {
      "cell_type": "code",
      "execution_count": null,
      "metadata": {
        "id": "NcunIHLYpodt"
      },
      "outputs": [],
      "source": [
        "from tensorflow import keras\n",
        "from tensorflow.keras.models import Sequential\n",
        "from tensorflow.keras.layers import Dense,Input\n",
        "from tensorflow.keras import metrics"
      ]
    },
    {
      "cell_type": "markdown",
      "metadata": {
        "id": "JdDwd3YiqiPw"
      },
      "source": [
        "## Definir la Red\n",
        "\n",
        "Definimos nuestro perceptron con las siguientes capas (**layers**)\n",
        "- Modelo secuencial [Sequential](https://keras.io/api/models/sequential/)\n",
        "- Capa de entrada: [Input](https://keras.io/api/layers/core_layers/input/)\n",
        "- Capa Densa: [Dense](https://keras.io/api/layers/core_layers/dense/) "
      ]
    },
    {
      "cell_type": "markdown",
      "source": [
        "1.input cada uno de los parametros de entrada -> 20\n",
        "\n",
        "2.salida de esa capa va a ir a una capa densa-> 30 neuronas(se le asigna estos porque si); funcion de activacion relu,\n",
        "\n",
        "3.Salida obtendremos 30, se mete en capa densa, misma activacion\n",
        "\n",
        "4.Ultima capa de 1 neurona; sigmoide ya que se ha normalizado los valores de entrada entre 0 y 1 antes"
      ],
      "metadata": {
        "id": "-xtNq-8svsOQ"
      }
    },
    {
      "cell_type": "code",
      "execution_count": null,
      "metadata": {
        "id": "OIPQtr6Wqp3R",
        "colab": {
          "base_uri": "https://localhost:8080/"
        },
        "outputId": "0f100dd6-41cb-4f67-feab-9878477a02ec"
      },
      "outputs": [
        {
          "output_type": "stream",
          "name": "stdout",
          "text": [
            "Model: \"sequential\"\n",
            "_________________________________________________________________\n",
            " Layer (type)                Output Shape              Param #   \n",
            "=================================================================\n",
            " dense (Dense)               (None, 30)                630       \n",
            "                                                                 \n",
            " dense_1 (Dense)             (None, 30)                930       \n",
            "                                                                 \n",
            " dense_2 (Dense)             (None, 1)                 31        \n",
            "                                                                 \n",
            "=================================================================\n",
            "Total params: 1,591\n",
            "Trainable params: 1,591\n",
            "Non-trainable params: 0\n",
            "_________________________________________________________________\n"
          ]
        }
      ],
      "source": [
        "perceptron=Sequential()\n",
        "perceptron.add(Input(20))\n",
        "perceptron.add(Dense(30,activation='relu'))\n",
        "perceptron.add(Dense(30,activation='relu'))\n",
        "perceptron.add(Dense(1, activation='sigmoid'))\n",
        "perceptron.summary()"
      ]
    },
    {
      "cell_type": "markdown",
      "source": [
        "con esto ya esta construido un perceptron"
      ],
      "metadata": {
        "id": "n23s4rfKwQnL"
      }
    },
    {
      "cell_type": "markdown",
      "source": [
        "falta compilar para que pueda ejecutarse"
      ],
      "metadata": {
        "id": "MdGeNIWWwwIn"
      }
    },
    {
      "cell_type": "markdown",
      "metadata": {
        "id": "O_nr6THhu79F"
      },
      "source": [
        "## Compilar la red\n",
        "Definido el **perceptrón** lo tendremos que compilar indicando:\n",
        "- Que optimizador utilizar.\n",
        "- Que función de error (pérdida o **loss**).\n",
        "- Que métricas observar cuando lo entrenemos.\n",
        "\n",
        "Función [**compile**](https://keras.io/api/models/model_training_apis/#compile-method)"
      ]
    },
    {
      "cell_type": "markdown",
      "source": [
        "compilar -> construir tensor y elements necesarios para que pueda ejecutarse"
      ],
      "metadata": {
        "id": "oGU0kyzdwqwg"
      }
    },
    {
      "cell_type": "markdown",
      "source": [
        "se utiliza perceptron creado antes\n",
        "\n",
        "optimizer = adam; hay muchos\n",
        "\n",
        "loss -> percepcion error cuadratico errorses"
      ],
      "metadata": {
        "id": "j00IcK2sw8ej"
      }
    },
    {
      "cell_type": "code",
      "execution_count": null,
      "metadata": {
        "id": "D5A6-oOZsWnQ"
      },
      "outputs": [],
      "source": [
        "# compilamos el modelo\n",
        "perceptron.compile(\n",
        "    optimizer='adam',\n",
        "    loss='mean_squared_error',\n",
        "    metrics=[\n",
        "        metrics.MeanSquaredError(name='my_mse'),\n",
        "        metrics.AUC(name='my_auc'),\n",
        "    ]\n",
        ")"
      ]
    },
    {
      "cell_type": "markdown",
      "source": [
        "siguiente fase ajustar fit (aprendizaje)"
      ],
      "metadata": {
        "id": "77VxWHdkxSI9"
      }
    },
    {
      "cell_type": "markdown",
      "metadata": {
        "id": "j1BNBUN8v4n3"
      },
      "source": [
        "## Aprender los parámetros\n",
        "\n",
        "Realizamos el **aprendizaje** indicando:\n",
        "- Los conjuntos de datos a utilizar **X** e **Y**\n",
        "- Que proporción de los datos utilizaremos para validar el modelo\n",
        "- El tamaño del conjunto **batch**\n",
        "- El número de **épocas** a realizar\n",
        "\n",
        "Método [**fit**](https://keras.io/api/models/model_training_apis/#fit-method)"
      ]
    },
    {
      "cell_type": "markdown",
      "source": [
        "Primero datos de entrenamiento, despues separacion dato entrenamiento/test\n",
        "\n",
        "batch cada cuantos datos quieres que haga el ejuste y numero de epocas que quieres que haga. Cada epoca recorre todos los datos.\n",
        "\n",
        "verbose= que no informe"
      ],
      "metadata": {
        "id": "trFX3DUjxbhf"
      }
    },
    {
      "cell_type": "code",
      "execution_count": null,
      "metadata": {
        "id": "uJqvqoKLqrMj"
      },
      "outputs": [],
      "source": [
        "history=perceptron.fit(X,Y,validation_split=0.33, batch_size=10,epochs=300,verbose=0)"
      ]
    },
    {
      "cell_type": "code",
      "execution_count": null,
      "metadata": {
        "id": "73crXoJAsbHr",
        "colab": {
          "base_uri": "https://localhost:8080/"
        },
        "outputId": "da8523ca-73a4-45fa-a8eb-7c3178326331"
      },
      "outputs": [
        {
          "output_type": "execute_result",
          "data": {
            "text/plain": [
              "dict_keys(['loss', 'my_mse', 'my_auc', 'val_loss', 'val_my_mse', 'val_my_auc'])"
            ]
          },
          "metadata": {},
          "execution_count": 11
        }
      ],
      "source": [
        "history.history.keys()"
      ]
    },
    {
      "cell_type": "code",
      "execution_count": null,
      "metadata": {
        "id": "gp9q8fWerORA",
        "colab": {
          "base_uri": "https://localhost:8080/",
          "height": 295
        },
        "outputId": "bfba3b12-377f-4521-be8a-e8550a0ba2fc"
      },
      "outputs": [
        {
          "output_type": "display_data",
          "data": {
            "text/plain": [
              "<Figure size 432x288 with 1 Axes>"
            ],
            "image/png": "[encoded data removed]"
          },
          "metadata": {
            "needs_background": "light"
          }
        }
      ],
      "source": [
        "import matplotlib.pyplot as plt\n",
        "plt.plot(history.history['loss'])\n",
        "plt.plot(history.history['val_loss'])\n",
        "plt.title('model loss')\n",
        "plt.ylabel('loss')\n",
        "plt.xlabel('epoch')\n",
        "plt.legend(['train', 'test'], loc='upper left')\n",
        "plt.show()"
      ]
    },
    {
      "cell_type": "markdown",
      "source": [
        "tanto train como test estan bien ajustados"
      ],
      "metadata": {
        "id": "QVbPzMlDyyk9"
      }
    },
    {
      "cell_type": "markdown",
      "metadata": {
        "id": "wE8d-FyYxZUf"
      },
      "source": [
        "## Utilizar la red\n",
        "Utilizar el perceptron aprendido con el método [**predict**](https://keras.io/api/models/model_training_apis/#predict-method)"
      ]
    },
    {
      "cell_type": "markdown",
      "source": [
        "se coge parte de entrenamiento y de test\n",
        "\n",
        "xtrain seria vector de 20 valores"
      ],
      "metadata": {
        "id": "66ZWBieTzDxo"
      }
    },
    {
      "cell_type": "code",
      "execution_count": null,
      "metadata": {
        "id": "eRzCvdbZwZ6k",
        "colab": {
          "base_uri": "https://localhost:8080/"
        },
        "outputId": "2bff3a9d-8f7e-4632-88d6-f77fcd971d6d"
      },
      "outputs": [
        {
          "output_type": "stream",
          "name": "stdout",
          "text": [
            "4/4 [==============================] - 0s 3ms/step\n",
            "2/2 [==============================] - 0s 5ms/step\n"
          ]
        }
      ],
      "source": [
        "Y0=perceptron.predict(X_train)\n",
        "Y1=perceptron.predict(X_test)"
      ]
    },
    {
      "cell_type": "code",
      "execution_count": null,
      "metadata": {
        "id": "Unxa4WnnwoFo",
        "colab": {
          "base_uri": "https://localhost:8080/",
          "height": 337
        },
        "outputId": "caab4e25-0901-415d-c62d-24cedca4d2c5"
      },
      "outputs": [
        {
          "output_type": "execute_result",
          "data": {
            "text/plain": [
              "<matplotlib.axes._subplots.AxesSubplot at 0x7f5e208d4b80>"
            ]
          },
          "metadata": {},
          "execution_count": 14
        },
        {
          "output_type": "display_data",
          "data": {
            "text/plain": [
              "<Figure size 1080x360 with 1 Axes>"
            ],
            "image/png": "[encoded data removed]"
          },
          "metadata": {
            "needs_background": "light"
          }
        }
      ],
      "source": [
        "r=pd.DataFrame(np.vstack((Y_train,Y_test)),columns=['R'])\n",
        "r['Perceptron']=pd.DataFrame(np.vstack((Y0,Y1)))\n",
        "r.plot(figsize=(15,5))"
      ]
    },
    {
      "cell_type": "markdown",
      "source": [
        "tiende a infravalorar y a partir del valor 100 y pico tienede a adelantarse un  poco del valor real\n",
        "\n",
        "\n",
        "para corregirlo se utilizaria menos valores, a ver si con la ventana mas pequeña se puede ajustar mas la percepcion"
      ],
      "metadata": {
        "id": "M5LMrjaXztWb"
      }
    },
    {
      "cell_type": "markdown",
      "metadata": {
        "id": "2PxjNviiy-W1"
      },
      "source": [
        "## Salvar y Cargar Redes\n",
        "- Salvar mediante el método [**save**](https://keras.io/api/models/model_saving_apis/#save-method).\n",
        "- Recuperar un modelo con el método [**load_model**](keras.models.load_model)."
      ]
    },
    {
      "cell_type": "code",
      "execution_count": null,
      "metadata": {
        "id": "Q4lQ3vSOzGCx"
      },
      "outputs": [],
      "source": [
        "perceptron.save('perceptron.h5')\n",
        "otro_perceptron=keras.models.load_model('perceptron.h5')"
      ]
    },
    {
      "cell_type": "markdown",
      "source": [
        "h5 fichero jerarquico, pensado para almacenar tensores de forma jerarquica"
      ],
      "metadata": {
        "id": "dlCTnRRD0S_b"
      }
    }
  ],
  "metadata": {
    "celltoolbar": "Slideshow",
    "colab": {
      "collapsed_sections": [
        "q3UO3lLZvASE"
      ],
      "provenance": [],
      "include_colab_link": true
    },
    "kernelspec": {
      "display_name": "NN",
      "language": "python",
      "name": "nn"
    },
    "language_info": {
      "codemirror_mode": {
        "name": "ipython",
        "version": 3
      },
      "file_extension": ".py",
      "mimetype": "text/x-python",
      "name": "python",
      "nbconvert_exporter": "python",
      "pygments_lexer": "ipython3",
      "version": "3.8.5"
    },
    "gpuClass": "standard"
  },
  "nbformat": 4,
  "nbformat_minor": 0
}