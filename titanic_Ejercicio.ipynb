{
  "nbformat": 4,
  "nbformat_minor": 0,
  "metadata": {
    "colab": {
      "provenance": [],
      "include_colab_link": true
    },
    "kernelspec": {
      "name": "python3",
      "display_name": "Python 3"
    },
    "gpuClass": "standard"
  },
  "cells": [
    {
      "cell_type": "markdown",
      "metadata": {
        "id": "view-in-github",
        "colab_type": "text"
      },
      "source": [
        "<a href=\"https://colab.research.google.com/github/MUMADE-TADM/s1_python-rdvicen1/blob/main/titanic_Ejercicio.ipynb\" target=\"_parent\"><img src=\"https://colab.research.google.com/assets/colab-badge.svg\" alt=\"Open In Colab\"/></a>"
      ]
    },
    {
      "cell_type": "markdown",
      "metadata": {
        "id": "SokvQ-3OsEL4"
      },
      "source": [
        "# ¿Que influyó en las muertes de pasajeros del Titanic?\n",
        " ¿La clase de pasaje? ¿La edad? ¿El costo del pasaje?"
      ]
    },
    {
      "cell_type": "markdown",
      "metadata": {
        "id": "l3A2XWchso3t"
      },
      "source": [
        "# Copie este notebook en su cuenta junto con los datos **titanic.csv** \n",
        "moodle de clase"
      ]
    },
    {
      "cell_type": "code",
      "metadata": {
        "id": "3SEr3GNp_h9U",
        "colab": {
          "base_uri": "https://localhost:8080/"
        },
        "outputId": "847b0727-5453-48a1-da9b-521a47bfc068"
      },
      "source": [
        "%cd <Su carpeta>"
      ],
      "execution_count": null,
      "outputs": [
        {
          "output_type": "stream",
          "name": "stdout",
          "text": [
            "[Errno 2] No such file or directory: '<Su carpeta>'\n",
            "/content\n"
          ]
        }
      ]
    },
    {
      "cell_type": "markdown",
      "metadata": {
        "id": "l-er_x1ytSqz"
      },
      "source": [
        "## Utilice estas librerías"
      ]
    },
    {
      "cell_type": "code",
      "metadata": {
        "id": "CQdOcbm1_AHX"
      },
      "source": [
        "import pandas as pd\n",
        "import numpy as np\n",
        "from sklearn import tree\n",
        "from sklearn.tree import DecisionTreeClassifier\n",
        "from sklearn.tree import export_text\n",
        "import graphviz"
      ],
      "execution_count": null,
      "outputs": []
    },
    {
      "cell_type": "markdown",
      "metadata": {
        "id": "MJdFs5hZtjnT"
      },
      "source": [
        "## Lea el fichero de datos en un DataFrame de pandas **datos**"
      ]
    },
    {
      "cell_type": "markdown",
      "source": [
        "head para ver si se ha leido bien"
      ],
      "metadata": {
        "id": "M75oXM45IKsN"
      }
    },
    {
      "cell_type": "code",
      "metadata": {
        "id": "eGY2VZzOATsD",
        "colab": {
          "base_uri": "https://localhost:8080/",
          "height": 206
        },
        "outputId": "a09859c8-3dab-44e8-92c7-bc3e83eb5ce7"
      },
      "source": [
        "datos= pd.read_csv('titanic.csv')\n",
        "datos.head()"
      ],
      "execution_count": null,
      "outputs": [
        {
          "output_type": "execute_result",
          "data": {
            "text/plain": [
              "   PassengerId  Survived  Pclass  \\\n",
              "0            1         0       3   \n",
              "1            2         1       1   \n",
              "2            3         1       3   \n",
              "3            4         1       1   \n",
              "4            5         0       3   \n",
              "\n",
              "                                                Name     Sex   Age  SibSp  \\\n",
              "0                            Braund, Mr. Owen Harris    male  22.0      1   \n",
              "1  Cumings, Mrs. John Bradley (Florence Briggs Th...  female  38.0      1   \n",
              "2                             Heikkinen, Miss. Laina  female  26.0      0   \n",
              "3       Futrelle, Mrs. Jacques Heath (Lily May Peel)  female  35.0      1   \n",
              "4                           Allen, Mr. William Henry    male  35.0      0   \n",
              "\n",
              "   Parch            Ticket     Fare Cabin Embarked  \n",
              "0      0         A/5 21171   7.2500   NaN        S  \n",
              "1      0          PC 17599  71.2833   C85        C  \n",
              "2      0  STON/O2. 3101282   7.9250   NaN        S  \n",
              "3      0            113803  53.1000  C123        S  \n",
              "4      0            373450   8.0500   NaN        S  "
            ],
            "text/html": [
              "\n",
              "  <div id=\"df-e1c878dc-2af2-4829-8f1b-f2bca4f92e6e\">\n",
              "    <div class=\"colab-df-container\">\n",
              "      <div>\n",
              "<style scoped>\n",
              "    .dataframe tbody tr th:only-of-type {\n",
              "        vertical-align: middle;\n",
              "    }\n",
              "\n",
              "    .dataframe tbody tr th {\n",
              "        vertical-align: top;\n",
              "    }\n",
              "\n",
              "    .dataframe thead th {\n",
              "        text-align: right;\n",
              "    }\n",
              "</style>\n",
              "<table border=\"1\" class=\"dataframe\">\n",
              "  <thead>\n",
              "    <tr style=\"text-align: right;\">\n",
              "      <th></th>\n",
              "      <th>PassengerId</th>\n",
              "      <th>Survived</th>\n",
              "      <th>Pclass</th>\n",
              "      <th>Name</th>\n",
              "      <th>Sex</th>\n",
              "      <th>Age</th>\n",
              "      <th>SibSp</th>\n",
              "      <th>Parch</th>\n",
              "      <th>Ticket</th>\n",
              "      <th>Fare</th>\n",
              "      <th>Cabin</th>\n",
              "      <th>Embarked</th>\n",
              "    </tr>\n",
              "  </thead>\n",
              "  <tbody>\n",
              "    <tr>\n",
              "      <th>0</th>\n",
              "      <td>1</td>\n",
              "      <td>0</td>\n",
              "      <td>3</td>\n",
              "      <td>Braund, Mr. Owen Harris</td>\n",
              "      <td>male</td>\n",
              "      <td>22.0</td>\n",
              "      <td>1</td>\n",
              "      <td>0</td>\n",
              "      <td>A/5 21171</td>\n",
              "      <td>7.2500</td>\n",
              "      <td>NaN</td>\n",
              "      <td>S</td>\n",
              "    </tr>\n",
              "    <tr>\n",
              "      <th>1</th>\n",
              "      <td>2</td>\n",
              "      <td>1</td>\n",
              "      <td>1</td>\n",
              "      <td>Cumings, Mrs. John Bradley (Florence Briggs Th...</td>\n",
              "      <td>female</td>\n",
              "      <td>38.0</td>\n",
              "      <td>1</td>\n",
              "      <td>0</td>\n",
              "      <td>PC 17599</td>\n",
              "      <td>71.2833</td>\n",
              "      <td>C85</td>\n",
              "      <td>C</td>\n",
              "    </tr>\n",
              "    <tr>\n",
              "      <th>2</th>\n",
              "      <td>3</td>\n",
              "      <td>1</td>\n",
              "      <td>3</td>\n",
              "      <td>Heikkinen, Miss. Laina</td>\n",
              "      <td>female</td>\n",
              "      <td>26.0</td>\n",
              "      <td>0</td>\n",
              "      <td>0</td>\n",
              "      <td>STON/O2. 3101282</td>\n",
              "      <td>7.9250</td>\n",
              "      <td>NaN</td>\n",
              "      <td>S</td>\n",
              "    </tr>\n",
              "    <tr>\n",
              "      <th>3</th>\n",
              "      <td>4</td>\n",
              "      <td>1</td>\n",
              "      <td>1</td>\n",
              "      <td>Futrelle, Mrs. Jacques Heath (Lily May Peel)</td>\n",
              "      <td>female</td>\n",
              "      <td>35.0</td>\n",
              "      <td>1</td>\n",
              "      <td>0</td>\n",
              "      <td>113803</td>\n",
              "      <td>53.1000</td>\n",
              "      <td>C123</td>\n",
              "      <td>S</td>\n",
              "    </tr>\n",
              "    <tr>\n",
              "      <th>4</th>\n",
              "      <td>5</td>\n",
              "      <td>0</td>\n",
              "      <td>3</td>\n",
              "      <td>Allen, Mr. William Henry</td>\n",
              "      <td>male</td>\n",
              "      <td>35.0</td>\n",
              "      <td>0</td>\n",
              "      <td>0</td>\n",
              "      <td>373450</td>\n",
              "      <td>8.0500</td>\n",
              "      <td>NaN</td>\n",
              "      <td>S</td>\n",
              "    </tr>\n",
              "  </tbody>\n",
              "</table>\n",
              "</div>\n",
              "      <button class=\"colab-df-convert\" onclick=\"convertToInteractive('df-e1c878dc-2af2-4829-8f1b-f2bca4f92e6e')\"\n",
              "              title=\"Convert this dataframe to an interactive table.\"\n",
              "              style=\"display:none;\">\n",
              "        \n",
              "  <svg xmlns=\"http://www.w3.org/2000/svg\" height=\"24px\"viewBox=\"0 0 24 24\"\n",
              "       width=\"24px\">\n",
              "    <path d=\"M0 0h24v24H0V0z\" fill=\"none\"/>\n",
              "    <path d=\"M18.56 5.44l.94 2.06.94-2.06 2.06-.94-2.06-.94-.94-2.06-.94 2.06-2.06.94zm-11 1L8.5 8.5l.94-2.06 2.06-.94-2.06-.94L8.5 2.5l-.94 2.06-2.06.94zm10 10l.94 2.06.94-2.06 2.06-.94-2.06-.94-.94-2.06-.94 2.06-2.06.94z\"/><path d=\"M17.41 7.96l-1.37-1.37c-.4-.4-.92-.59-1.43-.59-.52 0-1.04.2-1.43.59L10.3 9.45l-7.72 7.72c-.78.78-.78 2.05 0 2.83L4 21.41c.39.39.9.59 1.41.59.51 0 1.02-.2 1.41-.59l7.78-7.78 2.81-2.81c.8-.78.8-2.07 0-2.86zM5.41 20L4 18.59l7.72-7.72 1.47 1.35L5.41 20z\"/>\n",
              "  </svg>\n",
              "      </button>\n",
              "      \n",
              "  <style>\n",
              "    .colab-df-container {\n",
              "      display:flex;\n",
              "      flex-wrap:wrap;\n",
              "      gap: 12px;\n",
              "    }\n",
              "\n",
              "    .colab-df-convert {\n",
              "      background-color: #E8F0FE;\n",
              "      border: none;\n",
              "      border-radius: 50%;\n",
              "      cursor: pointer;\n",
              "      display: none;\n",
              "      fill: #1967D2;\n",
              "      height: 32px;\n",
              "      padding: 0 0 0 0;\n",
              "      width: 32px;\n",
              "    }\n",
              "\n",
              "    .colab-df-convert:hover {\n",
              "      background-color: #E2EBFA;\n",
              "      box-shadow: 0px 1px 2px rgba(60, 64, 67, 0.3), 0px 1px 3px 1px rgba(60, 64, 67, 0.15);\n",
              "      fill: #174EA6;\n",
              "    }\n",
              "\n",
              "    [theme=dark] .colab-df-convert {\n",
              "      background-color: #3B4455;\n",
              "      fill: #D2E3FC;\n",
              "    }\n",
              "\n",
              "    [theme=dark] .colab-df-convert:hover {\n",
              "      background-color: #434B5C;\n",
              "      box-shadow: 0px 1px 3px 1px rgba(0, 0, 0, 0.15);\n",
              "      filter: drop-shadow(0px 1px 2px rgba(0, 0, 0, 0.3));\n",
              "      fill: #FFFFFF;\n",
              "    }\n",
              "  </style>\n",
              "\n",
              "      <script>\n",
              "        const buttonEl =\n",
              "          document.querySelector('#df-e1c878dc-2af2-4829-8f1b-f2bca4f92e6e button.colab-df-convert');\n",
              "        buttonEl.style.display =\n",
              "          google.colab.kernel.accessAllowed ? 'block' : 'none';\n",
              "\n",
              "        async function convertToInteractive(key) {\n",
              "          const element = document.querySelector('#df-e1c878dc-2af2-4829-8f1b-f2bca4f92e6e');\n",
              "          const dataTable =\n",
              "            await google.colab.kernel.invokeFunction('convertToInteractive',\n",
              "                                                     [key], {});\n",
              "          if (!dataTable) return;\n",
              "\n",
              "          const docLinkHtml = 'Like what you see? Visit the ' +\n",
              "            '<a target=\"_blank\" href=https://colab.research.google.com/notebooks/data_table.ipynb>data table notebook</a>'\n",
              "            + ' to learn more about interactive tables.';\n",
              "          element.innerHTML = '';\n",
              "          dataTable['output_type'] = 'display_data';\n",
              "          await google.colab.output.renderOutput(dataTable, element);\n",
              "          const docLink = document.createElement('div');\n",
              "          docLink.innerHTML = docLinkHtml;\n",
              "          element.appendChild(docLink);\n",
              "        }\n",
              "      </script>\n",
              "    </div>\n",
              "  </div>\n",
              "  "
            ]
          },
          "metadata": {},
          "execution_count": 3
        }
      ]
    },
    {
      "cell_type": "markdown",
      "metadata": {
        "id": "2E65IGRGtzWQ"
      },
      "source": [
        "## Investigue si hay datos erróneos o vacios con valor **Nan** y elimínelos"
      ]
    },
    {
      "cell_type": "markdown",
      "source": [
        "solo necesitamos estas 4 columnas para ver si habia relacion entre precio de los boletos, edad y supervivencia."
      ],
      "metadata": {
        "id": "_MsflrqaIdKp"
      }
    },
    {
      "cell_type": "code",
      "metadata": {
        "id": "ZHNqhdb2AiKk"
      },
      "source": [
        "X= datos[[\"Survived\", \"Pclass\", \"Age\", \"Fare\"]].dropna()"
      ],
      "execution_count": null,
      "outputs": []
    },
    {
      "cell_type": "code",
      "source": [
        "X.head()"
      ],
      "metadata": {
        "id": "IMt11ioFIng7",
        "colab": {
          "base_uri": "https://localhost:8080/",
          "height": 206
        },
        "outputId": "b1e1d6ae-73c0-4d02-8245-e48c5a0af724"
      },
      "execution_count": null,
      "outputs": [
        {
          "output_type": "execute_result",
          "data": {
            "text/plain": [
              "   Survived  Pclass   Age     Fare\n",
              "0         0       3  22.0   7.2500\n",
              "1         1       1  38.0  71.2833\n",
              "2         1       3  26.0   7.9250\n",
              "3         1       1  35.0  53.1000\n",
              "4         0       3  35.0   8.0500"
            ],
            "text/html": [
              "\n",
              "  <div id=\"df-e814c686-090a-476c-b1a0-bbe862d957ff\">\n",
              "    <div class=\"colab-df-container\">\n",
              "      <div>\n",
              "<style scoped>\n",
              "    .dataframe tbody tr th:only-of-type {\n",
              "        vertical-align: middle;\n",
              "    }\n",
              "\n",
              "    .dataframe tbody tr th {\n",
              "        vertical-align: top;\n",
              "    }\n",
              "\n",
              "    .dataframe thead th {\n",
              "        text-align: right;\n",
              "    }\n",
              "</style>\n",
              "<table border=\"1\" class=\"dataframe\">\n",
              "  <thead>\n",
              "    <tr style=\"text-align: right;\">\n",
              "      <th></th>\n",
              "      <th>Survived</th>\n",
              "      <th>Pclass</th>\n",
              "      <th>Age</th>\n",
              "      <th>Fare</th>\n",
              "    </tr>\n",
              "  </thead>\n",
              "  <tbody>\n",
              "    <tr>\n",
              "      <th>0</th>\n",
              "      <td>0</td>\n",
              "      <td>3</td>\n",
              "      <td>22.0</td>\n",
              "      <td>7.2500</td>\n",
              "    </tr>\n",
              "    <tr>\n",
              "      <th>1</th>\n",
              "      <td>1</td>\n",
              "      <td>1</td>\n",
              "      <td>38.0</td>\n",
              "      <td>71.2833</td>\n",
              "    </tr>\n",
              "    <tr>\n",
              "      <th>2</th>\n",
              "      <td>1</td>\n",
              "      <td>3</td>\n",
              "      <td>26.0</td>\n",
              "      <td>7.9250</td>\n",
              "    </tr>\n",
              "    <tr>\n",
              "      <th>3</th>\n",
              "      <td>1</td>\n",
              "      <td>1</td>\n",
              "      <td>35.0</td>\n",
              "      <td>53.1000</td>\n",
              "    </tr>\n",
              "    <tr>\n",
              "      <th>4</th>\n",
              "      <td>0</td>\n",
              "      <td>3</td>\n",
              "      <td>35.0</td>\n",
              "      <td>8.0500</td>\n",
              "    </tr>\n",
              "  </tbody>\n",
              "</table>\n",
              "</div>\n",
              "      <button class=\"colab-df-convert\" onclick=\"convertToInteractive('df-e814c686-090a-476c-b1a0-bbe862d957ff')\"\n",
              "              title=\"Convert this dataframe to an interactive table.\"\n",
              "              style=\"display:none;\">\n",
              "        \n",
              "  <svg xmlns=\"http://www.w3.org/2000/svg\" height=\"24px\"viewBox=\"0 0 24 24\"\n",
              "       width=\"24px\">\n",
              "    <path d=\"M0 0h24v24H0V0z\" fill=\"none\"/>\n",
              "    <path d=\"M18.56 5.44l.94 2.06.94-2.06 2.06-.94-2.06-.94-.94-2.06-.94 2.06-2.06.94zm-11 1L8.5 8.5l.94-2.06 2.06-.94-2.06-.94L8.5 2.5l-.94 2.06-2.06.94zm10 10l.94 2.06.94-2.06 2.06-.94-2.06-.94-.94-2.06-.94 2.06-2.06.94z\"/><path d=\"M17.41 7.96l-1.37-1.37c-.4-.4-.92-.59-1.43-.59-.52 0-1.04.2-1.43.59L10.3 9.45l-7.72 7.72c-.78.78-.78 2.05 0 2.83L4 21.41c.39.39.9.59 1.41.59.51 0 1.02-.2 1.41-.59l7.78-7.78 2.81-2.81c.8-.78.8-2.07 0-2.86zM5.41 20L4 18.59l7.72-7.72 1.47 1.35L5.41 20z\"/>\n",
              "  </svg>\n",
              "      </button>\n",
              "      \n",
              "  <style>\n",
              "    .colab-df-container {\n",
              "      display:flex;\n",
              "      flex-wrap:wrap;\n",
              "      gap: 12px;\n",
              "    }\n",
              "\n",
              "    .colab-df-convert {\n",
              "      background-color: #E8F0FE;\n",
              "      border: none;\n",
              "      border-radius: 50%;\n",
              "      cursor: pointer;\n",
              "      display: none;\n",
              "      fill: #1967D2;\n",
              "      height: 32px;\n",
              "      padding: 0 0 0 0;\n",
              "      width: 32px;\n",
              "    }\n",
              "\n",
              "    .colab-df-convert:hover {\n",
              "      background-color: #E2EBFA;\n",
              "      box-shadow: 0px 1px 2px rgba(60, 64, 67, 0.3), 0px 1px 3px 1px rgba(60, 64, 67, 0.15);\n",
              "      fill: #174EA6;\n",
              "    }\n",
              "\n",
              "    [theme=dark] .colab-df-convert {\n",
              "      background-color: #3B4455;\n",
              "      fill: #D2E3FC;\n",
              "    }\n",
              "\n",
              "    [theme=dark] .colab-df-convert:hover {\n",
              "      background-color: #434B5C;\n",
              "      box-shadow: 0px 1px 3px 1px rgba(0, 0, 0, 0.15);\n",
              "      filter: drop-shadow(0px 1px 2px rgba(0, 0, 0, 0.3));\n",
              "      fill: #FFFFFF;\n",
              "    }\n",
              "  </style>\n",
              "\n",
              "      <script>\n",
              "        const buttonEl =\n",
              "          document.querySelector('#df-e814c686-090a-476c-b1a0-bbe862d957ff button.colab-df-convert');\n",
              "        buttonEl.style.display =\n",
              "          google.colab.kernel.accessAllowed ? 'block' : 'none';\n",
              "\n",
              "        async function convertToInteractive(key) {\n",
              "          const element = document.querySelector('#df-e814c686-090a-476c-b1a0-bbe862d957ff');\n",
              "          const dataTable =\n",
              "            await google.colab.kernel.invokeFunction('convertToInteractive',\n",
              "                                                     [key], {});\n",
              "          if (!dataTable) return;\n",
              "\n",
              "          const docLinkHtml = 'Like what you see? Visit the ' +\n",
              "            '<a target=\"_blank\" href=https://colab.research.google.com/notebooks/data_table.ipynb>data table notebook</a>'\n",
              "            + ' to learn more about interactive tables.';\n",
              "          element.innerHTML = '';\n",
              "          dataTable['output_type'] = 'display_data';\n",
              "          await google.colab.output.renderOutput(dataTable, element);\n",
              "          const docLink = document.createElement('div');\n",
              "          docLink.innerHTML = docLinkHtml;\n",
              "          element.appendChild(docLink);\n",
              "        }\n",
              "      </script>\n",
              "    </div>\n",
              "  </div>\n",
              "  "
            ]
          },
          "metadata": {},
          "execution_count": 5
        }
      ]
    },
    {
      "cell_type": "markdown",
      "metadata": {
        "id": "Sd_BVB7DuGK0"
      },
      "source": [
        "## Con los datos límpios cree el conjunto de datos de entrenamiento\n",
        "- **X** con las columnas 'Pclass','Age' y 'Fare' -> variable dependiente\n",
        "- **y** con la columna 'Survived' -> variable independiente"
      ]
    },
    {
      "cell_type": "code",
      "metadata": {
        "id": "_6s3KsPRu3_M"
      },
      "source": [
        "y=X[\"Survived\"]\n",
        "X=X.drop([\"Survived\"],axis=1)"
      ],
      "execution_count": null,
      "outputs": []
    },
    {
      "cell_type": "markdown",
      "source": [
        "se le quita los valores de la variable independiente(survived) a X con X.drop"
      ],
      "metadata": {
        "id": "1Hx_F1SlJF3r"
      }
    },
    {
      "cell_type": "markdown",
      "metadata": {
        "id": "Gkl7D6ALvM2U"
      },
      "source": [
        "## Cree el árbol de clasificación **Ad**"
      ]
    },
    {
      "cell_type": "markdown",
      "source": [
        "se importa arbol de decision clasificacion\n",
        "\n",
        "Mas importante criterio de decisión y profundidad\n",
        "\n",
        "Primero se crea el modelo y despues se ajusta con el fit"
      ],
      "metadata": {
        "id": "kXDYHN0QJYJr"
      }
    },
    {
      "cell_type": "markdown",
      "source": [
        "ya esta exportadod esde arriba aqui no haria falta"
      ],
      "metadata": {
        "id": "qy6Q6weRKMcL"
      }
    },
    {
      "cell_type": "code",
      "metadata": {
        "id": "gqPAB36GBAAU"
      },
      "source": [
        "from sklearn.tree import DecisionTreeClassifier\n",
        "from sklearn import tree\n",
        "\n",
        "Ad=DecisionTreeClassifier(criterion=\"gini\",max_depth=5)\n",
        "Ad=Ad.fit(X,y)"
      ],
      "execution_count": null,
      "outputs": []
    },
    {
      "cell_type": "markdown",
      "metadata": {
        "id": "LSstHtxyvwiU"
      },
      "source": [
        "## Muestre árbol obtenido en forma de texto."
      ]
    },
    {
      "cell_type": "markdown",
      "source": [
        "export test formula"
      ],
      "metadata": {
        "id": "driXexdSJs96"
      }
    },
    {
      "cell_type": "code",
      "metadata": {
        "id": "SfcKqf_CwrSp",
        "colab": {
          "base_uri": "https://localhost:8080/"
        },
        "outputId": "00ab5963-79a2-4fe5-ecd9-21c7747f1e67"
      },
      "source": [
        "r = export_text(Ad, feature_names=list(X.columns))\n",
        "print(r)"
      ],
      "execution_count": null,
      "outputs": [
        {
          "output_type": "stream",
          "name": "stdout",
          "text": [
            "|--- Pclass <= 2.50\n",
            "|   |--- Fare <= 13.65\n",
            "|   |   |--- Age <= 50.50\n",
            "|   |   |   |--- Age <= 39.50\n",
            "|   |   |   |   |--- Age <= 37.00\n",
            "|   |   |   |   |   |--- class: 0\n",
            "|   |   |   |   |--- Age >  37.00\n",
            "|   |   |   |   |   |--- class: 0\n",
            "|   |   |   |--- Age >  39.50\n",
            "|   |   |   |   |--- Fare <= 5.25\n",
            "|   |   |   |   |   |--- class: 0\n",
            "|   |   |   |   |--- Fare >  5.25\n",
            "|   |   |   |   |   |--- class: 1\n",
            "|   |   |--- Age >  50.50\n",
            "|   |   |   |--- Age <= 60.50\n",
            "|   |   |   |   |--- class: 0\n",
            "|   |   |   |--- Age >  60.50\n",
            "|   |   |   |   |--- Age <= 64.00\n",
            "|   |   |   |   |   |--- class: 1\n",
            "|   |   |   |   |--- Age >  64.00\n",
            "|   |   |   |   |   |--- class: 0\n",
            "|   |--- Fare >  13.65\n",
            "|   |   |--- Age <= 42.50\n",
            "|   |   |   |--- Age <= 17.50\n",
            "|   |   |   |   |--- Fare <= 135.78\n",
            "|   |   |   |   |   |--- class: 1\n",
            "|   |   |   |   |--- Fare >  135.78\n",
            "|   |   |   |   |   |--- class: 1\n",
            "|   |   |   |--- Age >  17.50\n",
            "|   |   |   |   |--- Pclass <= 1.50\n",
            "|   |   |   |   |   |--- class: 1\n",
            "|   |   |   |   |--- Pclass >  1.50\n",
            "|   |   |   |   |   |--- class: 1\n",
            "|   |   |--- Age >  42.50\n",
            "|   |   |   |--- Fare <= 39.30\n",
            "|   |   |   |   |--- Age <= 59.00\n",
            "|   |   |   |   |   |--- class: 0\n",
            "|   |   |   |   |--- Age >  59.00\n",
            "|   |   |   |   |   |--- class: 0\n",
            "|   |   |   |--- Fare >  39.30\n",
            "|   |   |   |   |--- Age <= 63.50\n",
            "|   |   |   |   |   |--- class: 1\n",
            "|   |   |   |   |--- Age >  63.50\n",
            "|   |   |   |   |   |--- class: 0\n",
            "|--- Pclass >  2.50\n",
            "|   |--- Age <= 6.50\n",
            "|   |   |--- Fare <= 20.83\n",
            "|   |   |   |--- Fare <= 10.80\n",
            "|   |   |   |   |--- Age <= 1.21\n",
            "|   |   |   |   |   |--- class: 1\n",
            "|   |   |   |   |--- Age >  1.21\n",
            "|   |   |   |   |   |--- class: 0\n",
            "|   |   |   |--- Fare >  10.80\n",
            "|   |   |   |   |--- class: 1\n",
            "|   |   |--- Fare >  20.83\n",
            "|   |   |   |--- Age <= 2.50\n",
            "|   |   |   |   |--- class: 0\n",
            "|   |   |   |--- Age >  2.50\n",
            "|   |   |   |   |--- Fare <= 31.33\n",
            "|   |   |   |   |   |--- class: 0\n",
            "|   |   |   |   |--- Fare >  31.33\n",
            "|   |   |   |   |   |--- class: 1\n",
            "|   |--- Age >  6.50\n",
            "|   |   |--- Age <= 32.50\n",
            "|   |   |   |--- Fare <= 51.70\n",
            "|   |   |   |   |--- Fare <= 20.55\n",
            "|   |   |   |   |   |--- class: 0\n",
            "|   |   |   |   |--- Fare >  20.55\n",
            "|   |   |   |   |   |--- class: 0\n",
            "|   |   |   |--- Fare >  51.70\n",
            "|   |   |   |   |--- Age <= 30.00\n",
            "|   |   |   |   |   |--- class: 0\n",
            "|   |   |   |   |--- Age >  30.00\n",
            "|   |   |   |   |   |--- class: 1\n",
            "|   |   |--- Age >  32.50\n",
            "|   |   |   |--- Fare <= 7.91\n",
            "|   |   |   |   |--- class: 0\n",
            "|   |   |   |--- Fare >  7.91\n",
            "|   |   |   |   |--- Age <= 59.25\n",
            "|   |   |   |   |   |--- class: 0\n",
            "|   |   |   |   |--- Age >  59.25\n",
            "|   |   |   |   |   |--- class: 1\n",
            "\n"
          ]
        }
      ]
    },
    {
      "cell_type": "markdown",
      "metadata": {
        "id": "ALl23aaTvgm3"
      },
      "source": [
        "## Exporte el árbol obtenido a un fichero **titanic.pdf**\n",
        "Utilize la libreria graphviz"
      ]
    },
    {
      "cell_type": "markdown",
      "source": [
        "se utiliza mucho para graficos, sublenguaje para describir facilmente graphos"
      ],
      "metadata": {
        "id": "y72USRiNKoNE"
      }
    },
    {
      "cell_type": "markdown",
      "source": [
        "aqui utilizamos para generar pdf y ficheros imagen"
      ],
      "metadata": {
        "id": "FIpxSaZUKu8U"
      }
    },
    {
      "cell_type": "markdown",
      "source": [
        "dot.data es el arbol que vamos a utilizar en grafic"
      ],
      "metadata": {
        "id": "tyBjwsiAK6xm"
      }
    },
    {
      "cell_type": "code",
      "metadata": {
        "id": "lbgWkRWT0sY6",
        "colab": {
          "base_uri": "https://localhost:8080/",
          "height": 35
        },
        "outputId": "588f1a34-0fc2-4eb0-8227-c537dc6f7048"
      },
      "source": [
        "dot_data = tree.export_graphviz(Ad, out_file=None)\n",
        "graph = graphviz.Source(dot_data)\n",
        "graph.render(\"Titanic\")"
      ],
      "execution_count": null,
      "outputs": [
        {
          "output_type": "execute_result",
          "data": {
            "text/plain": [
              "'Titanic.pdf'"
            ],
            "application/vnd.google.colaboratory.intrinsic+json": {
              "type": "string"
            }
          },
          "metadata": {},
          "execution_count": 9
        }
      ]
    },
    {
      "cell_type": "markdown",
      "source": [
        "nodos: parametro x(0) que es la columna 0 tiene que ser <= 2,5, la columna es la clase"
      ],
      "metadata": {
        "id": "rJmTJAD-LUfz"
      }
    },
    {
      "cell_type": "markdown",
      "metadata": {
        "id": "_JZCZYsIwAlP"
      },
      "source": [
        "## Muestre de forma enriquecida el árbol obtenido\n",
        "Utilize la libreria graphviz"
      ]
    },
    {
      "cell_type": "code",
      "metadata": {
        "id": "nesxEUls1PFr",
        "colab": {
          "base_uri": "https://localhost:8080/",
          "height": 936
        },
        "outputId": "dfc6e0cf-3ef5-4373-a455-c7112ec36de3"
      },
      "source": [
        "dot_data = tree.export_graphviz(Ad, out_file=None,\n",
        "                                feature_names=X.columns,\n",
        "                                class_names=[\"0\",\"1\"],\n",
        "                                filled=\"TRUE\", rounded=\"TRUE\")\n",
        "graph = graphviz.Source(dot_data)\n",
        "graph"
      ],
      "execution_count": null,
      "outputs": [
        {
          "output_type": "execute_result",
          "data": {
            "text/plain": [
              "<graphviz.files.Source at 0x7f315ab66430>"
            ],
            "image/svg+xml": "<?xml version=\"1.0\" encoding=\"UTF-8\" standalone=\"no\"?>\n<!DOCTYPE svg PUBLIC \"-//W3C//DTD SVG 1.1//EN\"\n \"http://www.w3.org/Graphics/SVG/1.1/DTD/svg11.dtd\">\n<!-- Generated by graphviz version 2.40.1 (20161225.0304)\n -->\n<!-- Title: Tree Pages: 1 -->\n<svg width=\"2961pt\" height=\"671pt\"\n viewBox=\"0.00 0.00 2960.50 671.00\" xmlns=\"http://www.w3.org/2000/svg\" xmlns:xlink=\"http://www.w3.org/1999/xlink\">\n<g id=\"graph0\" class=\"graph\" transform=\"scale(1 1) rotate(0) translate(4 667)\">\n<title>Tree</title>\n<polygon fill=\"#ffffff\" stroke=\"transparent\" points=\"-4,4 -4,-667 2956.5,-667 2956.5,4 -4,4\"/>\n<!-- 0 -->\n<g id=\"node1\" class=\"node\">\n<title>0</title>\n<path fill=\"#f7d7c0\" stroke=\"#000000\" d=\"M1619,-663C1619,-663 1511,-663 1511,-663 1505,-663 1499,-657 1499,-651 1499,-651 1499,-592 1499,-592 1499,-586 1505,-580 1511,-580 1511,-580 1619,-580 1619,-580 1625,-580 1631,-586 1631,-592 1631,-592 1631,-651 1631,-651 1631,-657 1625,-663 1619,-663\"/>\n<text text-anchor=\"middle\" x=\"1565\" y=\"-647.8\" font-family=\"Helvetica,sans-Serif\" font-size=\"14.00\" fill=\"#000000\">Pclass &lt;= 2.5</text>\n<text text-anchor=\"middle\" x=\"1565\" y=\"-632.8\" font-family=\"Helvetica,sans-Serif\" font-size=\"14.00\" fill=\"#000000\">gini = 0.482</text>\n<text text-anchor=\"middle\" x=\"1565\" y=\"-617.8\" font-family=\"Helvetica,sans-Serif\" font-size=\"14.00\" fill=\"#000000\">samples = 714</text>\n<text text-anchor=\"middle\" x=\"1565\" y=\"-602.8\" font-family=\"Helvetica,sans-Serif\" font-size=\"14.00\" fill=\"#000000\">value = [424, 290]</text>\n<text text-anchor=\"middle\" x=\"1565\" y=\"-587.8\" font-family=\"Helvetica,sans-Serif\" font-size=\"14.00\" fill=\"#000000\">class = 0</text>\n</g>\n<!-- 1 -->\n<g id=\"node2\" class=\"node\">\n<title>1</title>\n<path fill=\"#cee7f9\" stroke=\"#000000\" d=\"M1247,-544C1247,-544 1139,-544 1139,-544 1133,-544 1127,-538 1127,-532 1127,-532 1127,-473 1127,-473 1127,-467 1133,-461 1139,-461 1139,-461 1247,-461 1247,-461 1253,-461 1259,-467 1259,-473 1259,-473 1259,-532 1259,-532 1259,-538 1253,-544 1247,-544\"/>\n<text text-anchor=\"middle\" x=\"1193\" y=\"-528.8\" font-family=\"Helvetica,sans-Serif\" font-size=\"14.00\" fill=\"#000000\">Fare &lt;= 13.646</text>\n<text text-anchor=\"middle\" x=\"1193\" y=\"-513.8\" font-family=\"Helvetica,sans-Serif\" font-size=\"14.00\" fill=\"#000000\">gini = 0.49</text>\n<text text-anchor=\"middle\" x=\"1193\" y=\"-498.8\" font-family=\"Helvetica,sans-Serif\" font-size=\"14.00\" fill=\"#000000\">samples = 359</text>\n<text text-anchor=\"middle\" x=\"1193\" y=\"-483.8\" font-family=\"Helvetica,sans-Serif\" font-size=\"14.00\" fill=\"#000000\">value = [154, 205]</text>\n<text text-anchor=\"middle\" x=\"1193\" y=\"-468.8\" font-family=\"Helvetica,sans-Serif\" font-size=\"14.00\" fill=\"#000000\">class = 1</text>\n</g>\n<!-- 0&#45;&gt;1 -->\n<g id=\"edge1\" class=\"edge\">\n<title>0&#45;&gt;1</title>\n<path fill=\"none\" stroke=\"#000000\" d=\"M1498.9225,-600.3623C1434.4471,-579.7371 1336.457,-548.3908 1268.8364,-526.7595\"/>\n<polygon fill=\"#000000\" stroke=\"#000000\" points=\"1269.6785,-523.3542 1259.0875,-523.6409 1267.5457,-530.0214 1269.6785,-523.3542\"/>\n<text text-anchor=\"middle\" x=\"1270.5386\" y=\"-542.1641\" font-family=\"Helvetica,sans-Serif\" font-size=\"14.00\" fill=\"#000000\">True</text>\n</g>\n<!-- 30 -->\n<g id=\"node31\" class=\"node\">\n<title>30</title>\n<path fill=\"#eda977\" stroke=\"#000000\" d=\"M2018,-544C2018,-544 1918,-544 1918,-544 1912,-544 1906,-538 1906,-532 1906,-532 1906,-473 1906,-473 1906,-467 1912,-461 1918,-461 1918,-461 2018,-461 2018,-461 2024,-461 2030,-467 2030,-473 2030,-473 2030,-532 2030,-532 2030,-538 2024,-544 2018,-544\"/>\n<text text-anchor=\"middle\" x=\"1968\" y=\"-528.8\" font-family=\"Helvetica,sans-Serif\" font-size=\"14.00\" fill=\"#000000\">Age &lt;= 6.5</text>\n<text text-anchor=\"middle\" x=\"1968\" y=\"-513.8\" font-family=\"Helvetica,sans-Serif\" font-size=\"14.00\" fill=\"#000000\">gini = 0.364</text>\n<text text-anchor=\"middle\" x=\"1968\" y=\"-498.8\" font-family=\"Helvetica,sans-Serif\" font-size=\"14.00\" fill=\"#000000\">samples = 355</text>\n<text text-anchor=\"middle\" x=\"1968\" y=\"-483.8\" font-family=\"Helvetica,sans-Serif\" font-size=\"14.00\" fill=\"#000000\">value = [270, 85]</text>\n<text text-anchor=\"middle\" x=\"1968\" y=\"-468.8\" font-family=\"Helvetica,sans-Serif\" font-size=\"14.00\" fill=\"#000000\">class = 0</text>\n</g>\n<!-- 0&#45;&gt;30 -->\n<g id=\"edge30\" class=\"edge\">\n<title>0&#45;&gt;30</title>\n<path fill=\"none\" stroke=\"#000000\" d=\"M1631.096,-601.9828C1703.9697,-580.4643 1820.8203,-545.96 1895.9794,-523.7666\"/>\n<polygon fill=\"#000000\" stroke=\"#000000\" points=\"1897.2436,-527.0428 1905.843,-520.854 1895.2612,-520.3294 1897.2436,-527.0428\"/>\n<text text-anchor=\"middle\" x=\"1893.8953\" y=\"-539.1143\" font-family=\"Helvetica,sans-Serif\" font-size=\"14.00\" fill=\"#000000\">False</text>\n</g>\n<!-- 2 -->\n<g id=\"node3\" class=\"node\">\n<title>2</title>\n<path fill=\"#f2c09c\" stroke=\"#000000\" d=\"M617,-425C617,-425 525,-425 525,-425 519,-425 513,-419 513,-413 513,-413 513,-354 513,-354 513,-348 519,-342 525,-342 525,-342 617,-342 617,-342 623,-342 629,-348 629,-354 629,-354 629,-413 629,-413 629,-419 623,-425 617,-425\"/>\n<text text-anchor=\"middle\" x=\"571\" y=\"-409.8\" font-family=\"Helvetica,sans-Serif\" font-size=\"14.00\" fill=\"#000000\">Age &lt;= 50.5</text>\n<text text-anchor=\"middle\" x=\"571\" y=\"-394.8\" font-family=\"Helvetica,sans-Serif\" font-size=\"14.00\" fill=\"#000000\">gini = 0.444</text>\n<text text-anchor=\"middle\" x=\"571\" y=\"-379.8\" font-family=\"Helvetica,sans-Serif\" font-size=\"14.00\" fill=\"#000000\">samples = 84</text>\n<text text-anchor=\"middle\" x=\"571\" y=\"-364.8\" font-family=\"Helvetica,sans-Serif\" font-size=\"14.00\" fill=\"#000000\">value = [56, 28]</text>\n<text text-anchor=\"middle\" x=\"571\" y=\"-349.8\" font-family=\"Helvetica,sans-Serif\" font-size=\"14.00\" fill=\"#000000\">class = 0</text>\n</g>\n<!-- 1&#45;&gt;2 -->\n<g id=\"edge2\" class=\"edge\">\n<title>1&#45;&gt;2</title>\n<path fill=\"none\" stroke=\"#000000\" d=\"M1126.7298,-489.8213C1007.8354,-467.0746 759.5091,-419.5653 639.2174,-396.5512\"/>\n<polygon fill=\"#000000\" stroke=\"#000000\" points=\"639.8612,-393.111 629.3816,-394.6695 638.5457,-399.9863 639.8612,-393.111\"/>\n</g>\n<!-- 15 -->\n<g id=\"node16\" class=\"node\">\n<title>15</title>\n<path fill=\"#a7d3f3\" stroke=\"#000000\" d=\"M1243,-425C1243,-425 1143,-425 1143,-425 1137,-425 1131,-419 1131,-413 1131,-413 1131,-354 1131,-354 1131,-348 1137,-342 1143,-342 1143,-342 1243,-342 1243,-342 1249,-342 1255,-348 1255,-354 1255,-354 1255,-413 1255,-413 1255,-419 1249,-425 1243,-425\"/>\n<text text-anchor=\"middle\" x=\"1193\" y=\"-409.8\" font-family=\"Helvetica,sans-Serif\" font-size=\"14.00\" fill=\"#000000\">Age &lt;= 42.5</text>\n<text text-anchor=\"middle\" x=\"1193\" y=\"-394.8\" font-family=\"Helvetica,sans-Serif\" font-size=\"14.00\" fill=\"#000000\">gini = 0.459</text>\n<text text-anchor=\"middle\" x=\"1193\" y=\"-379.8\" font-family=\"Helvetica,sans-Serif\" font-size=\"14.00\" fill=\"#000000\">samples = 275</text>\n<text text-anchor=\"middle\" x=\"1193\" y=\"-364.8\" font-family=\"Helvetica,sans-Serif\" font-size=\"14.00\" fill=\"#000000\">value = [98, 177]</text>\n<text text-anchor=\"middle\" x=\"1193\" y=\"-349.8\" font-family=\"Helvetica,sans-Serif\" font-size=\"14.00\" fill=\"#000000\">class = 1</text>\n</g>\n<!-- 1&#45;&gt;15 -->\n<g id=\"edge15\" class=\"edge\">\n<title>1&#45;&gt;15</title>\n<path fill=\"none\" stroke=\"#000000\" d=\"M1193,-460.8796C1193,-452.6838 1193,-443.9891 1193,-435.5013\"/>\n<polygon fill=\"#000000\" stroke=\"#000000\" points=\"1196.5001,-435.298 1193,-425.2981 1189.5001,-435.2981 1196.5001,-435.298\"/>\n</g>\n<!-- 3 -->\n<g id=\"node4\" class=\"node\">\n<title>3</title>\n<path fill=\"#f4c8a8\" stroke=\"#000000\" d=\"M384,-306C384,-306 292,-306 292,-306 286,-306 280,-300 280,-294 280,-294 280,-235 280,-235 280,-229 286,-223 292,-223 292,-223 384,-223 384,-223 390,-223 396,-229 396,-235 396,-235 396,-294 396,-294 396,-300 390,-306 384,-306\"/>\n<text text-anchor=\"middle\" x=\"338\" y=\"-290.8\" font-family=\"Helvetica,sans-Serif\" font-size=\"14.00\" fill=\"#000000\">Age &lt;= 39.5</text>\n<text text-anchor=\"middle\" x=\"338\" y=\"-275.8\" font-family=\"Helvetica,sans-Serif\" font-size=\"14.00\" fill=\"#000000\">gini = 0.461</text>\n<text text-anchor=\"middle\" x=\"338\" y=\"-260.8\" font-family=\"Helvetica,sans-Serif\" font-size=\"14.00\" fill=\"#000000\">samples = 75</text>\n<text text-anchor=\"middle\" x=\"338\" y=\"-245.8\" font-family=\"Helvetica,sans-Serif\" font-size=\"14.00\" fill=\"#000000\">value = [48, 27]</text>\n<text text-anchor=\"middle\" x=\"338\" y=\"-230.8\" font-family=\"Helvetica,sans-Serif\" font-size=\"14.00\" fill=\"#000000\">class = 0</text>\n</g>\n<!-- 2&#45;&gt;3 -->\n<g id=\"edge3\" class=\"edge\">\n<title>2&#45;&gt;3</title>\n<path fill=\"none\" stroke=\"#000000\" d=\"M512.8053,-353.7782C480.1396,-337.0949 439.2338,-316.2031 405.2069,-298.8245\"/>\n<polygon fill=\"#000000\" stroke=\"#000000\" points=\"406.758,-295.6868 396.2604,-294.2553 403.5741,-301.9208 406.758,-295.6868\"/>\n</g>\n<!-- 10 -->\n<g id=\"node11\" class=\"node\">\n<title>10</title>\n<path fill=\"#e89152\" stroke=\"#000000\" d=\"M608.5,-306C608.5,-306 533.5,-306 533.5,-306 527.5,-306 521.5,-300 521.5,-294 521.5,-294 521.5,-235 521.5,-235 521.5,-229 527.5,-223 533.5,-223 533.5,-223 608.5,-223 608.5,-223 614.5,-223 620.5,-229 620.5,-235 620.5,-235 620.5,-294 620.5,-294 620.5,-300 614.5,-306 608.5,-306\"/>\n<text text-anchor=\"middle\" x=\"571\" y=\"-290.8\" font-family=\"Helvetica,sans-Serif\" font-size=\"14.00\" fill=\"#000000\">Age &lt;= 60.5</text>\n<text text-anchor=\"middle\" x=\"571\" y=\"-275.8\" font-family=\"Helvetica,sans-Serif\" font-size=\"14.00\" fill=\"#000000\">gini = 0.198</text>\n<text text-anchor=\"middle\" x=\"571\" y=\"-260.8\" font-family=\"Helvetica,sans-Serif\" font-size=\"14.00\" fill=\"#000000\">samples = 9</text>\n<text text-anchor=\"middle\" x=\"571\" y=\"-245.8\" font-family=\"Helvetica,sans-Serif\" font-size=\"14.00\" fill=\"#000000\">value = [8, 1]</text>\n<text text-anchor=\"middle\" x=\"571\" y=\"-230.8\" font-family=\"Helvetica,sans-Serif\" font-size=\"14.00\" fill=\"#000000\">class = 0</text>\n</g>\n<!-- 2&#45;&gt;10 -->\n<g id=\"edge10\" class=\"edge\">\n<title>2&#45;&gt;10</title>\n<path fill=\"none\" stroke=\"#000000\" d=\"M571,-341.8796C571,-333.6838 571,-324.9891 571,-316.5013\"/>\n<polygon fill=\"#000000\" stroke=\"#000000\" points=\"574.5001,-316.298 571,-306.2981 567.5001,-316.2981 574.5001,-316.298\"/>\n</g>\n<!-- 4 -->\n<g id=\"node5\" class=\"node\">\n<title>4</title>\n<path fill=\"#f1bd98\" stroke=\"#000000\" d=\"M230,-187C230,-187 138,-187 138,-187 132,-187 126,-181 126,-175 126,-175 126,-116 126,-116 126,-110 132,-104 138,-104 138,-104 230,-104 230,-104 236,-104 242,-110 242,-116 242,-116 242,-175 242,-175 242,-181 236,-187 230,-187\"/>\n<text text-anchor=\"middle\" x=\"184\" y=\"-171.8\" font-family=\"Helvetica,sans-Serif\" font-size=\"14.00\" fill=\"#000000\">Age &lt;= 37.0</text>\n<text text-anchor=\"middle\" x=\"184\" y=\"-156.8\" font-family=\"Helvetica,sans-Serif\" font-size=\"14.00\" fill=\"#000000\">gini = 0.437</text>\n<text text-anchor=\"middle\" x=\"184\" y=\"-141.8\" font-family=\"Helvetica,sans-Serif\" font-size=\"14.00\" fill=\"#000000\">samples = 65</text>\n<text text-anchor=\"middle\" x=\"184\" y=\"-126.8\" font-family=\"Helvetica,sans-Serif\" font-size=\"14.00\" fill=\"#000000\">value = [44, 21]</text>\n<text text-anchor=\"middle\" x=\"184\" y=\"-111.8\" font-family=\"Helvetica,sans-Serif\" font-size=\"14.00\" fill=\"#000000\">class = 0</text>\n</g>\n<!-- 3&#45;&gt;4 -->\n<g id=\"edge4\" class=\"edge\">\n<title>3&#45;&gt;4</title>\n<path fill=\"none\" stroke=\"#000000\" d=\"M284.1383,-222.8796C271.8291,-213.368 258.6503,-203.1843 246.0296,-193.432\"/>\n<polygon fill=\"#000000\" stroke=\"#000000\" points=\"247.8843,-190.4419 237.8313,-187.0969 243.6041,-195.9809 247.8843,-190.4419\"/>\n</g>\n<!-- 7 -->\n<g id=\"node8\" class=\"node\">\n<title>7</title>\n<path fill=\"#bddef6\" stroke=\"#000000\" d=\"M378,-187C378,-187 298,-187 298,-187 292,-187 286,-181 286,-175 286,-175 286,-116 286,-116 286,-110 292,-104 298,-104 298,-104 378,-104 378,-104 384,-104 390,-110 390,-116 390,-116 390,-175 390,-175 390,-181 384,-187 378,-187\"/>\n<text text-anchor=\"middle\" x=\"338\" y=\"-171.8\" font-family=\"Helvetica,sans-Serif\" font-size=\"14.00\" fill=\"#000000\">Fare &lt;= 5.25</text>\n<text text-anchor=\"middle\" x=\"338\" y=\"-156.8\" font-family=\"Helvetica,sans-Serif\" font-size=\"14.00\" fill=\"#000000\">gini = 0.48</text>\n<text text-anchor=\"middle\" x=\"338\" y=\"-141.8\" font-family=\"Helvetica,sans-Serif\" font-size=\"14.00\" fill=\"#000000\">samples = 10</text>\n<text text-anchor=\"middle\" x=\"338\" y=\"-126.8\" font-family=\"Helvetica,sans-Serif\" font-size=\"14.00\" fill=\"#000000\">value = [4, 6]</text>\n<text text-anchor=\"middle\" x=\"338\" y=\"-111.8\" font-family=\"Helvetica,sans-Serif\" font-size=\"14.00\" fill=\"#000000\">class = 1</text>\n</g>\n<!-- 3&#45;&gt;7 -->\n<g id=\"edge7\" class=\"edge\">\n<title>3&#45;&gt;7</title>\n<path fill=\"none\" stroke=\"#000000\" d=\"M338,-222.8796C338,-214.6838 338,-205.9891 338,-197.5013\"/>\n<polygon fill=\"#000000\" stroke=\"#000000\" points=\"341.5001,-197.298 338,-187.2981 334.5001,-197.2981 341.5001,-197.298\"/>\n</g>\n<!-- 5 -->\n<g id=\"node6\" class=\"node\">\n<title>5</title>\n<path fill=\"#f3c5a4\" stroke=\"#000000\" d=\"M104,-68C104,-68 12,-68 12,-68 6,-68 0,-62 0,-56 0,-56 0,-12 0,-12 0,-6 6,0 12,0 12,0 104,0 104,0 110,0 116,-6 116,-12 116,-12 116,-56 116,-56 116,-62 110,-68 104,-68\"/>\n<text text-anchor=\"middle\" x=\"58\" y=\"-52.8\" font-family=\"Helvetica,sans-Serif\" font-size=\"14.00\" fill=\"#000000\">gini = 0.455</text>\n<text text-anchor=\"middle\" x=\"58\" y=\"-37.8\" font-family=\"Helvetica,sans-Serif\" font-size=\"14.00\" fill=\"#000000\">samples = 60</text>\n<text text-anchor=\"middle\" x=\"58\" y=\"-22.8\" font-family=\"Helvetica,sans-Serif\" font-size=\"14.00\" fill=\"#000000\">value = [39, 21]</text>\n<text text-anchor=\"middle\" x=\"58\" y=\"-7.8\" font-family=\"Helvetica,sans-Serif\" font-size=\"14.00\" fill=\"#000000\">class = 0</text>\n</g>\n<!-- 4&#45;&gt;5 -->\n<g id=\"edge5\" class=\"edge\">\n<title>4&#45;&gt;5</title>\n<path fill=\"none\" stroke=\"#000000\" d=\"M137.0823,-103.9815C126.3848,-94.5151 115.0244,-84.462 104.3508,-75.0168\"/>\n<polygon fill=\"#000000\" stroke=\"#000000\" points=\"106.5278,-72.2696 96.7195,-68.2637 101.8889,-77.5118 106.5278,-72.2696\"/>\n</g>\n<!-- 6 -->\n<g id=\"node7\" class=\"node\">\n<title>6</title>\n<path fill=\"#e58139\" stroke=\"#000000\" d=\"M221.5,-68C221.5,-68 146.5,-68 146.5,-68 140.5,-68 134.5,-62 134.5,-56 134.5,-56 134.5,-12 134.5,-12 134.5,-6 140.5,0 146.5,0 146.5,0 221.5,0 221.5,0 227.5,0 233.5,-6 233.5,-12 233.5,-12 233.5,-56 233.5,-56 233.5,-62 227.5,-68 221.5,-68\"/>\n<text text-anchor=\"middle\" x=\"184\" y=\"-52.8\" font-family=\"Helvetica,sans-Serif\" font-size=\"14.00\" fill=\"#000000\">gini = 0.0</text>\n<text text-anchor=\"middle\" x=\"184\" y=\"-37.8\" font-family=\"Helvetica,sans-Serif\" font-size=\"14.00\" fill=\"#000000\">samples = 5</text>\n<text text-anchor=\"middle\" x=\"184\" y=\"-22.8\" font-family=\"Helvetica,sans-Serif\" font-size=\"14.00\" fill=\"#000000\">value = [5, 0]</text>\n<text text-anchor=\"middle\" x=\"184\" y=\"-7.8\" font-family=\"Helvetica,sans-Serif\" font-size=\"14.00\" fill=\"#000000\">class = 0</text>\n</g>\n<!-- 4&#45;&gt;6 -->\n<g id=\"edge6\" class=\"edge\">\n<title>4&#45;&gt;6</title>\n<path fill=\"none\" stroke=\"#000000\" d=\"M184,-103.9815C184,-95.618 184,-86.7965 184,-78.3409\"/>\n<polygon fill=\"#000000\" stroke=\"#000000\" points=\"187.5001,-78.2636 184,-68.2637 180.5001,-78.2637 187.5001,-78.2636\"/>\n</g>\n<!-- 8 -->\n<g id=\"node9\" class=\"node\">\n<title>8</title>\n<path fill=\"#e58139\" stroke=\"#000000\" d=\"M338.5,-68C338.5,-68 263.5,-68 263.5,-68 257.5,-68 251.5,-62 251.5,-56 251.5,-56 251.5,-12 251.5,-12 251.5,-6 257.5,0 263.5,0 263.5,0 338.5,0 338.5,0 344.5,0 350.5,-6 350.5,-12 350.5,-12 350.5,-56 350.5,-56 350.5,-62 344.5,-68 338.5,-68\"/>\n<text text-anchor=\"middle\" x=\"301\" y=\"-52.8\" font-family=\"Helvetica,sans-Serif\" font-size=\"14.00\" fill=\"#000000\">gini = 0.0</text>\n<text text-anchor=\"middle\" x=\"301\" y=\"-37.8\" font-family=\"Helvetica,sans-Serif\" font-size=\"14.00\" fill=\"#000000\">samples = 1</text>\n<text text-anchor=\"middle\" x=\"301\" y=\"-22.8\" font-family=\"Helvetica,sans-Serif\" font-size=\"14.00\" fill=\"#000000\">value = [1, 0]</text>\n<text text-anchor=\"middle\" x=\"301\" y=\"-7.8\" font-family=\"Helvetica,sans-Serif\" font-size=\"14.00\" fill=\"#000000\">class = 0</text>\n</g>\n<!-- 7&#45;&gt;8 -->\n<g id=\"edge8\" class=\"edge\">\n<title>7&#45;&gt;8</title>\n<path fill=\"none\" stroke=\"#000000\" d=\"M324.2226,-103.9815C321.3862,-95.4342 318.3912,-86.4086 315.5292,-77.7839\"/>\n<polygon fill=\"#000000\" stroke=\"#000000\" points=\"318.8415,-76.6524 312.37,-68.2637 312.1977,-78.8571 318.8415,-76.6524\"/>\n</g>\n<!-- 9 -->\n<g id=\"node10\" class=\"node\">\n<title>9</title>\n<path fill=\"#9ccef2\" stroke=\"#000000\" d=\"M455.5,-68C455.5,-68 380.5,-68 380.5,-68 374.5,-68 368.5,-62 368.5,-56 368.5,-56 368.5,-12 368.5,-12 368.5,-6 374.5,0 380.5,0 380.5,0 455.5,0 455.5,0 461.5,0 467.5,-6 467.5,-12 467.5,-12 467.5,-56 467.5,-56 467.5,-62 461.5,-68 455.5,-68\"/>\n<text text-anchor=\"middle\" x=\"418\" y=\"-52.8\" font-family=\"Helvetica,sans-Serif\" font-size=\"14.00\" fill=\"#000000\">gini = 0.444</text>\n<text text-anchor=\"middle\" x=\"418\" y=\"-37.8\" font-family=\"Helvetica,sans-Serif\" font-size=\"14.00\" fill=\"#000000\">samples = 9</text>\n<text text-anchor=\"middle\" x=\"418\" y=\"-22.8\" font-family=\"Helvetica,sans-Serif\" font-size=\"14.00\" fill=\"#000000\">value = [3, 6]</text>\n<text text-anchor=\"middle\" x=\"418\" y=\"-7.8\" font-family=\"Helvetica,sans-Serif\" font-size=\"14.00\" fill=\"#000000\">class = 1</text>\n</g>\n<!-- 7&#45;&gt;9 -->\n<g id=\"edge9\" class=\"edge\">\n<title>7&#45;&gt;9</title>\n<path fill=\"none\" stroke=\"#000000\" d=\"M367.789,-103.9815C374.2514,-94.9747 381.0948,-85.4367 387.581,-76.3965\"/>\n<polygon fill=\"#000000\" stroke=\"#000000\" points=\"390.4303,-78.4291 393.4162,-68.2637 384.7428,-74.3483 390.4303,-78.4291\"/>\n</g>\n<!-- 11 -->\n<g id=\"node12\" class=\"node\">\n<title>11</title>\n<path fill=\"#e58139\" stroke=\"#000000\" d=\"M546.5,-179.5C546.5,-179.5 471.5,-179.5 471.5,-179.5 465.5,-179.5 459.5,-173.5 459.5,-167.5 459.5,-167.5 459.5,-123.5 459.5,-123.5 459.5,-117.5 465.5,-111.5 471.5,-111.5 471.5,-111.5 546.5,-111.5 546.5,-111.5 552.5,-111.5 558.5,-117.5 558.5,-123.5 558.5,-123.5 558.5,-167.5 558.5,-167.5 558.5,-173.5 552.5,-179.5 546.5,-179.5\"/>\n<text text-anchor=\"middle\" x=\"509\" y=\"-164.3\" font-family=\"Helvetica,sans-Serif\" font-size=\"14.00\" fill=\"#000000\">gini = 0.0</text>\n<text text-anchor=\"middle\" x=\"509\" y=\"-149.3\" font-family=\"Helvetica,sans-Serif\" font-size=\"14.00\" fill=\"#000000\">samples = 6</text>\n<text text-anchor=\"middle\" x=\"509\" y=\"-134.3\" font-family=\"Helvetica,sans-Serif\" font-size=\"14.00\" fill=\"#000000\">value = [6, 0]</text>\n<text text-anchor=\"middle\" x=\"509\" y=\"-119.3\" font-family=\"Helvetica,sans-Serif\" font-size=\"14.00\" fill=\"#000000\">class = 0</text>\n</g>\n<!-- 10&#45;&gt;11 -->\n<g id=\"edge11\" class=\"edge\">\n<title>10&#45;&gt;11</title>\n<path fill=\"none\" stroke=\"#000000\" d=\"M549.3154,-222.8796C543.5864,-211.8835 537.3894,-199.9893 531.6126,-188.9015\"/>\n<polygon fill=\"#000000\" stroke=\"#000000\" points=\"534.603,-187.0662 526.8784,-179.8149 528.395,-190.3007 534.603,-187.0662\"/>\n</g>\n<!-- 12 -->\n<g id=\"node13\" class=\"node\">\n<title>12</title>\n<path fill=\"#f2c09c\" stroke=\"#000000\" d=\"M663.5,-187C663.5,-187 588.5,-187 588.5,-187 582.5,-187 576.5,-181 576.5,-175 576.5,-175 576.5,-116 576.5,-116 576.5,-110 582.5,-104 588.5,-104 588.5,-104 663.5,-104 663.5,-104 669.5,-104 675.5,-110 675.5,-116 675.5,-116 675.5,-175 675.5,-175 675.5,-181 669.5,-187 663.5,-187\"/>\n<text text-anchor=\"middle\" x=\"626\" y=\"-171.8\" font-family=\"Helvetica,sans-Serif\" font-size=\"14.00\" fill=\"#000000\">Age &lt;= 64.0</text>\n<text text-anchor=\"middle\" x=\"626\" y=\"-156.8\" font-family=\"Helvetica,sans-Serif\" font-size=\"14.00\" fill=\"#000000\">gini = 0.444</text>\n<text text-anchor=\"middle\" x=\"626\" y=\"-141.8\" font-family=\"Helvetica,sans-Serif\" font-size=\"14.00\" fill=\"#000000\">samples = 3</text>\n<text text-anchor=\"middle\" x=\"626\" y=\"-126.8\" font-family=\"Helvetica,sans-Serif\" font-size=\"14.00\" fill=\"#000000\">value = [2, 1]</text>\n<text text-anchor=\"middle\" x=\"626\" y=\"-111.8\" font-family=\"Helvetica,sans-Serif\" font-size=\"14.00\" fill=\"#000000\">class = 0</text>\n</g>\n<!-- 10&#45;&gt;12 -->\n<g id=\"edge12\" class=\"edge\">\n<title>10&#45;&gt;12</title>\n<path fill=\"none\" stroke=\"#000000\" d=\"M590.2363,-222.8796C594.1908,-214.3236 598.3966,-205.2238 602.4825,-196.3833\"/>\n<polygon fill=\"#000000\" stroke=\"#000000\" points=\"605.6632,-197.8439 606.6816,-187.2981 599.309,-194.907 605.6632,-197.8439\"/>\n</g>\n<!-- 13 -->\n<g id=\"node14\" class=\"node\">\n<title>13</title>\n<path fill=\"#399de5\" stroke=\"#000000\" d=\"M572.5,-68C572.5,-68 497.5,-68 497.5,-68 491.5,-68 485.5,-62 485.5,-56 485.5,-56 485.5,-12 485.5,-12 485.5,-6 491.5,0 497.5,0 497.5,0 572.5,0 572.5,0 578.5,0 584.5,-6 584.5,-12 584.5,-12 584.5,-56 584.5,-56 584.5,-62 578.5,-68 572.5,-68\"/>\n<text text-anchor=\"middle\" x=\"535\" y=\"-52.8\" font-family=\"Helvetica,sans-Serif\" font-size=\"14.00\" fill=\"#000000\">gini = 0.0</text>\n<text text-anchor=\"middle\" x=\"535\" y=\"-37.8\" font-family=\"Helvetica,sans-Serif\" font-size=\"14.00\" fill=\"#000000\">samples = 1</text>\n<text text-anchor=\"middle\" x=\"535\" y=\"-22.8\" font-family=\"Helvetica,sans-Serif\" font-size=\"14.00\" fill=\"#000000\">value = [0, 1]</text>\n<text text-anchor=\"middle\" x=\"535\" y=\"-7.8\" font-family=\"Helvetica,sans-Serif\" font-size=\"14.00\" fill=\"#000000\">class = 1</text>\n</g>\n<!-- 12&#45;&gt;13 -->\n<g id=\"edge13\" class=\"edge\">\n<title>12&#45;&gt;13</title>\n<path fill=\"none\" stroke=\"#000000\" d=\"M592.115,-103.9815C584.6891,-94.8828 576.8208,-85.242 569.3759,-76.1199\"/>\n<polygon fill=\"#000000\" stroke=\"#000000\" points=\"571.9986,-73.798 562.9641,-68.2637 566.5755,-78.224 571.9986,-73.798\"/>\n</g>\n<!-- 14 -->\n<g id=\"node15\" class=\"node\">\n<title>14</title>\n<path fill=\"#e58139\" stroke=\"#000000\" d=\"M689.5,-68C689.5,-68 614.5,-68 614.5,-68 608.5,-68 602.5,-62 602.5,-56 602.5,-56 602.5,-12 602.5,-12 602.5,-6 608.5,0 614.5,0 614.5,0 689.5,0 689.5,0 695.5,0 701.5,-6 701.5,-12 701.5,-12 701.5,-56 701.5,-56 701.5,-62 695.5,-68 689.5,-68\"/>\n<text text-anchor=\"middle\" x=\"652\" y=\"-52.8\" font-family=\"Helvetica,sans-Serif\" font-size=\"14.00\" fill=\"#000000\">gini = 0.0</text>\n<text text-anchor=\"middle\" x=\"652\" y=\"-37.8\" font-family=\"Helvetica,sans-Serif\" font-size=\"14.00\" fill=\"#000000\">samples = 2</text>\n<text text-anchor=\"middle\" x=\"652\" y=\"-22.8\" font-family=\"Helvetica,sans-Serif\" font-size=\"14.00\" fill=\"#000000\">value = [2, 0]</text>\n<text text-anchor=\"middle\" x=\"652\" y=\"-7.8\" font-family=\"Helvetica,sans-Serif\" font-size=\"14.00\" fill=\"#000000\">class = 0</text>\n</g>\n<!-- 12&#45;&gt;14 -->\n<g id=\"edge14\" class=\"edge\">\n<title>12&#45;&gt;14</title>\n<path fill=\"none\" stroke=\"#000000\" d=\"M635.6814,-103.9815C637.6531,-95.5261 639.7339,-86.6026 641.7254,-78.0623\"/>\n<polygon fill=\"#000000\" stroke=\"#000000\" points=\"645.1478,-78.7973 644.0103,-68.2637 638.3307,-77.2076 645.1478,-78.7973\"/>\n</g>\n<!-- 16 -->\n<g id=\"node17\" class=\"node\">\n<title>16</title>\n<path fill=\"#86c3ef\" stroke=\"#000000\" d=\"M1145,-306C1145,-306 1045,-306 1045,-306 1039,-306 1033,-300 1033,-294 1033,-294 1033,-235 1033,-235 1033,-229 1039,-223 1045,-223 1045,-223 1145,-223 1145,-223 1151,-223 1157,-229 1157,-235 1157,-235 1157,-294 1157,-294 1157,-300 1151,-306 1145,-306\"/>\n<text text-anchor=\"middle\" x=\"1095\" y=\"-290.8\" font-family=\"Helvetica,sans-Serif\" font-size=\"14.00\" fill=\"#000000\">Age &lt;= 17.5</text>\n<text text-anchor=\"middle\" x=\"1095\" y=\"-275.8\" font-family=\"Helvetica,sans-Serif\" font-size=\"14.00\" fill=\"#000000\">gini = 0.402</text>\n<text text-anchor=\"middle\" x=\"1095\" y=\"-260.8\" font-family=\"Helvetica,sans-Serif\" font-size=\"14.00\" fill=\"#000000\">samples = 190</text>\n<text text-anchor=\"middle\" x=\"1095\" y=\"-245.8\" font-family=\"Helvetica,sans-Serif\" font-size=\"14.00\" fill=\"#000000\">value = [53, 137]</text>\n<text text-anchor=\"middle\" x=\"1095\" y=\"-230.8\" font-family=\"Helvetica,sans-Serif\" font-size=\"14.00\" fill=\"#000000\">class = 1</text>\n</g>\n<!-- 15&#45;&gt;16 -->\n<g id=\"edge16\" class=\"edge\">\n<title>15&#45;&gt;16</title>\n<path fill=\"none\" stroke=\"#000000\" d=\"M1158.7244,-341.8796C1151.3816,-332.9633 1143.5524,-323.4565 1135.9854,-314.268\"/>\n<polygon fill=\"#000000\" stroke=\"#000000\" points=\"1138.4808,-311.7924 1129.4219,-306.2981 1133.0773,-316.2424 1138.4808,-311.7924\"/>\n</g>\n<!-- 23 -->\n<g id=\"node24\" class=\"node\">\n<title>23</title>\n<path fill=\"#fcf1e9\" stroke=\"#000000\" d=\"M1397,-306C1397,-306 1305,-306 1305,-306 1299,-306 1293,-300 1293,-294 1293,-294 1293,-235 1293,-235 1293,-229 1299,-223 1305,-223 1305,-223 1397,-223 1397,-223 1403,-223 1409,-229 1409,-235 1409,-235 1409,-294 1409,-294 1409,-300 1403,-306 1397,-306\"/>\n<text text-anchor=\"middle\" x=\"1351\" y=\"-290.8\" font-family=\"Helvetica,sans-Serif\" font-size=\"14.00\" fill=\"#000000\">Fare &lt;= 39.3</text>\n<text text-anchor=\"middle\" x=\"1351\" y=\"-275.8\" font-family=\"Helvetica,sans-Serif\" font-size=\"14.00\" fill=\"#000000\">gini = 0.498</text>\n<text text-anchor=\"middle\" x=\"1351\" y=\"-260.8\" font-family=\"Helvetica,sans-Serif\" font-size=\"14.00\" fill=\"#000000\">samples = 85</text>\n<text text-anchor=\"middle\" x=\"1351\" y=\"-245.8\" font-family=\"Helvetica,sans-Serif\" font-size=\"14.00\" fill=\"#000000\">value = [45, 40]</text>\n<text text-anchor=\"middle\" x=\"1351\" y=\"-230.8\" font-family=\"Helvetica,sans-Serif\" font-size=\"14.00\" fill=\"#000000\">class = 0</text>\n</g>\n<!-- 15&#45;&gt;23 -->\n<g id=\"edge23\" class=\"edge\">\n<title>15&#45;&gt;23</title>\n<path fill=\"none\" stroke=\"#000000\" d=\"M1248.2607,-341.8796C1261.0099,-332.2774 1274.6683,-321.9903 1287.7291,-312.1534\"/>\n<polygon fill=\"#000000\" stroke=\"#000000\" points=\"1289.8883,-314.9089 1295.7705,-306.0969 1285.6769,-309.3174 1289.8883,-314.9089\"/>\n</g>\n<!-- 17 -->\n<g id=\"node18\" class=\"node\">\n<title>17</title>\n<path fill=\"#46a4e7\" stroke=\"#000000\" d=\"M944,-187C944,-187 844,-187 844,-187 838,-187 832,-181 832,-175 832,-175 832,-116 832,-116 832,-110 838,-104 844,-104 844,-104 944,-104 944,-104 950,-104 956,-110 956,-116 956,-116 956,-175 956,-175 956,-181 950,-187 944,-187\"/>\n<text text-anchor=\"middle\" x=\"894\" y=\"-171.8\" font-family=\"Helvetica,sans-Serif\" font-size=\"14.00\" fill=\"#000000\">Fare &lt;= 135.775</text>\n<text text-anchor=\"middle\" x=\"894\" y=\"-156.8\" font-family=\"Helvetica,sans-Serif\" font-size=\"14.00\" fill=\"#000000\">gini = 0.117</text>\n<text text-anchor=\"middle\" x=\"894\" y=\"-141.8\" font-family=\"Helvetica,sans-Serif\" font-size=\"14.00\" fill=\"#000000\">samples = 32</text>\n<text text-anchor=\"middle\" x=\"894\" y=\"-126.8\" font-family=\"Helvetica,sans-Serif\" font-size=\"14.00\" fill=\"#000000\">value = [2, 30]</text>\n<text text-anchor=\"middle\" x=\"894\" y=\"-111.8\" font-family=\"Helvetica,sans-Serif\" font-size=\"14.00\" fill=\"#000000\">class = 1</text>\n</g>\n<!-- 16&#45;&gt;17 -->\n<g id=\"edge17\" class=\"edge\">\n<title>16&#45;&gt;17</title>\n<path fill=\"none\" stroke=\"#000000\" d=\"M1032.7789,-227.6626C1011.3022,-214.9476 987.0837,-200.6092 964.961,-187.5117\"/>\n<polygon fill=\"#000000\" stroke=\"#000000\" points=\"966.6613,-184.451 956.2732,-182.3682 963.0951,-190.4745 966.6613,-184.451\"/>\n</g>\n<!-- 20 -->\n<g id=\"node21\" class=\"node\">\n<title>20</title>\n<path fill=\"#97ccf1\" stroke=\"#000000\" d=\"M1145,-187C1145,-187 1045,-187 1045,-187 1039,-187 1033,-181 1033,-175 1033,-175 1033,-116 1033,-116 1033,-110 1039,-104 1045,-104 1045,-104 1145,-104 1145,-104 1151,-104 1157,-110 1157,-116 1157,-116 1157,-175 1157,-175 1157,-181 1151,-187 1145,-187\"/>\n<text text-anchor=\"middle\" x=\"1095\" y=\"-171.8\" font-family=\"Helvetica,sans-Serif\" font-size=\"14.00\" fill=\"#000000\">Pclass &lt;= 1.5</text>\n<text text-anchor=\"middle\" x=\"1095\" y=\"-156.8\" font-family=\"Helvetica,sans-Serif\" font-size=\"14.00\" fill=\"#000000\">gini = 0.437</text>\n<text text-anchor=\"middle\" x=\"1095\" y=\"-141.8\" font-family=\"Helvetica,sans-Serif\" font-size=\"14.00\" fill=\"#000000\">samples = 158</text>\n<text text-anchor=\"middle\" x=\"1095\" y=\"-126.8\" font-family=\"Helvetica,sans-Serif\" font-size=\"14.00\" fill=\"#000000\">value = [51, 107]</text>\n<text text-anchor=\"middle\" x=\"1095\" y=\"-111.8\" font-family=\"Helvetica,sans-Serif\" font-size=\"14.00\" fill=\"#000000\">class = 1</text>\n</g>\n<!-- 16&#45;&gt;20 -->\n<g id=\"edge20\" class=\"edge\">\n<title>16&#45;&gt;20</title>\n<path fill=\"none\" stroke=\"#000000\" d=\"M1095,-222.8796C1095,-214.6838 1095,-205.9891 1095,-197.5013\"/>\n<polygon fill=\"#000000\" stroke=\"#000000\" points=\"1098.5001,-197.298 1095,-187.2981 1091.5001,-197.2981 1098.5001,-197.298\"/>\n</g>\n<!-- 18 -->\n<g id=\"node19\" class=\"node\">\n<title>18</title>\n<path fill=\"#40a0e6\" stroke=\"#000000\" d=\"M814.5,-68C814.5,-68 731.5,-68 731.5,-68 725.5,-68 719.5,-62 719.5,-56 719.5,-56 719.5,-12 719.5,-12 719.5,-6 725.5,0 731.5,0 731.5,0 814.5,0 814.5,0 820.5,0 826.5,-6 826.5,-12 826.5,-12 826.5,-56 826.5,-56 826.5,-62 820.5,-68 814.5,-68\"/>\n<text text-anchor=\"middle\" x=\"773\" y=\"-52.8\" font-family=\"Helvetica,sans-Serif\" font-size=\"14.00\" fill=\"#000000\">gini = 0.067</text>\n<text text-anchor=\"middle\" x=\"773\" y=\"-37.8\" font-family=\"Helvetica,sans-Serif\" font-size=\"14.00\" fill=\"#000000\">samples = 29</text>\n<text text-anchor=\"middle\" x=\"773\" y=\"-22.8\" font-family=\"Helvetica,sans-Serif\" font-size=\"14.00\" fill=\"#000000\">value = [1, 28]</text>\n<text text-anchor=\"middle\" x=\"773\" y=\"-7.8\" font-family=\"Helvetica,sans-Serif\" font-size=\"14.00\" fill=\"#000000\">class = 1</text>\n</g>\n<!-- 17&#45;&gt;18 -->\n<g id=\"edge18\" class=\"edge\">\n<title>17&#45;&gt;18</title>\n<path fill=\"none\" stroke=\"#000000\" d=\"M848.9441,-103.9815C838.7709,-94.607 827.9733,-84.6572 817.8102,-75.2921\"/>\n<polygon fill=\"#000000\" stroke=\"#000000\" points=\"819.9087,-72.4663 810.183,-68.2637 815.1651,-77.6141 819.9087,-72.4663\"/>\n</g>\n<!-- 19 -->\n<g id=\"node20\" class=\"node\">\n<title>19</title>\n<path fill=\"#9ccef2\" stroke=\"#000000\" d=\"M931.5,-68C931.5,-68 856.5,-68 856.5,-68 850.5,-68 844.5,-62 844.5,-56 844.5,-56 844.5,-12 844.5,-12 844.5,-6 850.5,0 856.5,0 856.5,0 931.5,0 931.5,0 937.5,0 943.5,-6 943.5,-12 943.5,-12 943.5,-56 943.5,-56 943.5,-62 937.5,-68 931.5,-68\"/>\n<text text-anchor=\"middle\" x=\"894\" y=\"-52.8\" font-family=\"Helvetica,sans-Serif\" font-size=\"14.00\" fill=\"#000000\">gini = 0.444</text>\n<text text-anchor=\"middle\" x=\"894\" y=\"-37.8\" font-family=\"Helvetica,sans-Serif\" font-size=\"14.00\" fill=\"#000000\">samples = 3</text>\n<text text-anchor=\"middle\" x=\"894\" y=\"-22.8\" font-family=\"Helvetica,sans-Serif\" font-size=\"14.00\" fill=\"#000000\">value = [1, 2]</text>\n<text text-anchor=\"middle\" x=\"894\" y=\"-7.8\" font-family=\"Helvetica,sans-Serif\" font-size=\"14.00\" fill=\"#000000\">class = 1</text>\n</g>\n<!-- 17&#45;&gt;19 -->\n<g id=\"edge19\" class=\"edge\">\n<title>17&#45;&gt;19</title>\n<path fill=\"none\" stroke=\"#000000\" d=\"M894,-103.9815C894,-95.618 894,-86.7965 894,-78.3409\"/>\n<polygon fill=\"#000000\" stroke=\"#000000\" points=\"897.5001,-78.2636 894,-68.2637 890.5001,-78.2637 897.5001,-78.2636\"/>\n</g>\n<!-- 21 -->\n<g id=\"node22\" class=\"node\">\n<title>21</title>\n<path fill=\"#75bbed\" stroke=\"#000000\" d=\"M1066,-68C1066,-68 974,-68 974,-68 968,-68 962,-62 962,-56 962,-56 962,-12 962,-12 962,-6 968,0 974,0 974,0 1066,0 1066,0 1072,0 1078,-6 1078,-12 1078,-12 1078,-56 1078,-56 1078,-62 1072,-68 1066,-68\"/>\n<text text-anchor=\"middle\" x=\"1020\" y=\"-52.8\" font-family=\"Helvetica,sans-Serif\" font-size=\"14.00\" fill=\"#000000\">gini = 0.357</text>\n<text text-anchor=\"middle\" x=\"1020\" y=\"-37.8\" font-family=\"Helvetica,sans-Serif\" font-size=\"14.00\" fill=\"#000000\">samples = 99</text>\n<text text-anchor=\"middle\" x=\"1020\" y=\"-22.8\" font-family=\"Helvetica,sans-Serif\" font-size=\"14.00\" fill=\"#000000\">value = [23, 76]</text>\n<text text-anchor=\"middle\" x=\"1020\" y=\"-7.8\" font-family=\"Helvetica,sans-Serif\" font-size=\"14.00\" fill=\"#000000\">class = 1</text>\n</g>\n<!-- 20&#45;&gt;21 -->\n<g id=\"edge21\" class=\"edge\">\n<title>20&#45;&gt;21</title>\n<path fill=\"none\" stroke=\"#000000\" d=\"M1067.0728,-103.9815C1061.0762,-95.0666 1054.7296,-85.6313 1048.7041,-76.6734\"/>\n<polygon fill=\"#000000\" stroke=\"#000000\" points=\"1051.5328,-74.6078 1043.0473,-68.2637 1045.7245,-78.5147 1051.5328,-74.6078\"/>\n</g>\n<!-- 22 -->\n<g id=\"node23\" class=\"node\">\n<title>22</title>\n<path fill=\"#ecf6fc\" stroke=\"#000000\" d=\"M1200,-68C1200,-68 1108,-68 1108,-68 1102,-68 1096,-62 1096,-56 1096,-56 1096,-12 1096,-12 1096,-6 1102,0 1108,0 1108,0 1200,0 1200,0 1206,0 1212,-6 1212,-12 1212,-12 1212,-56 1212,-56 1212,-62 1206,-68 1200,-68\"/>\n<text text-anchor=\"middle\" x=\"1154\" y=\"-52.8\" font-family=\"Helvetica,sans-Serif\" font-size=\"14.00\" fill=\"#000000\">gini = 0.499</text>\n<text text-anchor=\"middle\" x=\"1154\" y=\"-37.8\" font-family=\"Helvetica,sans-Serif\" font-size=\"14.00\" fill=\"#000000\">samples = 59</text>\n<text text-anchor=\"middle\" x=\"1154\" y=\"-22.8\" font-family=\"Helvetica,sans-Serif\" font-size=\"14.00\" fill=\"#000000\">value = [28, 31]</text>\n<text text-anchor=\"middle\" x=\"1154\" y=\"-7.8\" font-family=\"Helvetica,sans-Serif\" font-size=\"14.00\" fill=\"#000000\">class = 1</text>\n</g>\n<!-- 20&#45;&gt;22 -->\n<g id=\"edge22\" class=\"edge\">\n<title>20&#45;&gt;22</title>\n<path fill=\"none\" stroke=\"#000000\" d=\"M1116.9694,-103.9815C1121.5895,-95.2504 1126.4736,-86.0202 1131.126,-77.2281\"/>\n<polygon fill=\"#000000\" stroke=\"#000000\" points=\"1134.2859,-78.7395 1135.8694,-68.2637 1128.0987,-75.4655 1134.2859,-78.7395\"/>\n</g>\n<!-- 24 -->\n<g id=\"node25\" class=\"node\">\n<title>24</title>\n<path fill=\"#f2c09c\" stroke=\"#000000\" d=\"M1397,-187C1397,-187 1305,-187 1305,-187 1299,-187 1293,-181 1293,-175 1293,-175 1293,-116 1293,-116 1293,-110 1299,-104 1305,-104 1305,-104 1397,-104 1397,-104 1403,-104 1409,-110 1409,-116 1409,-116 1409,-175 1409,-175 1409,-181 1403,-187 1397,-187\"/>\n<text text-anchor=\"middle\" x=\"1351\" y=\"-171.8\" font-family=\"Helvetica,sans-Serif\" font-size=\"14.00\" fill=\"#000000\">Age &lt;= 59.0</text>\n<text text-anchor=\"middle\" x=\"1351\" y=\"-156.8\" font-family=\"Helvetica,sans-Serif\" font-size=\"14.00\" fill=\"#000000\">gini = 0.444</text>\n<text text-anchor=\"middle\" x=\"1351\" y=\"-141.8\" font-family=\"Helvetica,sans-Serif\" font-size=\"14.00\" fill=\"#000000\">samples = 42</text>\n<text text-anchor=\"middle\" x=\"1351\" y=\"-126.8\" font-family=\"Helvetica,sans-Serif\" font-size=\"14.00\" fill=\"#000000\">value = [28, 14]</text>\n<text text-anchor=\"middle\" x=\"1351\" y=\"-111.8\" font-family=\"Helvetica,sans-Serif\" font-size=\"14.00\" fill=\"#000000\">class = 0</text>\n</g>\n<!-- 23&#45;&gt;24 -->\n<g id=\"edge24\" class=\"edge\">\n<title>23&#45;&gt;24</title>\n<path fill=\"none\" stroke=\"#000000\" d=\"M1351,-222.8796C1351,-214.6838 1351,-205.9891 1351,-197.5013\"/>\n<polygon fill=\"#000000\" stroke=\"#000000\" points=\"1354.5001,-197.298 1351,-187.2981 1347.5001,-197.2981 1354.5001,-197.298\"/>\n</g>\n<!-- 27 -->\n<g id=\"node28\" class=\"node\">\n<title>27</title>\n<path fill=\"#baddf6\" stroke=\"#000000\" d=\"M1590,-187C1590,-187 1498,-187 1498,-187 1492,-187 1486,-181 1486,-175 1486,-175 1486,-116 1486,-116 1486,-110 1492,-104 1498,-104 1498,-104 1590,-104 1590,-104 1596,-104 1602,-110 1602,-116 1602,-116 1602,-175 1602,-175 1602,-181 1596,-187 1590,-187\"/>\n<text text-anchor=\"middle\" x=\"1544\" y=\"-171.8\" font-family=\"Helvetica,sans-Serif\" font-size=\"14.00\" fill=\"#000000\">Age &lt;= 63.5</text>\n<text text-anchor=\"middle\" x=\"1544\" y=\"-156.8\" font-family=\"Helvetica,sans-Serif\" font-size=\"14.00\" fill=\"#000000\">gini = 0.478</text>\n<text text-anchor=\"middle\" x=\"1544\" y=\"-141.8\" font-family=\"Helvetica,sans-Serif\" font-size=\"14.00\" fill=\"#000000\">samples = 43</text>\n<text text-anchor=\"middle\" x=\"1544\" y=\"-126.8\" font-family=\"Helvetica,sans-Serif\" font-size=\"14.00\" fill=\"#000000\">value = [17, 26]</text>\n<text text-anchor=\"middle\" x=\"1544\" y=\"-111.8\" font-family=\"Helvetica,sans-Serif\" font-size=\"14.00\" fill=\"#000000\">class = 1</text>\n</g>\n<!-- 23&#45;&gt;27 -->\n<g id=\"edge27\" class=\"edge\">\n<title>23&#45;&gt;27</title>\n<path fill=\"none\" stroke=\"#000000\" d=\"M1409.1681,-228.6347C1430.6267,-215.4038 1455.1048,-200.311 1477.2624,-186.6491\"/>\n<polygon fill=\"#000000\" stroke=\"#000000\" points=\"1479.2759,-189.5195 1485.9511,-181.2918 1475.6021,-183.561 1479.2759,-189.5195\"/>\n</g>\n<!-- 25 -->\n<g id=\"node26\" class=\"node\">\n<title>25</title>\n<path fill=\"#f7d7c0\" stroke=\"#000000\" d=\"M1334,-68C1334,-68 1242,-68 1242,-68 1236,-68 1230,-62 1230,-56 1230,-56 1230,-12 1230,-12 1230,-6 1236,0 1242,0 1242,0 1334,0 1334,0 1340,0 1346,-6 1346,-12 1346,-12 1346,-56 1346,-56 1346,-62 1340,-68 1334,-68\"/>\n<text text-anchor=\"middle\" x=\"1288\" y=\"-52.8\" font-family=\"Helvetica,sans-Serif\" font-size=\"14.00\" fill=\"#000000\">gini = 0.482</text>\n<text text-anchor=\"middle\" x=\"1288\" y=\"-37.8\" font-family=\"Helvetica,sans-Serif\" font-size=\"14.00\" fill=\"#000000\">samples = 32</text>\n<text text-anchor=\"middle\" x=\"1288\" y=\"-22.8\" font-family=\"Helvetica,sans-Serif\" font-size=\"14.00\" fill=\"#000000\">value = [19, 13]</text>\n<text text-anchor=\"middle\" x=\"1288\" y=\"-7.8\" font-family=\"Helvetica,sans-Serif\" font-size=\"14.00\" fill=\"#000000\">class = 0</text>\n</g>\n<!-- 24&#45;&gt;25 -->\n<g id=\"edge25\" class=\"edge\">\n<title>24&#45;&gt;25</title>\n<path fill=\"none\" stroke=\"#000000\" d=\"M1327.5411,-103.9815C1322.6078,-95.2504 1317.3926,-86.0202 1312.4248,-77.2281\"/>\n<polygon fill=\"#000000\" stroke=\"#000000\" points=\"1315.3263,-75.2483 1307.3597,-68.2637 1309.2319,-78.6918 1315.3263,-75.2483\"/>\n</g>\n<!-- 26 -->\n<g id=\"node27\" class=\"node\">\n<title>26</title>\n<path fill=\"#e88f4f\" stroke=\"#000000\" d=\"M1456,-68C1456,-68 1376,-68 1376,-68 1370,-68 1364,-62 1364,-56 1364,-56 1364,-12 1364,-12 1364,-6 1370,0 1376,0 1376,0 1456,0 1456,0 1462,0 1468,-6 1468,-12 1468,-12 1468,-56 1468,-56 1468,-62 1462,-68 1456,-68\"/>\n<text text-anchor=\"middle\" x=\"1416\" y=\"-52.8\" font-family=\"Helvetica,sans-Serif\" font-size=\"14.00\" fill=\"#000000\">gini = 0.18</text>\n<text text-anchor=\"middle\" x=\"1416\" y=\"-37.8\" font-family=\"Helvetica,sans-Serif\" font-size=\"14.00\" fill=\"#000000\">samples = 10</text>\n<text text-anchor=\"middle\" x=\"1416\" y=\"-22.8\" font-family=\"Helvetica,sans-Serif\" font-size=\"14.00\" fill=\"#000000\">value = [9, 1]</text>\n<text text-anchor=\"middle\" x=\"1416\" y=\"-7.8\" font-family=\"Helvetica,sans-Serif\" font-size=\"14.00\" fill=\"#000000\">class = 0</text>\n</g>\n<!-- 24&#45;&gt;26 -->\n<g id=\"edge26\" class=\"edge\">\n<title>24&#45;&gt;26</title>\n<path fill=\"none\" stroke=\"#000000\" d=\"M1375.2036,-103.9815C1380.3471,-95.1585 1385.7877,-85.8258 1390.9616,-76.9506\"/>\n<polygon fill=\"#000000\" stroke=\"#000000\" points=\"1394.013,-78.6656 1396.0257,-68.2637 1387.9656,-75.1402 1394.013,-78.6656\"/>\n</g>\n<!-- 28 -->\n<g id=\"node29\" class=\"node\">\n<title>28</title>\n<path fill=\"#9ccef2\" stroke=\"#000000\" d=\"M1590,-68C1590,-68 1498,-68 1498,-68 1492,-68 1486,-62 1486,-56 1486,-56 1486,-12 1486,-12 1486,-6 1492,0 1498,0 1498,0 1590,0 1590,0 1596,0 1602,-6 1602,-12 1602,-12 1602,-56 1602,-56 1602,-62 1596,-68 1590,-68\"/>\n<text text-anchor=\"middle\" x=\"1544\" y=\"-52.8\" font-family=\"Helvetica,sans-Serif\" font-size=\"14.00\" fill=\"#000000\">gini = 0.444</text>\n<text text-anchor=\"middle\" x=\"1544\" y=\"-37.8\" font-family=\"Helvetica,sans-Serif\" font-size=\"14.00\" fill=\"#000000\">samples = 39</text>\n<text text-anchor=\"middle\" x=\"1544\" y=\"-22.8\" font-family=\"Helvetica,sans-Serif\" font-size=\"14.00\" fill=\"#000000\">value = [13, 26]</text>\n<text text-anchor=\"middle\" x=\"1544\" y=\"-7.8\" font-family=\"Helvetica,sans-Serif\" font-size=\"14.00\" fill=\"#000000\">class = 1</text>\n</g>\n<!-- 27&#45;&gt;28 -->\n<g id=\"edge28\" class=\"edge\">\n<title>27&#45;&gt;28</title>\n<path fill=\"none\" stroke=\"#000000\" d=\"M1544,-103.9815C1544,-95.618 1544,-86.7965 1544,-78.3409\"/>\n<polygon fill=\"#000000\" stroke=\"#000000\" points=\"1547.5001,-78.2636 1544,-68.2637 1540.5001,-78.2637 1547.5001,-78.2636\"/>\n</g>\n<!-- 29 -->\n<g id=\"node30\" class=\"node\">\n<title>29</title>\n<path fill=\"#e58139\" stroke=\"#000000\" d=\"M1707.5,-68C1707.5,-68 1632.5,-68 1632.5,-68 1626.5,-68 1620.5,-62 1620.5,-56 1620.5,-56 1620.5,-12 1620.5,-12 1620.5,-6 1626.5,0 1632.5,0 1632.5,0 1707.5,0 1707.5,0 1713.5,0 1719.5,-6 1719.5,-12 1719.5,-12 1719.5,-56 1719.5,-56 1719.5,-62 1713.5,-68 1707.5,-68\"/>\n<text text-anchor=\"middle\" x=\"1670\" y=\"-52.8\" font-family=\"Helvetica,sans-Serif\" font-size=\"14.00\" fill=\"#000000\">gini = 0.0</text>\n<text text-anchor=\"middle\" x=\"1670\" y=\"-37.8\" font-family=\"Helvetica,sans-Serif\" font-size=\"14.00\" fill=\"#000000\">samples = 4</text>\n<text text-anchor=\"middle\" x=\"1670\" y=\"-22.8\" font-family=\"Helvetica,sans-Serif\" font-size=\"14.00\" fill=\"#000000\">value = [4, 0]</text>\n<text text-anchor=\"middle\" x=\"1670\" y=\"-7.8\" font-family=\"Helvetica,sans-Serif\" font-size=\"14.00\" fill=\"#000000\">class = 0</text>\n</g>\n<!-- 27&#45;&gt;29 -->\n<g id=\"edge29\" class=\"edge\">\n<title>27&#45;&gt;29</title>\n<path fill=\"none\" stroke=\"#000000\" d=\"M1590.9177,-103.9815C1601.6152,-94.5151 1612.9756,-84.462 1623.6492,-75.0168\"/>\n<polygon fill=\"#000000\" stroke=\"#000000\" points=\"1626.1111,-77.5118 1631.2805,-68.2637 1621.4722,-72.2696 1626.1111,-77.5118\"/>\n</g>\n<!-- 31 -->\n<g id=\"node32\" class=\"node\">\n<title>31</title>\n<path fill=\"#d0e8f9\" stroke=\"#000000\" d=\"M2014,-425C2014,-425 1922,-425 1922,-425 1916,-425 1910,-419 1910,-413 1910,-413 1910,-354 1910,-354 1910,-348 1916,-342 1922,-342 1922,-342 2014,-342 2014,-342 2020,-342 2026,-348 2026,-354 2026,-354 2026,-413 2026,-413 2026,-419 2020,-425 2014,-425\"/>\n<text text-anchor=\"middle\" x=\"1968\" y=\"-409.8\" font-family=\"Helvetica,sans-Serif\" font-size=\"14.00\" fill=\"#000000\">Fare &lt;= 20.825</text>\n<text text-anchor=\"middle\" x=\"1968\" y=\"-394.8\" font-family=\"Helvetica,sans-Serif\" font-size=\"14.00\" fill=\"#000000\">gini = 0.491</text>\n<text text-anchor=\"middle\" x=\"1968\" y=\"-379.8\" font-family=\"Helvetica,sans-Serif\" font-size=\"14.00\" fill=\"#000000\">samples = 30</text>\n<text text-anchor=\"middle\" x=\"1968\" y=\"-364.8\" font-family=\"Helvetica,sans-Serif\" font-size=\"14.00\" fill=\"#000000\">value = [13, 17]</text>\n<text text-anchor=\"middle\" x=\"1968\" y=\"-349.8\" font-family=\"Helvetica,sans-Serif\" font-size=\"14.00\" fill=\"#000000\">class = 1</text>\n</g>\n<!-- 30&#45;&gt;31 -->\n<g id=\"edge31\" class=\"edge\">\n<title>30&#45;&gt;31</title>\n<path fill=\"none\" stroke=\"#000000\" d=\"M1968,-460.8796C1968,-452.6838 1968,-443.9891 1968,-435.5013\"/>\n<polygon fill=\"#000000\" stroke=\"#000000\" points=\"1971.5001,-435.298 1968,-425.2981 1964.5001,-435.2981 1971.5001,-435.298\"/>\n</g>\n<!-- 42 -->\n<g id=\"node43\" class=\"node\">\n<title>42</title>\n<path fill=\"#eca26d\" stroke=\"#000000\" d=\"M2518,-425C2518,-425 2418,-425 2418,-425 2412,-425 2406,-419 2406,-413 2406,-413 2406,-354 2406,-354 2406,-348 2412,-342 2418,-342 2418,-342 2518,-342 2518,-342 2524,-342 2530,-348 2530,-354 2530,-354 2530,-413 2530,-413 2530,-419 2524,-425 2518,-425\"/>\n<text text-anchor=\"middle\" x=\"2468\" y=\"-409.8\" font-family=\"Helvetica,sans-Serif\" font-size=\"14.00\" fill=\"#000000\">Age &lt;= 32.5</text>\n<text text-anchor=\"middle\" x=\"2468\" y=\"-394.8\" font-family=\"Helvetica,sans-Serif\" font-size=\"14.00\" fill=\"#000000\">gini = 0.331</text>\n<text text-anchor=\"middle\" x=\"2468\" y=\"-379.8\" font-family=\"Helvetica,sans-Serif\" font-size=\"14.00\" fill=\"#000000\">samples = 325</text>\n<text text-anchor=\"middle\" x=\"2468\" y=\"-364.8\" font-family=\"Helvetica,sans-Serif\" font-size=\"14.00\" fill=\"#000000\">value = [257, 68]</text>\n<text text-anchor=\"middle\" x=\"2468\" y=\"-349.8\" font-family=\"Helvetica,sans-Serif\" font-size=\"14.00\" fill=\"#000000\">class = 0</text>\n</g>\n<!-- 30&#45;&gt;42 -->\n<g id=\"edge42\" class=\"edge\">\n<title>30&#45;&gt;42</title>\n<path fill=\"none\" stroke=\"#000000\" d=\"M2030.0626,-487.7291C2122.8583,-465.6437 2297.3569,-424.1131 2395.754,-400.6945\"/>\n<polygon fill=\"#000000\" stroke=\"#000000\" points=\"2396.6983,-404.0676 2405.6162,-398.3473 2395.0776,-397.2578 2396.6983,-404.0676\"/>\n</g>\n<!-- 32 -->\n<g id=\"node33\" class=\"node\">\n<title>32</title>\n<path fill=\"#47a4e7\" stroke=\"#000000\" d=\"M1949,-306C1949,-306 1857,-306 1857,-306 1851,-306 1845,-300 1845,-294 1845,-294 1845,-235 1845,-235 1845,-229 1851,-223 1857,-223 1857,-223 1949,-223 1949,-223 1955,-223 1961,-229 1961,-235 1961,-235 1961,-294 1961,-294 1961,-300 1955,-306 1949,-306\"/>\n<text text-anchor=\"middle\" x=\"1903\" y=\"-290.8\" font-family=\"Helvetica,sans-Serif\" font-size=\"14.00\" fill=\"#000000\">Fare &lt;= 10.798</text>\n<text text-anchor=\"middle\" x=\"1903\" y=\"-275.8\" font-family=\"Helvetica,sans-Serif\" font-size=\"14.00\" fill=\"#000000\">gini = 0.124</text>\n<text text-anchor=\"middle\" x=\"1903\" y=\"-260.8\" font-family=\"Helvetica,sans-Serif\" font-size=\"14.00\" fill=\"#000000\">samples = 15</text>\n<text text-anchor=\"middle\" x=\"1903\" y=\"-245.8\" font-family=\"Helvetica,sans-Serif\" font-size=\"14.00\" fill=\"#000000\">value = [1, 14]</text>\n<text text-anchor=\"middle\" x=\"1903\" y=\"-230.8\" font-family=\"Helvetica,sans-Serif\" font-size=\"14.00\" fill=\"#000000\">class = 1</text>\n</g>\n<!-- 31&#45;&gt;32 -->\n<g id=\"edge32\" class=\"edge\">\n<title>31&#45;&gt;32</title>\n<path fill=\"none\" stroke=\"#000000\" d=\"M1945.2662,-341.8796C1940.5435,-333.2335 1935.5176,-324.0322 1930.641,-315.1042\"/>\n<polygon fill=\"#000000\" stroke=\"#000000\" points=\"1933.6963,-313.3964 1925.8309,-306.2981 1927.553,-316.752 1933.6963,-313.3964\"/>\n</g>\n<!-- 37 -->\n<g id=\"node38\" class=\"node\">\n<title>37</title>\n<path fill=\"#eca06a\" stroke=\"#000000\" d=\"M2074.5,-306C2074.5,-306 1991.5,-306 1991.5,-306 1985.5,-306 1979.5,-300 1979.5,-294 1979.5,-294 1979.5,-235 1979.5,-235 1979.5,-229 1985.5,-223 1991.5,-223 1991.5,-223 2074.5,-223 2074.5,-223 2080.5,-223 2086.5,-229 2086.5,-235 2086.5,-235 2086.5,-294 2086.5,-294 2086.5,-300 2080.5,-306 2074.5,-306\"/>\n<text text-anchor=\"middle\" x=\"2033\" y=\"-290.8\" font-family=\"Helvetica,sans-Serif\" font-size=\"14.00\" fill=\"#000000\">Age &lt;= 2.5</text>\n<text text-anchor=\"middle\" x=\"2033\" y=\"-275.8\" font-family=\"Helvetica,sans-Serif\" font-size=\"14.00\" fill=\"#000000\">gini = 0.32</text>\n<text text-anchor=\"middle\" x=\"2033\" y=\"-260.8\" font-family=\"Helvetica,sans-Serif\" font-size=\"14.00\" fill=\"#000000\">samples = 15</text>\n<text text-anchor=\"middle\" x=\"2033\" y=\"-245.8\" font-family=\"Helvetica,sans-Serif\" font-size=\"14.00\" fill=\"#000000\">value = [12, 3]</text>\n<text text-anchor=\"middle\" x=\"2033\" y=\"-230.8\" font-family=\"Helvetica,sans-Serif\" font-size=\"14.00\" fill=\"#000000\">class = 0</text>\n</g>\n<!-- 31&#45;&gt;37 -->\n<g id=\"edge37\" class=\"edge\">\n<title>31&#45;&gt;37</title>\n<path fill=\"none\" stroke=\"#000000\" d=\"M1990.7338,-341.8796C1995.4565,-333.2335 2000.4824,-324.0322 2005.359,-315.1042\"/>\n<polygon fill=\"#000000\" stroke=\"#000000\" points=\"2008.447,-316.752 2010.1691,-306.2981 2002.3037,-313.3964 2008.447,-316.752\"/>\n</g>\n<!-- 33 -->\n<g id=\"node34\" class=\"node\">\n<title>33</title>\n<path fill=\"#ffffff\" stroke=\"#000000\" d=\"M1824.5,-187C1824.5,-187 1749.5,-187 1749.5,-187 1743.5,-187 1737.5,-181 1737.5,-175 1737.5,-175 1737.5,-116 1737.5,-116 1737.5,-110 1743.5,-104 1749.5,-104 1749.5,-104 1824.5,-104 1824.5,-104 1830.5,-104 1836.5,-110 1836.5,-116 1836.5,-116 1836.5,-175 1836.5,-175 1836.5,-181 1830.5,-187 1824.5,-187\"/>\n<text text-anchor=\"middle\" x=\"1787\" y=\"-171.8\" font-family=\"Helvetica,sans-Serif\" font-size=\"14.00\" fill=\"#000000\">Age &lt;= 1.21</text>\n<text text-anchor=\"middle\" x=\"1787\" y=\"-156.8\" font-family=\"Helvetica,sans-Serif\" font-size=\"14.00\" fill=\"#000000\">gini = 0.5</text>\n<text text-anchor=\"middle\" x=\"1787\" y=\"-141.8\" font-family=\"Helvetica,sans-Serif\" font-size=\"14.00\" fill=\"#000000\">samples = 2</text>\n<text text-anchor=\"middle\" x=\"1787\" y=\"-126.8\" font-family=\"Helvetica,sans-Serif\" font-size=\"14.00\" fill=\"#000000\">value = [1, 1]</text>\n<text text-anchor=\"middle\" x=\"1787\" y=\"-111.8\" font-family=\"Helvetica,sans-Serif\" font-size=\"14.00\" fill=\"#000000\">class = 0</text>\n</g>\n<!-- 32&#45;&gt;33 -->\n<g id=\"edge33\" class=\"edge\">\n<title>32&#45;&gt;33</title>\n<path fill=\"none\" stroke=\"#000000\" d=\"M1862.4288,-222.8796C1853.5618,-213.7832 1844.0956,-204.0722 1834.9709,-194.7116\"/>\n<polygon fill=\"#000000\" stroke=\"#000000\" points=\"1837.2309,-192.0158 1827.7443,-187.2981 1832.2183,-196.9019 1837.2309,-192.0158\"/>\n</g>\n<!-- 36 -->\n<g id=\"node37\" class=\"node\">\n<title>36</title>\n<path fill=\"#399de5\" stroke=\"#000000\" d=\"M1949.5,-179.5C1949.5,-179.5 1866.5,-179.5 1866.5,-179.5 1860.5,-179.5 1854.5,-173.5 1854.5,-167.5 1854.5,-167.5 1854.5,-123.5 1854.5,-123.5 1854.5,-117.5 1860.5,-111.5 1866.5,-111.5 1866.5,-111.5 1949.5,-111.5 1949.5,-111.5 1955.5,-111.5 1961.5,-117.5 1961.5,-123.5 1961.5,-123.5 1961.5,-167.5 1961.5,-167.5 1961.5,-173.5 1955.5,-179.5 1949.5,-179.5\"/>\n<text text-anchor=\"middle\" x=\"1908\" y=\"-164.3\" font-family=\"Helvetica,sans-Serif\" font-size=\"14.00\" fill=\"#000000\">gini = 0.0</text>\n<text text-anchor=\"middle\" x=\"1908\" y=\"-149.3\" font-family=\"Helvetica,sans-Serif\" font-size=\"14.00\" fill=\"#000000\">samples = 13</text>\n<text text-anchor=\"middle\" x=\"1908\" y=\"-134.3\" font-family=\"Helvetica,sans-Serif\" font-size=\"14.00\" fill=\"#000000\">value = [0, 13]</text>\n<text text-anchor=\"middle\" x=\"1908\" y=\"-119.3\" font-family=\"Helvetica,sans-Serif\" font-size=\"14.00\" fill=\"#000000\">class = 1</text>\n</g>\n<!-- 32&#45;&gt;36 -->\n<g id=\"edge36\" class=\"edge\">\n<title>32&#45;&gt;36</title>\n<path fill=\"none\" stroke=\"#000000\" d=\"M1904.7488,-222.8796C1905.1969,-212.2134 1905.6806,-200.7021 1906.1344,-189.9015\"/>\n<polygon fill=\"#000000\" stroke=\"#000000\" points=\"1909.6352,-189.9531 1906.5582,-179.8149 1902.6414,-189.6592 1909.6352,-189.9531\"/>\n</g>\n<!-- 34 -->\n<g id=\"node35\" class=\"node\">\n<title>34</title>\n<path fill=\"#399de5\" stroke=\"#000000\" d=\"M1824.5,-68C1824.5,-68 1749.5,-68 1749.5,-68 1743.5,-68 1737.5,-62 1737.5,-56 1737.5,-56 1737.5,-12 1737.5,-12 1737.5,-6 1743.5,0 1749.5,0 1749.5,0 1824.5,0 1824.5,0 1830.5,0 1836.5,-6 1836.5,-12 1836.5,-12 1836.5,-56 1836.5,-56 1836.5,-62 1830.5,-68 1824.5,-68\"/>\n<text text-anchor=\"middle\" x=\"1787\" y=\"-52.8\" font-family=\"Helvetica,sans-Serif\" font-size=\"14.00\" fill=\"#000000\">gini = 0.0</text>\n<text text-anchor=\"middle\" x=\"1787\" y=\"-37.8\" font-family=\"Helvetica,sans-Serif\" font-size=\"14.00\" fill=\"#000000\">samples = 1</text>\n<text text-anchor=\"middle\" x=\"1787\" y=\"-22.8\" font-family=\"Helvetica,sans-Serif\" font-size=\"14.00\" fill=\"#000000\">value = [0, 1]</text>\n<text text-anchor=\"middle\" x=\"1787\" y=\"-7.8\" font-family=\"Helvetica,sans-Serif\" font-size=\"14.00\" fill=\"#000000\">class = 1</text>\n</g>\n<!-- 33&#45;&gt;34 -->\n<g id=\"edge34\" class=\"edge\">\n<title>33&#45;&gt;34</title>\n<path fill=\"none\" stroke=\"#000000\" d=\"M1787,-103.9815C1787,-95.618 1787,-86.7965 1787,-78.3409\"/>\n<polygon fill=\"#000000\" stroke=\"#000000\" points=\"1790.5001,-78.2636 1787,-68.2637 1783.5001,-78.2637 1790.5001,-78.2636\"/>\n</g>\n<!-- 35 -->\n<g id=\"node36\" class=\"node\">\n<title>35</title>\n<path fill=\"#e58139\" stroke=\"#000000\" d=\"M1941.5,-68C1941.5,-68 1866.5,-68 1866.5,-68 1860.5,-68 1854.5,-62 1854.5,-56 1854.5,-56 1854.5,-12 1854.5,-12 1854.5,-6 1860.5,0 1866.5,0 1866.5,0 1941.5,0 1941.5,0 1947.5,0 1953.5,-6 1953.5,-12 1953.5,-12 1953.5,-56 1953.5,-56 1953.5,-62 1947.5,-68 1941.5,-68\"/>\n<text text-anchor=\"middle\" x=\"1904\" y=\"-52.8\" font-family=\"Helvetica,sans-Serif\" font-size=\"14.00\" fill=\"#000000\">gini = 0.0</text>\n<text text-anchor=\"middle\" x=\"1904\" y=\"-37.8\" font-family=\"Helvetica,sans-Serif\" font-size=\"14.00\" fill=\"#000000\">samples = 1</text>\n<text text-anchor=\"middle\" x=\"1904\" y=\"-22.8\" font-family=\"Helvetica,sans-Serif\" font-size=\"14.00\" fill=\"#000000\">value = [1, 0]</text>\n<text text-anchor=\"middle\" x=\"1904\" y=\"-7.8\" font-family=\"Helvetica,sans-Serif\" font-size=\"14.00\" fill=\"#000000\">class = 0</text>\n</g>\n<!-- 33&#45;&gt;35 -->\n<g id=\"edge35\" class=\"edge\">\n<title>33&#45;&gt;35</title>\n<path fill=\"none\" stroke=\"#000000\" d=\"M1830.5665,-103.9815C1840.4034,-94.607 1850.844,-84.6572 1860.6711,-75.2921\"/>\n<polygon fill=\"#000000\" stroke=\"#000000\" points=\"1863.2216,-77.6963 1868.0462,-68.2637 1858.3924,-72.6289 1863.2216,-77.6963\"/>\n</g>\n<!-- 38 -->\n<g id=\"node39\" class=\"node\">\n<title>38</title>\n<path fill=\"#e58139\" stroke=\"#000000\" d=\"M2066.5,-179.5C2066.5,-179.5 1991.5,-179.5 1991.5,-179.5 1985.5,-179.5 1979.5,-173.5 1979.5,-167.5 1979.5,-167.5 1979.5,-123.5 1979.5,-123.5 1979.5,-117.5 1985.5,-111.5 1991.5,-111.5 1991.5,-111.5 2066.5,-111.5 2066.5,-111.5 2072.5,-111.5 2078.5,-117.5 2078.5,-123.5 2078.5,-123.5 2078.5,-167.5 2078.5,-167.5 2078.5,-173.5 2072.5,-179.5 2066.5,-179.5\"/>\n<text text-anchor=\"middle\" x=\"2029\" y=\"-164.3\" font-family=\"Helvetica,sans-Serif\" font-size=\"14.00\" fill=\"#000000\">gini = 0.0</text>\n<text text-anchor=\"middle\" x=\"2029\" y=\"-149.3\" font-family=\"Helvetica,sans-Serif\" font-size=\"14.00\" fill=\"#000000\">samples = 7</text>\n<text text-anchor=\"middle\" x=\"2029\" y=\"-134.3\" font-family=\"Helvetica,sans-Serif\" font-size=\"14.00\" fill=\"#000000\">value = [7, 0]</text>\n<text text-anchor=\"middle\" x=\"2029\" y=\"-119.3\" font-family=\"Helvetica,sans-Serif\" font-size=\"14.00\" fill=\"#000000\">class = 0</text>\n</g>\n<!-- 37&#45;&gt;38 -->\n<g id=\"edge38\" class=\"edge\">\n<title>37&#45;&gt;38</title>\n<path fill=\"none\" stroke=\"#000000\" d=\"M2031.601,-222.8796C2031.2425,-212.2134 2030.8555,-200.7021 2030.4925,-189.9015\"/>\n<polygon fill=\"#000000\" stroke=\"#000000\" points=\"2033.9875,-189.6917 2030.1534,-179.8149 2026.9915,-189.9269 2033.9875,-189.6917\"/>\n</g>\n<!-- 39 -->\n<g id=\"node40\" class=\"node\">\n<title>39</title>\n<path fill=\"#f5cdb0\" stroke=\"#000000\" d=\"M2201,-187C2201,-187 2109,-187 2109,-187 2103,-187 2097,-181 2097,-175 2097,-175 2097,-116 2097,-116 2097,-110 2103,-104 2109,-104 2109,-104 2201,-104 2201,-104 2207,-104 2213,-110 2213,-116 2213,-116 2213,-175 2213,-175 2213,-181 2207,-187 2201,-187\"/>\n<text text-anchor=\"middle\" x=\"2155\" y=\"-171.8\" font-family=\"Helvetica,sans-Serif\" font-size=\"14.00\" fill=\"#000000\">Fare &lt;= 31.331</text>\n<text text-anchor=\"middle\" x=\"2155\" y=\"-156.8\" font-family=\"Helvetica,sans-Serif\" font-size=\"14.00\" fill=\"#000000\">gini = 0.469</text>\n<text text-anchor=\"middle\" x=\"2155\" y=\"-141.8\" font-family=\"Helvetica,sans-Serif\" font-size=\"14.00\" fill=\"#000000\">samples = 8</text>\n<text text-anchor=\"middle\" x=\"2155\" y=\"-126.8\" font-family=\"Helvetica,sans-Serif\" font-size=\"14.00\" fill=\"#000000\">value = [5, 3]</text>\n<text text-anchor=\"middle\" x=\"2155\" y=\"-111.8\" font-family=\"Helvetica,sans-Serif\" font-size=\"14.00\" fill=\"#000000\">class = 0</text>\n</g>\n<!-- 37&#45;&gt;39 -->\n<g id=\"edge39\" class=\"edge\">\n<title>37&#45;&gt;39</title>\n<path fill=\"none\" stroke=\"#000000\" d=\"M2075.6697,-222.8796C2085.0877,-213.6931 2095.1484,-203.8798 2104.8328,-194.4336\"/>\n<polygon fill=\"#000000\" stroke=\"#000000\" points=\"2107.4335,-196.7861 2112.1482,-187.2981 2102.5457,-191.7751 2107.4335,-196.7861\"/>\n</g>\n<!-- 40 -->\n<g id=\"node41\" class=\"node\">\n<title>40</title>\n<path fill=\"#ea9a61\" stroke=\"#000000\" d=\"M2075.5,-68C2075.5,-68 2000.5,-68 2000.5,-68 1994.5,-68 1988.5,-62 1988.5,-56 1988.5,-56 1988.5,-12 1988.5,-12 1988.5,-6 1994.5,0 2000.5,0 2000.5,0 2075.5,0 2075.5,0 2081.5,0 2087.5,-6 2087.5,-12 2087.5,-12 2087.5,-56 2087.5,-56 2087.5,-62 2081.5,-68 2075.5,-68\"/>\n<text text-anchor=\"middle\" x=\"2038\" y=\"-52.8\" font-family=\"Helvetica,sans-Serif\" font-size=\"14.00\" fill=\"#000000\">gini = 0.278</text>\n<text text-anchor=\"middle\" x=\"2038\" y=\"-37.8\" font-family=\"Helvetica,sans-Serif\" font-size=\"14.00\" fill=\"#000000\">samples = 6</text>\n<text text-anchor=\"middle\" x=\"2038\" y=\"-22.8\" font-family=\"Helvetica,sans-Serif\" font-size=\"14.00\" fill=\"#000000\">value = [5, 1]</text>\n<text text-anchor=\"middle\" x=\"2038\" y=\"-7.8\" font-family=\"Helvetica,sans-Serif\" font-size=\"14.00\" fill=\"#000000\">class = 0</text>\n</g>\n<!-- 39&#45;&gt;40 -->\n<g id=\"edge40\" class=\"edge\">\n<title>39&#45;&gt;40</title>\n<path fill=\"none\" stroke=\"#000000\" d=\"M2111.4335,-103.9815C2101.5966,-94.607 2091.156,-84.6572 2081.3289,-75.2921\"/>\n<polygon fill=\"#000000\" stroke=\"#000000\" points=\"2083.6076,-72.6289 2073.9538,-68.2637 2078.7784,-77.6963 2083.6076,-72.6289\"/>\n</g>\n<!-- 41 -->\n<g id=\"node42\" class=\"node\">\n<title>41</title>\n<path fill=\"#399de5\" stroke=\"#000000\" d=\"M2192.5,-68C2192.5,-68 2117.5,-68 2117.5,-68 2111.5,-68 2105.5,-62 2105.5,-56 2105.5,-56 2105.5,-12 2105.5,-12 2105.5,-6 2111.5,0 2117.5,0 2117.5,0 2192.5,0 2192.5,0 2198.5,0 2204.5,-6 2204.5,-12 2204.5,-12 2204.5,-56 2204.5,-56 2204.5,-62 2198.5,-68 2192.5,-68\"/>\n<text text-anchor=\"middle\" x=\"2155\" y=\"-52.8\" font-family=\"Helvetica,sans-Serif\" font-size=\"14.00\" fill=\"#000000\">gini = 0.0</text>\n<text text-anchor=\"middle\" x=\"2155\" y=\"-37.8\" font-family=\"Helvetica,sans-Serif\" font-size=\"14.00\" fill=\"#000000\">samples = 2</text>\n<text text-anchor=\"middle\" x=\"2155\" y=\"-22.8\" font-family=\"Helvetica,sans-Serif\" font-size=\"14.00\" fill=\"#000000\">value = [0, 2]</text>\n<text text-anchor=\"middle\" x=\"2155\" y=\"-7.8\" font-family=\"Helvetica,sans-Serif\" font-size=\"14.00\" fill=\"#000000\">class = 1</text>\n</g>\n<!-- 39&#45;&gt;41 -->\n<g id=\"edge41\" class=\"edge\">\n<title>39&#45;&gt;41</title>\n<path fill=\"none\" stroke=\"#000000\" d=\"M2155,-103.9815C2155,-95.618 2155,-86.7965 2155,-78.3409\"/>\n<polygon fill=\"#000000\" stroke=\"#000000\" points=\"2158.5001,-78.2636 2155,-68.2637 2151.5001,-78.2637 2158.5001,-78.2636\"/>\n</g>\n<!-- 43 -->\n<g id=\"node44\" class=\"node\">\n<title>43</title>\n<path fill=\"#eeaa7a\" stroke=\"#000000\" d=\"M2518,-306C2518,-306 2418,-306 2418,-306 2412,-306 2406,-300 2406,-294 2406,-294 2406,-235 2406,-235 2406,-229 2412,-223 2418,-223 2418,-223 2518,-223 2518,-223 2524,-223 2530,-229 2530,-235 2530,-235 2530,-294 2530,-294 2530,-300 2524,-306 2518,-306\"/>\n<text text-anchor=\"middle\" x=\"2468\" y=\"-290.8\" font-family=\"Helvetica,sans-Serif\" font-size=\"14.00\" fill=\"#000000\">Fare &lt;= 51.698</text>\n<text text-anchor=\"middle\" x=\"2468\" y=\"-275.8\" font-family=\"Helvetica,sans-Serif\" font-size=\"14.00\" fill=\"#000000\">gini = 0.372</text>\n<text text-anchor=\"middle\" x=\"2468\" y=\"-260.8\" font-family=\"Helvetica,sans-Serif\" font-size=\"14.00\" fill=\"#000000\">samples = 243</text>\n<text text-anchor=\"middle\" x=\"2468\" y=\"-245.8\" font-family=\"Helvetica,sans-Serif\" font-size=\"14.00\" fill=\"#000000\">value = [183, 60]</text>\n<text text-anchor=\"middle\" x=\"2468\" y=\"-230.8\" font-family=\"Helvetica,sans-Serif\" font-size=\"14.00\" fill=\"#000000\">class = 0</text>\n</g>\n<!-- 42&#45;&gt;43 -->\n<g id=\"edge43\" class=\"edge\">\n<title>42&#45;&gt;43</title>\n<path fill=\"none\" stroke=\"#000000\" d=\"M2468,-341.8796C2468,-333.6838 2468,-324.9891 2468,-316.5013\"/>\n<polygon fill=\"#000000\" stroke=\"#000000\" points=\"2471.5001,-316.298 2468,-306.2981 2464.5001,-316.2981 2471.5001,-316.298\"/>\n</g>\n<!-- 50 -->\n<g id=\"node51\" class=\"node\">\n<title>50</title>\n<path fill=\"#e88f4e\" stroke=\"#000000\" d=\"M2702.5,-306C2702.5,-306 2619.5,-306 2619.5,-306 2613.5,-306 2607.5,-300 2607.5,-294 2607.5,-294 2607.5,-235 2607.5,-235 2607.5,-229 2613.5,-223 2619.5,-223 2619.5,-223 2702.5,-223 2702.5,-223 2708.5,-223 2714.5,-229 2714.5,-235 2714.5,-235 2714.5,-294 2714.5,-294 2714.5,-300 2708.5,-306 2702.5,-306\"/>\n<text text-anchor=\"middle\" x=\"2661\" y=\"-290.8\" font-family=\"Helvetica,sans-Serif\" font-size=\"14.00\" fill=\"#000000\">Fare &lt;= 7.91</text>\n<text text-anchor=\"middle\" x=\"2661\" y=\"-275.8\" font-family=\"Helvetica,sans-Serif\" font-size=\"14.00\" fill=\"#000000\">gini = 0.176</text>\n<text text-anchor=\"middle\" x=\"2661\" y=\"-260.8\" font-family=\"Helvetica,sans-Serif\" font-size=\"14.00\" fill=\"#000000\">samples = 82</text>\n<text text-anchor=\"middle\" x=\"2661\" y=\"-245.8\" font-family=\"Helvetica,sans-Serif\" font-size=\"14.00\" fill=\"#000000\">value = [74, 8]</text>\n<text text-anchor=\"middle\" x=\"2661\" y=\"-230.8\" font-family=\"Helvetica,sans-Serif\" font-size=\"14.00\" fill=\"#000000\">class = 0</text>\n</g>\n<!-- 42&#45;&gt;50 -->\n<g id=\"edge50\" class=\"edge\">\n<title>42&#45;&gt;50</title>\n<path fill=\"none\" stroke=\"#000000\" d=\"M2530.1288,-345.1926C2552.1145,-331.6367 2576.8382,-316.3925 2598.8275,-302.8343\"/>\n<polygon fill=\"#000000\" stroke=\"#000000\" points=\"2600.7519,-305.7597 2607.427,-297.5321 2597.078,-299.8012 2600.7519,-305.7597\"/>\n</g>\n<!-- 44 -->\n<g id=\"node45\" class=\"node\">\n<title>44</title>\n<path fill=\"#eda877\" stroke=\"#000000\" d=\"M2460,-187C2460,-187 2360,-187 2360,-187 2354,-187 2348,-181 2348,-175 2348,-175 2348,-116 2348,-116 2348,-110 2354,-104 2360,-104 2360,-104 2460,-104 2460,-104 2466,-104 2472,-110 2472,-116 2472,-116 2472,-175 2472,-175 2472,-181 2466,-187 2460,-187\"/>\n<text text-anchor=\"middle\" x=\"2410\" y=\"-171.8\" font-family=\"Helvetica,sans-Serif\" font-size=\"14.00\" fill=\"#000000\">Fare &lt;= 20.55</text>\n<text text-anchor=\"middle\" x=\"2410\" y=\"-156.8\" font-family=\"Helvetica,sans-Serif\" font-size=\"14.00\" fill=\"#000000\">gini = 0.363</text>\n<text text-anchor=\"middle\" x=\"2410\" y=\"-141.8\" font-family=\"Helvetica,sans-Serif\" font-size=\"14.00\" fill=\"#000000\">samples = 239</text>\n<text text-anchor=\"middle\" x=\"2410\" y=\"-126.8\" font-family=\"Helvetica,sans-Serif\" font-size=\"14.00\" fill=\"#000000\">value = [182, 57]</text>\n<text text-anchor=\"middle\" x=\"2410\" y=\"-111.8\" font-family=\"Helvetica,sans-Serif\" font-size=\"14.00\" fill=\"#000000\">class = 0</text>\n</g>\n<!-- 43&#45;&gt;44 -->\n<g id=\"edge44\" class=\"edge\">\n<title>43&#45;&gt;44</title>\n<path fill=\"none\" stroke=\"#000000\" d=\"M2447.7144,-222.8796C2443.5443,-214.3236 2439.1091,-205.2238 2434.8003,-196.3833\"/>\n<polygon fill=\"#000000\" stroke=\"#000000\" points=\"2437.8997,-194.7538 2430.3722,-187.2981 2431.6073,-197.8207 2437.8997,-194.7538\"/>\n</g>\n<!-- 47 -->\n<g id=\"node48\" class=\"node\">\n<title>47</title>\n<path fill=\"#7bbeee\" stroke=\"#000000\" d=\"M2577.5,-187C2577.5,-187 2502.5,-187 2502.5,-187 2496.5,-187 2490.5,-181 2490.5,-175 2490.5,-175 2490.5,-116 2490.5,-116 2490.5,-110 2496.5,-104 2502.5,-104 2502.5,-104 2577.5,-104 2577.5,-104 2583.5,-104 2589.5,-110 2589.5,-116 2589.5,-116 2589.5,-175 2589.5,-175 2589.5,-181 2583.5,-187 2577.5,-187\"/>\n<text text-anchor=\"middle\" x=\"2540\" y=\"-171.8\" font-family=\"Helvetica,sans-Serif\" font-size=\"14.00\" fill=\"#000000\">Age &lt;= 30.0</text>\n<text text-anchor=\"middle\" x=\"2540\" y=\"-156.8\" font-family=\"Helvetica,sans-Serif\" font-size=\"14.00\" fill=\"#000000\">gini = 0.375</text>\n<text text-anchor=\"middle\" x=\"2540\" y=\"-141.8\" font-family=\"Helvetica,sans-Serif\" font-size=\"14.00\" fill=\"#000000\">samples = 4</text>\n<text text-anchor=\"middle\" x=\"2540\" y=\"-126.8\" font-family=\"Helvetica,sans-Serif\" font-size=\"14.00\" fill=\"#000000\">value = [1, 3]</text>\n<text text-anchor=\"middle\" x=\"2540\" y=\"-111.8\" font-family=\"Helvetica,sans-Serif\" font-size=\"14.00\" fill=\"#000000\">class = 1</text>\n</g>\n<!-- 43&#45;&gt;47 -->\n<g id=\"edge47\" class=\"edge\">\n<title>43&#45;&gt;47</title>\n<path fill=\"none\" stroke=\"#000000\" d=\"M2493.1821,-222.8796C2498.4133,-214.2335 2503.9805,-205.0322 2509.3823,-196.1042\"/>\n<polygon fill=\"#000000\" stroke=\"#000000\" points=\"2512.5283,-197.6658 2514.7104,-187.2981 2506.5392,-194.0421 2512.5283,-197.6658\"/>\n</g>\n<!-- 45 -->\n<g id=\"node46\" class=\"node\">\n<title>45</title>\n<path fill=\"#eeae80\" stroke=\"#000000\" d=\"M2335,-68C2335,-68 2235,-68 2235,-68 2229,-68 2223,-62 2223,-56 2223,-56 2223,-12 2223,-12 2223,-6 2229,0 2235,0 2235,0 2335,0 2335,0 2341,0 2347,-6 2347,-12 2347,-12 2347,-56 2347,-56 2347,-62 2341,-68 2335,-68\"/>\n<text text-anchor=\"middle\" x=\"2285\" y=\"-52.8\" font-family=\"Helvetica,sans-Serif\" font-size=\"14.00\" fill=\"#000000\">gini = 0.39</text>\n<text text-anchor=\"middle\" x=\"2285\" y=\"-37.8\" font-family=\"Helvetica,sans-Serif\" font-size=\"14.00\" fill=\"#000000\">samples = 215</text>\n<text text-anchor=\"middle\" x=\"2285\" y=\"-22.8\" font-family=\"Helvetica,sans-Serif\" font-size=\"14.00\" fill=\"#000000\">value = [158, 57]</text>\n<text text-anchor=\"middle\" x=\"2285\" y=\"-7.8\" font-family=\"Helvetica,sans-Serif\" font-size=\"14.00\" fill=\"#000000\">class = 0</text>\n</g>\n<!-- 44&#45;&gt;45 -->\n<g id=\"edge45\" class=\"edge\">\n<title>44&#45;&gt;45</title>\n<path fill=\"none\" stroke=\"#000000\" d=\"M2363.4546,-103.9815C2352.8421,-94.5151 2341.5718,-84.462 2330.9829,-75.0168\"/>\n<polygon fill=\"#000000\" stroke=\"#000000\" points=\"2333.2046,-72.3084 2323.4122,-68.2637 2328.5449,-77.5322 2333.2046,-72.3084\"/>\n</g>\n<!-- 46 -->\n<g id=\"node47\" class=\"node\">\n<title>46</title>\n<path fill=\"#e58139\" stroke=\"#000000\" d=\"M2460.5,-68C2460.5,-68 2377.5,-68 2377.5,-68 2371.5,-68 2365.5,-62 2365.5,-56 2365.5,-56 2365.5,-12 2365.5,-12 2365.5,-6 2371.5,0 2377.5,0 2377.5,0 2460.5,0 2460.5,0 2466.5,0 2472.5,-6 2472.5,-12 2472.5,-12 2472.5,-56 2472.5,-56 2472.5,-62 2466.5,-68 2460.5,-68\"/>\n<text text-anchor=\"middle\" x=\"2419\" y=\"-52.8\" font-family=\"Helvetica,sans-Serif\" font-size=\"14.00\" fill=\"#000000\">gini = 0.0</text>\n<text text-anchor=\"middle\" x=\"2419\" y=\"-37.8\" font-family=\"Helvetica,sans-Serif\" font-size=\"14.00\" fill=\"#000000\">samples = 24</text>\n<text text-anchor=\"middle\" x=\"2419\" y=\"-22.8\" font-family=\"Helvetica,sans-Serif\" font-size=\"14.00\" fill=\"#000000\">value = [24, 0]</text>\n<text text-anchor=\"middle\" x=\"2419\" y=\"-7.8\" font-family=\"Helvetica,sans-Serif\" font-size=\"14.00\" fill=\"#000000\">class = 0</text>\n</g>\n<!-- 44&#45;&gt;46 -->\n<g id=\"edge46\" class=\"edge\">\n<title>44&#45;&gt;46</title>\n<path fill=\"none\" stroke=\"#000000\" d=\"M2413.3513,-103.9815C2414.0263,-95.618 2414.7384,-86.7965 2415.4209,-78.3409\"/>\n<polygon fill=\"#000000\" stroke=\"#000000\" points=\"2418.9183,-78.5129 2416.2343,-68.2637 2411.941,-77.9496 2418.9183,-78.5129\"/>\n</g>\n<!-- 48 -->\n<g id=\"node49\" class=\"node\">\n<title>48</title>\n<path fill=\"#ffffff\" stroke=\"#000000\" d=\"M2577.5,-68C2577.5,-68 2502.5,-68 2502.5,-68 2496.5,-68 2490.5,-62 2490.5,-56 2490.5,-56 2490.5,-12 2490.5,-12 2490.5,-6 2496.5,0 2502.5,0 2502.5,0 2577.5,0 2577.5,0 2583.5,0 2589.5,-6 2589.5,-12 2589.5,-12 2589.5,-56 2589.5,-56 2589.5,-62 2583.5,-68 2577.5,-68\"/>\n<text text-anchor=\"middle\" x=\"2540\" y=\"-52.8\" font-family=\"Helvetica,sans-Serif\" font-size=\"14.00\" fill=\"#000000\">gini = 0.5</text>\n<text text-anchor=\"middle\" x=\"2540\" y=\"-37.8\" font-family=\"Helvetica,sans-Serif\" font-size=\"14.00\" fill=\"#000000\">samples = 2</text>\n<text text-anchor=\"middle\" x=\"2540\" y=\"-22.8\" font-family=\"Helvetica,sans-Serif\" font-size=\"14.00\" fill=\"#000000\">value = [1, 1]</text>\n<text text-anchor=\"middle\" x=\"2540\" y=\"-7.8\" font-family=\"Helvetica,sans-Serif\" font-size=\"14.00\" fill=\"#000000\">class = 0</text>\n</g>\n<!-- 47&#45;&gt;48 -->\n<g id=\"edge48\" class=\"edge\">\n<title>47&#45;&gt;48</title>\n<path fill=\"none\" stroke=\"#000000\" d=\"M2540,-103.9815C2540,-95.618 2540,-86.7965 2540,-78.3409\"/>\n<polygon fill=\"#000000\" stroke=\"#000000\" points=\"2543.5001,-78.2636 2540,-68.2637 2536.5001,-78.2637 2543.5001,-78.2636\"/>\n</g>\n<!-- 49 -->\n<g id=\"node50\" class=\"node\">\n<title>49</title>\n<path fill=\"#399de5\" stroke=\"#000000\" d=\"M2694.5,-68C2694.5,-68 2619.5,-68 2619.5,-68 2613.5,-68 2607.5,-62 2607.5,-56 2607.5,-56 2607.5,-12 2607.5,-12 2607.5,-6 2613.5,0 2619.5,0 2619.5,0 2694.5,0 2694.5,0 2700.5,0 2706.5,-6 2706.5,-12 2706.5,-12 2706.5,-56 2706.5,-56 2706.5,-62 2700.5,-68 2694.5,-68\"/>\n<text text-anchor=\"middle\" x=\"2657\" y=\"-52.8\" font-family=\"Helvetica,sans-Serif\" font-size=\"14.00\" fill=\"#000000\">gini = 0.0</text>\n<text text-anchor=\"middle\" x=\"2657\" y=\"-37.8\" font-family=\"Helvetica,sans-Serif\" font-size=\"14.00\" fill=\"#000000\">samples = 2</text>\n<text text-anchor=\"middle\" x=\"2657\" y=\"-22.8\" font-family=\"Helvetica,sans-Serif\" font-size=\"14.00\" fill=\"#000000\">value = [0, 2]</text>\n<text text-anchor=\"middle\" x=\"2657\" y=\"-7.8\" font-family=\"Helvetica,sans-Serif\" font-size=\"14.00\" fill=\"#000000\">class = 1</text>\n</g>\n<!-- 47&#45;&gt;49 -->\n<g id=\"edge49\" class=\"edge\">\n<title>47&#45;&gt;49</title>\n<path fill=\"none\" stroke=\"#000000\" d=\"M2583.5665,-103.9815C2593.4034,-94.607 2603.844,-84.6572 2613.6711,-75.2921\"/>\n<polygon fill=\"#000000\" stroke=\"#000000\" points=\"2616.2216,-77.6963 2621.0462,-68.2637 2611.3924,-72.6289 2616.2216,-77.6963\"/>\n</g>\n<!-- 51 -->\n<g id=\"node52\" class=\"node\">\n<title>51</title>\n<path fill=\"#e58139\" stroke=\"#000000\" d=\"M2702.5,-179.5C2702.5,-179.5 2619.5,-179.5 2619.5,-179.5 2613.5,-179.5 2607.5,-173.5 2607.5,-167.5 2607.5,-167.5 2607.5,-123.5 2607.5,-123.5 2607.5,-117.5 2613.5,-111.5 2619.5,-111.5 2619.5,-111.5 2702.5,-111.5 2702.5,-111.5 2708.5,-111.5 2714.5,-117.5 2714.5,-123.5 2714.5,-123.5 2714.5,-167.5 2714.5,-167.5 2714.5,-173.5 2708.5,-179.5 2702.5,-179.5\"/>\n<text text-anchor=\"middle\" x=\"2661\" y=\"-164.3\" font-family=\"Helvetica,sans-Serif\" font-size=\"14.00\" fill=\"#000000\">gini = 0.0</text>\n<text text-anchor=\"middle\" x=\"2661\" y=\"-149.3\" font-family=\"Helvetica,sans-Serif\" font-size=\"14.00\" fill=\"#000000\">samples = 33</text>\n<text text-anchor=\"middle\" x=\"2661\" y=\"-134.3\" font-family=\"Helvetica,sans-Serif\" font-size=\"14.00\" fill=\"#000000\">value = [33, 0]</text>\n<text text-anchor=\"middle\" x=\"2661\" y=\"-119.3\" font-family=\"Helvetica,sans-Serif\" font-size=\"14.00\" fill=\"#000000\">class = 0</text>\n</g>\n<!-- 50&#45;&gt;51 -->\n<g id=\"edge51\" class=\"edge\">\n<title>50&#45;&gt;51</title>\n<path fill=\"none\" stroke=\"#000000\" d=\"M2661,-222.8796C2661,-212.2134 2661,-200.7021 2661,-189.9015\"/>\n<polygon fill=\"#000000\" stroke=\"#000000\" points=\"2664.5001,-189.8149 2661,-179.8149 2657.5001,-189.815 2664.5001,-189.8149\"/>\n</g>\n<!-- 52 -->\n<g id=\"node53\" class=\"node\">\n<title>52</title>\n<path fill=\"#ea9a60\" stroke=\"#000000\" d=\"M2827.5,-187C2827.5,-187 2744.5,-187 2744.5,-187 2738.5,-187 2732.5,-181 2732.5,-175 2732.5,-175 2732.5,-116 2732.5,-116 2732.5,-110 2738.5,-104 2744.5,-104 2744.5,-104 2827.5,-104 2827.5,-104 2833.5,-104 2839.5,-110 2839.5,-116 2839.5,-116 2839.5,-175 2839.5,-175 2839.5,-181 2833.5,-187 2827.5,-187\"/>\n<text text-anchor=\"middle\" x=\"2786\" y=\"-171.8\" font-family=\"Helvetica,sans-Serif\" font-size=\"14.00\" fill=\"#000000\">Age &lt;= 59.25</text>\n<text text-anchor=\"middle\" x=\"2786\" y=\"-156.8\" font-family=\"Helvetica,sans-Serif\" font-size=\"14.00\" fill=\"#000000\">gini = 0.273</text>\n<text text-anchor=\"middle\" x=\"2786\" y=\"-141.8\" font-family=\"Helvetica,sans-Serif\" font-size=\"14.00\" fill=\"#000000\">samples = 49</text>\n<text text-anchor=\"middle\" x=\"2786\" y=\"-126.8\" font-family=\"Helvetica,sans-Serif\" font-size=\"14.00\" fill=\"#000000\">value = [41, 8]</text>\n<text text-anchor=\"middle\" x=\"2786\" y=\"-111.8\" font-family=\"Helvetica,sans-Serif\" font-size=\"14.00\" fill=\"#000000\">class = 0</text>\n</g>\n<!-- 50&#45;&gt;52 -->\n<g id=\"edge52\" class=\"edge\">\n<title>50&#45;&gt;52</title>\n<path fill=\"none\" stroke=\"#000000\" d=\"M2704.7189,-222.8796C2714.3686,-213.6931 2724.6766,-203.8798 2734.5991,-194.4336\"/>\n<polygon fill=\"#000000\" stroke=\"#000000\" points=\"2737.265,-196.7282 2742.0945,-187.2981 2732.4384,-191.6582 2737.265,-196.7282\"/>\n</g>\n<!-- 53 -->\n<g id=\"node54\" class=\"node\">\n<title>53</title>\n<path fill=\"#e9975b\" stroke=\"#000000\" d=\"M2823.5,-68C2823.5,-68 2740.5,-68 2740.5,-68 2734.5,-68 2728.5,-62 2728.5,-56 2728.5,-56 2728.5,-12 2728.5,-12 2728.5,-6 2734.5,0 2740.5,0 2740.5,0 2823.5,0 2823.5,0 2829.5,0 2835.5,-6 2835.5,-12 2835.5,-12 2835.5,-56 2835.5,-56 2835.5,-62 2829.5,-68 2823.5,-68\"/>\n<text text-anchor=\"middle\" x=\"2782\" y=\"-52.8\" font-family=\"Helvetica,sans-Serif\" font-size=\"14.00\" fill=\"#000000\">gini = 0.249</text>\n<text text-anchor=\"middle\" x=\"2782\" y=\"-37.8\" font-family=\"Helvetica,sans-Serif\" font-size=\"14.00\" fill=\"#000000\">samples = 48</text>\n<text text-anchor=\"middle\" x=\"2782\" y=\"-22.8\" font-family=\"Helvetica,sans-Serif\" font-size=\"14.00\" fill=\"#000000\">value = [41, 7]</text>\n<text text-anchor=\"middle\" x=\"2782\" y=\"-7.8\" font-family=\"Helvetica,sans-Serif\" font-size=\"14.00\" fill=\"#000000\">class = 0</text>\n</g>\n<!-- 52&#45;&gt;53 -->\n<g id=\"edge53\" class=\"edge\">\n<title>52&#45;&gt;53</title>\n<path fill=\"none\" stroke=\"#000000\" d=\"M2784.5105,-103.9815C2784.2105,-95.618 2783.894,-86.7965 2783.5907,-78.3409\"/>\n<polygon fill=\"#000000\" stroke=\"#000000\" points=\"2787.0855,-78.1317 2783.2292,-68.2637 2780.09,-78.3828 2787.0855,-78.1317\"/>\n</g>\n<!-- 54 -->\n<g id=\"node55\" class=\"node\">\n<title>54</title>\n<path fill=\"#399de5\" stroke=\"#000000\" d=\"M2940.5,-68C2940.5,-68 2865.5,-68 2865.5,-68 2859.5,-68 2853.5,-62 2853.5,-56 2853.5,-56 2853.5,-12 2853.5,-12 2853.5,-6 2859.5,0 2865.5,0 2865.5,0 2940.5,0 2940.5,0 2946.5,0 2952.5,-6 2952.5,-12 2952.5,-12 2952.5,-56 2952.5,-56 2952.5,-62 2946.5,-68 2940.5,-68\"/>\n<text text-anchor=\"middle\" x=\"2903\" y=\"-52.8\" font-family=\"Helvetica,sans-Serif\" font-size=\"14.00\" fill=\"#000000\">gini = 0.0</text>\n<text text-anchor=\"middle\" x=\"2903\" y=\"-37.8\" font-family=\"Helvetica,sans-Serif\" font-size=\"14.00\" fill=\"#000000\">samples = 1</text>\n<text text-anchor=\"middle\" x=\"2903\" y=\"-22.8\" font-family=\"Helvetica,sans-Serif\" font-size=\"14.00\" fill=\"#000000\">value = [0, 1]</text>\n<text text-anchor=\"middle\" x=\"2903\" y=\"-7.8\" font-family=\"Helvetica,sans-Serif\" font-size=\"14.00\" fill=\"#000000\">class = 1</text>\n</g>\n<!-- 52&#45;&gt;54 -->\n<g id=\"edge54\" class=\"edge\">\n<title>52&#45;&gt;54</title>\n<path fill=\"none\" stroke=\"#000000\" d=\"M2829.5665,-103.9815C2839.4034,-94.607 2849.844,-84.6572 2859.6711,-75.2921\"/>\n<polygon fill=\"#000000\" stroke=\"#000000\" points=\"2862.2216,-77.6963 2867.0462,-68.2637 2857.3924,-72.6289 2862.2216,-77.6963\"/>\n</g>\n</g>\n</svg>\n"
          },
          "metadata": {},
          "execution_count": 10
        }
      ]
    },
    {
      "cell_type": "markdown",
      "source": [
        "si se salva azul completo, sino marrón y si un nodo representa elementos que se salvan y no se salvan -> mas azul si más se han salvado; más marrón si menos se han salvado"
      ],
      "metadata": {
        "id": "wWNHFnv1Mmvp"
      }
    },
    {
      "cell_type": "markdown",
      "metadata": {
        "id": "YNShCpe2xv3Y"
      },
      "source": [
        "## ¿Que característas son las más influyentes o decisivas?"
      ]
    },
    {
      "cell_type": "markdown",
      "source": [
        "lista con caracteristicas mas relevantes"
      ],
      "metadata": {
        "id": "sRLkUPfENFKU"
      }
    },
    {
      "cell_type": "code",
      "metadata": {
        "id": "uVh7iayPx78J",
        "colab": {
          "base_uri": "https://localhost:8080/"
        },
        "outputId": "d172e2db-e2aa-48e0-9991-233df6f65327"
      },
      "source": [
        "l=list(zip(list(X.columns), Ad.feature_importances_))\n",
        "print(l)"
      ],
      "execution_count": null,
      "outputs": [
        {
          "output_type": "stream",
          "name": "stdout",
          "text": [
            "[('Pclass', 0.3886837616674941), ('Age', 0.30845301106297596), ('Fare', 0.30286322726953)]\n"
          ]
        }
      ]
    },
    {
      "cell_type": "markdown",
      "metadata": {
        "id": "CgfWp0MWz1og"
      },
      "source": [
        "## Realiza alguna inferencia.\n",
        "Que propone para las filas 5 y 80 del Titanic.csv"
      ]
    },
    {
      "cell_type": "markdown",
      "source": [
        "saber que pasa para los individuos de la fila 5 a 80"
      ],
      "metadata": {
        "id": "YVNtH-UFNj43"
      }
    },
    {
      "cell_type": "code",
      "metadata": {
        "id": "KtkKlHRM1fzI",
        "colab": {
          "base_uri": "https://localhost:8080/",
          "height": 112
        },
        "outputId": "ad6a1acd-8689-4cb7-9f99-b4b5941a0a2e"
      },
      "source": [
        "X.iloc[[5,80]]"
      ],
      "execution_count": null,
      "outputs": [
        {
          "output_type": "execute_result",
          "data": {
            "text/plain": [
              "     Pclass   Age     Fare\n",
              "6         1  54.0  51.8625\n",
              "103       3  33.0   8.6542"
            ],
            "text/html": [
              "\n",
              "  <div id=\"df-2a2f2677-f2a1-419f-b129-b8f2e1f14a9a\">\n",
              "    <div class=\"colab-df-container\">\n",
              "      <div>\n",
              "<style scoped>\n",
              "    .dataframe tbody tr th:only-of-type {\n",
              "        vertical-align: middle;\n",
              "    }\n",
              "\n",
              "    .dataframe tbody tr th {\n",
              "        vertical-align: top;\n",
              "    }\n",
              "\n",
              "    .dataframe thead th {\n",
              "        text-align: right;\n",
              "    }\n",
              "</style>\n",
              "<table border=\"1\" class=\"dataframe\">\n",
              "  <thead>\n",
              "    <tr style=\"text-align: right;\">\n",
              "      <th></th>\n",
              "      <th>Pclass</th>\n",
              "      <th>Age</th>\n",
              "      <th>Fare</th>\n",
              "    </tr>\n",
              "  </thead>\n",
              "  <tbody>\n",
              "    <tr>\n",
              "      <th>6</th>\n",
              "      <td>1</td>\n",
              "      <td>54.0</td>\n",
              "      <td>51.8625</td>\n",
              "    </tr>\n",
              "    <tr>\n",
              "      <th>103</th>\n",
              "      <td>3</td>\n",
              "      <td>33.0</td>\n",
              "      <td>8.6542</td>\n",
              "    </tr>\n",
              "  </tbody>\n",
              "</table>\n",
              "</div>\n",
              "      <button class=\"colab-df-convert\" onclick=\"convertToInteractive('df-2a2f2677-f2a1-419f-b129-b8f2e1f14a9a')\"\n",
              "              title=\"Convert this dataframe to an interactive table.\"\n",
              "              style=\"display:none;\">\n",
              "        \n",
              "  <svg xmlns=\"http://www.w3.org/2000/svg\" height=\"24px\"viewBox=\"0 0 24 24\"\n",
              "       width=\"24px\">\n",
              "    <path d=\"M0 0h24v24H0V0z\" fill=\"none\"/>\n",
              "    <path d=\"M18.56 5.44l.94 2.06.94-2.06 2.06-.94-2.06-.94-.94-2.06-.94 2.06-2.06.94zm-11 1L8.5 8.5l.94-2.06 2.06-.94-2.06-.94L8.5 2.5l-.94 2.06-2.06.94zm10 10l.94 2.06.94-2.06 2.06-.94-2.06-.94-.94-2.06-.94 2.06-2.06.94z\"/><path d=\"M17.41 7.96l-1.37-1.37c-.4-.4-.92-.59-1.43-.59-.52 0-1.04.2-1.43.59L10.3 9.45l-7.72 7.72c-.78.78-.78 2.05 0 2.83L4 21.41c.39.39.9.59 1.41.59.51 0 1.02-.2 1.41-.59l7.78-7.78 2.81-2.81c.8-.78.8-2.07 0-2.86zM5.41 20L4 18.59l7.72-7.72 1.47 1.35L5.41 20z\"/>\n",
              "  </svg>\n",
              "      </button>\n",
              "      \n",
              "  <style>\n",
              "    .colab-df-container {\n",
              "      display:flex;\n",
              "      flex-wrap:wrap;\n",
              "      gap: 12px;\n",
              "    }\n",
              "\n",
              "    .colab-df-convert {\n",
              "      background-color: #E8F0FE;\n",
              "      border: none;\n",
              "      border-radius: 50%;\n",
              "      cursor: pointer;\n",
              "      display: none;\n",
              "      fill: #1967D2;\n",
              "      height: 32px;\n",
              "      padding: 0 0 0 0;\n",
              "      width: 32px;\n",
              "    }\n",
              "\n",
              "    .colab-df-convert:hover {\n",
              "      background-color: #E2EBFA;\n",
              "      box-shadow: 0px 1px 2px rgba(60, 64, 67, 0.3), 0px 1px 3px 1px rgba(60, 64, 67, 0.15);\n",
              "      fill: #174EA6;\n",
              "    }\n",
              "\n",
              "    [theme=dark] .colab-df-convert {\n",
              "      background-color: #3B4455;\n",
              "      fill: #D2E3FC;\n",
              "    }\n",
              "\n",
              "    [theme=dark] .colab-df-convert:hover {\n",
              "      background-color: #434B5C;\n",
              "      box-shadow: 0px 1px 3px 1px rgba(0, 0, 0, 0.15);\n",
              "      filter: drop-shadow(0px 1px 2px rgba(0, 0, 0, 0.3));\n",
              "      fill: #FFFFFF;\n",
              "    }\n",
              "  </style>\n",
              "\n",
              "      <script>\n",
              "        const buttonEl =\n",
              "          document.querySelector('#df-2a2f2677-f2a1-419f-b129-b8f2e1f14a9a button.colab-df-convert');\n",
              "        buttonEl.style.display =\n",
              "          google.colab.kernel.accessAllowed ? 'block' : 'none';\n",
              "\n",
              "        async function convertToInteractive(key) {\n",
              "          const element = document.querySelector('#df-2a2f2677-f2a1-419f-b129-b8f2e1f14a9a');\n",
              "          const dataTable =\n",
              "            await google.colab.kernel.invokeFunction('convertToInteractive',\n",
              "                                                     [key], {});\n",
              "          if (!dataTable) return;\n",
              "\n",
              "          const docLinkHtml = 'Like what you see? Visit the ' +\n",
              "            '<a target=\"_blank\" href=https://colab.research.google.com/notebooks/data_table.ipynb>data table notebook</a>'\n",
              "            + ' to learn more about interactive tables.';\n",
              "          element.innerHTML = '';\n",
              "          dataTable['output_type'] = 'display_data';\n",
              "          await google.colab.output.renderOutput(dataTable, element);\n",
              "          const docLink = document.createElement('div');\n",
              "          docLink.innerHTML = docLinkHtml;\n",
              "          element.appendChild(docLink);\n",
              "        }\n",
              "      </script>\n",
              "    </div>\n",
              "  </div>\n",
              "  "
            ]
          },
          "metadata": {},
          "execution_count": 12
        }
      ]
    },
    {
      "cell_type": "code",
      "source": [
        "Ad.predict(X.iloc[[5,80]].values)"
      ],
      "metadata": {
        "id": "UXAqtO7aNoHJ",
        "colab": {
          "base_uri": "https://localhost:8080/"
        },
        "outputId": "557b5c58-789f-466c-9fee-7d71a283b635"
      },
      "execution_count": null,
      "outputs": [
        {
          "output_type": "stream",
          "name": "stderr",
          "text": [
            "/usr/local/lib/python3.8/dist-packages/sklearn/base.py:450: UserWarning: X does not have valid feature names, but DecisionTreeClassifier was fitted with feature names\n",
            "  warnings.warn(\n"
          ]
        },
        {
          "output_type": "execute_result",
          "data": {
            "text/plain": [
              "array([1, 0])"
            ]
          },
          "metadata": {},
          "execution_count": 13
        }
      ]
    },
    {
      "cell_type": "markdown",
      "source": [
        "predict tiene que ser como vector, por eso .value para transformar el df a vector\n",
        "\n",
        "array(1,0) dice que sobrevive 1"
      ],
      "metadata": {
        "id": "6LO-4CH7Nw2v"
      }
    }
  ]
}