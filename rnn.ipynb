{
  "cells": [
    {
      "cell_type": "markdown",
      "metadata": {
        "id": "view-in-github",
        "colab_type": "text"
      },
      "source": [
        "<a href=\"https://colab.research.google.com/github/MUMADE-TADM/s1_python-rdvicen1/blob/main/rnn.ipynb\" target=\"_parent\"><img src=\"https://colab.research.google.com/assets/colab-badge.svg\" alt=\"Open In Colab\"/></a>"
      ]
    },
    {
      "cell_type": "markdown",
      "metadata": {
        "id": "m_kY8a5rr5qC"
      },
      "source": [
        "[Yahoo finance](https://finance.yahoo.com/)"
      ]
    },
    {
      "cell_type": "code",
      "execution_count": null,
      "metadata": {
        "id": "U3zKcC8XtEnq",
        "colab": {
          "base_uri": "https://localhost:8080/"
        },
        "outputId": "d7202df8-a667-4d6a-9c8c-f8d273f6af71"
      },
      "outputs": [
        {
          "output_type": "stream",
          "name": "stdout",
          "text": [
            "Looking in indexes: https://pypi.org/simple, https://us-python.pkg.dev/colab-wheels/public/simple/\n",
            "Collecting yfinance\n",
            "  Downloading yfinance-0.2.3-py2.py3-none-any.whl (50 kB)\n",
            "\u001b[K     |████████████████████████████████| 50 kB 2.2 MB/s \n",
            "\u001b[?25hRequirement already satisfied: pandas_datareader in /usr/local/lib/python3.8/dist-packages (0.9.0)\n",
            "Collecting pandas_datareader\n",
            "  Downloading pandas_datareader-0.10.0-py3-none-any.whl (109 kB)\n",
            "\u001b[K     |████████████████████████████████| 109 kB 9.2 MB/s \n",
            "\u001b[?25hCollecting cryptography>=3.3.2\n",
            "  Downloading cryptography-39.0.0-cp36-abi3-manylinux_2_24_x86_64.whl (4.1 MB)\n",
            "\u001b[K     |████████████████████████████████| 4.1 MB 56.1 MB/s \n",
            "\u001b[?25hRequirement already satisfied: lxml>=4.9.1 in /usr/local/lib/python3.8/dist-packages (from yfinance) (4.9.2)\n",
            "Collecting frozendict>=2.3.4\n",
            "  Downloading frozendict-2.3.4-cp38-cp38-manylinux_2_17_x86_64.manylinux2014_x86_64.whl (110 kB)\n",
            "\u001b[K     |████████████████████████████████| 110 kB 53.8 MB/s \n",
            "\u001b[?25hCollecting html5lib>=1.1\n",
            "  Downloading html5lib-1.1-py2.py3-none-any.whl (112 kB)\n",
            "\u001b[K     |████████████████████████████████| 112 kB 54.0 MB/s \n",
            "\u001b[?25hRequirement already satisfied: pytz>=2022.5 in /usr/local/lib/python3.8/dist-packages (from yfinance) (2022.6)\n",
            "Requirement already satisfied: numpy>=1.16.5 in /usr/local/lib/python3.8/dist-packages (from yfinance) (1.21.6)\n",
            "Collecting requests>=2.26\n",
            "  Downloading requests-2.28.1-py3-none-any.whl (62 kB)\n",
            "\u001b[K     |████████████████████████████████| 62 kB 1.0 MB/s \n",
            "\u001b[?25hRequirement already satisfied: pandas>=1.3.0 in /usr/local/lib/python3.8/dist-packages (from yfinance) (1.3.5)\n",
            "Requirement already satisfied: appdirs>=1.4.4 in /usr/local/lib/python3.8/dist-packages (from yfinance) (1.4.4)\n",
            "Requirement already satisfied: multitasking>=0.0.7 in /usr/local/lib/python3.8/dist-packages (from yfinance) (0.0.11)\n",
            "Collecting beautifulsoup4>=4.11.1\n",
            "  Downloading beautifulsoup4-4.11.1-py3-none-any.whl (128 kB)\n",
            "\u001b[K     |████████████████████████████████| 128 kB 21.3 MB/s \n",
            "\u001b[?25hCollecting soupsieve>1.2\n",
            "  Downloading soupsieve-2.3.2.post1-py3-none-any.whl (37 kB)\n",
            "Requirement already satisfied: cffi>=1.12 in /usr/local/lib/python3.8/dist-packages (from cryptography>=3.3.2->yfinance) (1.15.1)\n",
            "Requirement already satisfied: pycparser in /usr/local/lib/python3.8/dist-packages (from cffi>=1.12->cryptography>=3.3.2->yfinance) (2.21)\n",
            "Requirement already satisfied: webencodings in /usr/local/lib/python3.8/dist-packages (from html5lib>=1.1->yfinance) (0.5.1)\n",
            "Requirement already satisfied: six>=1.9 in /usr/local/lib/python3.8/dist-packages (from html5lib>=1.1->yfinance) (1.15.0)\n",
            "Requirement already satisfied: python-dateutil>=2.7.3 in /usr/local/lib/python3.8/dist-packages (from pandas>=1.3.0->yfinance) (2.8.2)\n",
            "Requirement already satisfied: charset-normalizer<3,>=2 in /usr/local/lib/python3.8/dist-packages (from requests>=2.26->yfinance) (2.1.1)\n",
            "Requirement already satisfied: idna<4,>=2.5 in /usr/local/lib/python3.8/dist-packages (from requests>=2.26->yfinance) (2.10)\n",
            "Requirement already satisfied: certifi>=2017.4.17 in /usr/local/lib/python3.8/dist-packages (from requests>=2.26->yfinance) (2022.12.7)\n",
            "Requirement already satisfied: urllib3<1.27,>=1.21.1 in /usr/local/lib/python3.8/dist-packages (from requests>=2.26->yfinance) (1.24.3)\n",
            "Installing collected packages: soupsieve, requests, html5lib, frozendict, cryptography, beautifulsoup4, yfinance, pandas-datareader\n",
            "  Attempting uninstall: requests\n",
            "    Found existing installation: requests 2.23.0\n",
            "    Uninstalling requests-2.23.0:\n",
            "      Successfully uninstalled requests-2.23.0\n",
            "  Attempting uninstall: html5lib\n",
            "    Found existing installation: html5lib 1.0.1\n",
            "    Uninstalling html5lib-1.0.1:\n",
            "      Successfully uninstalled html5lib-1.0.1\n",
            "  Attempting uninstall: beautifulsoup4\n",
            "    Found existing installation: beautifulsoup4 4.6.3\n",
            "    Uninstalling beautifulsoup4-4.6.3:\n",
            "      Successfully uninstalled beautifulsoup4-4.6.3\n",
            "  Attempting uninstall: pandas-datareader\n",
            "    Found existing installation: pandas-datareader 0.9.0\n",
            "    Uninstalling pandas-datareader-0.9.0:\n",
            "      Successfully uninstalled pandas-datareader-0.9.0\n",
            "Successfully installed beautifulsoup4-4.11.1 cryptography-39.0.0 frozendict-2.3.4 html5lib-1.1 pandas-datareader-0.10.0 requests-2.28.1 soupsieve-2.3.2.post1 yfinance-0.2.3\n"
          ]
        }
      ],
      "source": [
        "!pip install -U yfinance pandas_datareader"
      ]
    },
    {
      "cell_type": "markdown",
      "metadata": {
        "id": "4Mad_HUVxyXd"
      },
      "source": [
        "# Datos\n",
        "\n",
        "Valor de cierre del IBEX"
      ]
    },
    {
      "cell_type": "code",
      "execution_count": null,
      "metadata": {
        "id": "WxaB4kY0tofH"
      },
      "outputs": [],
      "source": [
        "import pandas as pd\n",
        "import yfinance as yf\n",
        "from pandas_datareader import data as pdr"
      ]
    },
    {
      "cell_type": "code",
      "execution_count": null,
      "metadata": {
        "id": "yBeJELUotfza",
        "colab": {
          "base_uri": "https://localhost:8080/"
        },
        "outputId": "dc4c65d3-0fc7-4a93-c1ca-e4c5e6006b53"
      },
      "outputs": [
        {
          "output_type": "stream",
          "name": "stdout",
          "text": [
            "\r[*********************100%***********************]  1 of 1 completed\n"
          ]
        }
      ],
      "source": [
        "yf.pdr_override() # <== that's all it takes :-)\n",
        "data = pdr.get_data_yahoo(\"^IBEX\", start=\"2020-01-01\", end=\"2020-10-30\")"
      ]
    },
    {
      "cell_type": "markdown",
      "metadata": {
        "id": "q3UO3lLZvASE"
      },
      "source": [
        "## [Bollinger Bands](https://en.wikipedia.org/wiki/Bollinger_Bands)\n",
        "\n",
        "El 97% de los valores de un activo se encuentran entre un máximo de $+1.96 \\times  \\sigma(20\\ valores\\ anteriores)$ y $-1.96 \\times \\sigma(20\\ valores\\  anteriores)$ centrados en la media de los 20 valores anteriores."
      ]
    },
    {
      "cell_type": "code",
      "execution_count": null,
      "metadata": {
        "id": "Gz2OmhmRt4n4",
        "scrolled": true,
        "colab": {
          "base_uri": "https://localhost:8080/"
        },
        "outputId": "59705f15-2987-4f2d-813b-bc93726688ee"
      },
      "outputs": [
        {
          "output_type": "execute_result",
          "data": {
            "text/plain": [
              "<matplotlib.axes._subplots.AxesSubplot at 0x7fb3fb7aa370>"
            ]
          },
          "metadata": {},
          "execution_count": 4
        },
        {
          "output_type": "display_data",
          "data": {
            "text/plain": [
              "<Figure size 1080x360 with 1 Axes>"
            ],
            "image/png": "[encoded data removed]"
          },
          "metadata": {
            "needs_background": "light"
          }
        }
      ],
      "source": [
        "d=pd.DataFrame()\n",
        "d['R']=data['Close']\n",
        "d['M']=data['Close'].rolling(20).mean()\n",
        "d['+M']=d['M']+data['Close'].rolling(20).std()*1.96\n",
        "d['-M']=d['M']-data['Close'].rolling(20).std()*1.96\n",
        "d.plot(figsize=(15,5))"
      ]
    },
    {
      "cell_type": "markdown",
      "metadata": {
        "id": "J4g6TlcVyfex"
      },
      "source": [
        "## Transformación de los datos para un problema de regresión / clasificación\n",
        "- Datos originales $[c_0,\\ldots,c_T]$\n",
        "- Datos transformados:$[[c_0,\\ldots,c_{19}],c_{20}],\\ldots,[[c_{T-20},\\ldots,c_{T-1}],c_T]$."
      ]
    },
    {
      "cell_type": "code",
      "execution_count": null,
      "metadata": {
        "id": "PTbZ91vZ9tiv"
      },
      "outputs": [],
      "source": [
        "def windowData(s,window_input=1,window_output=1,step=1):\n",
        "  X=[]\n",
        "  Y=[]\n",
        "  #Datos necesarios\n",
        "  dn=window_input+window_output\n",
        "  #Calcular cuantos pasos completos podemos realizar\n",
        "  #sin contar el último bloque [input,output]\n",
        "  ld=int((len(s)-dn)/step)*step\n",
        "  for i in range(len(s)-ld-1,len(s)-dn,step):\n",
        "    X.append(s[i:i+window_input])\n",
        "    Y.append(s[i+window_input:i+dn])\n",
        "  return X,Y"
      ]
    },
    {
      "cell_type": "code",
      "execution_count": null,
      "metadata": {
        "id": "nkai0YWG1QiW"
      },
      "outputs": [],
      "source": [
        "import numpy as np\n",
        "from sklearn.preprocessing import MinMaxScaler\n",
        "from sklearn.model_selection import train_test_split\n",
        "\n",
        "#Escalanos los datos\n",
        "dScale = MinMaxScaler()\n",
        "ldatos=d['R'].values #ldatos.shape=(len(d['R']),)\n",
        "ldatos=ldatos.reshape((len(d['R']),1)) #ldatos.shape=(len(d['R']),1)\n",
        "dScale.fit(ldatos)\n",
        "ldatos=dScale.transform(ldatos).reshape((len(ldatos),))\n",
        "\n",
        "#Contruimos los conjunto de datos X e Y\n",
        "X,Y=windowData(ldatos,window_input=20,window_output=1,step=1)\n",
        "X=np.array(X)\n",
        "Y=np.array(Y)\n",
        "\n",
        "#partmos los conjuntos en entranamiento y test\n",
        "X_train,X_test,Y_train,Y_test=train_test_split(X,Y,test_size=0.33,shuffle=False, random_state=42)"
      ]
    },
    {
      "cell_type": "code",
      "execution_count": null,
      "metadata": {
        "id": "POayuTef9a4c",
        "colab": {
          "base_uri": "https://localhost:8080/"
        },
        "outputId": "9f33c733-004d-4038-cc03-fde2673210ab"
      },
      "outputs": [
        {
          "output_type": "execute_result",
          "data": {
            "text/plain": [
              "(172, 20)"
            ]
          },
          "metadata": {},
          "execution_count": 7
        }
      ],
      "source": [
        "X.shape"
      ]
    },
    {
      "cell_type": "markdown",
      "metadata": {
        "id": "QF2yItaF9a4d"
      },
      "source": [
        "## Ajustamos los datos \n",
        "Los datos en las **redes recurrentes** son tensores de 3 dimensiones\n",
        "\\[número de ejemplos por batch, tamaño del paso, número de características \\]\n",
        "\n",
        "**\\[size,step,features\\]**\n",
        "\n",
        "Consideramos un **step** de 20 con una única **característica**\n"
      ]
    },
    {
      "cell_type": "markdown",
      "source": [
        "en las recurrentes el tamaño tiene que ser el tamaño del dataset\n",
        "\n",
        "pasos -> elemento que vamos a utilizar en el recurrente (20,30,40...)\n",
        "\n",
        "feature -> cantida de parametros"
      ],
      "metadata": {
        "id": "xzS9f7V89kSd"
      }
    },
    {
      "cell_type": "code",
      "execution_count": null,
      "metadata": {
        "id": "sV62zE9G9a4d",
        "colab": {
          "base_uri": "https://localhost:8080/"
        },
        "outputId": "93771267-75a3-4ef5-9ba3-d3fcd98b10fc"
      },
      "outputs": [
        {
          "output_type": "execute_result",
          "data": {
            "text/plain": [
              "(172, 20, 1)"
            ]
          },
          "metadata": {},
          "execution_count": 8
        }
      ],
      "source": [
        "XRNN=X.reshape((X.shape[0],X.shape[1],1))\n",
        "XRNN.shape"
      ]
    },
    {
      "cell_type": "markdown",
      "source": [
        "20 = pasos"
      ],
      "metadata": {
        "id": "yCduCGuw96sC"
      }
    },
    {
      "cell_type": "markdown",
      "metadata": {
        "id": "I4iLDwKJpKIq"
      },
      "source": [
        "## Librerías necesarias \n",
        "- [Keras](https://keras.io/)\n",
        "- [Tensorflow](https://www.tensorflow.org/)"
      ]
    },
    {
      "cell_type": "markdown",
      "source": [
        "modelo secuencial, donde salida de 1 vaya a la entrada de otra"
      ],
      "metadata": {
        "id": "F1ljV3L3-CuQ"
      }
    },
    {
      "cell_type": "code",
      "execution_count": null,
      "metadata": {
        "id": "NcunIHLYpodt"
      },
      "outputs": [],
      "source": [
        "from tensorflow import keras\n",
        "from tensorflow.keras.models import Sequential\n",
        "from tensorflow.keras.layers import Dense,Input,SimpleRNN\n",
        "from tensorflow.keras import metrics"
      ]
    },
    {
      "cell_type": "markdown",
      "metadata": {
        "id": "JdDwd3YiqiPw"
      },
      "source": [
        "## Definir la Red\n",
        "\n",
        "Definimos nuestro perceptron con las siguientes capas (**layers**)\n",
        "- Modelo secuencial [Sequential](https://keras.io/api/models/sequential/)\n",
        "- Capa de entrada: [SimpleRNN](https://keras.io/api/layers/recurrent_layers/simple_rnn/)\n",
        "- Capa Densa: [Dense](https://keras.io/api/layers/core_layers/dense/) \n",
        "\n",
        "La capa **SimpleRNN** define una unidad recurente con **unit** neuronas de salida y una entrada de **input_shape**"
      ]
    },
    {
      "cell_type": "markdown",
      "metadata": {
        "id": "ksb1N6Ob9a4e"
      },
      "source": [
        "**Recurrente básica**"
      ]
    },
    {
      "cell_type": "markdown",
      "source": [
        "se va añadiendo capas, en este caso 1 solo de 32 unidades, unidades = neuronas que vuelvan alimentadas; entrada de 20,,1\n",
        "\n"
      ],
      "metadata": {
        "id": "WsjJaxxB-Nan"
      }
    },
    {
      "cell_type": "markdown",
      "source": [
        "optimizador rmsprop"
      ],
      "metadata": {
        "id": "QP7Rm-Cj-yCW"
      }
    },
    {
      "cell_type": "code",
      "execution_count": null,
      "metadata": {
        "id": "9nFj2_Qp9a4e",
        "colab": {
          "base_uri": "https://localhost:8080/"
        },
        "outputId": "2772d7d2-4762-46b9-a537-e87832d5ac22"
      },
      "outputs": [
        {
          "output_type": "stream",
          "name": "stdout",
          "text": [
            "Model: \"sequential\"\n",
            "_________________________________________________________________\n",
            " Layer (type)                Output Shape              Param #   \n",
            "=================================================================\n",
            " simple_rnn (SimpleRNN)      (None, 32)                1088      \n",
            "                                                                 \n",
            " dense (Dense)               (None, 1)                 33        \n",
            "                                                                 \n",
            "=================================================================\n",
            "Total params: 1,121\n",
            "Trainable params: 1,121\n",
            "Non-trainable params: 0\n",
            "_________________________________________________________________\n"
          ]
        }
      ],
      "source": [
        "rnn = Sequential()\n",
        "rnn.add(SimpleRNN(units=32, activation=\"relu\",input_shape=(20,1)))\n",
        "rnn.add(Dense(1))\n",
        "rnn.compile(loss='mean_squared_error', optimizer='rmsprop')\n",
        "rnn.summary()"
      ]
    },
    {
      "cell_type": "markdown",
      "source": [
        "los va 1088 parametros"
      ],
      "metadata": {
        "id": "5MDFpTjJ-_3d"
      }
    },
    {
      "cell_type": "markdown",
      "metadata": {
        "id": "O_nr6THhu79F"
      },
      "source": [
        "## Compilar la red\n",
        "Definido el **perceptrón** lo tendremos que compilar indicando:\n",
        "- Que optimizador utilizar.\n",
        "- Que función de error (pérdida o **loss**).\n",
        "- Que métricas observar cuando lo entrenemos.\n",
        "\n",
        "Función [**compile**](https://keras.io/api/models/model_training_apis/#compile-method)"
      ]
    },
    {
      "cell_type": "markdown",
      "source": [
        "en cada epoca nos va indicando el error que va cometiendo"
      ],
      "metadata": {
        "id": "pk48UG6T_IGY"
      }
    },
    {
      "cell_type": "code",
      "execution_count": null,
      "metadata": {
        "id": "uJqvqoKLqrMj",
        "scrolled": true,
        "colab": {
          "base_uri": "https://localhost:8080/"
        },
        "outputId": "82d696bd-38a1-453f-a093-8925975f2af6"
      },
      "outputs": [
        {
          "output_type": "stream",
          "name": "stdout",
          "text": [
            "Epoch 1/100\n",
            "24/24 [==============================] - 3s 43ms/step - loss: 0.0488 - val_loss: 0.0011\n",
            "Epoch 2/100\n",
            "24/24 [==============================] - 0s 14ms/step - loss: 0.0076 - val_loss: 0.0020\n",
            "Epoch 3/100\n",
            "24/24 [==============================] - 0s 14ms/step - loss: 0.0062 - val_loss: 0.0013\n",
            "Epoch 4/100\n",
            "24/24 [==============================] - 0s 12ms/step - loss: 0.0051 - val_loss: 0.0013\n",
            "Epoch 5/100\n",
            "24/24 [==============================] - 0s 16ms/step - loss: 0.0042 - val_loss: 6.8903e-04\n",
            "Epoch 6/100\n",
            "24/24 [==============================] - 0s 11ms/step - loss: 0.0039 - val_loss: 7.2291e-04\n",
            "Epoch 7/100\n",
            "24/24 [==============================] - 0s 13ms/step - loss: 0.0035 - val_loss: 0.0013\n",
            "Epoch 8/100\n",
            "24/24 [==============================] - 0s 13ms/step - loss: 0.0032 - val_loss: 0.0010\n",
            "Epoch 9/100\n",
            "24/24 [==============================] - 0s 12ms/step - loss: 0.0030 - val_loss: 5.2118e-04\n",
            "Epoch 10/100\n",
            "24/24 [==============================] - 0s 14ms/step - loss: 0.0028 - val_loss: 5.8419e-04\n",
            "Epoch 11/100\n",
            "24/24 [==============================] - 0s 14ms/step - loss: 0.0028 - val_loss: 8.3151e-04\n",
            "Epoch 12/100\n",
            "24/24 [==============================] - 0s 12ms/step - loss: 0.0025 - val_loss: 9.7679e-04\n",
            "Epoch 13/100\n",
            "24/24 [==============================] - 0s 12ms/step - loss: 0.0026 - val_loss: 6.1038e-04\n",
            "Epoch 14/100\n",
            "24/24 [==============================] - 0s 10ms/step - loss: 0.0024 - val_loss: 6.1527e-04\n",
            "Epoch 15/100\n",
            "24/24 [==============================] - 0s 11ms/step - loss: 0.0024 - val_loss: 5.9230e-04\n",
            "Epoch 16/100\n",
            "24/24 [==============================] - 0s 11ms/step - loss: 0.0023 - val_loss: 6.8143e-04\n",
            "Epoch 17/100\n",
            "24/24 [==============================] - 0s 11ms/step - loss: 0.0023 - val_loss: 7.4418e-04\n",
            "Epoch 18/100\n",
            "24/24 [==============================] - 0s 15ms/step - loss: 0.0024 - val_loss: 5.5751e-04\n",
            "Epoch 19/100\n",
            "24/24 [==============================] - 0s 13ms/step - loss: 0.0022 - val_loss: 6.0201e-04\n",
            "Epoch 20/100\n",
            "24/24 [==============================] - 0s 19ms/step - loss: 0.0023 - val_loss: 6.4281e-04\n",
            "Epoch 21/100\n",
            "24/24 [==============================] - 0s 13ms/step - loss: 0.0023 - val_loss: 4.7219e-04\n",
            "Epoch 22/100\n",
            "24/24 [==============================] - 0s 12ms/step - loss: 0.0022 - val_loss: 5.1945e-04\n",
            "Epoch 23/100\n",
            "24/24 [==============================] - 0s 10ms/step - loss: 0.0022 - val_loss: 6.5668e-04\n",
            "Epoch 24/100\n",
            "24/24 [==============================] - 0s 12ms/step - loss: 0.0022 - val_loss: 6.4242e-04\n",
            "Epoch 25/100\n",
            "24/24 [==============================] - 0s 9ms/step - loss: 0.0020 - val_loss: 5.5520e-04\n",
            "Epoch 26/100\n",
            "24/24 [==============================] - 0s 10ms/step - loss: 0.0022 - val_loss: 6.3991e-04\n",
            "Epoch 27/100\n",
            "24/24 [==============================] - 0s 12ms/step - loss: 0.0021 - val_loss: 7.0525e-04\n",
            "Epoch 28/100\n",
            "24/24 [==============================] - 0s 13ms/step - loss: 0.0020 - val_loss: 8.4442e-04\n",
            "Epoch 29/100\n",
            "24/24 [==============================] - 0s 13ms/step - loss: 0.0022 - val_loss: 4.9498e-04\n",
            "Epoch 30/100\n",
            "24/24 [==============================] - 0s 16ms/step - loss: 0.0020 - val_loss: 4.9939e-04\n",
            "Epoch 31/100\n",
            "24/24 [==============================] - 0s 13ms/step - loss: 0.0021 - val_loss: 8.6609e-04\n",
            "Epoch 32/100\n",
            "24/24 [==============================] - 0s 13ms/step - loss: 0.0021 - val_loss: 4.6356e-04\n",
            "Epoch 33/100\n",
            "24/24 [==============================] - 0s 13ms/step - loss: 0.0022 - val_loss: 4.7200e-04\n",
            "Epoch 34/100\n",
            "24/24 [==============================] - 0s 15ms/step - loss: 0.0019 - val_loss: 4.7128e-04\n",
            "Epoch 35/100\n",
            "24/24 [==============================] - 0s 15ms/step - loss: 0.0021 - val_loss: 5.1296e-04\n",
            "Epoch 36/100\n",
            "24/24 [==============================] - 0s 11ms/step - loss: 0.0021 - val_loss: 9.5456e-04\n",
            "Epoch 37/100\n",
            "24/24 [==============================] - 0s 12ms/step - loss: 0.0020 - val_loss: 7.1595e-04\n",
            "Epoch 38/100\n",
            "24/24 [==============================] - 0s 15ms/step - loss: 0.0020 - val_loss: 4.9516e-04\n",
            "Epoch 39/100\n",
            "24/24 [==============================] - 0s 10ms/step - loss: 0.0019 - val_loss: 8.1345e-04\n",
            "Epoch 40/100\n",
            "24/24 [==============================] - 0s 16ms/step - loss: 0.0021 - val_loss: 5.7659e-04\n",
            "Epoch 41/100\n",
            "24/24 [==============================] - 0s 12ms/step - loss: 0.0018 - val_loss: 4.6687e-04\n",
            "Epoch 42/100\n",
            "24/24 [==============================] - 0s 13ms/step - loss: 0.0018 - val_loss: 6.5396e-04\n",
            "Epoch 43/100\n",
            "24/24 [==============================] - 0s 12ms/step - loss: 0.0018 - val_loss: 5.4673e-04\n",
            "Epoch 44/100\n",
            "24/24 [==============================] - 0s 11ms/step - loss: 0.0020 - val_loss: 5.4512e-04\n",
            "Epoch 45/100\n",
            "24/24 [==============================] - 0s 12ms/step - loss: 0.0020 - val_loss: 4.6215e-04\n",
            "Epoch 46/100\n",
            "24/24 [==============================] - 0s 12ms/step - loss: 0.0020 - val_loss: 5.9460e-04\n",
            "Epoch 47/100\n",
            "24/24 [==============================] - 0s 14ms/step - loss: 0.0018 - val_loss: 0.0010\n",
            "Epoch 48/100\n",
            "24/24 [==============================] - 0s 14ms/step - loss: 0.0019 - val_loss: 6.6275e-04\n",
            "Epoch 49/100\n",
            "24/24 [==============================] - 0s 11ms/step - loss: 0.0019 - val_loss: 7.8748e-04\n",
            "Epoch 50/100\n",
            "24/24 [==============================] - 0s 18ms/step - loss: 0.0019 - val_loss: 4.8192e-04\n",
            "Epoch 51/100\n",
            "24/24 [==============================] - 0s 17ms/step - loss: 0.0019 - val_loss: 5.0251e-04\n",
            "Epoch 52/100\n",
            "24/24 [==============================] - 0s 17ms/step - loss: 0.0018 - val_loss: 4.5992e-04\n",
            "Epoch 53/100\n",
            "24/24 [==============================] - 0s 14ms/step - loss: 0.0018 - val_loss: 7.8367e-04\n",
            "Epoch 54/100\n",
            "24/24 [==============================] - 0s 6ms/step - loss: 0.0019 - val_loss: 5.2140e-04\n",
            "Epoch 55/100\n",
            "24/24 [==============================] - 0s 8ms/step - loss: 0.0019 - val_loss: 4.8729e-04\n",
            "Epoch 56/100\n",
            "24/24 [==============================] - 0s 6ms/step - loss: 0.0018 - val_loss: 6.7692e-04\n",
            "Epoch 57/100\n",
            "24/24 [==============================] - 0s 6ms/step - loss: 0.0018 - val_loss: 4.9775e-04\n",
            "Epoch 58/100\n",
            "24/24 [==============================] - 0s 6ms/step - loss: 0.0017 - val_loss: 6.4591e-04\n",
            "Epoch 59/100\n",
            "24/24 [==============================] - 0s 6ms/step - loss: 0.0018 - val_loss: 4.8282e-04\n",
            "Epoch 60/100\n",
            "24/24 [==============================] - 0s 6ms/step - loss: 0.0018 - val_loss: 9.9255e-04\n",
            "Epoch 61/100\n",
            "24/24 [==============================] - 0s 8ms/step - loss: 0.0019 - val_loss: 7.2778e-04\n",
            "Epoch 62/100\n",
            "24/24 [==============================] - 0s 6ms/step - loss: 0.0018 - val_loss: 4.7607e-04\n",
            "Epoch 63/100\n",
            "24/24 [==============================] - 0s 6ms/step - loss: 0.0017 - val_loss: 4.8030e-04\n",
            "Epoch 64/100\n",
            "24/24 [==============================] - 0s 6ms/step - loss: 0.0018 - val_loss: 7.3754e-04\n",
            "Epoch 65/100\n",
            "24/24 [==============================] - 0s 8ms/step - loss: 0.0017 - val_loss: 5.3292e-04\n",
            "Epoch 66/100\n",
            "24/24 [==============================] - 0s 6ms/step - loss: 0.0017 - val_loss: 5.1590e-04\n",
            "Epoch 67/100\n",
            "24/24 [==============================] - 0s 7ms/step - loss: 0.0017 - val_loss: 4.8640e-04\n",
            "Epoch 68/100\n",
            "24/24 [==============================] - 0s 8ms/step - loss: 0.0018 - val_loss: 4.6963e-04\n",
            "Epoch 69/100\n",
            "24/24 [==============================] - 0s 8ms/step - loss: 0.0018 - val_loss: 5.2288e-04\n",
            "Epoch 70/100\n",
            "24/24 [==============================] - 0s 6ms/step - loss: 0.0016 - val_loss: 7.7666e-04\n",
            "Epoch 71/100\n",
            "24/24 [==============================] - 0s 6ms/step - loss: 0.0017 - val_loss: 5.0761e-04\n",
            "Epoch 72/100\n",
            "24/24 [==============================] - 0s 6ms/step - loss: 0.0017 - val_loss: 7.1482e-04\n",
            "Epoch 73/100\n",
            "24/24 [==============================] - 0s 6ms/step - loss: 0.0018 - val_loss: 8.1043e-04\n",
            "Epoch 74/100\n",
            "24/24 [==============================] - 0s 6ms/step - loss: 0.0016 - val_loss: 7.9338e-04\n",
            "Epoch 75/100\n",
            "24/24 [==============================] - 0s 7ms/step - loss: 0.0017 - val_loss: 0.0011\n",
            "Epoch 76/100\n",
            "24/24 [==============================] - 0s 6ms/step - loss: 0.0019 - val_loss: 5.0475e-04\n",
            "Epoch 77/100\n",
            "24/24 [==============================] - 0s 9ms/step - loss: 0.0016 - val_loss: 5.7687e-04\n",
            "Epoch 78/100\n",
            "24/24 [==============================] - 0s 6ms/step - loss: 0.0017 - val_loss: 4.4306e-04\n",
            "Epoch 79/100\n",
            "24/24 [==============================] - 0s 8ms/step - loss: 0.0018 - val_loss: 4.4933e-04\n",
            "Epoch 80/100\n",
            "24/24 [==============================] - 0s 8ms/step - loss: 0.0016 - val_loss: 7.9961e-04\n",
            "Epoch 81/100\n",
            "24/24 [==============================] - 0s 8ms/step - loss: 0.0018 - val_loss: 5.4749e-04\n",
            "Epoch 82/100\n",
            "24/24 [==============================] - 0s 8ms/step - loss: 0.0017 - val_loss: 4.7490e-04\n",
            "Epoch 83/100\n",
            "24/24 [==============================] - 0s 8ms/step - loss: 0.0017 - val_loss: 6.9220e-04\n",
            "Epoch 84/100\n",
            "24/24 [==============================] - 0s 8ms/step - loss: 0.0017 - val_loss: 7.3058e-04\n",
            "Epoch 85/100\n",
            "24/24 [==============================] - 0s 8ms/step - loss: 0.0015 - val_loss: 9.1169e-04\n",
            "Epoch 86/100\n",
            "24/24 [==============================] - 0s 7ms/step - loss: 0.0018 - val_loss: 5.0061e-04\n",
            "Epoch 87/100\n",
            "24/24 [==============================] - 0s 8ms/step - loss: 0.0016 - val_loss: 4.5741e-04\n",
            "Epoch 88/100\n",
            "24/24 [==============================] - 0s 8ms/step - loss: 0.0017 - val_loss: 7.8852e-04\n",
            "Epoch 89/100\n",
            "24/24 [==============================] - 0s 6ms/step - loss: 0.0017 - val_loss: 5.9734e-04\n",
            "Epoch 90/100\n",
            "24/24 [==============================] - 0s 6ms/step - loss: 0.0015 - val_loss: 6.5526e-04\n",
            "Epoch 91/100\n",
            "24/24 [==============================] - 0s 9ms/step - loss: 0.0016 - val_loss: 4.9922e-04\n",
            "Epoch 92/100\n",
            "24/24 [==============================] - 0s 8ms/step - loss: 0.0015 - val_loss: 0.0012\n",
            "Epoch 93/100\n",
            "24/24 [==============================] - 0s 7ms/step - loss: 0.0017 - val_loss: 4.6041e-04\n",
            "Epoch 94/100\n",
            "24/24 [==============================] - 0s 6ms/step - loss: 0.0017 - val_loss: 5.2731e-04\n",
            "Epoch 95/100\n",
            "24/24 [==============================] - 0s 8ms/step - loss: 0.0016 - val_loss: 8.6962e-04\n",
            "Epoch 96/100\n",
            "24/24 [==============================] - 0s 8ms/step - loss: 0.0017 - val_loss: 4.8892e-04\n",
            "Epoch 97/100\n",
            "24/24 [==============================] - 0s 8ms/step - loss: 0.0016 - val_loss: 5.0080e-04\n",
            "Epoch 98/100\n",
            "24/24 [==============================] - 0s 6ms/step - loss: 0.0016 - val_loss: 5.6022e-04\n",
            "Epoch 99/100\n",
            "24/24 [==============================] - 0s 7ms/step - loss: 0.0017 - val_loss: 6.1286e-04\n",
            "Epoch 100/100\n",
            "24/24 [==============================] - 0s 8ms/step - loss: 0.0018 - val_loss: 5.7626e-04\n"
          ]
        }
      ],
      "source": [
        "h=rnn.fit(XRNN,Y,validation_split=0.30, epochs=100,batch_size=5)"
      ]
    },
    {
      "cell_type": "markdown",
      "source": [
        "perdida de 0,04, valor de perdida va disminuyendo a mitad de n. epocas(50)"
      ],
      "metadata": {
        "id": "P6epLit2_VU-"
      }
    },
    {
      "cell_type": "code",
      "execution_count": null,
      "metadata": {
        "id": "gp9q8fWerORA",
        "colab": {
          "base_uri": "https://localhost:8080/",
          "height": 295
        },
        "outputId": "59683001-bc4a-4f5f-dea2-e3192602ecef"
      },
      "outputs": [
        {
          "output_type": "display_data",
          "data": {
            "text/plain": [
              "<Figure size 432x288 with 1 Axes>"
            ],
            "image/png": "[encoded data removed]"
          },
          "metadata": {
            "needs_background": "light"
          }
        }
      ],
      "source": [
        "import matplotlib.pyplot as plt\n",
        "plt.plot(h.history['loss'])\n",
        "plt.plot(h.history['val_loss'])\n",
        "plt.title('model loss')\n",
        "plt.ylabel('loss')\n",
        "plt.xlabel('epoch')\n",
        "plt.legend(['train', 'test'], loc='upper left')\n",
        "plt.show()"
      ]
    },
    {
      "cell_type": "markdown",
      "metadata": {
        "id": "wE8d-FyYxZUf"
      },
      "source": [
        "## Utilizar la red\n",
        "Utilizar el perceptron aprendido con el método [**predict**](https://keras.io/api/models/model_training_apis/#predict-method)"
      ]
    },
    {
      "cell_type": "code",
      "execution_count": null,
      "metadata": {
        "id": "eRzCvdbZwZ6k",
        "colab": {
          "base_uri": "https://localhost:8080/"
        },
        "outputId": "41083340-665b-42a0-c0d1-ef490487b9ba"
      },
      "outputs": [
        {
          "output_type": "stream",
          "name": "stdout",
          "text": [
            "6/6 [==============================] - 0s 6ms/step\n"
          ]
        }
      ],
      "source": [
        "Y0=rnn.predict(XRNN)"
      ]
    },
    {
      "cell_type": "markdown",
      "source": [
        "perceptron no tiene memoria(informacion del pasado)\n",
        "\n",
        "en cambio redes recurrentes si tienen concepto del pasado"
      ],
      "metadata": {
        "id": "2Mxxh8Px_62c"
      }
    },
    {
      "cell_type": "code",
      "execution_count": null,
      "metadata": {
        "id": "Unxa4WnnwoFo",
        "colab": {
          "base_uri": "https://localhost:8080/",
          "height": 337
        },
        "outputId": "ff4605fd-ad8a-463f-8181-471dc9c836ec"
      },
      "outputs": [
        {
          "output_type": "execute_result",
          "data": {
            "text/plain": [
              "<matplotlib.axes._subplots.AxesSubplot at 0x7fb398f21c40>"
            ]
          },
          "metadata": {},
          "execution_count": 14
        },
        {
          "output_type": "display_data",
          "data": {
            "text/plain": [
              "<Figure size 1080x360 with 1 Axes>"
            ],
            "image/png": "[encoded data removed]"
          },
          "metadata": {
            "needs_background": "light"
          }
        }
      ],
      "source": [
        "r=pd.DataFrame(Y)\n",
        "r['RNN']=pd.DataFrame(Y0)\n",
        "r.plot(figsize=(15,5))"
      ]
    },
    {
      "cell_type": "markdown",
      "metadata": {
        "id": "2PxjNviiy-W1"
      },
      "source": [
        "## Salvar y Cargar Redes\n",
        "- Salvar mediante el método [**save**](https://keras.io/api/models/model_saving_apis/#save-method).\n",
        "- Recuperar un modelo con el método [**load_model**](keras.models.load_model)."
      ]
    },
    {
      "cell_type": "code",
      "execution_count": null,
      "metadata": {
        "id": "Q4lQ3vSOzGCx"
      },
      "outputs": [],
      "source": [
        "rnn.save('rnn.h5')\n",
        "rnn2=keras.models.load_model('rnn.h5')"
      ]
    }
  ],
  "metadata": {
    "celltoolbar": "Slideshow",
    "colab": {
      "collapsed_sections": [
        "q3UO3lLZvASE"
      ],
      "provenance": [],
      "include_colab_link": true
    },
    "kernelspec": {
      "display_name": "NN",
      "language": "python",
      "name": "nn"
    },
    "language_info": {
      "codemirror_mode": {
        "name": "ipython",
        "version": 3
      },
      "file_extension": ".py",
      "mimetype": "text/x-python",
      "name": "python",
      "nbconvert_exporter": "python",
      "pygments_lexer": "ipython3",
      "version": "3.8.5"
    },
    "gpuClass": "standard"
  },
  "nbformat": 4,
  "nbformat_minor": 0
}