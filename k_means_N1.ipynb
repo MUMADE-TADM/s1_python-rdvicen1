{
  "nbformat": 4,
  "nbformat_minor": 0,
  "metadata": {
    "colab": {
      "provenance": [],
      "collapsed_sections": [
        "bJ11B2i9zQld",
        "NJn4Z8ltMWZC"
      ],
      "include_colab_link": true
    },
    "kernelspec": {
      "name": "python3",
      "display_name": "Python 3"
    },
    "gpuClass": "standard"
  },
  "cells": [
    {
      "cell_type": "markdown",
      "metadata": {
        "id": "view-in-github",
        "colab_type": "text"
      },
      "source": [
        "<a href=\"https://colab.research.google.com/github/MUMADE-TADM/s1_python-rdvicen1/blob/main/k_means_N1.ipynb\" target=\"_parent\"><img src=\"https://colab.research.google.com/assets/colab-badge.svg\" alt=\"Open In Colab\"/></a>"
      ]
    },
    {
      "cell_type": "markdown",
      "metadata": {
        "id": "hkOHP68hTuRZ"
      },
      "source": [
        "# K-Means\n",
        "Dado un conjunto $X=\\{e_1,\\dots,e_m \\}$\n",
        "\n",
        "Encontrar una K-partición o conjunto de centroides $Centroides=\\{ \\mu_1,\\ldots,\\mu_k \\}$\n",
        "\n",
        "Tal que hace mínimo $\\sum^m_{i=0}min_{\\mu_j \\in Centroides} (|| e_i -\\mu_j||^2)$"
      ]
    },
    {
      "cell_type": "markdown",
      "source": [
        "que sea minimo disntancia con centroidos"
      ],
      "metadata": {
        "id": "-b8ITmsgOsR-"
      }
    },
    {
      "cell_type": "markdown",
      "metadata": {
        "id": "ai2nA60-WWfA"
      },
      "source": [
        "## Algoritmo Paso a Paso"
      ]
    },
    {
      "cell_type": "markdown",
      "source": [
        "import random para numeros aleatorios\n",
        "\n",
        "np numpy, pd pandas, plt matplotlib\n",
        "\n",
        "de sklearn->  make_blobs\n",
        "\n",
        "control+m para ejecutar todo"
      ],
      "metadata": {
        "id": "Fh1BUtyoO6Gn"
      }
    },
    {
      "cell_type": "code",
      "metadata": {
        "id": "eOKQoUzV4KvB"
      },
      "source": [
        "import numpy as np\n",
        "import pandas as pd\n",
        "import matplotlib.pyplot as plt\n",
        "from sklearn.datasets import make_blobs\n",
        "import random "
      ],
      "execution_count": null,
      "outputs": []
    },
    {
      "cell_type": "markdown",
      "source": [
        "Definir tamaño para pintar para utlizar matplotlib"
      ],
      "metadata": {
        "id": "8dnfQHglPZpE"
      }
    },
    {
      "cell_type": "code",
      "metadata": {
        "id": "LweA5M2Y-p_J",
        "colab": {
          "base_uri": "https://localhost:8080/",
          "height": 52
        },
        "outputId": "65eaf9a9-728c-456e-d9cc-2d020f361f23"
      },
      "source": [
        "plt.figure(figsize=(12, 12))"
      ],
      "execution_count": null,
      "outputs": [
        {
          "output_type": "execute_result",
          "data": {
            "text/plain": [
              "<Figure size 864x864 with 0 Axes>"
            ]
          },
          "metadata": {},
          "execution_count": 20
        },
        {
          "output_type": "display_data",
          "data": {
            "text/plain": [
              "<Figure size 864x864 with 0 Axes>"
            ]
          },
          "metadata": {}
        }
      ]
    },
    {
      "cell_type": "markdown",
      "metadata": {
        "id": "OxNuYecnWe9P"
      },
      "source": [
        "Generamos datos 1500 sintéticos con 3 distribuciones gausianas aleatorias y los mostramos"
      ]
    },
    {
      "cell_type": "markdown",
      "source": [
        "data frame = matriz de columna y filas, se usa panda\n",
        "\n",
        "random_stat = 170, semilla aleatoria para reproducir ejemplo\n"
      ],
      "metadata": {
        "id": "1bEGaoG2P0uR"
      }
    },
    {
      "cell_type": "markdown",
      "source": [
        "Valores de x posicion, valores de y clase a la que pertenece"
      ],
      "metadata": {
        "id": "H9x--6VnQ5by"
      }
    },
    {
      "cell_type": "markdown",
      "source": [
        "para pintarlo x.loc[:,0] (:)todas las filas de la columna 0 y con :,1 todas las filas de la columna 1.\n",
        "\n",
        "loc hace refencia a partes del dataframe. \n",
        "\n"
      ],
      "metadata": {
        "id": "VYJTqaVYREt6"
      }
    },
    {
      "cell_type": "code",
      "metadata": {
        "id": "FTmlymgc5BTn",
        "colab": {
          "base_uri": "https://localhost:8080/",
          "height": 298
        },
        "outputId": "fc318e2a-e7c2-432a-92fb-ee7adf2d2d08"
      },
      "source": [
        "n_samples = 1500\n",
        "random_state = 170\n",
        "x, y = make_blobs(n_samples=n_samples, random_state=random_state)\n",
        "X=pd.DataFrame(x)\n",
        "plt.scatter(X.loc[:, 0], X.loc[:, 1], c=y)\n",
        "plt.title(\"Datos Iniciales\")"
      ],
      "execution_count": null,
      "outputs": [
        {
          "output_type": "execute_result",
          "data": {
            "text/plain": [
              "Text(0.5, 1.0, 'Datos Iniciales')"
            ]
          },
          "metadata": {},
          "execution_count": 21
        },
        {
          "output_type": "display_data",
          "data": {
            "text/plain": [
              "<Figure size 432x288 with 1 Axes>"
            ],
            "image/png": "[encoded data removed]"
          },
          "metadata": {
            "needs_background": "light"
          }
        }
      ]
    },
    {
      "cell_type": "markdown",
      "metadata": {
        "id": "X5cPeZvTahiZ"
      },
      "source": [
        "###Inicialización"
      ]
    },
    {
      "cell_type": "markdown",
      "metadata": {
        "id": "a9lWnZn7W9YP"
      },
      "source": [
        "Generamos los primeros **Centroides** aleatorios"
      ]
    },
    {
      "cell_type": "markdown",
      "source": [
        "X son los centroides\n",
        "\n",
        "random.random porque primer random es nombre libreria, segundo es funcion random\n",
        "\n",
        "se define K=3\n",
        "\n",
        "se generan con random, K = n. centroides, 2 dimensiones; comprendidas entre 20 y -10\n",
        "\n",
        "marker=x para que centroide salga como x, plt.scatter centroides para que nos lo ponga de color"
      ],
      "metadata": {
        "id": "B0waYBiwSbH_"
      }
    },
    {
      "cell_type": "code",
      "metadata": {
        "id": "b41vb-JU6kJG",
        "colab": {
          "base_uri": "https://localhost:8080/",
          "height": 333
        },
        "outputId": "758d231e-d791-4a0b-847f-b24a6dc1e8e2"
      },
      "source": [
        "K=3\n",
        "Centroides=np.random.random((K,2))*20.0-10.0\n",
        "plt.scatter(X.loc[:, 0], X.loc[:, 1])\n",
        "plt.scatter(Centroides[:,0], Centroides[:,1], marker='x',c=[0,1,2])\n",
        "plt.title(\"Primeros Centroides\")\n",
        "print(Centroides)"
      ],
      "execution_count": null,
      "outputs": [
        {
          "output_type": "stream",
          "name": "stdout",
          "text": [
            "[[ 2.27392122  2.72675302]\n",
            " [-8.9603963   2.0006194 ]\n",
            " [ 7.51892866  5.79365465]]\n"
          ]
        },
        {
          "output_type": "display_data",
          "data": {
            "text/plain": [
              "<Figure size 432x288 with 1 Axes>"
            ],
            "image/png": "[encoded data removed]"
          },
          "metadata": {
            "needs_background": "light"
          }
        }
      ]
    },
    {
      "cell_type": "markdown",
      "metadata": {
        "id": "e-9rDaIvX5Fk"
      },
      "source": [
        "Definimos la métrica $||x-\\mu||^2$ entre el centroide y los puntos para seleccionar el centroide más cercano para cada punto\n",
        "como la distancia euclídea entre el punto en dos dimensiones $x=(x_0,x_1)$ y el centroide $\\mu=(\\mu_0.\\mu_1)$\n",
        "\n",
        "$d(x,\\mu)=\\sqrt{(x_0 - \\mu_0)^2+(x_1 - \\mu_1)^2}$"
      ]
    },
    {
      "cell_type": "markdown",
      "source": [
        "Se hace funcion distancia"
      ],
      "metadata": {
        "id": "aHyUNgXpTDwm"
      }
    },
    {
      "cell_type": "markdown",
      "source": [
        "arr es la funcion"
      ],
      "metadata": {
        "id": "xaD-j-hCTO1W"
      }
    },
    {
      "cell_type": "markdown",
      "source": [
        "nos interesa la menor de las distancia respector al centroide\n",
        "\n",
        "Funcion np.where devuelve el centroide que esta mas cerca del centroide"
      ],
      "metadata": {
        "id": "vDAh2n8sTWB7"
      }
    },
    {
      "cell_type": "code",
      "metadata": {
        "id": "q1ytVppwApoO"
      },
      "source": [
        "def distancia(X1,C):\n",
        "  # C es el vector de Centroides\n",
        "  #X1 es el punto\n",
        "  # Construimos el vector de distancias del punto a cada centroide\n",
        "  arr=[(sum((X1 - c)**2))**0.5 for c in C]\n",
        "  #seleccionamos el índice (identificador del centroide) de mínimma distancia y los devolvemos\n",
        "  return np.where(arr == np.amin(arr))[0][0]"
      ],
      "execution_count": null,
      "outputs": []
    },
    {
      "cell_type": "markdown",
      "metadata": {
        "id": "Opcrl-PHZ-On"
      },
      "source": [
        "Para todos los puntos calculamos cual es su centoide más cercano"
      ]
    },
    {
      "cell_type": "markdown",
      "source": [
        "apply aplica a cada fila del df la funcion que indica, en este caso la funcion distancia\n",
        "\n",
        "la funcion distancia 2 datos: parametros y centroide, apply lo aplica a ambos"
      ],
      "metadata": {
        "id": "z8tu0q3RTx_0"
      }
    },
    {
      "cell_type": "markdown",
      "source": [
        "se le incorpor una columna c donde aparecen los centroides que tienen que aparecer"
      ],
      "metadata": {
        "id": "S6_W25EJUZ7f"
      }
    },
    {
      "cell_type": "code",
      "metadata": {
        "id": "WOnk-eJOAWoH"
      },
      "source": [
        "X['C']=X.apply(distancia,axis=1,C=Centroides)"
      ],
      "execution_count": null,
      "outputs": []
    },
    {
      "cell_type": "code",
      "metadata": {
        "id": "QfRwaVvKcOop",
        "colab": {
          "base_uri": "https://localhost:8080/",
          "height": 285
        },
        "outputId": "29d7d0d5-2dde-487c-fa09-ce0aa78def7a"
      },
      "source": [
        "X['C'].hist()"
      ],
      "execution_count": null,
      "outputs": [
        {
          "output_type": "execute_result",
          "data": {
            "text/plain": [
              "<matplotlib.axes._subplots.AxesSubplot at 0x7f4f0e3faaf0>"
            ]
          },
          "metadata": {},
          "execution_count": 25
        },
        {
          "output_type": "display_data",
          "data": {
            "text/plain": [
              "<Figure size 432x288 with 1 Axes>"
            ],
            "image/png": "[encoded data removed]"
          },
          "metadata": {
            "needs_background": "light"
          }
        }
      ]
    },
    {
      "cell_type": "markdown",
      "source": [
        "**probema hay menos centroides**\n",
        "\n",
        "Si longitud de c es < que longitud de centroido es que falta uno"
      ],
      "metadata": {
        "id": "KEbt7LvYVDap"
      }
    },
    {
      "cell_type": "markdown",
      "metadata": {
        "id": "JHbcmhyUazeI"
      },
      "source": [
        "### Recálculo de los nuevos centroides"
      ]
    },
    {
      "cell_type": "markdown",
      "source": [
        "Con esta funcion if hace que no falte ningun centroide"
      ],
      "metadata": {
        "id": "CjbVqWTXVNo0"
      }
    },
    {
      "cell_type": "markdown",
      "source": [
        "simplemente hemos metido el centroide, no hemos echo ninguna agrupacion todavia"
      ],
      "metadata": {
        "id": "q-hZXMkgVsqa"
      }
    },
    {
      "cell_type": "code",
      "metadata": {
        "id": "kHt4UDg5XIfg",
        "colab": {
          "base_uri": "https://localhost:8080/",
          "height": 333
        },
        "outputId": "ff959224-7dbf-4f58-8e61-e4b1a8f73520"
      },
      "source": [
        "C=X.groupby(['C']).mean().values\n",
        "if(len(C)<len(Centroides)):\n",
        "  C=np.vstack([C,np.random.random((len(Centroides)-len(C),2))*20.0-10.0])\n",
        "plt.scatter(X.loc[:, 0], X.loc[:, 1],c=X['C'])\n",
        "plt.scatter(C[:,0], C[:,1], marker='x',c=[0,1,2])\n",
        "plt.title(\"Nueva asignación\")\n",
        "print(C)"
      ],
      "execution_count": null,
      "outputs": [
        {
          "output_type": "stream",
          "name": "stdout",
          "text": [
            "[[ 1.54005663  0.37787334]\n",
            " [-6.92634569 -2.85067538]\n",
            " [ 3.10828648 -5.86342906]]\n"
          ]
        },
        {
          "output_type": "display_data",
          "data": {
            "text/plain": [
              "<Figure size 432x288 with 1 Axes>"
            ],
            "image/png": "[encoded data removed]"
          },
          "metadata": {
            "needs_background": "light"
          }
        }
      ]
    },
    {
      "cell_type": "markdown",
      "metadata": {
        "id": "owObleGdbMtv"
      },
      "source": [
        "### **(A)** Reaguste de los datos con los nuevos centroides"
      ]
    },
    {
      "cell_type": "markdown",
      "source": [
        "se repite paso 1, volver  a usar apply"
      ],
      "metadata": {
        "id": "13_CdcuCV2os"
      }
    },
    {
      "cell_type": "code",
      "metadata": {
        "id": "qB59YQPuaCEp"
      },
      "source": [
        "X['C']=X.iloc[:,:-1].apply(distancia,axis=1,C=C)"
      ],
      "execution_count": null,
      "outputs": []
    },
    {
      "cell_type": "markdown",
      "metadata": {
        "id": "FxHcCkcBb6TX"
      },
      "source": [
        "### **(B)** Recáculo de los nuevos centroides"
      ]
    },
    {
      "cell_type": "code",
      "metadata": {
        "id": "X5-UBeCxa1zv"
      },
      "source": [
        "C1=X.groupby(['C']).mean().values\n",
        "if(len(C1)<len(Centroides)):\n",
        "  C1=np.vstack([C1,np.random.random((len(Centroides)-len(C1),2))*20.0-10.0])\n"
      ],
      "execution_count": null,
      "outputs": []
    },
    {
      "cell_type": "code",
      "metadata": {
        "id": "0nRviKQxaWnH",
        "colab": {
          "base_uri": "https://localhost:8080/",
          "height": 333
        },
        "outputId": "14122f06-aca9-4804-811b-cf159182ae1e"
      },
      "source": [
        "plt.scatter(X.loc[:, 0], X.loc[:, 1],c=X['C'])\n",
        "plt.scatter(C1[:,0], C1[:,1], marker='x',c=[0,1,2])\n",
        "plt.title(\"Nueva asignación\")\n",
        "print(C1)"
      ],
      "execution_count": null,
      "outputs": [
        {
          "output_type": "stream",
          "name": "stdout",
          "text": [
            "[[ 1.54924293  0.42215596]\n",
            " [-6.91387122 -2.86892335]\n",
            " [-1.78732136  9.00604274]]\n"
          ]
        },
        {
          "output_type": "display_data",
          "data": {
            "text/plain": [
              "<Figure size 432x288 with 1 Axes>"
            ],
            "image/png": "[encoded data removed]"
          },
          "metadata": {
            "needs_background": "light"
          }
        }
      ]
    },
    {
      "cell_type": "code",
      "metadata": {
        "id": "DlI06oCvbnd_",
        "colab": {
          "base_uri": "https://localhost:8080/"
        },
        "outputId": "4d21007d-decb-490f-a25c-eed6a69e5326"
      },
      "source": [
        "diferencia=np.amax(abs(C-C1))\n",
        "print(C)\n",
        "C=C1\n",
        "print(diferencia)\n",
        "print(C)"
      ],
      "execution_count": null,
      "outputs": [
        {
          "output_type": "stream",
          "name": "stdout",
          "text": [
            "[[ 1.54005663  0.37787334]\n",
            " [-6.92634569 -2.85067538]\n",
            " [ 3.10828648 -5.86342906]]\n",
            "14.869471799528288\n",
            "[[ 1.54924293  0.42215596]\n",
            " [-6.91387122 -2.86892335]\n",
            " [-1.78732136  9.00604274]]\n"
          ]
        }
      ]
    },
    {
      "cell_type": "markdown",
      "source": [
        "diferencia que hay entre los 2 centroides que tenemos\n",
        "\n",
        "2.99(lo que esta entre las matrices) es el maximo de la diferencia de la media entre todos los centroides "
      ],
      "metadata": {
        "id": "JXrnn7_cWLuk"
      }
    },
    {
      "cell_type": "markdown",
      "metadata": {
        "id": "ltq-0t-zcXzX"
      },
      "source": [
        "Si la diferencia entre los nuevos centrodes C1 y los antíguos no es la adecuada volver a **(A)**"
      ]
    },
    {
      "cell_type": "markdown",
      "metadata": {
        "id": "7SLDAUk3jbhK"
      },
      "source": [
        "# Sciki-Learn [K-Mean](https://scikit-learn.org/stable/modules/generated/sklearn.cluster.KMeans.html#sklearn.cluster.KMeans)"
      ]
    },
    {
      "cell_type": "markdown",
      "source": [
        "link con todas la formulas de kmean\n",
        "\n",
        "init puedes indicar donde iniciar, por si el modelo se atasca en un punto\n",
        "\n",
        "init: kmean++ hace una inspeccion de datos para encontrar una distribucion que tiene mas o menos los datos, y apartir de ahi obtiene un centroido que se separe el maximo entre ellos y asi cappture el maximo de datos"
      ],
      "metadata": {
        "id": "bA4-taS3adHW"
      }
    },
    {
      "cell_type": "markdown",
      "source": [
        "Contiene toda la libreria de python(tiene pagina web)"
      ],
      "metadata": {
        "id": "vKfQWvMdXVxn"
      }
    },
    {
      "cell_type": "markdown",
      "source": [
        "ajusta con m.fit\n",
        "\n",
        "replica con m.pred"
      ],
      "metadata": {
        "id": "Ua9GcPl7YlBi"
      }
    },
    {
      "cell_type": "markdown",
      "metadata": {
        "id": "bJ11B2i9zQld"
      },
      "source": [
        "## Ejemplo"
      ]
    },
    {
      "cell_type": "markdown",
      "source": [
        "2 lineas nuevas, que nos indica que tipo de modelos quiero utilizar\n",
        "\n",
        "from sklearn.cluester(zona cluster) coger kmeans\n",
        "\n",
        "form sklear.datasets(zona datasets)"
      ],
      "metadata": {
        "id": "syBdLcooYq_t"
      }
    },
    {
      "cell_type": "code",
      "metadata": {
        "id": "LBB31RQKjjyE",
        "colab": {
          "base_uri": "https://localhost:8080/",
          "height": 34
        },
        "outputId": "fcc5dbce-68d6-4e1f-fec2-c61b32781a14"
      },
      "source": [
        "# Author: Phil Roth <mr.phil.roth@gmail.com>\n",
        "# License: BSD 3 clause\n",
        "\n",
        "import numpy as np\n",
        "import matplotlib.pyplot as plt\n",
        "\n",
        "from sklearn.cluster import KMeans\n",
        "from sklearn.datasets import make_blobs\n",
        "\n",
        "plt.figure(figsize=(12, 12))\n",
        "\n",
        "n_samples = 1500\n",
        "random_state = 170\n",
        "X, y = make_blobs(n_samples=n_samples, random_state=random_state)"
      ],
      "execution_count": null,
      "outputs": [
        {
          "output_type": "display_data",
          "data": {
            "text/plain": [
              "<Figure size 864x864 with 0 Axes>"
            ]
          },
          "metadata": {}
        }
      ]
    },
    {
      "cell_type": "markdown",
      "source": [
        "Resultado una vez hecho el modelo completo\n",
        "\n",
        "Kmeans, con 3 cluster(3 clases), estado inicial random -> modelo KM\n",
        "\n",
        "Despues **ajustar** = fit_predict(X) x que hemos cogido, (puntos x e y que hemos generado.\n",
        "\n"
      ],
      "metadata": {
        "id": "glNJ2lq6Y92M"
      }
    },
    {
      "cell_type": "markdown",
      "source": [
        "Aqui no se divide en test o train, ya que lo quieres hacer en tu modelo"
      ],
      "metadata": {
        "id": "lTxDpPPWZd8y"
      }
    },
    {
      "cell_type": "code",
      "metadata": {
        "id": "YGuG_E-2j0fA",
        "colab": {
          "base_uri": "https://localhost:8080/",
          "height": 298
        },
        "outputId": "b22c317d-0d3b-41bc-a6ed-1fd3899170db"
      },
      "source": [
        "KM= KMeans(n_clusters=3, random_state=random_state)\n",
        "y_pred=KM.fit_predict(X)\n",
        "plt.scatter(X[:, 0], X[:, 1], c=y_pred)\n",
        "plt.title(\"Resultados\")"
      ],
      "execution_count": null,
      "outputs": [
        {
          "output_type": "execute_result",
          "data": {
            "text/plain": [
              "Text(0.5, 1.0, 'Resultados')"
            ]
          },
          "metadata": {},
          "execution_count": 32
        },
        {
          "output_type": "display_data",
          "data": {
            "text/plain": [
              "<Figure size 432x288 with 1 Axes>"
            ],
            "image/png": "[encoded data removed]"
          },
          "metadata": {
            "needs_background": "light"
          }
        }
      ]
    },
    {
      "cell_type": "markdown",
      "metadata": {
        "id": "JCvybUxlly5k"
      },
      "source": [
        "**Atributos** del Objeto K-means\n",
        "\n",
        "|Attributo|Significado|\n",
        "|---------|-----------|\n",
        "|**cluster_centers**| Coordenadas de los centroides|\n",
        "|**labels**|Grupo de cada punto|\n",
        "|**inertia**| Suma de los cuadrados de los puntos de cada grupo a su centroide|\n",
        "|**n_iter**| Número de iteraciones|\n"
      ]
    },
    {
      "cell_type": "code",
      "metadata": {
        "id": "25wMXvqelqTZ",
        "colab": {
          "base_uri": "https://localhost:8080/"
        },
        "outputId": "f549f24e-08b8-4cc0-fc87-12783ccb53c8"
      },
      "source": [
        "print(KM.cluster_centers_)"
      ],
      "execution_count": null,
      "outputs": [
        {
          "output_type": "stream",
          "name": "stdout",
          "text": [
            "[[ 1.91176144  0.40634045]\n",
            " [-8.94137566 -5.48137132]\n",
            " [-4.55490993  0.02920864]]\n"
          ]
        }
      ]
    },
    {
      "cell_type": "markdown",
      "metadata": {
        "id": "1yVXxQkwq0jg"
      },
      "source": [
        "## Pasaje del Titatic"
      ]
    },
    {
      "cell_type": "code",
      "metadata": {
        "id": "QcEKdzFqrFyh",
        "colab": {
          "base_uri": "https://localhost:8080/"
        },
        "outputId": "1b58abac-5273-4f6d-fa40-7b717d620e53"
      },
      "source": [
        "%cd /content/drive/My Drive/sesion5/k-means"
      ],
      "execution_count": null,
      "outputs": [
        {
          "output_type": "stream",
          "name": "stdout",
          "text": [
            "[Errno 2] No such file or directory: '/content/drive/My Drive/sesion5/k-means'\n",
            "/content\n"
          ]
        }
      ]
    },
    {
      "cell_type": "markdown",
      "source": [
        "panda y matplot que vamos a utilizar"
      ],
      "metadata": {
        "id": "iYb1D051gk4F"
      }
    },
    {
      "cell_type": "code",
      "metadata": {
        "id": "2yZpAgkKq7Ct",
        "colab": {
          "base_uri": "https://localhost:8080/",
          "height": 52
        },
        "outputId": "91a207e2-f00f-435d-c593-d431dce7b770"
      },
      "source": [
        "import pandas as pd\n",
        "import matplotlib.pyplot as plt\n",
        "plt.figure(figsize=(12, 12))"
      ],
      "execution_count": null,
      "outputs": [
        {
          "output_type": "execute_result",
          "data": {
            "text/plain": [
              "<Figure size 864x864 with 0 Axes>"
            ]
          },
          "metadata": {},
          "execution_count": 35
        },
        {
          "output_type": "display_data",
          "data": {
            "text/plain": [
              "<Figure size 864x864 with 0 Axes>"
            ]
          },
          "metadata": {}
        }
      ]
    },
    {
      "cell_type": "markdown",
      "metadata": {
        "id": "ualOqQIsrT6V"
      },
      "source": [
        "Leer los datos del pasaje del fichero titanic.csv mediante **pd.load_csv()**"
      ]
    },
    {
      "cell_type": "markdown",
      "source": [
        "se lee el fichero del titanic\n",
        "\n",
        "panda para leer fichero\n",
        "\n",
        "3 puntitos y copiar ruta(titanic.csv)\n",
        "\n",
        "dataframe con nombre titanic\n",
        "\n",
        "segunda linea, selecciona años y coste del pasaje; copy(deep) copia profunda de esos datos, es decir que se obtiene otro dataframe(cluster_data) solo con esas 2 columnas\n",
        "\n",
        "3. se quitan nas\n",
        "\n",
        "4. ordenar por precio del pasaje y edad\n",
        "\n",
        "5. pintar\n",
        "\n",
        "plt cluster arrya que es el que esta ordenado"
      ],
      "metadata": {
        "id": "uegSN7AJgqJF"
      }
    },
    {
      "cell_type": "code",
      "metadata": {
        "id": "mU_R9rgbrnVF",
        "colab": {
          "base_uri": "https://localhost:8080/",
          "height": 386
        },
        "outputId": "05fe9c9a-0016-49a6-f29e-965a72f5a39d"
      },
      "source": [
        "titanic=pd.read_csv('titanic.csv')\n",
        "cluster_data = titanic[['Fare','Age']].copy(deep=True)\n",
        "cluster_data.dropna(axis=0, inplace=True)\n",
        "cluster_data.sort_values(by=['Fare','Age'], inplace=True)\n",
        "cluster_array = np.array(cluster_data)\n",
        "print(cluster_data.head())\n",
        "plt.scatter(cluster_array[:,0],cluster_array[:,1])"
      ],
      "execution_count": null,
      "outputs": [
        {
          "output_type": "stream",
          "name": "stdout",
          "text": [
            "     Fare   Age\n",
            "302   0.0  19.0\n",
            "271   0.0  25.0\n",
            "179   0.0  36.0\n",
            "822   0.0  38.0\n",
            "806   0.0  39.0\n"
          ]
        },
        {
          "output_type": "execute_result",
          "data": {
            "text/plain": [
              "<matplotlib.collections.PathCollection at 0x7f4f0e200d30>"
            ]
          },
          "metadata": {},
          "execution_count": 36
        },
        {
          "output_type": "display_data",
          "data": {
            "text/plain": [
              "<Figure size 432x288 with 1 Axes>"
            ],
            "image/png": "[encoded data removed]"
          },
          "metadata": {
            "needs_background": "light"
          }
        }
      ]
    },
    {
      "cell_type": "code",
      "source": [
        "titanic.head()"
      ],
      "metadata": {
        "colab": {
          "base_uri": "https://localhost:8080/",
          "height": 206
        },
        "id": "PfknPimRh1Bs",
        "outputId": "f10d02c1-268b-44ed-9192-5de12249f815"
      },
      "execution_count": null,
      "outputs": [
        {
          "output_type": "execute_result",
          "data": {
            "text/plain": [
              "   PassengerId  Survived  Pclass  \\\n",
              "0            1         0       3   \n",
              "1            2         1       1   \n",
              "2            3         1       3   \n",
              "3            4         1       1   \n",
              "4            5         0       3   \n",
              "\n",
              "                                                Name     Sex   Age  SibSp  \\\n",
              "0                            Braund, Mr. Owen Harris    male  22.0      1   \n",
              "1  Cumings, Mrs. John Bradley (Florence Briggs Th...  female  38.0      1   \n",
              "2                             Heikkinen, Miss. Laina  female  26.0      0   \n",
              "3       Futrelle, Mrs. Jacques Heath (Lily May Peel)  female  35.0      1   \n",
              "4                           Allen, Mr. William Henry    male  35.0      0   \n",
              "\n",
              "   Parch            Ticket     Fare Cabin Embarked  \n",
              "0      0         A/5 21171   7.2500   NaN        S  \n",
              "1      0          PC 17599  71.2833   C85        C  \n",
              "2      0  STON/O2. 3101282   7.9250   NaN        S  \n",
              "3      0            113803  53.1000  C123        S  \n",
              "4      0            373450   8.0500   NaN        S  "
            ],
            "text/html": [
              "\n",
              "  <div id=\"df-d8cfcf98-3977-4433-9f10-8bac359dbbb8\">\n",
              "    <div class=\"colab-df-container\">\n",
              "      <div>\n",
              "<style scoped>\n",
              "    .dataframe tbody tr th:only-of-type {\n",
              "        vertical-align: middle;\n",
              "    }\n",
              "\n",
              "    .dataframe tbody tr th {\n",
              "        vertical-align: top;\n",
              "    }\n",
              "\n",
              "    .dataframe thead th {\n",
              "        text-align: right;\n",
              "    }\n",
              "</style>\n",
              "<table border=\"1\" class=\"dataframe\">\n",
              "  <thead>\n",
              "    <tr style=\"text-align: right;\">\n",
              "      <th></th>\n",
              "      <th>PassengerId</th>\n",
              "      <th>Survived</th>\n",
              "      <th>Pclass</th>\n",
              "      <th>Name</th>\n",
              "      <th>Sex</th>\n",
              "      <th>Age</th>\n",
              "      <th>SibSp</th>\n",
              "      <th>Parch</th>\n",
              "      <th>Ticket</th>\n",
              "      <th>Fare</th>\n",
              "      <th>Cabin</th>\n",
              "      <th>Embarked</th>\n",
              "    </tr>\n",
              "  </thead>\n",
              "  <tbody>\n",
              "    <tr>\n",
              "      <th>0</th>\n",
              "      <td>1</td>\n",
              "      <td>0</td>\n",
              "      <td>3</td>\n",
              "      <td>Braund, Mr. Owen Harris</td>\n",
              "      <td>male</td>\n",
              "      <td>22.0</td>\n",
              "      <td>1</td>\n",
              "      <td>0</td>\n",
              "      <td>A/5 21171</td>\n",
              "      <td>7.2500</td>\n",
              "      <td>NaN</td>\n",
              "      <td>S</td>\n",
              "    </tr>\n",
              "    <tr>\n",
              "      <th>1</th>\n",
              "      <td>2</td>\n",
              "      <td>1</td>\n",
              "      <td>1</td>\n",
              "      <td>Cumings, Mrs. John Bradley (Florence Briggs Th...</td>\n",
              "      <td>female</td>\n",
              "      <td>38.0</td>\n",
              "      <td>1</td>\n",
              "      <td>0</td>\n",
              "      <td>PC 17599</td>\n",
              "      <td>71.2833</td>\n",
              "      <td>C85</td>\n",
              "      <td>C</td>\n",
              "    </tr>\n",
              "    <tr>\n",
              "      <th>2</th>\n",
              "      <td>3</td>\n",
              "      <td>1</td>\n",
              "      <td>3</td>\n",
              "      <td>Heikkinen, Miss. Laina</td>\n",
              "      <td>female</td>\n",
              "      <td>26.0</td>\n",
              "      <td>0</td>\n",
              "      <td>0</td>\n",
              "      <td>STON/O2. 3101282</td>\n",
              "      <td>7.9250</td>\n",
              "      <td>NaN</td>\n",
              "      <td>S</td>\n",
              "    </tr>\n",
              "    <tr>\n",
              "      <th>3</th>\n",
              "      <td>4</td>\n",
              "      <td>1</td>\n",
              "      <td>1</td>\n",
              "      <td>Futrelle, Mrs. Jacques Heath (Lily May Peel)</td>\n",
              "      <td>female</td>\n",
              "      <td>35.0</td>\n",
              "      <td>1</td>\n",
              "      <td>0</td>\n",
              "      <td>113803</td>\n",
              "      <td>53.1000</td>\n",
              "      <td>C123</td>\n",
              "      <td>S</td>\n",
              "    </tr>\n",
              "    <tr>\n",
              "      <th>4</th>\n",
              "      <td>5</td>\n",
              "      <td>0</td>\n",
              "      <td>3</td>\n",
              "      <td>Allen, Mr. William Henry</td>\n",
              "      <td>male</td>\n",
              "      <td>35.0</td>\n",
              "      <td>0</td>\n",
              "      <td>0</td>\n",
              "      <td>373450</td>\n",
              "      <td>8.0500</td>\n",
              "      <td>NaN</td>\n",
              "      <td>S</td>\n",
              "    </tr>\n",
              "  </tbody>\n",
              "</table>\n",
              "</div>\n",
              "      <button class=\"colab-df-convert\" onclick=\"convertToInteractive('df-d8cfcf98-3977-4433-9f10-8bac359dbbb8')\"\n",
              "              title=\"Convert this dataframe to an interactive table.\"\n",
              "              style=\"display:none;\">\n",
              "        \n",
              "  <svg xmlns=\"http://www.w3.org/2000/svg\" height=\"24px\"viewBox=\"0 0 24 24\"\n",
              "       width=\"24px\">\n",
              "    <path d=\"M0 0h24v24H0V0z\" fill=\"none\"/>\n",
              "    <path d=\"M18.56 5.44l.94 2.06.94-2.06 2.06-.94-2.06-.94-.94-2.06-.94 2.06-2.06.94zm-11 1L8.5 8.5l.94-2.06 2.06-.94-2.06-.94L8.5 2.5l-.94 2.06-2.06.94zm10 10l.94 2.06.94-2.06 2.06-.94-2.06-.94-.94-2.06-.94 2.06-2.06.94z\"/><path d=\"M17.41 7.96l-1.37-1.37c-.4-.4-.92-.59-1.43-.59-.52 0-1.04.2-1.43.59L10.3 9.45l-7.72 7.72c-.78.78-.78 2.05 0 2.83L4 21.41c.39.39.9.59 1.41.59.51 0 1.02-.2 1.41-.59l7.78-7.78 2.81-2.81c.8-.78.8-2.07 0-2.86zM5.41 20L4 18.59l7.72-7.72 1.47 1.35L5.41 20z\"/>\n",
              "  </svg>\n",
              "      </button>\n",
              "      \n",
              "  <style>\n",
              "    .colab-df-container {\n",
              "      display:flex;\n",
              "      flex-wrap:wrap;\n",
              "      gap: 12px;\n",
              "    }\n",
              "\n",
              "    .colab-df-convert {\n",
              "      background-color: #E8F0FE;\n",
              "      border: none;\n",
              "      border-radius: 50%;\n",
              "      cursor: pointer;\n",
              "      display: none;\n",
              "      fill: #1967D2;\n",
              "      height: 32px;\n",
              "      padding: 0 0 0 0;\n",
              "      width: 32px;\n",
              "    }\n",
              "\n",
              "    .colab-df-convert:hover {\n",
              "      background-color: #E2EBFA;\n",
              "      box-shadow: 0px 1px 2px rgba(60, 64, 67, 0.3), 0px 1px 3px 1px rgba(60, 64, 67, 0.15);\n",
              "      fill: #174EA6;\n",
              "    }\n",
              "\n",
              "    [theme=dark] .colab-df-convert {\n",
              "      background-color: #3B4455;\n",
              "      fill: #D2E3FC;\n",
              "    }\n",
              "\n",
              "    [theme=dark] .colab-df-convert:hover {\n",
              "      background-color: #434B5C;\n",
              "      box-shadow: 0px 1px 3px 1px rgba(0, 0, 0, 0.15);\n",
              "      filter: drop-shadow(0px 1px 2px rgba(0, 0, 0, 0.3));\n",
              "      fill: #FFFFFF;\n",
              "    }\n",
              "  </style>\n",
              "\n",
              "      <script>\n",
              "        const buttonEl =\n",
              "          document.querySelector('#df-d8cfcf98-3977-4433-9f10-8bac359dbbb8 button.colab-df-convert');\n",
              "        buttonEl.style.display =\n",
              "          google.colab.kernel.accessAllowed ? 'block' : 'none';\n",
              "\n",
              "        async function convertToInteractive(key) {\n",
              "          const element = document.querySelector('#df-d8cfcf98-3977-4433-9f10-8bac359dbbb8');\n",
              "          const dataTable =\n",
              "            await google.colab.kernel.invokeFunction('convertToInteractive',\n",
              "                                                     [key], {});\n",
              "          if (!dataTable) return;\n",
              "\n",
              "          const docLinkHtml = 'Like what you see? Visit the ' +\n",
              "            '<a target=\"_blank\" href=https://colab.research.google.com/notebooks/data_table.ipynb>data table notebook</a>'\n",
              "            + ' to learn more about interactive tables.';\n",
              "          element.innerHTML = '';\n",
              "          dataTable['output_type'] = 'display_data';\n",
              "          await google.colab.output.renderOutput(dataTable, element);\n",
              "          const docLink = document.createElement('div');\n",
              "          docLink.innerHTML = docLinkHtml;\n",
              "          element.appendChild(docLink);\n",
              "        }\n",
              "      </script>\n",
              "    </div>\n",
              "  </div>\n",
              "  "
            ]
          },
          "metadata": {},
          "execution_count": 37
        }
      ]
    },
    {
      "cell_type": "markdown",
      "source": [
        "se intenta hacer un cluster de 2 para agrupar a la gente del titanic"
      ],
      "metadata": {
        "id": "o-cJhWiQjAY4"
      }
    },
    {
      "cell_type": "code",
      "metadata": {
        "id": "Hryy_QeNsh3i",
        "colab": {
          "base_uri": "https://localhost:8080/",
          "height": 300
        },
        "outputId": "a1addeb2-0330-4b1e-d73d-3dad01bad4c5"
      },
      "source": [
        "KM=KMeans(n_clusters=2)\n",
        "y_pred=KM.fit_predict(cluster_array)\n",
        "plt.scatter(cluster_array[:,0],cluster_array[:,1],c=y_pred)\n",
        "print(KM.cluster_centers_)"
      ],
      "execution_count": null,
      "outputs": [
        {
          "output_type": "stream",
          "name": "stdout",
          "text": [
            "[[ 25.41562456  29.55919118]\n",
            " [220.27230294  32.49764706]]\n"
          ]
        },
        {
          "output_type": "display_data",
          "data": {
            "text/plain": [
              "<Figure size 432x288 with 1 Axes>"
            ],
            "image/png": "[encoded data removed]"
          },
          "metadata": {
            "needs_background": "light"
          }
        }
      ]
    },
    {
      "cell_type": "markdown",
      "source": [
        "magnitudes entre edad y precio de pasaje son muy diferentes, de ahi que hay aque normalizar los datos; cluster ha marcado la magnitud mas grande"
      ],
      "metadata": {
        "id": "Ombye3t-jXeI"
      }
    },
    {
      "cell_type": "markdown",
      "metadata": {
        "id": "QoA6sfCK-Q1C"
      },
      "source": [
        "## Normalizar los datos"
      ]
    },
    {
      "cell_type": "markdown",
      "metadata": {
        "id": "l3hPLLbG-Wsp"
      },
      "source": [
        "Entre los diferentes tipos de normalización de los valores de los datos que podemos hacer están:\n",
        "\n",
        "- Escalado frente al máximo : $x'=\\frac{x}{max(|X|)}$\n",
        "- Normalización entre el mínimo y máximo: $x'=\\frac{x-x_{min}}{x_{max}-x_{min}}$\n",
        "- Estandarización. Siendo $\\mu_x$, $\\sigma_x$  la media de y desviación estandar de  X: $x_{std}=\\frac{x-\\mu}{\\sigma}$"
      ]
    },
    {
      "cell_type": "markdown",
      "source": [
        "preproccesing que tiene paquetes de librerias para escalar"
      ],
      "metadata": {
        "id": "bhniEEHskSjv"
      }
    },
    {
      "cell_type": "markdown",
      "metadata": {
        "id": "11DTfVg1BKpS"
      },
      "source": [
        "### **Escalado con el máximo**"
      ]
    },
    {
      "cell_type": "code",
      "metadata": {
        "id": "3xmq8xllBRLh",
        "colab": {
          "base_uri": "https://localhost:8080/"
        },
        "outputId": "3611f679-5277-4906-8c01-e42071204b9e"
      },
      "source": [
        "from sklearn.preprocessing import MaxAbsScaler\n",
        "# creamos el objeto an abs_scaler\n",
        "abs_scaler = MaxAbsScaler()\n",
        "abs_scaler.fit(cluster_array)"
      ],
      "execution_count": null,
      "outputs": [
        {
          "output_type": "execute_result",
          "data": {
            "text/plain": [
              "MaxAbsScaler()"
            ]
          },
          "metadata": {},
          "execution_count": 39
        }
      ]
    },
    {
      "cell_type": "code",
      "metadata": {
        "id": "hTi4t7WICBFJ",
        "colab": {
          "base_uri": "https://localhost:8080/"
        },
        "outputId": "897320f9-d661-44d5-c15a-0c92ca0a385f"
      },
      "source": [
        "# the maximum absolute values calculated by the fit method\n",
        "abs_scaler.max_abs_"
      ],
      "execution_count": null,
      "outputs": [
        {
          "output_type": "execute_result",
          "data": {
            "text/plain": [
              "array([512.3292,  80.    ])"
            ]
          },
          "metadata": {},
          "execution_count": 40
        }
      ]
    },
    {
      "cell_type": "code",
      "metadata": {
        "id": "4TVuJbqdCPVR",
        "colab": {
          "base_uri": "https://localhost:8080/",
          "height": 282
        },
        "outputId": "e6521a00-e83a-47c0-fe1a-39cb95218bb9"
      },
      "source": [
        "#Escalamos los datos\n",
        "scaled_data = abs_scaler.transform(cluster_array)\n",
        "plt.scatter(scaled_data[:,0],scaled_data[:,1])"
      ],
      "execution_count": null,
      "outputs": [
        {
          "output_type": "execute_result",
          "data": {
            "text/plain": [
              "<matplotlib.collections.PathCollection at 0x7f4f0e157610>"
            ]
          },
          "metadata": {},
          "execution_count": 41
        },
        {
          "output_type": "display_data",
          "data": {
            "text/plain": [
              "<Figure size 432x288 with 1 Axes>"
            ],
            "image/png": "[encoded data removed]"
          },
          "metadata": {
            "needs_background": "light"
          }
        }
      ]
    },
    {
      "cell_type": "code",
      "metadata": {
        "id": "SG2mxBALC3wl",
        "colab": {
          "base_uri": "https://localhost:8080/",
          "height": 300
        },
        "outputId": "6dd3d4fd-82cc-4bd5-af1b-b8156f0af952"
      },
      "source": [
        "KM=KMeans(n_clusters=2)\n",
        "y_pred=KM.fit_predict(scaled_data)\n",
        "plt.scatter(scaled_data[:,0],scaled_data[:,1],c=y_pred)\n",
        "print(KM.cluster_centers_)"
      ],
      "execution_count": null,
      "outputs": [
        {
          "output_type": "stream",
          "name": "stdout",
          "text": [
            "[[0.05516694 0.26432925]\n",
            " [0.09031322 0.56367647]]\n"
          ]
        },
        {
          "output_type": "display_data",
          "data": {
            "text/plain": [
              "<Figure size 432x288 with 1 Axes>"
            ],
            "image/png": "[encoded data removed]"
          },
          "metadata": {
            "needs_background": "light"
          }
        }
      ]
    },
    {
      "cell_type": "code",
      "metadata": {
        "id": "YyX_D08MDa4x",
        "colab": {
          "base_uri": "https://localhost:8080/"
        },
        "outputId": "00ba5453-e327-4bd7-d792-bbb75e678423"
      },
      "source": [
        "abs_scaler.inverse_transform(KM.cluster_centers_)"
      ],
      "execution_count": null,
      "outputs": [
        {
          "output_type": "execute_result",
          "data": {
            "text/plain": [
              "array([[28.26363377, 21.14633987],\n",
              "       [46.27009843, 45.09411765]])"
            ]
          },
          "metadata": {},
          "execution_count": 43
        }
      ]
    },
    {
      "cell_type": "markdown",
      "source": [
        "ahora nos lo divide por la edad"
      ],
      "metadata": {
        "id": "E5eBMfRlkwYv"
      }
    },
    {
      "cell_type": "markdown",
      "metadata": {
        "id": "zS-WmXfaEBaS"
      },
      "source": [
        "### Mínimo-Maximo"
      ]
    },
    {
      "cell_type": "markdown",
      "source": [
        "otro tipo de escala\n",
        "\n",
        "ahora se importa escala de minimo maximo"
      ],
      "metadata": {
        "id": "bUIjjrqQk705"
      }
    },
    {
      "cell_type": "code",
      "metadata": {
        "id": "oyPUaUdpD3yS",
        "colab": {
          "base_uri": "https://localhost:8080/",
          "height": 282
        },
        "outputId": "a1f9b381-4861-47b6-ae80-b138f4bd245f"
      },
      "source": [
        "from sklearn.preprocessing import MinMaxScaler\n",
        "# creamos el objeto an abs_scaler\n",
        "scaler = MinMaxScaler()\n",
        "scaler.fit(cluster_array)\n",
        "#Escalamos los datos\n",
        "scaled_data = abs_scaler.transform(cluster_array)\n",
        "plt.scatter(scaled_data[:,0],scaled_data[:,1])"
      ],
      "execution_count": null,
      "outputs": [
        {
          "output_type": "execute_result",
          "data": {
            "text/plain": [
              "<matplotlib.collections.PathCollection at 0x7f4f0e31dd30>"
            ]
          },
          "metadata": {},
          "execution_count": 44
        },
        {
          "output_type": "display_data",
          "data": {
            "text/plain": [
              "<Figure size 432x288 with 1 Axes>"
            ],
            "image/png": "[encoded data removed]"
          },
          "metadata": {
            "needs_background": "light"
          }
        }
      ]
    },
    {
      "cell_type": "code",
      "metadata": {
        "id": "sCaeke4TEzI6",
        "colab": {
          "base_uri": "https://localhost:8080/",
          "height": 300
        },
        "outputId": "c45e2149-3324-4bc5-f85f-25350c3b8685"
      },
      "source": [
        "KM=KMeans(n_clusters=2)\n",
        "y_pred=KM.fit_predict(scaled_data)\n",
        "plt.scatter(scaled_data[:,0],scaled_data[:,1],c=y_pred)\n",
        "print(KM.cluster_centers_)"
      ],
      "execution_count": null,
      "outputs": [
        {
          "output_type": "stream",
          "name": "stdout",
          "text": [
            "[[0.05516694 0.26432925]\n",
            " [0.09031322 0.56367647]]\n"
          ]
        },
        {
          "output_type": "display_data",
          "data": {
            "text/plain": [
              "<Figure size 432x288 with 1 Axes>"
            ],
            "image/png": "[encoded data removed]"
          },
          "metadata": {
            "needs_background": "light"
          }
        }
      ]
    },
    {
      "cell_type": "code",
      "metadata": {
        "id": "ywqBAKUaE-SB",
        "colab": {
          "base_uri": "https://localhost:8080/"
        },
        "outputId": "2110355b-e1dd-465b-e3d2-ef93ae3b912c"
      },
      "source": [
        "scaler.inverse_transform(KM.cluster_centers_)"
      ],
      "execution_count": null,
      "outputs": [
        {
          "output_type": "execute_result",
          "data": {
            "text/plain": [
              "array([[28.26363377, 21.45532158],\n",
              "       [46.27009843, 45.27737353]])"
            ]
          },
          "metadata": {},
          "execution_count": 46
        }
      ]
    },
    {
      "cell_type": "markdown",
      "metadata": {
        "id": "8F6y3gmFGxzC"
      },
      "source": [
        "### Estandarizar"
      ]
    },
    {
      "cell_type": "markdown",
      "source": [
        "esta es la normalizacion estandard"
      ],
      "metadata": {
        "id": "lvb8u2S5lIR-"
      }
    },
    {
      "cell_type": "markdown",
      "source": [],
      "metadata": {
        "id": "2rVhhCPGlSAg"
      }
    },
    {
      "cell_type": "code",
      "metadata": {
        "id": "M8laxAEYG2Vp",
        "colab": {
          "base_uri": "https://localhost:8080/",
          "height": 282
        },
        "outputId": "06b0654b-8fe3-4c3a-f53e-0829b3469332"
      },
      "source": [
        "from sklearn.preprocessing import StandardScaler\n",
        "# creamos el objeto an abs_scaler\n",
        "standar = StandardScaler()\n",
        "standar.fit(cluster_array)\n",
        "#Escalamos los datos\n",
        "scaled_data = standar.transform(cluster_array)\n",
        "plt.scatter(scaled_data[:,0],scaled_data[:,1])"
      ],
      "execution_count": null,
      "outputs": [
        {
          "output_type": "execute_result",
          "data": {
            "text/plain": [
              "<matplotlib.collections.PathCollection at 0x7f4f0e483460>"
            ]
          },
          "metadata": {},
          "execution_count": 47
        },
        {
          "output_type": "display_data",
          "data": {
            "text/plain": [
              "<Figure size 432x288 with 1 Axes>"
            ],
            "image/png": "[encoded data removed]"
          },
          "metadata": {
            "needs_background": "light"
          }
        }
      ]
    },
    {
      "cell_type": "markdown",
      "source": [
        "media es 0 en la grafica y desviacion tipa 1\n",
        "\n",
        "es la mejor"
      ],
      "metadata": {
        "id": "bK9RdUmolUnl"
      }
    },
    {
      "cell_type": "code",
      "metadata": {
        "id": "1tT541VXHUoV",
        "colab": {
          "base_uri": "https://localhost:8080/",
          "height": 300
        },
        "outputId": "d3def716-6add-43b4-f701-cc5575e2af4a"
      },
      "source": [
        "KM=KMeans(n_clusters=2)\n",
        "y_pred=KM.fit_predict(scaled_data)\n",
        "plt.scatter(scaled_data[:,0],scaled_data[:,1],c=y_pred)\n",
        "print(KM.cluster_centers_)"
      ],
      "execution_count": null,
      "outputs": [
        {
          "output_type": "stream",
          "name": "stdout",
          "text": [
            "[[ 0.58580614  1.09913715]\n",
            " [-0.26088533 -0.48949428]]\n"
          ]
        },
        {
          "output_type": "display_data",
          "data": {
            "text/plain": [
              "<Figure size 432x288 with 1 Axes>"
            ],
            "image/png": "[encoded data removed]"
          },
          "metadata": {
            "needs_background": "light"
          }
        }
      ]
    },
    {
      "cell_type": "code",
      "metadata": {
        "id": "CIkztn9rHgzh",
        "colab": {
          "base_uri": "https://localhost:8080/"
        },
        "outputId": "a6c2edaa-df62-41a1-9456-9286a70c3e73"
      },
      "source": [
        "scaler.inverse_transform(KM.cluster_centers_)"
      ],
      "execution_count": null,
      "outputs": [
        {
          "output_type": "execute_result",
          "data": {
            "text/plain": [
              "array([[ 300.12559093,   87.88933412],\n",
              "       [-133.65917005,  -38.53395447]])"
            ]
          },
          "metadata": {},
          "execution_count": 49
        }
      ]
    },
    {
      "cell_type": "markdown",
      "metadata": {
        "id": "T7ioThU_xslx"
      },
      "source": [
        "## Flores Iris"
      ]
    },
    {
      "cell_type": "markdown",
      "source": [
        "este data set esta dentro esta incluido por lo que se impora online"
      ],
      "metadata": {
        "id": "-6_yEvFcltMn"
      }
    },
    {
      "cell_type": "markdown",
      "source": [
        "y es tipo de florecita\n",
        "\n",
        "x variables"
      ],
      "metadata": {
        "id": "cyq8p-S9l3uO"
      }
    },
    {
      "cell_type": "code",
      "metadata": {
        "id": "TunHJKn0xzN9"
      },
      "source": [
        "from sklearn import datasets\n",
        "import matplotlib.pyplot as plt\n",
        "from sklearn.cluster import KMeans\n",
        "X, y = datasets.load_iris(return_X_y=True)"
      ],
      "execution_count": null,
      "outputs": []
    },
    {
      "cell_type": "markdown",
      "source": [
        ".fit significa que le aplicas el ajuste a la salida de kamenas"
      ],
      "metadata": {
        "id": "vYDBgJZSmM0F"
      }
    },
    {
      "cell_type": "code",
      "metadata": {
        "id": "RMyp1ZuvyFWQ"
      },
      "source": [
        "KM = KMeans(n_clusters=3, random_state=1).fit(X)"
      ],
      "execution_count": null,
      "outputs": []
    },
    {
      "cell_type": "markdown",
      "source": [
        "centroides"
      ],
      "metadata": {
        "id": "GHe8MlocmRUw"
      }
    },
    {
      "cell_type": "code",
      "metadata": {
        "id": "BrY1IjMTyXCQ",
        "colab": {
          "base_uri": "https://localhost:8080/"
        },
        "outputId": "c8048c6c-141b-4afe-a4f6-a2a64baa8dfe"
      },
      "source": [
        "KM.cluster_centers_"
      ],
      "execution_count": null,
      "outputs": [
        {
          "output_type": "execute_result",
          "data": {
            "text/plain": [
              "array([[5.9016129 , 2.7483871 , 4.39354839, 1.43387097],\n",
              "       [5.006     , 3.428     , 1.462     , 0.246     ],\n",
              "       [6.85      , 3.07368421, 5.74210526, 2.07105263]])"
            ]
          },
          "metadata": {},
          "execution_count": 52
        }
      ]
    },
    {
      "cell_type": "markdown",
      "source": [
        "valor de inercia, es el valor medio de compagidad de los elementos"
      ],
      "metadata": {
        "id": "uSynYaf_mTpm"
      }
    },
    {
      "cell_type": "code",
      "metadata": {
        "id": "3kyV1ikgy2LA",
        "colab": {
          "base_uri": "https://localhost:8080/"
        },
        "outputId": "0d00dad1-a864-42f1-fc98-aa2514424389"
      },
      "source": [
        "KM.inertia_"
      ],
      "execution_count": null,
      "outputs": [
        {
          "output_type": "execute_result",
          "data": {
            "text/plain": [
              "78.851441426146"
            ]
          },
          "metadata": {},
          "execution_count": 53
        }
      ]
    },
    {
      "cell_type": "markdown",
      "metadata": {
        "id": "OAPHJat_zlop"
      },
      "source": [
        "#Calidad de la partición. Coeficiente [**Silhouette**](https://scikit-learn.org/stable/modules/clustering.html#clustering-performance-evaluation).\n",
        "\n",
        "EL coefiente de  **Silhouette** está definido para cada ejemplo y consta de dos mediadas:\n",
        "\n",
        "- **a:** La media de la distancia entre un punto y **todos los puntos de su grupo**; cuanto mas pequeña mejor\n",
        "- **b:** La media de la distancia entre un punto y **todos los puntos de su grupo más cercano** distinto al suyo; cuanto mas alto mejor, porque mas diferencia respecto a otros grupos\n",
        "\n",
        "Despues se normaliza\n",
        "\n",
        "el coeficiente para un punto simple se calcula como: $s=\\frac{b-a}{max(a,b)}$\n",
        "\n",
        "El coeficiente global se calcula como la media de los coeficientes de cada punto.\n",
        "\n",
        "**Cuanto mayor es el valor del coefiente mejor es la agrupación**"
      ]
    },
    {
      "cell_type": "markdown",
      "source": [
        "para ver cuantos cluster"
      ],
      "metadata": {
        "id": "B1UMml6OmzY4"
      }
    },
    {
      "cell_type": "code",
      "metadata": {
        "id": "WvjcPqOJ1200"
      },
      "source": [
        "from sklearn import metrics\n",
        "from sklearn.metrics import pairwise_distances\n",
        "from sklearn import datasets\n",
        "X, y = datasets.load_iris(return_X_y=True)"
      ],
      "execution_count": null,
      "outputs": []
    },
    {
      "cell_type": "markdown",
      "metadata": {
        "id": "SefPQnjX2SPh"
      },
      "source": [
        "Un uso normal del coeficiente de **Silhouette**"
      ]
    },
    {
      "cell_type": "markdown",
      "source": [
        "Indicamos nosotros el numero de cluster; vamos variando para ver si sube la distancia o no sube\n",
        "\n",
        "Inercia siempre va aumentando el numero de clase,"
      ],
      "metadata": {
        "id": "jilqiyHPnw81"
      }
    },
    {
      "cell_type": "code",
      "metadata": {
        "id": "DfcoSUQl2aom",
        "colab": {
          "base_uri": "https://localhost:8080/"
        },
        "outputId": "ba699db9-d5d0-4934-9e67-cf4cddae5d2f"
      },
      "source": [
        "import numpy as np\n",
        "from sklearn.cluster import KMeans\n",
        "kmeans_model = KMeans(n_clusters=3, random_state=1).fit(X)\n",
        "labels = kmeans_model.labels_\n",
        "metrics.silhouette_score(X, labels, metric='euclidean')"
      ],
      "execution_count": null,
      "outputs": [
        {
          "output_type": "execute_result",
          "data": {
            "text/plain": [
              "0.5528190123564095"
            ]
          },
          "metadata": {},
          "execution_count": 55
        }
      ]
    },
    {
      "cell_type": "markdown",
      "metadata": {
        "id": "VbnUb9NMMK66"
      },
      "source": [
        "# visualización"
      ]
    },
    {
      "cell_type": "code",
      "metadata": {
        "id": "xLrd9FXmKILq"
      },
      "source": [
        "url = 'https://archive.ics.uci.edu/ml/machine-learning-databases/wine/wine.data'\n",
        "cols =  ['Class', 'Alcohol', 'MalicAcid', 'Ash', 'AlcalinityOfAsh', 'Magnesium', 'TotalPhenols', \n",
        "         'Flavanoids', 'NonflavanoidPhenols', 'Proanthocyanins', 'ColorIntensity', \n",
        "         'Hue', 'OD280/OD315', 'Proline']\n",
        "data = pd.read_csv(url, names=cols)"
      ],
      "execution_count": null,
      "outputs": []
    },
    {
      "cell_type": "code",
      "metadata": {
        "id": "wamJfI-IK8QR"
      },
      "source": [
        "y=data['Class']\n",
        "X=data.loc[:,'Alcohol':]"
      ],
      "execution_count": null,
      "outputs": []
    },
    {
      "cell_type": "markdown",
      "metadata": {
        "id": "NJn4Z8ltMWZC"
      },
      "source": [
        "## Por piezas en dos dimensiones"
      ]
    },
    {
      "cell_type": "markdown",
      "source": [
        "distribucion de los vinos respecto a la clase y flavanoids"
      ],
      "metadata": {
        "id": "NZ3vb3Lyolcj"
      }
    },
    {
      "cell_type": "code",
      "metadata": {
        "id": "kEyI0ac4KScZ",
        "colab": {
          "base_uri": "https://localhost:8080/"
        },
        "outputId": "36e4c346-08d2-4756-ae03-f16dff498045"
      },
      "source": [
        "# three different scatter series so the class labels in the legend are distinct\n",
        "plt.scatter(X[y==1]['Flavanoids'], X[y==1]['NonflavanoidPhenols'], label='Class 1', c='red')\n",
        "plt.scatter(X[y==2]['Flavanoids'], X[y==2]['NonflavanoidPhenols'], label='Class 2', c='blue')\n",
        "plt.scatter(X[y==3]['Flavanoids'], X[y==3]['NonflavanoidPhenols'], label='Class 3', c='lightgreen')\n",
        "\n",
        "# Prettify the graph\n",
        "plt.legend()\n",
        "plt.xlabel('Flavanoids')\n",
        "plt.ylabel('NonflavanoidPhenols')\n",
        "\n",
        "# display\n",
        "plt.show()"
      ],
      "execution_count": null,
      "outputs": [
        {
          "output_type": "display_data",
          "data": {
            "text/plain": [
              "<Figure size 432x288 with 1 Axes>"
            ],
            "image/png": "[encoded data removed]"
          },
          "metadata": {
            "needs_background": "light"
          }
        }
      ]
    },
    {
      "cell_type": "markdown",
      "metadata": {
        "id": "sIdGS_elOgQW"
      },
      "source": [
        "## Reducción de la dimensionalidad"
      ]
    },
    {
      "cell_type": "markdown",
      "metadata": {
        "id": "uoXcVW6qPjbR"
      },
      "source": [
        "### Algoritmo **PCA**"
      ]
    },
    {
      "cell_type": "markdown",
      "source": [
        "Para reducir dimensiones\n",
        "\n",
        "PCA = principales componentes"
      ],
      "metadata": {
        "id": "yhQF1bH0orR2"
      }
    },
    {
      "cell_type": "code",
      "metadata": {
        "id": "foGrBRI5Mll3"
      },
      "source": [
        "from sklearn.decomposition import PCA as sklearnPCA\n",
        "from sklearn.preprocessing import MinMaxScaler\n",
        "# creamos el objeto an abs_scaler\n",
        "scaler = MinMaxScaler()\n",
        "scaler.fit(X)\n",
        "X_norm=scaler.transform(X)"
      ],
      "execution_count": null,
      "outputs": []
    },
    {
      "cell_type": "code",
      "metadata": {
        "id": "XG1ttW_HN546",
        "colab": {
          "base_uri": "https://localhost:8080/",
          "height": 265
        },
        "outputId": "ddf914dd-6835-42c9-d1e9-d3c8a43ee452"
      },
      "source": [
        "pca = sklearnPCA(n_components=2) #2 dimensiones lda\n",
        "transformed = pd.DataFrame(pca.fit_transform(X_norm,y))\n",
        "plt.scatter(transformed[y==1][0], transformed[y==1][1], label='Class 1', c='red')\n",
        "plt.scatter(transformed[y==2][0], transformed[y==2][1], label='Class 2', c='blue')\n",
        "plt.scatter(transformed[y==3][0], transformed[y==3][1], label='Class 3', c='lightgreen')\n",
        "\n",
        "plt.legend()\n",
        "plt.show()"
      ],
      "execution_count": null,
      "outputs": [
        {
          "output_type": "display_data",
          "data": {
            "text/plain": [
              "<Figure size 432x288 with 1 Axes>"
            ],
            "image/png": "[encoded data removed]"
          },
          "metadata": {
            "needs_background": "light"
          }
        }
      ]
    },
    {
      "cell_type": "markdown",
      "source": [
        "Problemas para explicar un cluster"
      ],
      "metadata": {
        "id": "4krlpqsuqAv0"
      }
    },
    {
      "cell_type": "markdown",
      "metadata": {
        "id": "DNZ8m6JLPYCD"
      },
      "source": [
        "### Algoritmo **LDA**"
      ]
    },
    {
      "cell_type": "markdown",
      "source": [
        "LDA = analisis discriminante lineal\n",
        "\n",
        "clasificación y reducción de dimensión"
      ],
      "metadata": {
        "id": "wMG38l2RIZ5s"
      }
    },
    {
      "cell_type": "code",
      "metadata": {
        "id": "xOFLKS8dPx4v"
      },
      "source": [
        "from sklearn.discriminant_analysis import LinearDiscriminantAnalysis as LDA\n",
        "from sklearn.preprocessing import MinMaxScaler\n",
        "# creamos el objeto an abs_scaler\n",
        "scaler = MinMaxScaler()\n",
        "scaler.fit(X)\n",
        "X_norm=scaler.transform(X)"
      ],
      "execution_count": null,
      "outputs": []
    },
    {
      "cell_type": "code",
      "metadata": {
        "id": "fjrEWtphQXfj",
        "colab": {
          "base_uri": "https://localhost:8080/",
          "height": 265
        },
        "outputId": "2421ff57-a4db-4365-a62c-31658c6aa6fa"
      },
      "source": [
        "lda = LDA(n_components=2) #2-dimensional LDA\n",
        "lda_transformed = pd.DataFrame(lda.fit_transform(X_norm, y))\n",
        "\n",
        "# Plot all three series\n",
        "plt.scatter(lda_transformed[y==1][0], lda_transformed[y==1][1], label='Class 1', c='red')\n",
        "plt.scatter(lda_transformed[y==2][0], lda_transformed[y==2][1], label='Class 2', c='blue')\n",
        "plt.scatter(lda_transformed[y==3][0], lda_transformed[y==3][1], label='Class 3', c='lightgreen')\n",
        "\n",
        "# Display legend and show plot\n",
        "plt.legend(loc=3)\n",
        "plt.show()"
      ],
      "execution_count": null,
      "outputs": [
        {
          "output_type": "display_data",
          "data": {
            "text/plain": [
              "<Figure size 432x288 with 1 Axes>"
            ],
            "image/png": "[encoded data removed]"
          },
          "metadata": {
            "needs_background": "light"
          }
        }
      ]
    }
  ]
}