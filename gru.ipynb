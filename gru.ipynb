{
  "cells": [
    {
      "cell_type": "markdown",
      "metadata": {
        "id": "view-in-github",
        "colab_type": "text"
      },
      "source": [
        "<a href=\"https://colab.research.google.com/github/MUMADE-TADM/s1_python-rdvicen1/blob/main/gru.ipynb\" target=\"_parent\"><img src=\"https://colab.research.google.com/assets/colab-badge.svg\" alt=\"Open In Colab\"/></a>"
      ]
    },
    {
      "cell_type": "markdown",
      "metadata": {
        "id": "m_kY8a5rr5qC"
      },
      "source": [
        "[Yahoo finance](https://finance.yahoo.com/)\n",
        "\n",
        "Librería:[yfinance](https://algotrading101.com/learn/yfinance-guide/)"
      ]
    },
    {
      "cell_type": "code",
      "execution_count": null,
      "metadata": {
        "id": "U3zKcC8XtEnq",
        "colab": {
          "base_uri": "https://localhost:8080/"
        },
        "outputId": "4ebd8696-cdb5-4ab2-87a6-75ca7a445f06"
      },
      "outputs": [
        {
          "output_type": "stream",
          "name": "stdout",
          "text": [
            "Looking in indexes: https://pypi.org/simple, https://us-python.pkg.dev/colab-wheels/public/simple/\n",
            "Collecting yfinance\n",
            "  Downloading yfinance-0.2.3-py2.py3-none-any.whl (50 kB)\n",
            "\u001b[K     |████████████████████████████████| 50 kB 5.8 MB/s \n",
            "\u001b[?25hRequirement already satisfied: pandas_datareader in /usr/local/lib/python3.8/dist-packages (0.9.0)\n",
            "Collecting pandas_datareader\n",
            "  Downloading pandas_datareader-0.10.0-py3-none-any.whl (109 kB)\n",
            "\u001b[K     |████████████████████████████████| 109 kB 48.0 MB/s \n",
            "\u001b[?25hCollecting beautifulsoup4>=4.11.1\n",
            "  Downloading beautifulsoup4-4.11.1-py3-none-any.whl (128 kB)\n",
            "\u001b[K     |████████████████████████████████| 128 kB 70.3 MB/s \n",
            "\u001b[?25hRequirement already satisfied: numpy>=1.16.5 in /usr/local/lib/python3.8/dist-packages (from yfinance) (1.21.6)\n",
            "Requirement already satisfied: pytz>=2022.5 in /usr/local/lib/python3.8/dist-packages (from yfinance) (2022.6)\n",
            "Requirement already satisfied: lxml>=4.9.1 in /usr/local/lib/python3.8/dist-packages (from yfinance) (4.9.2)\n",
            "Requirement already satisfied: pandas>=1.3.0 in /usr/local/lib/python3.8/dist-packages (from yfinance) (1.3.5)\n",
            "Collecting cryptography>=3.3.2\n",
            "  Downloading cryptography-39.0.0-cp36-abi3-manylinux_2_24_x86_64.whl (4.1 MB)\n",
            "\u001b[K     |████████████████████████████████| 4.1 MB 77.2 MB/s \n",
            "\u001b[?25hCollecting frozendict>=2.3.4\n",
            "  Downloading frozendict-2.3.4-cp38-cp38-manylinux_2_17_x86_64.manylinux2014_x86_64.whl (110 kB)\n",
            "\u001b[K     |████████████████████████████████| 110 kB 92.6 MB/s \n",
            "\u001b[?25hCollecting html5lib>=1.1\n",
            "  Downloading html5lib-1.1-py2.py3-none-any.whl (112 kB)\n",
            "\u001b[K     |████████████████████████████████| 112 kB 85.1 MB/s \n",
            "\u001b[?25hRequirement already satisfied: appdirs>=1.4.4 in /usr/local/lib/python3.8/dist-packages (from yfinance) (1.4.4)\n",
            "Requirement already satisfied: multitasking>=0.0.7 in /usr/local/lib/python3.8/dist-packages (from yfinance) (0.0.11)\n",
            "Collecting requests>=2.26\n",
            "  Downloading requests-2.28.1-py3-none-any.whl (62 kB)\n",
            "\u001b[K     |████████████████████████████████| 62 kB 1.6 MB/s \n",
            "\u001b[?25hCollecting soupsieve>1.2\n",
            "  Downloading soupsieve-2.3.2.post1-py3-none-any.whl (37 kB)\n",
            "Requirement already satisfied: cffi>=1.12 in /usr/local/lib/python3.8/dist-packages (from cryptography>=3.3.2->yfinance) (1.15.1)\n",
            "Requirement already satisfied: pycparser in /usr/local/lib/python3.8/dist-packages (from cffi>=1.12->cryptography>=3.3.2->yfinance) (2.21)\n",
            "Requirement already satisfied: webencodings in /usr/local/lib/python3.8/dist-packages (from html5lib>=1.1->yfinance) (0.5.1)\n",
            "Requirement already satisfied: six>=1.9 in /usr/local/lib/python3.8/dist-packages (from html5lib>=1.1->yfinance) (1.15.0)\n",
            "Requirement already satisfied: python-dateutil>=2.7.3 in /usr/local/lib/python3.8/dist-packages (from pandas>=1.3.0->yfinance) (2.8.2)\n",
            "Requirement already satisfied: charset-normalizer<3,>=2 in /usr/local/lib/python3.8/dist-packages (from requests>=2.26->yfinance) (2.1.1)\n",
            "Requirement already satisfied: certifi>=2017.4.17 in /usr/local/lib/python3.8/dist-packages (from requests>=2.26->yfinance) (2022.12.7)\n",
            "Requirement already satisfied: urllib3<1.27,>=1.21.1 in /usr/local/lib/python3.8/dist-packages (from requests>=2.26->yfinance) (1.24.3)\n",
            "Requirement already satisfied: idna<4,>=2.5 in /usr/local/lib/python3.8/dist-packages (from requests>=2.26->yfinance) (2.10)\n",
            "Installing collected packages: soupsieve, requests, html5lib, frozendict, cryptography, beautifulsoup4, yfinance, pandas-datareader\n",
            "  Attempting uninstall: requests\n",
            "    Found existing installation: requests 2.23.0\n",
            "    Uninstalling requests-2.23.0:\n",
            "      Successfully uninstalled requests-2.23.0\n",
            "  Attempting uninstall: html5lib\n",
            "    Found existing installation: html5lib 1.0.1\n",
            "    Uninstalling html5lib-1.0.1:\n",
            "      Successfully uninstalled html5lib-1.0.1\n",
            "  Attempting uninstall: beautifulsoup4\n",
            "    Found existing installation: beautifulsoup4 4.6.3\n",
            "    Uninstalling beautifulsoup4-4.6.3:\n",
            "      Successfully uninstalled beautifulsoup4-4.6.3\n",
            "  Attempting uninstall: pandas-datareader\n",
            "    Found existing installation: pandas-datareader 0.9.0\n",
            "    Uninstalling pandas-datareader-0.9.0:\n",
            "      Successfully uninstalled pandas-datareader-0.9.0\n",
            "Successfully installed beautifulsoup4-4.11.1 cryptography-39.0.0 frozendict-2.3.4 html5lib-1.1 pandas-datareader-0.10.0 requests-2.28.1 soupsieve-2.3.2.post1 yfinance-0.2.3\n"
          ]
        }
      ],
      "source": [
        "!pip install -U yfinance pandas_datareader"
      ]
    },
    {
      "cell_type": "markdown",
      "metadata": {
        "id": "4Mad_HUVxyXd"
      },
      "source": [
        "# Datos: Serie multivariante\n",
        "\n",
        "Valor de cierre del IBEX, BBVA y TELEFONICA(TEF)"
      ]
    },
    {
      "cell_type": "code",
      "execution_count": null,
      "metadata": {
        "id": "WxaB4kY0tofH"
      },
      "outputs": [],
      "source": [
        "import pandas as pd\n",
        "import yfinance as yf\n",
        "from pandas_datareader import data as pdr"
      ]
    },
    {
      "cell_type": "code",
      "execution_count": null,
      "metadata": {
        "id": "yBeJELUotfza",
        "colab": {
          "base_uri": "https://localhost:8080/",
          "height": 286
        },
        "outputId": "c3180352-b30b-4be7-97fc-7e9677a6c2c2"
      },
      "outputs": [
        {
          "output_type": "stream",
          "name": "stdout",
          "text": [
            "[*********************100%***********************]  3 of 3 completed\n"
          ]
        },
        {
          "output_type": "execute_result",
          "data": {
            "text/plain": [
              "           Adj Close                        Close                     High  \\\n",
              "                BBVA       TEF        ^IBEX  BBVA   TEF        ^IBEX  BBVA   \n",
              "Date                                                                         \n",
              "2020-01-02  4.958455  5.732832  9691.200195  5.72  7.09  9691.200195  5.72   \n",
              "2020-01-03  4.837094  5.724746  9646.599609  5.58  7.08  9646.599609  5.63   \n",
              "2020-01-06  4.871768  5.724746  9600.900391  5.62  7.08  9600.900391  5.63   \n",
              "2020-01-07  4.802420  5.627717  9579.799805  5.54  6.96  9579.799805  5.57   \n",
              "2020-01-08  4.854431  5.546859  9591.400391  5.60  6.86  9591.400391  5.62   \n",
              "\n",
              "                                Low                     Open        \\\n",
              "             TEF        ^IBEX  BBVA   TEF        ^IBEX  BBVA   TEF   \n",
              "Date                                                                 \n",
              "2020-01-02  7.11  9705.400391  5.63  7.07  9615.099609  5.66  7.09   \n",
              "2020-01-03  7.09  9650.700195  5.57  7.02  9581.200195  5.58  7.02   \n",
              "2020-01-06  7.10  9618.200195  5.54  7.03  9492.700195  5.54  7.05   \n",
              "2020-01-07  7.00  9657.900391  5.52  6.95  9557.900391  5.56  7.00   \n",
              "2020-01-08  6.90  9604.299805  5.54  6.85  9520.299805  5.54  6.89   \n",
              "\n",
              "                            Volume                          \n",
              "                  ^IBEX       BBVA        TEF        ^IBEX  \n",
              "Date                                                        \n",
              "2020-01-02  9639.099609  2571200.0  1443300.0  142379600.0  \n",
              "2020-01-03  9631.200195  3094900.0  1236200.0  135130000.0  \n",
              "2020-01-06  9585.400391  3995300.0   868400.0  103520400.0  \n",
              "2020-01-07  9623.099609  3098300.0  1380300.0  133476100.0  \n",
              "2020-01-08  9535.099609  1981600.0  1747200.0  133957600.0  "
            ],
            "text/html": [
              "\n",
              "  <div id=\"df-22d872e7-5412-4442-aca2-855224b93d55\">\n",
              "    <div class=\"colab-df-container\">\n",
              "      <div>\n",
              "<style scoped>\n",
              "    .dataframe tbody tr th:only-of-type {\n",
              "        vertical-align: middle;\n",
              "    }\n",
              "\n",
              "    .dataframe tbody tr th {\n",
              "        vertical-align: top;\n",
              "    }\n",
              "\n",
              "    .dataframe thead tr th {\n",
              "        text-align: left;\n",
              "    }\n",
              "\n",
              "    .dataframe thead tr:last-of-type th {\n",
              "        text-align: right;\n",
              "    }\n",
              "</style>\n",
              "<table border=\"1\" class=\"dataframe\">\n",
              "  <thead>\n",
              "    <tr>\n",
              "      <th></th>\n",
              "      <th colspan=\"3\" halign=\"left\">Adj Close</th>\n",
              "      <th colspan=\"3\" halign=\"left\">Close</th>\n",
              "      <th colspan=\"3\" halign=\"left\">High</th>\n",
              "      <th colspan=\"3\" halign=\"left\">Low</th>\n",
              "      <th colspan=\"3\" halign=\"left\">Open</th>\n",
              "      <th colspan=\"3\" halign=\"left\">Volume</th>\n",
              "    </tr>\n",
              "    <tr>\n",
              "      <th></th>\n",
              "      <th>BBVA</th>\n",
              "      <th>TEF</th>\n",
              "      <th>^IBEX</th>\n",
              "      <th>BBVA</th>\n",
              "      <th>TEF</th>\n",
              "      <th>^IBEX</th>\n",
              "      <th>BBVA</th>\n",
              "      <th>TEF</th>\n",
              "      <th>^IBEX</th>\n",
              "      <th>BBVA</th>\n",
              "      <th>TEF</th>\n",
              "      <th>^IBEX</th>\n",
              "      <th>BBVA</th>\n",
              "      <th>TEF</th>\n",
              "      <th>^IBEX</th>\n",
              "      <th>BBVA</th>\n",
              "      <th>TEF</th>\n",
              "      <th>^IBEX</th>\n",
              "    </tr>\n",
              "    <tr>\n",
              "      <th>Date</th>\n",
              "      <th></th>\n",
              "      <th></th>\n",
              "      <th></th>\n",
              "      <th></th>\n",
              "      <th></th>\n",
              "      <th></th>\n",
              "      <th></th>\n",
              "      <th></th>\n",
              "      <th></th>\n",
              "      <th></th>\n",
              "      <th></th>\n",
              "      <th></th>\n",
              "      <th></th>\n",
              "      <th></th>\n",
              "      <th></th>\n",
              "      <th></th>\n",
              "      <th></th>\n",
              "      <th></th>\n",
              "    </tr>\n",
              "  </thead>\n",
              "  <tbody>\n",
              "    <tr>\n",
              "      <th>2020-01-02</th>\n",
              "      <td>4.958455</td>\n",
              "      <td>5.732832</td>\n",
              "      <td>9691.200195</td>\n",
              "      <td>5.72</td>\n",
              "      <td>7.09</td>\n",
              "      <td>9691.200195</td>\n",
              "      <td>5.72</td>\n",
              "      <td>7.11</td>\n",
              "      <td>9705.400391</td>\n",
              "      <td>5.63</td>\n",
              "      <td>7.07</td>\n",
              "      <td>9615.099609</td>\n",
              "      <td>5.66</td>\n",
              "      <td>7.09</td>\n",
              "      <td>9639.099609</td>\n",
              "      <td>2571200.0</td>\n",
              "      <td>1443300.0</td>\n",
              "      <td>142379600.0</td>\n",
              "    </tr>\n",
              "    <tr>\n",
              "      <th>2020-01-03</th>\n",
              "      <td>4.837094</td>\n",
              "      <td>5.724746</td>\n",
              "      <td>9646.599609</td>\n",
              "      <td>5.58</td>\n",
              "      <td>7.08</td>\n",
              "      <td>9646.599609</td>\n",
              "      <td>5.63</td>\n",
              "      <td>7.09</td>\n",
              "      <td>9650.700195</td>\n",
              "      <td>5.57</td>\n",
              "      <td>7.02</td>\n",
              "      <td>9581.200195</td>\n",
              "      <td>5.58</td>\n",
              "      <td>7.02</td>\n",
              "      <td>9631.200195</td>\n",
              "      <td>3094900.0</td>\n",
              "      <td>1236200.0</td>\n",
              "      <td>135130000.0</td>\n",
              "    </tr>\n",
              "    <tr>\n",
              "      <th>2020-01-06</th>\n",
              "      <td>4.871768</td>\n",
              "      <td>5.724746</td>\n",
              "      <td>9600.900391</td>\n",
              "      <td>5.62</td>\n",
              "      <td>7.08</td>\n",
              "      <td>9600.900391</td>\n",
              "      <td>5.63</td>\n",
              "      <td>7.10</td>\n",
              "      <td>9618.200195</td>\n",
              "      <td>5.54</td>\n",
              "      <td>7.03</td>\n",
              "      <td>9492.700195</td>\n",
              "      <td>5.54</td>\n",
              "      <td>7.05</td>\n",
              "      <td>9585.400391</td>\n",
              "      <td>3995300.0</td>\n",
              "      <td>868400.0</td>\n",
              "      <td>103520400.0</td>\n",
              "    </tr>\n",
              "    <tr>\n",
              "      <th>2020-01-07</th>\n",
              "      <td>4.802420</td>\n",
              "      <td>5.627717</td>\n",
              "      <td>9579.799805</td>\n",
              "      <td>5.54</td>\n",
              "      <td>6.96</td>\n",
              "      <td>9579.799805</td>\n",
              "      <td>5.57</td>\n",
              "      <td>7.00</td>\n",
              "      <td>9657.900391</td>\n",
              "      <td>5.52</td>\n",
              "      <td>6.95</td>\n",
              "      <td>9557.900391</td>\n",
              "      <td>5.56</td>\n",
              "      <td>7.00</td>\n",
              "      <td>9623.099609</td>\n",
              "      <td>3098300.0</td>\n",
              "      <td>1380300.0</td>\n",
              "      <td>133476100.0</td>\n",
              "    </tr>\n",
              "    <tr>\n",
              "      <th>2020-01-08</th>\n",
              "      <td>4.854431</td>\n",
              "      <td>5.546859</td>\n",
              "      <td>9591.400391</td>\n",
              "      <td>5.60</td>\n",
              "      <td>6.86</td>\n",
              "      <td>9591.400391</td>\n",
              "      <td>5.62</td>\n",
              "      <td>6.90</td>\n",
              "      <td>9604.299805</td>\n",
              "      <td>5.54</td>\n",
              "      <td>6.85</td>\n",
              "      <td>9520.299805</td>\n",
              "      <td>5.54</td>\n",
              "      <td>6.89</td>\n",
              "      <td>9535.099609</td>\n",
              "      <td>1981600.0</td>\n",
              "      <td>1747200.0</td>\n",
              "      <td>133957600.0</td>\n",
              "    </tr>\n",
              "  </tbody>\n",
              "</table>\n",
              "</div>\n",
              "      <button class=\"colab-df-convert\" onclick=\"convertToInteractive('df-22d872e7-5412-4442-aca2-855224b93d55')\"\n",
              "              title=\"Convert this dataframe to an interactive table.\"\n",
              "              style=\"display:none;\">\n",
              "        \n",
              "  <svg xmlns=\"http://www.w3.org/2000/svg\" height=\"24px\"viewBox=\"0 0 24 24\"\n",
              "       width=\"24px\">\n",
              "    <path d=\"M0 0h24v24H0V0z\" fill=\"none\"/>\n",
              "    <path d=\"M18.56 5.44l.94 2.06.94-2.06 2.06-.94-2.06-.94-.94-2.06-.94 2.06-2.06.94zm-11 1L8.5 8.5l.94-2.06 2.06-.94-2.06-.94L8.5 2.5l-.94 2.06-2.06.94zm10 10l.94 2.06.94-2.06 2.06-.94-2.06-.94-.94-2.06-.94 2.06-2.06.94z\"/><path d=\"M17.41 7.96l-1.37-1.37c-.4-.4-.92-.59-1.43-.59-.52 0-1.04.2-1.43.59L10.3 9.45l-7.72 7.72c-.78.78-.78 2.05 0 2.83L4 21.41c.39.39.9.59 1.41.59.51 0 1.02-.2 1.41-.59l7.78-7.78 2.81-2.81c.8-.78.8-2.07 0-2.86zM5.41 20L4 18.59l7.72-7.72 1.47 1.35L5.41 20z\"/>\n",
              "  </svg>\n",
              "      </button>\n",
              "      \n",
              "  <style>\n",
              "    .colab-df-container {\n",
              "      display:flex;\n",
              "      flex-wrap:wrap;\n",
              "      gap: 12px;\n",
              "    }\n",
              "\n",
              "    .colab-df-convert {\n",
              "      background-color: #E8F0FE;\n",
              "      border: none;\n",
              "      border-radius: 50%;\n",
              "      cursor: pointer;\n",
              "      display: none;\n",
              "      fill: #1967D2;\n",
              "      height: 32px;\n",
              "      padding: 0 0 0 0;\n",
              "      width: 32px;\n",
              "    }\n",
              "\n",
              "    .colab-df-convert:hover {\n",
              "      background-color: #E2EBFA;\n",
              "      box-shadow: 0px 1px 2px rgba(60, 64, 67, 0.3), 0px 1px 3px 1px rgba(60, 64, 67, 0.15);\n",
              "      fill: #174EA6;\n",
              "    }\n",
              "\n",
              "    [theme=dark] .colab-df-convert {\n",
              "      background-color: #3B4455;\n",
              "      fill: #D2E3FC;\n",
              "    }\n",
              "\n",
              "    [theme=dark] .colab-df-convert:hover {\n",
              "      background-color: #434B5C;\n",
              "      box-shadow: 0px 1px 3px 1px rgba(0, 0, 0, 0.15);\n",
              "      filter: drop-shadow(0px 1px 2px rgba(0, 0, 0, 0.3));\n",
              "      fill: #FFFFFF;\n",
              "    }\n",
              "  </style>\n",
              "\n",
              "      <script>\n",
              "        const buttonEl =\n",
              "          document.querySelector('#df-22d872e7-5412-4442-aca2-855224b93d55 button.colab-df-convert');\n",
              "        buttonEl.style.display =\n",
              "          google.colab.kernel.accessAllowed ? 'block' : 'none';\n",
              "\n",
              "        async function convertToInteractive(key) {\n",
              "          const element = document.querySelector('#df-22d872e7-5412-4442-aca2-855224b93d55');\n",
              "          const dataTable =\n",
              "            await google.colab.kernel.invokeFunction('convertToInteractive',\n",
              "                                                     [key], {});\n",
              "          if (!dataTable) return;\n",
              "\n",
              "          const docLinkHtml = 'Like what you see? Visit the ' +\n",
              "            '<a target=\"_blank\" href=https://colab.research.google.com/notebooks/data_table.ipynb>data table notebook</a>'\n",
              "            + ' to learn more about interactive tables.';\n",
              "          element.innerHTML = '';\n",
              "          dataTable['output_type'] = 'display_data';\n",
              "          await google.colab.output.renderOutput(dataTable, element);\n",
              "          const docLink = document.createElement('div');\n",
              "          docLink.innerHTML = docLinkHtml;\n",
              "          element.appendChild(docLink);\n",
              "        }\n",
              "      </script>\n",
              "    </div>\n",
              "  </div>\n",
              "  "
            ]
          },
          "metadata": {},
          "execution_count": 3
        }
      ],
      "source": [
        "yf.pdr_override() # <== that's all it takes :-)\n",
        "data = yf.download(\"BBVA TEF ^IBEX\", start=\"2020-01-01\", end=\"2020-10-30\")\n",
        "data.head()"
      ]
    },
    {
      "cell_type": "markdown",
      "metadata": {
        "id": "VWOv9ERkBGOz"
      },
      "source": [
        "Los valores **NaN** se sustituyen por una interpolación lineal"
      ]
    },
    {
      "cell_type": "markdown",
      "source": [
        "salvar datos de valores nulos introduciendole un valor por defecto."
      ],
      "metadata": {
        "id": "iXFqJ8iNBb8v"
      }
    },
    {
      "cell_type": "code",
      "execution_count": null,
      "metadata": {
        "id": "Su3DJSiVBGO0",
        "colab": {
          "base_uri": "https://localhost:8080/",
          "height": 237
        },
        "outputId": "0f99d7fd-0bbe-4f42-cd57-dd84c2494e4d"
      },
      "outputs": [
        {
          "output_type": "execute_result",
          "data": {
            "text/plain": [
              "            BBVA   TEF        ^IBEX\n",
              "Date                               \n",
              "2020-01-02  5.72  7.09  9691.200195\n",
              "2020-01-03  5.58  7.08  9646.599609\n",
              "2020-01-06  5.62  7.08  9600.900391\n",
              "2020-01-07  5.54  6.96  9579.799805\n",
              "2020-01-08  5.60  6.86  9591.400391"
            ],
            "text/html": [
              "\n",
              "  <div id=\"df-72a38a1d-3101-4d68-a3cf-b6761d5364b4\">\n",
              "    <div class=\"colab-df-container\">\n",
              "      <div>\n",
              "<style scoped>\n",
              "    .dataframe tbody tr th:only-of-type {\n",
              "        vertical-align: middle;\n",
              "    }\n",
              "\n",
              "    .dataframe tbody tr th {\n",
              "        vertical-align: top;\n",
              "    }\n",
              "\n",
              "    .dataframe thead th {\n",
              "        text-align: right;\n",
              "    }\n",
              "</style>\n",
              "<table border=\"1\" class=\"dataframe\">\n",
              "  <thead>\n",
              "    <tr style=\"text-align: right;\">\n",
              "      <th></th>\n",
              "      <th>BBVA</th>\n",
              "      <th>TEF</th>\n",
              "      <th>^IBEX</th>\n",
              "    </tr>\n",
              "    <tr>\n",
              "      <th>Date</th>\n",
              "      <th></th>\n",
              "      <th></th>\n",
              "      <th></th>\n",
              "    </tr>\n",
              "  </thead>\n",
              "  <tbody>\n",
              "    <tr>\n",
              "      <th>2020-01-02</th>\n",
              "      <td>5.72</td>\n",
              "      <td>7.09</td>\n",
              "      <td>9691.200195</td>\n",
              "    </tr>\n",
              "    <tr>\n",
              "      <th>2020-01-03</th>\n",
              "      <td>5.58</td>\n",
              "      <td>7.08</td>\n",
              "      <td>9646.599609</td>\n",
              "    </tr>\n",
              "    <tr>\n",
              "      <th>2020-01-06</th>\n",
              "      <td>5.62</td>\n",
              "      <td>7.08</td>\n",
              "      <td>9600.900391</td>\n",
              "    </tr>\n",
              "    <tr>\n",
              "      <th>2020-01-07</th>\n",
              "      <td>5.54</td>\n",
              "      <td>6.96</td>\n",
              "      <td>9579.799805</td>\n",
              "    </tr>\n",
              "    <tr>\n",
              "      <th>2020-01-08</th>\n",
              "      <td>5.60</td>\n",
              "      <td>6.86</td>\n",
              "      <td>9591.400391</td>\n",
              "    </tr>\n",
              "  </tbody>\n",
              "</table>\n",
              "</div>\n",
              "      <button class=\"colab-df-convert\" onclick=\"convertToInteractive('df-72a38a1d-3101-4d68-a3cf-b6761d5364b4')\"\n",
              "              title=\"Convert this dataframe to an interactive table.\"\n",
              "              style=\"display:none;\">\n",
              "        \n",
              "  <svg xmlns=\"http://www.w3.org/2000/svg\" height=\"24px\"viewBox=\"0 0 24 24\"\n",
              "       width=\"24px\">\n",
              "    <path d=\"M0 0h24v24H0V0z\" fill=\"none\"/>\n",
              "    <path d=\"M18.56 5.44l.94 2.06.94-2.06 2.06-.94-2.06-.94-.94-2.06-.94 2.06-2.06.94zm-11 1L8.5 8.5l.94-2.06 2.06-.94-2.06-.94L8.5 2.5l-.94 2.06-2.06.94zm10 10l.94 2.06.94-2.06 2.06-.94-2.06-.94-.94-2.06-.94 2.06-2.06.94z\"/><path d=\"M17.41 7.96l-1.37-1.37c-.4-.4-.92-.59-1.43-.59-.52 0-1.04.2-1.43.59L10.3 9.45l-7.72 7.72c-.78.78-.78 2.05 0 2.83L4 21.41c.39.39.9.59 1.41.59.51 0 1.02-.2 1.41-.59l7.78-7.78 2.81-2.81c.8-.78.8-2.07 0-2.86zM5.41 20L4 18.59l7.72-7.72 1.47 1.35L5.41 20z\"/>\n",
              "  </svg>\n",
              "      </button>\n",
              "      \n",
              "  <style>\n",
              "    .colab-df-container {\n",
              "      display:flex;\n",
              "      flex-wrap:wrap;\n",
              "      gap: 12px;\n",
              "    }\n",
              "\n",
              "    .colab-df-convert {\n",
              "      background-color: #E8F0FE;\n",
              "      border: none;\n",
              "      border-radius: 50%;\n",
              "      cursor: pointer;\n",
              "      display: none;\n",
              "      fill: #1967D2;\n",
              "      height: 32px;\n",
              "      padding: 0 0 0 0;\n",
              "      width: 32px;\n",
              "    }\n",
              "\n",
              "    .colab-df-convert:hover {\n",
              "      background-color: #E2EBFA;\n",
              "      box-shadow: 0px 1px 2px rgba(60, 64, 67, 0.3), 0px 1px 3px 1px rgba(60, 64, 67, 0.15);\n",
              "      fill: #174EA6;\n",
              "    }\n",
              "\n",
              "    [theme=dark] .colab-df-convert {\n",
              "      background-color: #3B4455;\n",
              "      fill: #D2E3FC;\n",
              "    }\n",
              "\n",
              "    [theme=dark] .colab-df-convert:hover {\n",
              "      background-color: #434B5C;\n",
              "      box-shadow: 0px 1px 3px 1px rgba(0, 0, 0, 0.15);\n",
              "      filter: drop-shadow(0px 1px 2px rgba(0, 0, 0, 0.3));\n",
              "      fill: #FFFFFF;\n",
              "    }\n",
              "  </style>\n",
              "\n",
              "      <script>\n",
              "        const buttonEl =\n",
              "          document.querySelector('#df-72a38a1d-3101-4d68-a3cf-b6761d5364b4 button.colab-df-convert');\n",
              "        buttonEl.style.display =\n",
              "          google.colab.kernel.accessAllowed ? 'block' : 'none';\n",
              "\n",
              "        async function convertToInteractive(key) {\n",
              "          const element = document.querySelector('#df-72a38a1d-3101-4d68-a3cf-b6761d5364b4');\n",
              "          const dataTable =\n",
              "            await google.colab.kernel.invokeFunction('convertToInteractive',\n",
              "                                                     [key], {});\n",
              "          if (!dataTable) return;\n",
              "\n",
              "          const docLinkHtml = 'Like what you see? Visit the ' +\n",
              "            '<a target=\"_blank\" href=https://colab.research.google.com/notebooks/data_table.ipynb>data table notebook</a>'\n",
              "            + ' to learn more about interactive tables.';\n",
              "          element.innerHTML = '';\n",
              "          dataTable['output_type'] = 'display_data';\n",
              "          await google.colab.output.renderOutput(dataTable, element);\n",
              "          const docLink = document.createElement('div');\n",
              "          docLink.innerHTML = docLinkHtml;\n",
              "          element.appendChild(docLink);\n",
              "        }\n",
              "      </script>\n",
              "    </div>\n",
              "  </div>\n",
              "  "
            ]
          },
          "metadata": {},
          "execution_count": 4
        }
      ],
      "source": [
        "d=data.loc[:,'Close'].interpolate(limit=2, limit_direction='backward')\n",
        "d.head()"
      ]
    },
    {
      "cell_type": "markdown",
      "metadata": {
        "id": "q3UO3lLZvASE"
      },
      "source": [
        "## IBEX depende de la semana anterior de BBVA y TELFÓNICA"
      ]
    },
    {
      "cell_type": "code",
      "execution_count": null,
      "metadata": {
        "id": "DbrrLTAfBGO0"
      },
      "outputs": [],
      "source": [
        "import numpy as np\n",
        "from sklearn.preprocessing import MinMaxScaler\n",
        "from sklearn.model_selection import train_test_split\n",
        "\n",
        "#Escalanos los datos\n",
        "dScale = MinMaxScaler()\n",
        "dScale.fit(d.values)\n",
        "ldatos=dScale.transform(d.values)"
      ]
    },
    {
      "cell_type": "markdown",
      "source": [
        "datos normalizados"
      ],
      "metadata": {
        "id": "5S8LbQQjB3MT"
      }
    },
    {
      "cell_type": "code",
      "execution_count": null,
      "metadata": {
        "id": "KjxmZkGMBGO0",
        "colab": {
          "base_uri": "https://localhost:8080/",
          "height": 337
        },
        "outputId": "31bf356b-f415-4738-c892-c2b4498e4fb5"
      },
      "outputs": [
        {
          "output_type": "execute_result",
          "data": {
            "text/plain": [
              "<matplotlib.axes._subplots.AxesSubplot at 0x7ffaf68ced60>"
            ]
          },
          "metadata": {},
          "execution_count": 6
        },
        {
          "output_type": "display_data",
          "data": {
            "text/plain": [
              "<Figure size 1080x360 with 1 Axes>"
            ],
            "image/png": "[encoded data removed]"
          },
          "metadata": {
            "needs_background": "light"
          }
        }
      ],
      "source": [
        "pd.DataFrame(ldatos,columns=['BBVA','TEF','^IBEX']).plot(figsize=(15,5))"
      ]
    },
    {
      "cell_type": "code",
      "execution_count": null,
      "metadata": {
        "id": "ooin8D-EBGO1"
      },
      "outputs": [],
      "source": [
        "X,Y=ldatos[:,0:2],ldatos[:,2]"
      ]
    },
    {
      "cell_type": "markdown",
      "source": [
        "datos de entradas valores del 0 al 1(2 no incluido) y valor de salida el 2\n",
        "\n",
        ": significa todas"
      ],
      "metadata": {
        "id": "0TLP3LwNB6KR"
      }
    },
    {
      "cell_type": "code",
      "execution_count": null,
      "metadata": {
        "id": "PTbZ91vZ9tiv"
      },
      "outputs": [],
      "source": [
        "def windowData(Xi,Yi,window_input=1,window_output=1,step=1):\n",
        "  Xaux=[]\n",
        "  Yaux=[]\n",
        "  #Datos necesarios\n",
        "  dn=window_input+window_output\n",
        "  #Calcular cuantos pasos completos podemos realizar\n",
        "  #sin contar el último bloque [input,output]\n",
        "  ld=int((len(Xi)-dn)/step)*step\n",
        "  for i in range(len(Xi)-ld-1,len(Xi)-dn,step):\n",
        "    Xaux.append(Xi[i:i+window_input])\n",
        "    Yaux.append(Yi[i+window_input:i+dn])\n",
        "  return Xaux,Yaux"
      ]
    },
    {
      "cell_type": "code",
      "execution_count": null,
      "metadata": {
        "id": "nkai0YWG1QiW",
        "colab": {
          "base_uri": "https://localhost:8080/"
        },
        "outputId": "58a86ad3-a133-4f9f-d82f-ba125f7ed0b8"
      },
      "outputs": [
        {
          "output_type": "execute_result",
          "data": {
            "text/plain": [
              "(174, 20, 2)"
            ]
          },
          "metadata": {},
          "execution_count": 9
        }
      ],
      "source": [
        "#Contruimos los conjunto de datos X e Y\n",
        "Xw,Yw=windowData(X,Y,window_input=20,window_output=1,step=1)\n",
        "Xw,Yw=np.array(Xw),np.array(Yw)\n",
        "Xw.shape"
      ]
    },
    {
      "cell_type": "markdown",
      "source": [
        "20 de entrada, los 20 de entrada van a ser 2 valores"
      ],
      "metadata": {
        "id": "A-z3TXZaCWZj"
      }
    },
    {
      "cell_type": "markdown",
      "metadata": {
        "id": "I4iLDwKJpKIq"
      },
      "source": [
        "## Librerías necesarias \n",
        "- [Keras](https://keras.io/)\n",
        "- [Tensorflow](https://www.tensorflow.org/)"
      ]
    },
    {
      "cell_type": "code",
      "execution_count": null,
      "metadata": {
        "id": "NcunIHLYpodt"
      },
      "outputs": [],
      "source": [
        "from tensorflow import keras\n",
        "from tensorflow.keras.models import Sequential\n",
        "from tensorflow.keras.layers import Dense,GRU\n",
        "from tensorflow.keras import metrics"
      ]
    },
    {
      "cell_type": "markdown",
      "metadata": {
        "id": "JdDwd3YiqiPw"
      },
      "source": [
        "## Definir la Red\n",
        "\n",
        "Definimos nuestro perceptron con las siguientes capas (**layers**)\n",
        "- Modelo secuencial [Sequential](https://keras.io/api/models/sequential/)\n",
        "- Capa de entrada: [GRU](https://keras.io/api/layers/recurrent_layers/gru/)\n",
        "- Capa Densa: [Dense](https://keras.io/api/layers/core_layers/dense/) \n",
        "\n",
        "La capa **SimpleRNN** define una unidad recurente con **unit** neuronas de salida y una entrada de **input_shape**"
      ]
    },
    {
      "cell_type": "markdown",
      "metadata": {
        "id": "SYpWbQw8BGO2"
      },
      "source": [
        "**Recurrente básica**"
      ]
    },
    {
      "cell_type": "markdown",
      "source": [
        "nueva capa gru\n",
        "\n",
        "unidad de recurrencia gru con 34 units, activacion relu, input 20 cada elemento 2 dimensiones\n",
        "\n",
        "capa de salida dense(1)\n",
        "\n",
        "optimizador rmsprop\n",
        "\n",
        "mse2 para valor de perdida, ya que estamos haciendo regresion y queremos valores numericos por lo que mse2 encaja bien"
      ],
      "metadata": {
        "id": "iO1SATRkCdNt"
      }
    },
    {
      "cell_type": "code",
      "execution_count": null,
      "metadata": {
        "id": "_y2IBUs8BGO2",
        "colab": {
          "base_uri": "https://localhost:8080/"
        },
        "outputId": "0272c05e-fcfc-4ece-a61f-d58f778f1b8c"
      },
      "outputs": [
        {
          "output_type": "stream",
          "name": "stdout",
          "text": [
            "Model: \"sequential\"\n",
            "_________________________________________________________________\n",
            " Layer (type)                Output Shape              Param #   \n",
            "=================================================================\n",
            " gru (GRU)                   (None, 34)                3876      \n",
            "                                                                 \n",
            " dense (Dense)               (None, 1)                 35        \n",
            "                                                                 \n",
            "=================================================================\n",
            "Total params: 3,911\n",
            "Trainable params: 3,911\n",
            "Non-trainable params: 0\n",
            "_________________________________________________________________\n"
          ]
        }
      ],
      "source": [
        "gru = Sequential()\n",
        "gru.add(GRU(units=34, activation='relu',input_shape=(20,2)))\n",
        "gru.add(Dense(1))\n",
        "gru.compile(loss='mean_squared_error', optimizer='rmsprop')\n",
        "gru.summary()"
      ]
    },
    {
      "cell_type": "code",
      "execution_count": null,
      "metadata": {
        "id": "uJqvqoKLqrMj",
        "scrolled": true,
        "colab": {
          "base_uri": "https://localhost:8080/"
        },
        "outputId": "b05941d3-8ef9-4945-860b-7338b437367c"
      },
      "outputs": [
        {
          "output_type": "stream",
          "name": "stdout",
          "text": [
            "Epoch 1/15\n",
            "9/9 [==============================] - 2s 36ms/step - loss: 0.0803 - val_loss: 0.0199\n",
            "Epoch 2/15\n",
            "9/9 [==============================] - 0s 10ms/step - loss: 0.0420 - val_loss: 0.0107\n",
            "Epoch 3/15\n",
            "9/9 [==============================] - 0s 11ms/step - loss: 0.0260 - val_loss: 0.0058\n",
            "Epoch 4/15\n",
            "9/9 [==============================] - 0s 8ms/step - loss: 0.0174 - val_loss: 0.0030\n",
            "Epoch 5/15\n",
            "9/9 [==============================] - 0s 8ms/step - loss: 0.0129 - val_loss: 0.0023\n",
            "Epoch 6/15\n",
            "9/9 [==============================] - 0s 9ms/step - loss: 0.0113 - val_loss: 0.0021\n",
            "Epoch 7/15\n",
            "9/9 [==============================] - 0s 9ms/step - loss: 0.0100 - val_loss: 0.0020\n",
            "Epoch 8/15\n",
            "9/9 [==============================] - 0s 9ms/step - loss: 0.0092 - val_loss: 0.0027\n",
            "Epoch 9/15\n",
            "9/9 [==============================] - 0s 7ms/step - loss: 0.0087 - val_loss: 0.0015\n",
            "Epoch 10/15\n",
            "9/9 [==============================] - 0s 8ms/step - loss: 0.0085 - val_loss: 0.0027\n",
            "Epoch 11/15\n",
            "9/9 [==============================] - 0s 9ms/step - loss: 0.0076 - val_loss: 0.0026\n",
            "Epoch 12/15\n",
            "9/9 [==============================] - 0s 10ms/step - loss: 0.0074 - val_loss: 0.0040\n",
            "Epoch 13/15\n",
            "9/9 [==============================] - 0s 12ms/step - loss: 0.0074 - val_loss: 0.0040\n",
            "Epoch 14/15\n",
            "9/9 [==============================] - 0s 8ms/step - loss: 0.0069 - val_loss: 0.0044\n",
            "Epoch 15/15\n",
            "9/9 [==============================] - 0s 8ms/step - loss: 0.0068 - val_loss: 0.0049\n"
          ]
        }
      ],
      "source": [
        "h=gru.fit(Xw,Yw,validation_split=0.30, epochs=15,batch_size=14)"
      ]
    },
    {
      "cell_type": "code",
      "execution_count": null,
      "metadata": {
        "id": "gp9q8fWerORA",
        "colab": {
          "base_uri": "https://localhost:8080/",
          "height": 295
        },
        "outputId": "ad9e9a40-05e7-4084-a9d8-fdeaa5f78a77"
      },
      "outputs": [
        {
          "output_type": "display_data",
          "data": {
            "text/plain": [
              "<Figure size 432x288 with 1 Axes>"
            ],
            "image/png": "[encoded data removed]"
          },
          "metadata": {
            "needs_background": "light"
          }
        }
      ],
      "source": [
        "import matplotlib.pyplot as plt\n",
        "plt.plot(h.history['loss'])\n",
        "plt.plot(h.history['val_loss'])\n",
        "plt.title('model loss')\n",
        "plt.ylabel('loss')\n",
        "plt.xlabel('epoch')\n",
        "plt.legend(['train', 'test'], loc='upper left')\n",
        "plt.show()"
      ]
    },
    {
      "cell_type": "markdown",
      "metadata": {
        "id": "wE8d-FyYxZUf"
      },
      "source": [
        "## Utilizar la red\n",
        "Utilizar el perceptron aprendido con el método [**predict**](https://keras.io/api/models/model_training_apis/#predict-method)"
      ]
    },
    {
      "cell_type": "code",
      "execution_count": null,
      "metadata": {
        "id": "eRzCvdbZwZ6k",
        "colab": {
          "base_uri": "https://localhost:8080/"
        },
        "outputId": "c87b1828-c888-4c52-8acb-33686189a31d"
      },
      "outputs": [
        {
          "output_type": "stream",
          "name": "stdout",
          "text": [
            "6/6 [==============================] - 0s 2ms/step\n"
          ]
        }
      ],
      "source": [
        "Y0=gru.predict(Xw)"
      ]
    },
    {
      "cell_type": "code",
      "execution_count": null,
      "metadata": {
        "id": "Unxa4WnnwoFo",
        "colab": {
          "base_uri": "https://localhost:8080/",
          "height": 337
        },
        "outputId": "a29d4d6e-503c-469a-b047-4683a3f3d2a9"
      },
      "outputs": [
        {
          "output_type": "execute_result",
          "data": {
            "text/plain": [
              "<matplotlib.axes._subplots.AxesSubplot at 0x7ffa9ae12370>"
            ]
          },
          "metadata": {},
          "execution_count": 15
        },
        {
          "output_type": "display_data",
          "data": {
            "text/plain": [
              "<Figure size 1080x360 with 1 Axes>"
            ],
            "image/png": "[encoded data removed]"
          },
          "metadata": {
            "needs_background": "light"
          }
        }
      ],
      "source": [
        "pd.DataFrame(np.hstack([Yw,Y0]),columns=['P','R']).plot(figsize=(15,5))\n"
      ]
    },
    {
      "cell_type": "markdown",
      "metadata": {
        "id": "2PxjNviiy-W1"
      },
      "source": [
        "## Salvar y Cargar Redes\n",
        "- Salvar mediante el método [**save**](https://keras.io/api/models/model_saving_apis/#save-method).\n",
        "- Recuperar un modelo con el método [**load_model**](keras.models.load_model)."
      ]
    },
    {
      "cell_type": "code",
      "execution_count": null,
      "metadata": {
        "id": "Q4lQ3vSOzGCx"
      },
      "outputs": [],
      "source": [
        "gru.save('gru.h5')\n",
        "gru2=keras.models.load_model('gru.h5')"
      ]
    }
  ],
  "metadata": {
    "celltoolbar": "Slideshow",
    "colab": {
      "collapsed_sections": [
        "q3UO3lLZvASE"
      ],
      "provenance": [],
      "include_colab_link": true
    },
    "kernelspec": {
      "display_name": "NN",
      "language": "python",
      "name": "nn"
    },
    "language_info": {
      "codemirror_mode": {
        "name": "ipython",
        "version": 3
      },
      "file_extension": ".py",
      "mimetype": "text/x-python",
      "name": "python",
      "nbconvert_exporter": "python",
      "pygments_lexer": "ipython3",
      "version": "3.8.5"
    },
    "gpuClass": "standard"
  },
  "nbformat": 4,
  "nbformat_minor": 0
}