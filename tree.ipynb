{
  "nbformat": 4,
  "nbformat_minor": 0,
  "metadata": {
    "colab": {
      "provenance": [],
      "include_colab_link": true
    },
    "kernelspec": {
      "name": "python3",
      "display_name": "Python 3"
    },
    "gpuClass": "standard"
  },
  "cells": [
    {
      "cell_type": "markdown",
      "metadata": {
        "id": "view-in-github",
        "colab_type": "text"
      },
      "source": [
        "<a href=\"https://colab.research.google.com/github/MUMADE-TADM/s1_python-rdvicen1/blob/main/tree.ipynb\" target=\"_parent\"><img src=\"https://colab.research.google.com/assets/colab-badge.svg\" alt=\"Open In Colab\"/></a>"
      ]
    },
    {
      "cell_type": "markdown",
      "metadata": {
        "id": "pHoFZ5shYLhl"
      },
      "source": [
        "# Árboles de decisión\n",
        "Sea una colección de datos $x_i \\in R^n$ para $i=0,\\ldots,l$ y un vector de etiquetas $y \\in R^l$\n",
        "\n",
        "Consideremos $Q$ los datos del nodo $m$ y el citerio de partición $\\theta=(j,t_m)$ sobre la característica $j$ y el valor de corte $t_m$ que divide el nodo $Q$ en los dos subconjuntos:\n",
        "\n",
        "- $Q_{izquierda}(\\theta)$ definido como $\\{x \\in Q / x_j \\le t_m\\}$ \n",
        "- $Q_{derecha}(\\theta)$ definido como $\\{x \\in Q / x_j > t_m\\}$ \n",
        "\n",
        "La valoración de criterio  $\\theta$ en el nodo $Q$ se calcula como:\n",
        "- $G(Q,\\theta)=\\frac{n_{izquierdo}}{Q} H(Q_{izquierdo})+ \\frac{n_{derecho}}{Q} H(Q_{derecho})$\n",
        "\n",
        "Se selecciona el parámtero $\\theta^*$ pare que $G(\\theta^*,Q)$ sea mínimo.\n",
        "\n",
        "De forma recursiva se vuelve a subdivir $Q_{izquierdo}$ y $Q_{derecho}$ hasta alcanzar unos conjuntos unitarios o el criterio para subdividir no se cumpla."
      ]
    },
    {
      "cell_type": "markdown",
      "metadata": {
        "id": "NnBBBeIXgv01"
      },
      "source": [
        "# Clasificación $H(Q)$\n",
        "Evaluación de la uniformidad de un nodo.\n",
        "\n",
        "Consideramos la probabilidad de la clase k en el nodo $Q_m$ es $p_{m,k}=\\frac{1}{N_m} \\sum_{x_i \\in Q_m} I(y_i=k)$\n",
        "\n",
        "\n",
        "|**Criterio**       |   **Valor**                                              |\n",
        "|-------------------|----------------------------------------------------------|\n",
        "|**Gini**           |$H(Q_m)=\\sum_k p_{m,k}(1-p_{m,k})$                        |\n",
        "|-------------------|----------------------------------------------------------|\n",
        "|**Entropía**       |$H(Q_m)=-\\sum_k p_{m,k}log(p_{m,k})$                      |\n",
        "|-------------------|----------------------------------------------------------|\n",
        "|**Mal clasificación**|$H(Q_m)=1-max(p_{m,k})$                                 |\n",
        "|-------------------|----------------------------------------------------------|\n",
        "\n",
        "\n"
      ]
    },
    {
      "cell_type": "markdown",
      "metadata": {
        "id": "VKw6XXibn82E"
      },
      "source": [
        "# Ejemplo de divisiones $\\theta$\n",
        "Datos de flores Iris"
      ]
    },
    {
      "cell_type": "code",
      "metadata": {
        "id": "LDzpheUXotex"
      },
      "source": [
        "import numpy as np\n",
        "import matplotlib.pyplot as plt\n",
        "import pandas as pd\n",
        "from sklearn.datasets import load_iris\n",
        "#leemos los datos\n",
        "iris = load_iris()"
      ],
      "execution_count": null,
      "outputs": []
    },
    {
      "cell_type": "markdown",
      "metadata": {
        "id": "oT_FDlgncmhU"
      },
      "source": [
        "Creamos el DataFrame  **datos** correspondientes a partir de la librería **sklearn**\n",
        "\n",
        "|                 | Características|                 |                |       |\n",
        "|-----------------|----------------|-----------------|----------------|-------|\n",
        "|sepal length (cm)|sepal width (cm)|petal length (cm)|petal width (cm)| tipos |\n",
        "\n",
        "\n",
        "\n",
        "|Tipos|Clase      |\n",
        "|-----|-----------|\n",
        "0    |setosa\n",
        "1    |versicolor\n",
        "2    |virginia\n"
      ]
    },
    {
      "cell_type": "code",
      "metadata": {
        "id": "s1KVohKVpLK8",
        "colab": {
          "base_uri": "https://localhost:8080/",
          "height": 206
        },
        "outputId": "a4136de5-0872-4c45-d94d-a5b3845453b4"
      },
      "source": [
        "datos=pd.DataFrame(iris.data,columns=iris.feature_names)\n",
        "datos['tipos']=pd.Series(iris.target)\n",
        "datos.head()"
      ],
      "execution_count": null,
      "outputs": [
        {
          "output_type": "execute_result",
          "data": {
            "text/plain": [
              "   sepal length (cm)  sepal width (cm)  petal length (cm)  petal width (cm)  \\\n",
              "0                5.1               3.5                1.4               0.2   \n",
              "1                4.9               3.0                1.4               0.2   \n",
              "2                4.7               3.2                1.3               0.2   \n",
              "3                4.6               3.1                1.5               0.2   \n",
              "4                5.0               3.6                1.4               0.2   \n",
              "\n",
              "   tipos  \n",
              "0      0  \n",
              "1      0  \n",
              "2      0  \n",
              "3      0  \n",
              "4      0  "
            ],
            "text/html": [
              "\n",
              "  <div id=\"df-6ce8bb33-2ac4-4c43-ae37-be2a19b0b011\">\n",
              "    <div class=\"colab-df-container\">\n",
              "      <div>\n",
              "<style scoped>\n",
              "    .dataframe tbody tr th:only-of-type {\n",
              "        vertical-align: middle;\n",
              "    }\n",
              "\n",
              "    .dataframe tbody tr th {\n",
              "        vertical-align: top;\n",
              "    }\n",
              "\n",
              "    .dataframe thead th {\n",
              "        text-align: right;\n",
              "    }\n",
              "</style>\n",
              "<table border=\"1\" class=\"dataframe\">\n",
              "  <thead>\n",
              "    <tr style=\"text-align: right;\">\n",
              "      <th></th>\n",
              "      <th>sepal length (cm)</th>\n",
              "      <th>sepal width (cm)</th>\n",
              "      <th>petal length (cm)</th>\n",
              "      <th>petal width (cm)</th>\n",
              "      <th>tipos</th>\n",
              "    </tr>\n",
              "  </thead>\n",
              "  <tbody>\n",
              "    <tr>\n",
              "      <th>0</th>\n",
              "      <td>5.1</td>\n",
              "      <td>3.5</td>\n",
              "      <td>1.4</td>\n",
              "      <td>0.2</td>\n",
              "      <td>0</td>\n",
              "    </tr>\n",
              "    <tr>\n",
              "      <th>1</th>\n",
              "      <td>4.9</td>\n",
              "      <td>3.0</td>\n",
              "      <td>1.4</td>\n",
              "      <td>0.2</td>\n",
              "      <td>0</td>\n",
              "    </tr>\n",
              "    <tr>\n",
              "      <th>2</th>\n",
              "      <td>4.7</td>\n",
              "      <td>3.2</td>\n",
              "      <td>1.3</td>\n",
              "      <td>0.2</td>\n",
              "      <td>0</td>\n",
              "    </tr>\n",
              "    <tr>\n",
              "      <th>3</th>\n",
              "      <td>4.6</td>\n",
              "      <td>3.1</td>\n",
              "      <td>1.5</td>\n",
              "      <td>0.2</td>\n",
              "      <td>0</td>\n",
              "    </tr>\n",
              "    <tr>\n",
              "      <th>4</th>\n",
              "      <td>5.0</td>\n",
              "      <td>3.6</td>\n",
              "      <td>1.4</td>\n",
              "      <td>0.2</td>\n",
              "      <td>0</td>\n",
              "    </tr>\n",
              "  </tbody>\n",
              "</table>\n",
              "</div>\n",
              "      <button class=\"colab-df-convert\" onclick=\"convertToInteractive('df-6ce8bb33-2ac4-4c43-ae37-be2a19b0b011')\"\n",
              "              title=\"Convert this dataframe to an interactive table.\"\n",
              "              style=\"display:none;\">\n",
              "        \n",
              "  <svg xmlns=\"http://www.w3.org/2000/svg\" height=\"24px\"viewBox=\"0 0 24 24\"\n",
              "       width=\"24px\">\n",
              "    <path d=\"M0 0h24v24H0V0z\" fill=\"none\"/>\n",
              "    <path d=\"M18.56 5.44l.94 2.06.94-2.06 2.06-.94-2.06-.94-.94-2.06-.94 2.06-2.06.94zm-11 1L8.5 8.5l.94-2.06 2.06-.94-2.06-.94L8.5 2.5l-.94 2.06-2.06.94zm10 10l.94 2.06.94-2.06 2.06-.94-2.06-.94-.94-2.06-.94 2.06-2.06.94z\"/><path d=\"M17.41 7.96l-1.37-1.37c-.4-.4-.92-.59-1.43-.59-.52 0-1.04.2-1.43.59L10.3 9.45l-7.72 7.72c-.78.78-.78 2.05 0 2.83L4 21.41c.39.39.9.59 1.41.59.51 0 1.02-.2 1.41-.59l7.78-7.78 2.81-2.81c.8-.78.8-2.07 0-2.86zM5.41 20L4 18.59l7.72-7.72 1.47 1.35L5.41 20z\"/>\n",
              "  </svg>\n",
              "      </button>\n",
              "      \n",
              "  <style>\n",
              "    .colab-df-container {\n",
              "      display:flex;\n",
              "      flex-wrap:wrap;\n",
              "      gap: 12px;\n",
              "    }\n",
              "\n",
              "    .colab-df-convert {\n",
              "      background-color: #E8F0FE;\n",
              "      border: none;\n",
              "      border-radius: 50%;\n",
              "      cursor: pointer;\n",
              "      display: none;\n",
              "      fill: #1967D2;\n",
              "      height: 32px;\n",
              "      padding: 0 0 0 0;\n",
              "      width: 32px;\n",
              "    }\n",
              "\n",
              "    .colab-df-convert:hover {\n",
              "      background-color: #E2EBFA;\n",
              "      box-shadow: 0px 1px 2px rgba(60, 64, 67, 0.3), 0px 1px 3px 1px rgba(60, 64, 67, 0.15);\n",
              "      fill: #174EA6;\n",
              "    }\n",
              "\n",
              "    [theme=dark] .colab-df-convert {\n",
              "      background-color: #3B4455;\n",
              "      fill: #D2E3FC;\n",
              "    }\n",
              "\n",
              "    [theme=dark] .colab-df-convert:hover {\n",
              "      background-color: #434B5C;\n",
              "      box-shadow: 0px 1px 3px 1px rgba(0, 0, 0, 0.15);\n",
              "      filter: drop-shadow(0px 1px 2px rgba(0, 0, 0, 0.3));\n",
              "      fill: #FFFFFF;\n",
              "    }\n",
              "  </style>\n",
              "\n",
              "      <script>\n",
              "        const buttonEl =\n",
              "          document.querySelector('#df-6ce8bb33-2ac4-4c43-ae37-be2a19b0b011 button.colab-df-convert');\n",
              "        buttonEl.style.display =\n",
              "          google.colab.kernel.accessAllowed ? 'block' : 'none';\n",
              "\n",
              "        async function convertToInteractive(key) {\n",
              "          const element = document.querySelector('#df-6ce8bb33-2ac4-4c43-ae37-be2a19b0b011');\n",
              "          const dataTable =\n",
              "            await google.colab.kernel.invokeFunction('convertToInteractive',\n",
              "                                                     [key], {});\n",
              "          if (!dataTable) return;\n",
              "\n",
              "          const docLinkHtml = 'Like what you see? Visit the ' +\n",
              "            '<a target=\"_blank\" href=https://colab.research.google.com/notebooks/data_table.ipynb>data table notebook</a>'\n",
              "            + ' to learn more about interactive tables.';\n",
              "          element.innerHTML = '';\n",
              "          dataTable['output_type'] = 'display_data';\n",
              "          await google.colab.output.renderOutput(dataTable, element);\n",
              "          const docLink = document.createElement('div');\n",
              "          docLink.innerHTML = docLinkHtml;\n",
              "          element.appendChild(docLink);\n",
              "        }\n",
              "      </script>\n",
              "    </div>\n",
              "  </div>\n",
              "  "
            ]
          },
          "metadata": {},
          "execution_count": 18
        }
      ]
    },
    {
      "cell_type": "markdown",
      "metadata": {
        "id": "mh_KMxuZgH0a"
      },
      "source": [
        "## Probar una división sobre la característica **sepal length (cm)**"
      ]
    },
    {
      "cell_type": "markdown",
      "metadata": {
        "id": "g-GPO1CGgjgC"
      },
      "source": [
        "Ver como se distribuyen los valores de la característica"
      ]
    },
    {
      "cell_type": "markdown",
      "source": [
        "histograma para distribución de frecuencias\n",
        "\n",
        "columna 0 sepal lenght"
      ],
      "metadata": {
        "id": "4Xd8yvMsJdFG"
      }
    },
    {
      "cell_type": "code",
      "metadata": {
        "id": "AquRt7Rzp2vt",
        "colab": {
          "base_uri": "https://localhost:8080/",
          "height": 282
        },
        "outputId": "5b6c5b9b-c2eb-4da8-d51d-4dc945d13256"
      },
      "source": [
        "caracteristica=iris.feature_names[0] # Columna 0 'sepal lenght (cm)'\n",
        "datos[caracteristica].hist()"
      ],
      "execution_count": null,
      "outputs": [
        {
          "output_type": "execute_result",
          "data": {
            "text/plain": [
              "<matplotlib.axes._subplots.AxesSubplot at 0x7f0ca9879820>"
            ]
          },
          "metadata": {},
          "execution_count": 19
        },
        {
          "output_type": "display_data",
          "data": {
            "text/plain": [
              "<Figure size 432x288 with 1 Axes>"
            ],
            "image/png": "[encoded data removed]"
          },
          "metadata": {
            "needs_background": "light"
          }
        }
      ]
    },
    {
      "cell_type": "markdown",
      "metadata": {
        "id": "5pt-zI4Ehbfq"
      },
      "source": [
        "Utilizamos el valor 6 para realizar la partición\n",
        "\n",
        "- $Q_{izqierdo}=\\{x \\in datos| x[sepal\\ leng (cm)] \\le 6\\}$\n",
        "- $Q_{derecho}=\\{x \\in datos| x[sepal\\ leng (cm)] > 6\\}$\n",
        "\n",
        "Se utiliza la función [**cut**](https://pandas.pydata.org/pandas-docs/stable/reference/api/pandas.cut.html) de la librería **pandas** que segmenta una serie en intervalos.\n",
        "\n",
        "En ejemplo se proponen dos intervalo :\n",
        "- Izquierdo (0,6]\n",
        "- Derecho (6,8]"
      ]
    },
    {
      "cell_type": "markdown",
      "source": [
        "funcion cut para cortar datos según sepal lenght\n",
        "\n",
        "dv izq y derecha en los intervalos que se dividen"
      ],
      "metadata": {
        "id": "sqsk5QrMva_A"
      }
    },
    {
      "cell_type": "code",
      "metadata": {
        "id": "Kv5jMKtTsd_Z",
        "colab": {
          "base_uri": "https://localhost:8080/"
        },
        "outputId": "42dafe41-f07d-4e20-8250-632af3a225c8"
      },
      "source": [
        "from pandas._libs.interval import Interval\n",
        "corte=6\n",
        "dv=pd.cut(datos[caracteristica],[0,corte,8])\n",
        "dv_izquierdo=datos[dv==Interval(0, corte, closed='right')]\n",
        "dv_derecho=datos[dv==Interval(corte, 8, closed='right')]\n",
        "len(dv_izquierdo),len(dv_derecho),len(datos)"
      ],
      "execution_count": null,
      "outputs": [
        {
          "output_type": "execute_result",
          "data": {
            "text/plain": [
              "(89, 61, 150)"
            ]
          },
          "metadata": {},
          "execution_count": 20
        }
      ]
    },
    {
      "cell_type": "markdown",
      "metadata": {
        "id": "QMMYfN-CncTb"
      },
      "source": [
        "Valoramos los nodos obtenido **dv_izquierdo** y **dv_derecho**\n",
        "- Obtenemos la probabilidad de cada clase $p_{m,k}$ haciendo uso de [**groupby**](https://pandas.pydata.org/pandas-docs/stable/reference/api/pandas.DataFrame.groupby.html?highlight=groupby#pandas.DataFrame.groupby) y **count** de **pandas**"
      ]
    },
    {
      "cell_type": "markdown",
      "source": [
        "se calculan las probabilidad, por lo que hay que agrupar por clases y despues obtener probabilidades."
      ],
      "metadata": {
        "id": "NyExx5gsvnhr"
      }
    },
    {
      "cell_type": "code",
      "metadata": {
        "id": "7EVJaYUat4ln",
        "colab": {
          "base_uri": "https://localhost:8080/",
          "height": 143
        },
        "outputId": "6c020fc3-300a-43d2-a37d-38d09bd657df"
      },
      "source": [
        "Nodo=dv_izquierdo\n",
        "sdv=Nodo.groupby('tipos',as_index=False).count()\n",
        "nizq=len(Nodo)\n",
        "sdv['Prob']=sdv[caracteristica]/nizq\n",
        "lpizq=sdv['Prob'].values\n",
        "sdv"
      ],
      "execution_count": null,
      "outputs": [
        {
          "output_type": "execute_result",
          "data": {
            "text/plain": [
              "   tipos  sepal length (cm)  sepal width (cm)  petal length (cm)  \\\n",
              "0      0                 50                50                 50   \n",
              "1      1                 30                30                 30   \n",
              "2      2                  9                 9                  9   \n",
              "\n",
              "   petal width (cm)      Prob  \n",
              "0                50  0.561798  \n",
              "1                30  0.337079  \n",
              "2                 9  0.101124  "
            ],
            "text/html": [
              "\n",
              "  <div id=\"df-dcfa2d12-3313-4d29-ac6e-4c8ff43790ce\">\n",
              "    <div class=\"colab-df-container\">\n",
              "      <div>\n",
              "<style scoped>\n",
              "    .dataframe tbody tr th:only-of-type {\n",
              "        vertical-align: middle;\n",
              "    }\n",
              "\n",
              "    .dataframe tbody tr th {\n",
              "        vertical-align: top;\n",
              "    }\n",
              "\n",
              "    .dataframe thead th {\n",
              "        text-align: right;\n",
              "    }\n",
              "</style>\n",
              "<table border=\"1\" class=\"dataframe\">\n",
              "  <thead>\n",
              "    <tr style=\"text-align: right;\">\n",
              "      <th></th>\n",
              "      <th>tipos</th>\n",
              "      <th>sepal length (cm)</th>\n",
              "      <th>sepal width (cm)</th>\n",
              "      <th>petal length (cm)</th>\n",
              "      <th>petal width (cm)</th>\n",
              "      <th>Prob</th>\n",
              "    </tr>\n",
              "  </thead>\n",
              "  <tbody>\n",
              "    <tr>\n",
              "      <th>0</th>\n",
              "      <td>0</td>\n",
              "      <td>50</td>\n",
              "      <td>50</td>\n",
              "      <td>50</td>\n",
              "      <td>50</td>\n",
              "      <td>0.561798</td>\n",
              "    </tr>\n",
              "    <tr>\n",
              "      <th>1</th>\n",
              "      <td>1</td>\n",
              "      <td>30</td>\n",
              "      <td>30</td>\n",
              "      <td>30</td>\n",
              "      <td>30</td>\n",
              "      <td>0.337079</td>\n",
              "    </tr>\n",
              "    <tr>\n",
              "      <th>2</th>\n",
              "      <td>2</td>\n",
              "      <td>9</td>\n",
              "      <td>9</td>\n",
              "      <td>9</td>\n",
              "      <td>9</td>\n",
              "      <td>0.101124</td>\n",
              "    </tr>\n",
              "  </tbody>\n",
              "</table>\n",
              "</div>\n",
              "      <button class=\"colab-df-convert\" onclick=\"convertToInteractive('df-dcfa2d12-3313-4d29-ac6e-4c8ff43790ce')\"\n",
              "              title=\"Convert this dataframe to an interactive table.\"\n",
              "              style=\"display:none;\">\n",
              "        \n",
              "  <svg xmlns=\"http://www.w3.org/2000/svg\" height=\"24px\"viewBox=\"0 0 24 24\"\n",
              "       width=\"24px\">\n",
              "    <path d=\"M0 0h24v24H0V0z\" fill=\"none\"/>\n",
              "    <path d=\"M18.56 5.44l.94 2.06.94-2.06 2.06-.94-2.06-.94-.94-2.06-.94 2.06-2.06.94zm-11 1L8.5 8.5l.94-2.06 2.06-.94-2.06-.94L8.5 2.5l-.94 2.06-2.06.94zm10 10l.94 2.06.94-2.06 2.06-.94-2.06-.94-.94-2.06-.94 2.06-2.06.94z\"/><path d=\"M17.41 7.96l-1.37-1.37c-.4-.4-.92-.59-1.43-.59-.52 0-1.04.2-1.43.59L10.3 9.45l-7.72 7.72c-.78.78-.78 2.05 0 2.83L4 21.41c.39.39.9.59 1.41.59.51 0 1.02-.2 1.41-.59l7.78-7.78 2.81-2.81c.8-.78.8-2.07 0-2.86zM5.41 20L4 18.59l7.72-7.72 1.47 1.35L5.41 20z\"/>\n",
              "  </svg>\n",
              "      </button>\n",
              "      \n",
              "  <style>\n",
              "    .colab-df-container {\n",
              "      display:flex;\n",
              "      flex-wrap:wrap;\n",
              "      gap: 12px;\n",
              "    }\n",
              "\n",
              "    .colab-df-convert {\n",
              "      background-color: #E8F0FE;\n",
              "      border: none;\n",
              "      border-radius: 50%;\n",
              "      cursor: pointer;\n",
              "      display: none;\n",
              "      fill: #1967D2;\n",
              "      height: 32px;\n",
              "      padding: 0 0 0 0;\n",
              "      width: 32px;\n",
              "    }\n",
              "\n",
              "    .colab-df-convert:hover {\n",
              "      background-color: #E2EBFA;\n",
              "      box-shadow: 0px 1px 2px rgba(60, 64, 67, 0.3), 0px 1px 3px 1px rgba(60, 64, 67, 0.15);\n",
              "      fill: #174EA6;\n",
              "    }\n",
              "\n",
              "    [theme=dark] .colab-df-convert {\n",
              "      background-color: #3B4455;\n",
              "      fill: #D2E3FC;\n",
              "    }\n",
              "\n",
              "    [theme=dark] .colab-df-convert:hover {\n",
              "      background-color: #434B5C;\n",
              "      box-shadow: 0px 1px 3px 1px rgba(0, 0, 0, 0.15);\n",
              "      filter: drop-shadow(0px 1px 2px rgba(0, 0, 0, 0.3));\n",
              "      fill: #FFFFFF;\n",
              "    }\n",
              "  </style>\n",
              "\n",
              "      <script>\n",
              "        const buttonEl =\n",
              "          document.querySelector('#df-dcfa2d12-3313-4d29-ac6e-4c8ff43790ce button.colab-df-convert');\n",
              "        buttonEl.style.display =\n",
              "          google.colab.kernel.accessAllowed ? 'block' : 'none';\n",
              "\n",
              "        async function convertToInteractive(key) {\n",
              "          const element = document.querySelector('#df-dcfa2d12-3313-4d29-ac6e-4c8ff43790ce');\n",
              "          const dataTable =\n",
              "            await google.colab.kernel.invokeFunction('convertToInteractive',\n",
              "                                                     [key], {});\n",
              "          if (!dataTable) return;\n",
              "\n",
              "          const docLinkHtml = 'Like what you see? Visit the ' +\n",
              "            '<a target=\"_blank\" href=https://colab.research.google.com/notebooks/data_table.ipynb>data table notebook</a>'\n",
              "            + ' to learn more about interactive tables.';\n",
              "          element.innerHTML = '';\n",
              "          dataTable['output_type'] = 'display_data';\n",
              "          await google.colab.output.renderOutput(dataTable, element);\n",
              "          const docLink = document.createElement('div');\n",
              "          docLink.innerHTML = docLinkHtml;\n",
              "          element.appendChild(docLink);\n",
              "        }\n",
              "      </script>\n",
              "    </div>\n",
              "  </div>\n",
              "  "
            ]
          },
          "metadata": {},
          "execution_count": 21
        }
      ]
    },
    {
      "cell_type": "markdown",
      "source": [
        "count cuenta cuantos de cada tipo; 50/89= 0.5617"
      ],
      "metadata": {
        "id": "xBoXGfOxKZlE"
      }
    },
    {
      "cell_type": "code",
      "metadata": {
        "id": "VT7OvgLOo0_7",
        "colab": {
          "base_uri": "https://localhost:8080/",
          "height": 112
        },
        "outputId": "d4c1d348-4ee1-417d-b140-fbc3f7ff77bb"
      },
      "source": [
        "Nodo=dv_derecho\n",
        "sdv=Nodo.groupby('tipos',as_index=False).count()\n",
        "nder=len(Nodo)\n",
        "sdv['Prob']=sdv[caracteristica]/nder\n",
        "lpder=sdv['Prob'].values\n",
        "sdv"
      ],
      "execution_count": null,
      "outputs": [
        {
          "output_type": "execute_result",
          "data": {
            "text/plain": [
              "   tipos  sepal length (cm)  sepal width (cm)  petal length (cm)  \\\n",
              "0      1                 20                20                 20   \n",
              "1      2                 41                41                 41   \n",
              "\n",
              "   petal width (cm)      Prob  \n",
              "0                20  0.327869  \n",
              "1                41  0.672131  "
            ],
            "text/html": [
              "\n",
              "  <div id=\"df-3d9ae1ef-808b-478a-9479-51b9457a36b2\">\n",
              "    <div class=\"colab-df-container\">\n",
              "      <div>\n",
              "<style scoped>\n",
              "    .dataframe tbody tr th:only-of-type {\n",
              "        vertical-align: middle;\n",
              "    }\n",
              "\n",
              "    .dataframe tbody tr th {\n",
              "        vertical-align: top;\n",
              "    }\n",
              "\n",
              "    .dataframe thead th {\n",
              "        text-align: right;\n",
              "    }\n",
              "</style>\n",
              "<table border=\"1\" class=\"dataframe\">\n",
              "  <thead>\n",
              "    <tr style=\"text-align: right;\">\n",
              "      <th></th>\n",
              "      <th>tipos</th>\n",
              "      <th>sepal length (cm)</th>\n",
              "      <th>sepal width (cm)</th>\n",
              "      <th>petal length (cm)</th>\n",
              "      <th>petal width (cm)</th>\n",
              "      <th>Prob</th>\n",
              "    </tr>\n",
              "  </thead>\n",
              "  <tbody>\n",
              "    <tr>\n",
              "      <th>0</th>\n",
              "      <td>1</td>\n",
              "      <td>20</td>\n",
              "      <td>20</td>\n",
              "      <td>20</td>\n",
              "      <td>20</td>\n",
              "      <td>0.327869</td>\n",
              "    </tr>\n",
              "    <tr>\n",
              "      <th>1</th>\n",
              "      <td>2</td>\n",
              "      <td>41</td>\n",
              "      <td>41</td>\n",
              "      <td>41</td>\n",
              "      <td>41</td>\n",
              "      <td>0.672131</td>\n",
              "    </tr>\n",
              "  </tbody>\n",
              "</table>\n",
              "</div>\n",
              "      <button class=\"colab-df-convert\" onclick=\"convertToInteractive('df-3d9ae1ef-808b-478a-9479-51b9457a36b2')\"\n",
              "              title=\"Convert this dataframe to an interactive table.\"\n",
              "              style=\"display:none;\">\n",
              "        \n",
              "  <svg xmlns=\"http://www.w3.org/2000/svg\" height=\"24px\"viewBox=\"0 0 24 24\"\n",
              "       width=\"24px\">\n",
              "    <path d=\"M0 0h24v24H0V0z\" fill=\"none\"/>\n",
              "    <path d=\"M18.56 5.44l.94 2.06.94-2.06 2.06-.94-2.06-.94-.94-2.06-.94 2.06-2.06.94zm-11 1L8.5 8.5l.94-2.06 2.06-.94-2.06-.94L8.5 2.5l-.94 2.06-2.06.94zm10 10l.94 2.06.94-2.06 2.06-.94-2.06-.94-.94-2.06-.94 2.06-2.06.94z\"/><path d=\"M17.41 7.96l-1.37-1.37c-.4-.4-.92-.59-1.43-.59-.52 0-1.04.2-1.43.59L10.3 9.45l-7.72 7.72c-.78.78-.78 2.05 0 2.83L4 21.41c.39.39.9.59 1.41.59.51 0 1.02-.2 1.41-.59l7.78-7.78 2.81-2.81c.8-.78.8-2.07 0-2.86zM5.41 20L4 18.59l7.72-7.72 1.47 1.35L5.41 20z\"/>\n",
              "  </svg>\n",
              "      </button>\n",
              "      \n",
              "  <style>\n",
              "    .colab-df-container {\n",
              "      display:flex;\n",
              "      flex-wrap:wrap;\n",
              "      gap: 12px;\n",
              "    }\n",
              "\n",
              "    .colab-df-convert {\n",
              "      background-color: #E8F0FE;\n",
              "      border: none;\n",
              "      border-radius: 50%;\n",
              "      cursor: pointer;\n",
              "      display: none;\n",
              "      fill: #1967D2;\n",
              "      height: 32px;\n",
              "      padding: 0 0 0 0;\n",
              "      width: 32px;\n",
              "    }\n",
              "\n",
              "    .colab-df-convert:hover {\n",
              "      background-color: #E2EBFA;\n",
              "      box-shadow: 0px 1px 2px rgba(60, 64, 67, 0.3), 0px 1px 3px 1px rgba(60, 64, 67, 0.15);\n",
              "      fill: #174EA6;\n",
              "    }\n",
              "\n",
              "    [theme=dark] .colab-df-convert {\n",
              "      background-color: #3B4455;\n",
              "      fill: #D2E3FC;\n",
              "    }\n",
              "\n",
              "    [theme=dark] .colab-df-convert:hover {\n",
              "      background-color: #434B5C;\n",
              "      box-shadow: 0px 1px 3px 1px rgba(0, 0, 0, 0.15);\n",
              "      filter: drop-shadow(0px 1px 2px rgba(0, 0, 0, 0.3));\n",
              "      fill: #FFFFFF;\n",
              "    }\n",
              "  </style>\n",
              "\n",
              "      <script>\n",
              "        const buttonEl =\n",
              "          document.querySelector('#df-3d9ae1ef-808b-478a-9479-51b9457a36b2 button.colab-df-convert');\n",
              "        buttonEl.style.display =\n",
              "          google.colab.kernel.accessAllowed ? 'block' : 'none';\n",
              "\n",
              "        async function convertToInteractive(key) {\n",
              "          const element = document.querySelector('#df-3d9ae1ef-808b-478a-9479-51b9457a36b2');\n",
              "          const dataTable =\n",
              "            await google.colab.kernel.invokeFunction('convertToInteractive',\n",
              "                                                     [key], {});\n",
              "          if (!dataTable) return;\n",
              "\n",
              "          const docLinkHtml = 'Like what you see? Visit the ' +\n",
              "            '<a target=\"_blank\" href=https://colab.research.google.com/notebooks/data_table.ipynb>data table notebook</a>'\n",
              "            + ' to learn more about interactive tables.';\n",
              "          element.innerHTML = '';\n",
              "          dataTable['output_type'] = 'display_data';\n",
              "          await google.colab.output.renderOutput(dataTable, element);\n",
              "          const docLink = document.createElement('div');\n",
              "          docLink.innerHTML = docLinkHtml;\n",
              "          element.appendChild(docLink);\n",
              "        }\n",
              "      </script>\n",
              "    </div>\n",
              "  </div>\n",
              "  "
            ]
          },
          "metadata": {},
          "execution_count": 22
        }
      ]
    },
    {
      "cell_type": "markdown",
      "metadata": {
        "id": "Qx6LFfNbpa7b"
      },
      "source": [
        "Valoramos la partición:\n",
        "- Calculamos el valor de disparidad en cada nodo: Gini, Entropía y mal clasificación."
      ]
    },
    {
      "cell_type": "markdown",
      "source": [
        "zip de 2 listas te genera una unica lista "
      ],
      "metadata": {
        "id": "SRyG1749v5VC"
      }
    },
    {
      "cell_type": "code",
      "metadata": {
        "id": "spiTMkjNp03x"
      },
      "source": [
        "def Gini (l_probabilidades):\n",
        "  s=0.0\n",
        "  for p in l_probabilidades:\n",
        "    s = s + p*(1-p)\n",
        "  return s\n",
        "\n",
        "def Entropia(l_probabilidades):\n",
        "  s = 0.0\n",
        "  log_list= np.log(l_probabilidades)\n",
        "  for (p,plog) in zip(l_probabilidades,log_list):\n",
        "    s= s +p *plog\n",
        "  return - s\n",
        "\n",
        "def MClasificacion(l_probabilidades):\n",
        "  return 1-max(l_probabilidades)"
      ],
      "execution_count": null,
      "outputs": []
    },
    {
      "cell_type": "markdown",
      "metadata": {
        "id": "ZSDEfP9xtrt8"
      },
      "source": [
        "Valoración utilizando el criterio **gini**"
      ]
    },
    {
      "cell_type": "code",
      "metadata": {
        "id": "KU_m9PLHruZp",
        "colab": {
          "base_uri": "https://localhost:8080/"
        },
        "outputId": "8c492275-facb-4e69-f267-1769cadd2f4c"
      },
      "source": [
        "print(f'Gini(lpizq)={Gini(lpizq)}\\nGini(lpder)={Gini(lpder)}\\nG(izq,(sepal,6))={(nizq/(nizq+nder))*Gini(lpizq)+(nder/(nizq+nder))*Gini(lpder)}')"
      ],
      "execution_count": null,
      "outputs": [
        {
          "output_type": "stream",
          "name": "stdout",
          "text": [
            "Gini(lpizq)=0.5605352859487438\n",
            "Gini(lpder)=0.44074173609244827\n",
            "G(izq,(sepal,6))=0.511819242340517\n"
          ]
        }
      ]
    },
    {
      "cell_type": "markdown",
      "metadata": {
        "id": "SlcBDMc8tzV7"
      },
      "source": [
        "Valoración utilizando la **entropía**"
      ]
    },
    {
      "cell_type": "code",
      "metadata": {
        "id": "LnbFourFuAV3",
        "colab": {
          "base_uri": "https://localhost:8080/"
        },
        "outputId": "974b9d73-f081-4ee5-d8b9-e1d795ed9d5b"
      },
      "source": [
        "print(f'Entropia(lpizq)={Entropia(lpizq)}\\nEntropia(lpder)={Entropia(lpder)}\\nG(izq,(sepal,6))={(nizq/(nizq+nder))*Entropia(lpizq)+(nder/(nizq+nder))*Entropia(lpder)}')"
      ],
      "execution_count": null,
      "outputs": [
        {
          "output_type": "stream",
          "name": "stdout",
          "text": [
            "Entropia(lpizq)=0.9222083594254213\n",
            "Entropia(lpder)=0.6326591066986156\n",
            "G(izq,(sepal,6))=0.804458329983187\n"
          ]
        }
      ]
    },
    {
      "cell_type": "markdown",
      "metadata": {
        "id": "Pqj6dIGHujWT"
      },
      "source": [
        "Valoración utilizando la **mal clasificación**"
      ]
    },
    {
      "cell_type": "code",
      "metadata": {
        "id": "1bpOMNhAus7L",
        "colab": {
          "base_uri": "https://localhost:8080/"
        },
        "outputId": "6b6c9833-5efb-4cd9-f39f-9883e07fe522"
      },
      "source": [
        "print(f'Entropia(lpizq)={MClasificacion(lpizq)}\\nEntropia(lpder)={MClasificacion(lpder)}\\nG(izq,(sepal,6))={(nizq/(nizq+nder))*MClasificacion(lpizq)+(nder/(nizq+nder))*MClasificacion(lpder)}')"
      ],
      "execution_count": null,
      "outputs": [
        {
          "output_type": "stream",
          "name": "stdout",
          "text": [
            "Entropia(lpizq)=0.4382022471910112\n",
            "Entropia(lpder)=0.3278688524590164\n",
            "G(izq,(sepal,6))=0.39333333333333337\n"
          ]
        }
      ]
    },
    {
      "cell_type": "markdown",
      "metadata": {
        "id": "J5YqRCzrwtTk"
      },
      "source": [
        "# Scikit-Learn [Árboles de decisión](https://scikit-learn.org/stable/modules/tree.html)\n",
        "\n",
        "**Árboles de clasificación** \\( [DecisionTreeClassifier](https://scikit-learn.org/stable/modules/generated/sklearn.tree.DecisionTreeClassifier.html#sklearn.tree.DecisionTreeClassifier)\\)\n",
        "\n",
        "\n",
        "- **Leemos** los datos\n",
        "- **Importamos** toda la funcionalidad de los árboles \\(**tree**\\)\n",
        "- **Creamos** el árbol de decisión para clasificar.\n",
        "- Lo instanciamos \\(**aprendemos**\\) con los datos **X** y sus clase **y**"
      ]
    },
    {
      "cell_type": "code",
      "metadata": {
        "id": "UiVgZgJvxXuz"
      },
      "source": [
        "from sklearn.datasets import load_iris\n",
        "from sklearn import tree\n",
        "X, y = load_iris(return_X_y=True)\n",
        "clf = tree.DecisionTreeClassifier()\n",
        "clf = clf.fit(X, y)"
      ],
      "execution_count": null,
      "outputs": []
    },
    {
      "cell_type": "markdown",
      "source": [
        "ajuste en clf con modelo fit"
      ],
      "metadata": {
        "id": "wjYaJWPowt_c"
      }
    },
    {
      "cell_type": "markdown",
      "source": [
        "ahora estamos con aprendizaje supervisado, ya que se necesitan las x y las clases por separado\n",
        "\n",
        "cluster era no supervisado"
      ],
      "metadata": {
        "id": "vCNU3BUdwwGc"
      }
    },
    {
      "cell_type": "markdown",
      "metadata": {
        "id": "cpFRekqP28wA"
      },
      "source": [
        "Mostramos el árbol obtenido"
      ]
    },
    {
      "cell_type": "code",
      "metadata": {
        "id": "YW5jpGwFyU6r",
        "colab": {
          "base_uri": "https://localhost:8080/",
          "height": 543
        },
        "outputId": "86ccfa2a-f0df-4995-ec5c-8658b8a3d749"
      },
      "source": [
        "tree.plot_tree(clf)"
      ],
      "execution_count": null,
      "outputs": [
        {
          "output_type": "execute_result",
          "data": {
            "text/plain": [
              "[Text(0.5, 0.9166666666666666, 'X[2] <= 2.45\\ngini = 0.667\\nsamples = 150\\nvalue = [50, 50, 50]'),\n",
              " Text(0.4230769230769231, 0.75, 'gini = 0.0\\nsamples = 50\\nvalue = [50, 0, 0]'),\n",
              " Text(0.5769230769230769, 0.75, 'X[3] <= 1.75\\ngini = 0.5\\nsamples = 100\\nvalue = [0, 50, 50]'),\n",
              " Text(0.3076923076923077, 0.5833333333333334, 'X[2] <= 4.95\\ngini = 0.168\\nsamples = 54\\nvalue = [0, 49, 5]'),\n",
              " Text(0.15384615384615385, 0.4166666666666667, 'X[3] <= 1.65\\ngini = 0.041\\nsamples = 48\\nvalue = [0, 47, 1]'),\n",
              " Text(0.07692307692307693, 0.25, 'gini = 0.0\\nsamples = 47\\nvalue = [0, 47, 0]'),\n",
              " Text(0.23076923076923078, 0.25, 'gini = 0.0\\nsamples = 1\\nvalue = [0, 0, 1]'),\n",
              " Text(0.46153846153846156, 0.4166666666666667, 'X[3] <= 1.55\\ngini = 0.444\\nsamples = 6\\nvalue = [0, 2, 4]'),\n",
              " Text(0.38461538461538464, 0.25, 'gini = 0.0\\nsamples = 3\\nvalue = [0, 0, 3]'),\n",
              " Text(0.5384615384615384, 0.25, 'X[2] <= 5.45\\ngini = 0.444\\nsamples = 3\\nvalue = [0, 2, 1]'),\n",
              " Text(0.46153846153846156, 0.08333333333333333, 'gini = 0.0\\nsamples = 2\\nvalue = [0, 2, 0]'),\n",
              " Text(0.6153846153846154, 0.08333333333333333, 'gini = 0.0\\nsamples = 1\\nvalue = [0, 0, 1]'),\n",
              " Text(0.8461538461538461, 0.5833333333333334, 'X[2] <= 4.85\\ngini = 0.043\\nsamples = 46\\nvalue = [0, 1, 45]'),\n",
              " Text(0.7692307692307693, 0.4166666666666667, 'X[1] <= 3.1\\ngini = 0.444\\nsamples = 3\\nvalue = [0, 1, 2]'),\n",
              " Text(0.6923076923076923, 0.25, 'gini = 0.0\\nsamples = 2\\nvalue = [0, 0, 2]'),\n",
              " Text(0.8461538461538461, 0.25, 'gini = 0.0\\nsamples = 1\\nvalue = [0, 1, 0]'),\n",
              " Text(0.9230769230769231, 0.4166666666666667, 'gini = 0.0\\nsamples = 43\\nvalue = [0, 0, 43]')]"
            ]
          },
          "metadata": {},
          "execution_count": 28
        },
        {
          "output_type": "display_data",
          "data": {
            "text/plain": [
              "<Figure size 432x288 with 1 Axes>"
            ],
            "image/png": "[encoded data removed]"
          },
          "metadata": {
            "needs_background": "light"
          }
        }
      ]
    },
    {
      "cell_type": "markdown",
      "metadata": {
        "id": "U-cAE6At88cj"
      },
      "source": [
        "Predecimos como con cualquier modelo "
      ]
    },
    {
      "cell_type": "code",
      "metadata": {
        "id": "Xm5V6QxY9Gfb",
        "colab": {
          "base_uri": "https://localhost:8080/"
        },
        "outputId": "a787afd5-5d25-4693-cb23-ad1eb45bc3be"
      },
      "source": [
        "clf.predict(X)!=y"
      ],
      "execution_count": null,
      "outputs": [
        {
          "output_type": "execute_result",
          "data": {
            "text/plain": [
              "array([False, False, False, False, False, False, False, False, False,\n",
              "       False, False, False, False, False, False, False, False, False,\n",
              "       False, False, False, False, False, False, False, False, False,\n",
              "       False, False, False, False, False, False, False, False, False,\n",
              "       False, False, False, False, False, False, False, False, False,\n",
              "       False, False, False, False, False, False, False, False, False,\n",
              "       False, False, False, False, False, False, False, False, False,\n",
              "       False, False, False, False, False, False, False, False, False,\n",
              "       False, False, False, False, False, False, False, False, False,\n",
              "       False, False, False, False, False, False, False, False, False,\n",
              "       False, False, False, False, False, False, False, False, False,\n",
              "       False, False, False, False, False, False, False, False, False,\n",
              "       False, False, False, False, False, False, False, False, False,\n",
              "       False, False, False, False, False, False, False, False, False,\n",
              "       False, False, False, False, False, False, False, False, False,\n",
              "       False, False, False, False, False, False, False, False, False,\n",
              "       False, False, False, False, False, False])"
            ]
          },
          "metadata": {},
          "execution_count": 29
        }
      ]
    },
    {
      "cell_type": "markdown",
      "metadata": {
        "id": "E8YrIQw63-iE"
      },
      "source": [
        "Podemos exporta el gráfico del árbol aun fichero **pdf** con el uso de la librería [**graphviz**](https://pypi.org/project/graphviz/)"
      ]
    },
    {
      "cell_type": "code",
      "metadata": {
        "id": "lbgWkRWT0sY6",
        "colab": {
          "base_uri": "https://localhost:8080/",
          "height": 35
        },
        "outputId": "90691772-1dfe-4ec2-a16d-7dfa0a735830"
      },
      "source": [
        "import graphviz \n",
        "dot_data = tree.export_graphviz(clf, out_file=None) \n",
        "graph = graphviz.Source(dot_data) \n",
        "graph.render(\"iris\")"
      ],
      "execution_count": null,
      "outputs": [
        {
          "output_type": "execute_result",
          "data": {
            "text/plain": [
              "'iris.pdf'"
            ],
            "application/vnd.google.colaboratory.intrinsic+json": {
              "type": "string"
            }
          },
          "metadata": {},
          "execution_count": 30
        }
      ]
    },
    {
      "cell_type": "markdown",
      "metadata": {
        "id": "nuDoPfuV4iV1"
      },
      "source": [
        "La exportación puede ser más *sofisticada* y a distintos *formatos*"
      ]
    },
    {
      "cell_type": "code",
      "metadata": {
        "id": "nesxEUls1PFr",
        "colab": {
          "base_uri": "https://localhost:8080/",
          "height": 916
        },
        "outputId": "e3dd1b78-9793-4873-dcc7-a0e4a2bb4496"
      },
      "source": [
        "dot_data = tree.export_graphviz(clf, out_file=None, \n",
        "                     feature_names=iris.feature_names,  \n",
        "                     class_names=iris.target_names,  \n",
        "                     filled=True, rounded=True,  \n",
        "                     special_characters=True)  \n",
        "graph = graphviz.Source(dot_data)\n",
        "graph"
      ],
      "execution_count": null,
      "outputs": [
        {
          "output_type": "execute_result",
          "data": {
            "text/plain": [
              "<graphviz.files.Source at 0x7f0ca968dca0>"
            ],
            "image/svg+xml": "<?xml version=\"1.0\" encoding=\"UTF-8\" standalone=\"no\"?>\n<!DOCTYPE svg PUBLIC \"-//W3C//DTD SVG 1.1//EN\"\n \"http://www.w3.org/Graphics/SVG/1.1/DTD/svg11.dtd\">\n<!-- Generated by graphviz version 2.40.1 (20161225.0304)\n -->\n<!-- Title: Tree Pages: 1 -->\n<svg width=\"893pt\" height=\"671pt\"\n viewBox=\"0.00 0.00 892.50 671.00\" xmlns=\"http://www.w3.org/2000/svg\" xmlns:xlink=\"http://www.w3.org/1999/xlink\">\n<g id=\"graph0\" class=\"graph\" transform=\"scale(1 1) rotate(0) translate(4 667)\">\n<title>Tree</title>\n<polygon fill=\"#ffffff\" stroke=\"transparent\" points=\"-4,4 -4,-667 888.5,-667 888.5,4 -4,4\"/>\n<!-- 0 -->\n<g id=\"node1\" class=\"node\">\n<title>0</title>\n<path fill=\"#ffffff\" stroke=\"#000000\" d=\"M539.5,-663C539.5,-663 396.5,-663 396.5,-663 390.5,-663 384.5,-657 384.5,-651 384.5,-651 384.5,-592 384.5,-592 384.5,-586 390.5,-580 396.5,-580 396.5,-580 539.5,-580 539.5,-580 545.5,-580 551.5,-586 551.5,-592 551.5,-592 551.5,-651 551.5,-651 551.5,-657 545.5,-663 539.5,-663\"/>\n<text text-anchor=\"start\" x=\"392.5\" y=\"-647.8\" font-family=\"Helvetica,sans-Serif\" font-size=\"14.00\" fill=\"#000000\">petal length (cm) ≤ 2.45</text>\n<text text-anchor=\"start\" x=\"430\" y=\"-632.8\" font-family=\"Helvetica,sans-Serif\" font-size=\"14.00\" fill=\"#000000\">gini = 0.667</text>\n<text text-anchor=\"start\" x=\"420\" y=\"-617.8\" font-family=\"Helvetica,sans-Serif\" font-size=\"14.00\" fill=\"#000000\">samples = 150</text>\n<text text-anchor=\"start\" x=\"406\" y=\"-602.8\" font-family=\"Helvetica,sans-Serif\" font-size=\"14.00\" fill=\"#000000\">value = [50, 50, 50]</text>\n<text text-anchor=\"start\" x=\"421\" y=\"-587.8\" font-family=\"Helvetica,sans-Serif\" font-size=\"14.00\" fill=\"#000000\">class = setosa</text>\n</g>\n<!-- 1 -->\n<g id=\"node2\" class=\"node\">\n<title>1</title>\n<path fill=\"#e58139\" stroke=\"#000000\" d=\"M437.5,-536.5C437.5,-536.5 338.5,-536.5 338.5,-536.5 332.5,-536.5 326.5,-530.5 326.5,-524.5 326.5,-524.5 326.5,-480.5 326.5,-480.5 326.5,-474.5 332.5,-468.5 338.5,-468.5 338.5,-468.5 437.5,-468.5 437.5,-468.5 443.5,-468.5 449.5,-474.5 449.5,-480.5 449.5,-480.5 449.5,-524.5 449.5,-524.5 449.5,-530.5 443.5,-536.5 437.5,-536.5\"/>\n<text text-anchor=\"start\" x=\"358.5\" y=\"-521.3\" font-family=\"Helvetica,sans-Serif\" font-size=\"14.00\" fill=\"#000000\">gini = 0.0</text>\n<text text-anchor=\"start\" x=\"344\" y=\"-506.3\" font-family=\"Helvetica,sans-Serif\" font-size=\"14.00\" fill=\"#000000\">samples = 50</text>\n<text text-anchor=\"start\" x=\"334.5\" y=\"-491.3\" font-family=\"Helvetica,sans-Serif\" font-size=\"14.00\" fill=\"#000000\">value = [50, 0, 0]</text>\n<text text-anchor=\"start\" x=\"341\" y=\"-476.3\" font-family=\"Helvetica,sans-Serif\" font-size=\"14.00\" fill=\"#000000\">class = setosa</text>\n</g>\n<!-- 0&#45;&gt;1 -->\n<g id=\"edge1\" class=\"edge\">\n<title>0&#45;&gt;1</title>\n<path fill=\"none\" stroke=\"#000000\" d=\"M440.0199,-579.8796C432.4797,-568.6636 424.3113,-556.5131 416.7309,-545.2372\"/>\n<polygon fill=\"#000000\" stroke=\"#000000\" points=\"419.5527,-543.1612 411.0689,-536.8149 413.7434,-547.0667 419.5527,-543.1612\"/>\n<text text-anchor=\"middle\" x=\"406.2608\" y=\"-557.6482\" font-family=\"Helvetica,sans-Serif\" font-size=\"14.00\" fill=\"#000000\">True</text>\n</g>\n<!-- 2 -->\n<g id=\"node3\" class=\"node\">\n<title>2</title>\n<path fill=\"#ffffff\" stroke=\"#000000\" d=\"M616.5,-544C616.5,-544 479.5,-544 479.5,-544 473.5,-544 467.5,-538 467.5,-532 467.5,-532 467.5,-473 467.5,-473 467.5,-467 473.5,-461 479.5,-461 479.5,-461 616.5,-461 616.5,-461 622.5,-461 628.5,-467 628.5,-473 628.5,-473 628.5,-532 628.5,-532 628.5,-538 622.5,-544 616.5,-544\"/>\n<text text-anchor=\"start\" x=\"475.5\" y=\"-528.8\" font-family=\"Helvetica,sans-Serif\" font-size=\"14.00\" fill=\"#000000\">petal width (cm) ≤ 1.75</text>\n<text text-anchor=\"start\" x=\"518.5\" y=\"-513.8\" font-family=\"Helvetica,sans-Serif\" font-size=\"14.00\" fill=\"#000000\">gini = 0.5</text>\n<text text-anchor=\"start\" x=\"500\" y=\"-498.8\" font-family=\"Helvetica,sans-Serif\" font-size=\"14.00\" fill=\"#000000\">samples = 100</text>\n<text text-anchor=\"start\" x=\"490.5\" y=\"-483.8\" font-family=\"Helvetica,sans-Serif\" font-size=\"14.00\" fill=\"#000000\">value = [0, 50, 50]</text>\n<text text-anchor=\"start\" x=\"492\" y=\"-468.8\" font-family=\"Helvetica,sans-Serif\" font-size=\"14.00\" fill=\"#000000\">class = versicolor</text>\n</g>\n<!-- 0&#45;&gt;2 -->\n<g id=\"edge2\" class=\"edge\">\n<title>0&#45;&gt;2</title>\n<path fill=\"none\" stroke=\"#000000\" d=\"M495.9801,-579.8796C501.8531,-571.1434 508.1073,-561.8404 514.1679,-552.8253\"/>\n<polygon fill=\"#000000\" stroke=\"#000000\" points=\"517.2259,-554.5498 519.9005,-544.2981 511.4166,-550.6444 517.2259,-554.5498\"/>\n<text text-anchor=\"middle\" x=\"524.7085\" y=\"-565.1314\" font-family=\"Helvetica,sans-Serif\" font-size=\"14.00\" fill=\"#000000\">False</text>\n</g>\n<!-- 3 -->\n<g id=\"node4\" class=\"node\">\n<title>3</title>\n<path fill=\"#4de88e\" stroke=\"#000000\" d=\"M503.5,-425C503.5,-425 360.5,-425 360.5,-425 354.5,-425 348.5,-419 348.5,-413 348.5,-413 348.5,-354 348.5,-354 348.5,-348 354.5,-342 360.5,-342 360.5,-342 503.5,-342 503.5,-342 509.5,-342 515.5,-348 515.5,-354 515.5,-354 515.5,-413 515.5,-413 515.5,-419 509.5,-425 503.5,-425\"/>\n<text text-anchor=\"start\" x=\"356.5\" y=\"-409.8\" font-family=\"Helvetica,sans-Serif\" font-size=\"14.00\" fill=\"#000000\">petal length (cm) ≤ 4.95</text>\n<text text-anchor=\"start\" x=\"394\" y=\"-394.8\" font-family=\"Helvetica,sans-Serif\" font-size=\"14.00\" fill=\"#000000\">gini = 0.168</text>\n<text text-anchor=\"start\" x=\"388\" y=\"-379.8\" font-family=\"Helvetica,sans-Serif\" font-size=\"14.00\" fill=\"#000000\">samples = 54</text>\n<text text-anchor=\"start\" x=\"378.5\" y=\"-364.8\" font-family=\"Helvetica,sans-Serif\" font-size=\"14.00\" fill=\"#000000\">value = [0, 49, 5]</text>\n<text text-anchor=\"start\" x=\"376\" y=\"-349.8\" font-family=\"Helvetica,sans-Serif\" font-size=\"14.00\" fill=\"#000000\">class = versicolor</text>\n</g>\n<!-- 2&#45;&gt;3 -->\n<g id=\"edge3\" class=\"edge\">\n<title>2&#45;&gt;3</title>\n<path fill=\"none\" stroke=\"#000000\" d=\"M507.4288,-460.8796C498.5618,-451.7832 489.0956,-442.0722 479.9709,-432.7116\"/>\n<polygon fill=\"#000000\" stroke=\"#000000\" points=\"482.2309,-430.0158 472.7443,-425.2981 477.2183,-434.9019 482.2309,-430.0158\"/>\n</g>\n<!-- 12 -->\n<g id=\"node13\" class=\"node\">\n<title>12</title>\n<path fill=\"#843de6\" stroke=\"#000000\" d=\"M736.5,-425C736.5,-425 593.5,-425 593.5,-425 587.5,-425 581.5,-419 581.5,-413 581.5,-413 581.5,-354 581.5,-354 581.5,-348 587.5,-342 593.5,-342 593.5,-342 736.5,-342 736.5,-342 742.5,-342 748.5,-348 748.5,-354 748.5,-354 748.5,-413 748.5,-413 748.5,-419 742.5,-425 736.5,-425\"/>\n<text text-anchor=\"start\" x=\"589.5\" y=\"-409.8\" font-family=\"Helvetica,sans-Serif\" font-size=\"14.00\" fill=\"#000000\">petal length (cm) ≤ 4.85</text>\n<text text-anchor=\"start\" x=\"627\" y=\"-394.8\" font-family=\"Helvetica,sans-Serif\" font-size=\"14.00\" fill=\"#000000\">gini = 0.043</text>\n<text text-anchor=\"start\" x=\"621\" y=\"-379.8\" font-family=\"Helvetica,sans-Serif\" font-size=\"14.00\" fill=\"#000000\">samples = 46</text>\n<text text-anchor=\"start\" x=\"611.5\" y=\"-364.8\" font-family=\"Helvetica,sans-Serif\" font-size=\"14.00\" fill=\"#000000\">value = [0, 1, 45]</text>\n<text text-anchor=\"start\" x=\"613.5\" y=\"-349.8\" font-family=\"Helvetica,sans-Serif\" font-size=\"14.00\" fill=\"#000000\">class = virginica</text>\n</g>\n<!-- 2&#45;&gt;12 -->\n<g id=\"edge12\" class=\"edge\">\n<title>2&#45;&gt;12</title>\n<path fill=\"none\" stroke=\"#000000\" d=\"M588.9209,-460.8796C597.953,-451.6931 607.6013,-441.8798 616.8888,-432.4336\"/>\n<polygon fill=\"#000000\" stroke=\"#000000\" points=\"619.3893,-434.8827 623.9044,-425.2981 614.3977,-429.975 619.3893,-434.8827\"/>\n</g>\n<!-- 4 -->\n<g id=\"node5\" class=\"node\">\n<title>4</title>\n<path fill=\"#3de684\" stroke=\"#000000\" d=\"M274.5,-306C274.5,-306 137.5,-306 137.5,-306 131.5,-306 125.5,-300 125.5,-294 125.5,-294 125.5,-235 125.5,-235 125.5,-229 131.5,-223 137.5,-223 137.5,-223 274.5,-223 274.5,-223 280.5,-223 286.5,-229 286.5,-235 286.5,-235 286.5,-294 286.5,-294 286.5,-300 280.5,-306 274.5,-306\"/>\n<text text-anchor=\"start\" x=\"133.5\" y=\"-290.8\" font-family=\"Helvetica,sans-Serif\" font-size=\"14.00\" fill=\"#000000\">petal width (cm) ≤ 1.65</text>\n<text text-anchor=\"start\" x=\"168\" y=\"-275.8\" font-family=\"Helvetica,sans-Serif\" font-size=\"14.00\" fill=\"#000000\">gini = 0.041</text>\n<text text-anchor=\"start\" x=\"162\" y=\"-260.8\" font-family=\"Helvetica,sans-Serif\" font-size=\"14.00\" fill=\"#000000\">samples = 48</text>\n<text text-anchor=\"start\" x=\"152.5\" y=\"-245.8\" font-family=\"Helvetica,sans-Serif\" font-size=\"14.00\" fill=\"#000000\">value = [0, 47, 1]</text>\n<text text-anchor=\"start\" x=\"150\" y=\"-230.8\" font-family=\"Helvetica,sans-Serif\" font-size=\"14.00\" fill=\"#000000\">class = versicolor</text>\n</g>\n<!-- 3&#45;&gt;4 -->\n<g id=\"edge4\" class=\"edge\">\n<title>3&#45;&gt;4</title>\n<path fill=\"none\" stroke=\"#000000\" d=\"M352.9562,-341.8796C333.8599,-331.8244 313.3373,-321.0183 293.8638,-310.7645\"/>\n<polygon fill=\"#000000\" stroke=\"#000000\" points=\"295.4782,-307.6591 284.9992,-306.0969 292.2169,-313.853 295.4782,-307.6591\"/>\n</g>\n<!-- 7 -->\n<g id=\"node8\" class=\"node\">\n<title>7</title>\n<path fill=\"#c09cf2\" stroke=\"#000000\" d=\"M500.5,-306C500.5,-306 363.5,-306 363.5,-306 357.5,-306 351.5,-300 351.5,-294 351.5,-294 351.5,-235 351.5,-235 351.5,-229 357.5,-223 363.5,-223 363.5,-223 500.5,-223 500.5,-223 506.5,-223 512.5,-229 512.5,-235 512.5,-235 512.5,-294 512.5,-294 512.5,-300 506.5,-306 500.5,-306\"/>\n<text text-anchor=\"start\" x=\"359.5\" y=\"-290.8\" font-family=\"Helvetica,sans-Serif\" font-size=\"14.00\" fill=\"#000000\">petal width (cm) ≤ 1.55</text>\n<text text-anchor=\"start\" x=\"394\" y=\"-275.8\" font-family=\"Helvetica,sans-Serif\" font-size=\"14.00\" fill=\"#000000\">gini = 0.444</text>\n<text text-anchor=\"start\" x=\"392.5\" y=\"-260.8\" font-family=\"Helvetica,sans-Serif\" font-size=\"14.00\" fill=\"#000000\">samples = 6</text>\n<text text-anchor=\"start\" x=\"382.5\" y=\"-245.8\" font-family=\"Helvetica,sans-Serif\" font-size=\"14.00\" fill=\"#000000\">value = [0, 2, 4]</text>\n<text text-anchor=\"start\" x=\"380.5\" y=\"-230.8\" font-family=\"Helvetica,sans-Serif\" font-size=\"14.00\" fill=\"#000000\">class = virginica</text>\n</g>\n<!-- 3&#45;&gt;7 -->\n<g id=\"edge7\" class=\"edge\">\n<title>3&#45;&gt;7</title>\n<path fill=\"none\" stroke=\"#000000\" d=\"M432,-341.8796C432,-333.6838 432,-324.9891 432,-316.5013\"/>\n<polygon fill=\"#000000\" stroke=\"#000000\" points=\"435.5001,-316.298 432,-306.2981 428.5001,-316.2981 435.5001,-316.298\"/>\n</g>\n<!-- 5 -->\n<g id=\"node6\" class=\"node\">\n<title>5</title>\n<path fill=\"#39e581\" stroke=\"#000000\" d=\"M116,-179.5C116,-179.5 12,-179.5 12,-179.5 6,-179.5 0,-173.5 0,-167.5 0,-167.5 0,-123.5 0,-123.5 0,-117.5 6,-111.5 12,-111.5 12,-111.5 116,-111.5 116,-111.5 122,-111.5 128,-117.5 128,-123.5 128,-123.5 128,-167.5 128,-167.5 128,-173.5 122,-179.5 116,-179.5\"/>\n<text text-anchor=\"start\" x=\"34.5\" y=\"-164.3\" font-family=\"Helvetica,sans-Serif\" font-size=\"14.00\" fill=\"#000000\">gini = 0.0</text>\n<text text-anchor=\"start\" x=\"20\" y=\"-149.3\" font-family=\"Helvetica,sans-Serif\" font-size=\"14.00\" fill=\"#000000\">samples = 47</text>\n<text text-anchor=\"start\" x=\"10.5\" y=\"-134.3\" font-family=\"Helvetica,sans-Serif\" font-size=\"14.00\" fill=\"#000000\">value = [0, 47, 0]</text>\n<text text-anchor=\"start\" x=\"8\" y=\"-119.3\" font-family=\"Helvetica,sans-Serif\" font-size=\"14.00\" fill=\"#000000\">class = versicolor</text>\n</g>\n<!-- 4&#45;&gt;5 -->\n<g id=\"edge5\" class=\"edge\">\n<title>4&#45;&gt;5</title>\n<path fill=\"none\" stroke=\"#000000\" d=\"M156.3353,-222.8796C142.1642,-211.0038 126.743,-198.0804 112.6342,-186.2568\"/>\n<polygon fill=\"#000000\" stroke=\"#000000\" points=\"114.8598,-183.5554 104.9472,-179.8149 110.3637,-188.9206 114.8598,-183.5554\"/>\n</g>\n<!-- 6 -->\n<g id=\"node7\" class=\"node\">\n<title>6</title>\n<path fill=\"#8139e5\" stroke=\"#000000\" d=\"M253.5,-179.5C253.5,-179.5 158.5,-179.5 158.5,-179.5 152.5,-179.5 146.5,-173.5 146.5,-167.5 146.5,-167.5 146.5,-123.5 146.5,-123.5 146.5,-117.5 152.5,-111.5 158.5,-111.5 158.5,-111.5 253.5,-111.5 253.5,-111.5 259.5,-111.5 265.5,-117.5 265.5,-123.5 265.5,-123.5 265.5,-167.5 265.5,-167.5 265.5,-173.5 259.5,-179.5 253.5,-179.5\"/>\n<text text-anchor=\"start\" x=\"176.5\" y=\"-164.3\" font-family=\"Helvetica,sans-Serif\" font-size=\"14.00\" fill=\"#000000\">gini = 0.0</text>\n<text text-anchor=\"start\" x=\"166.5\" y=\"-149.3\" font-family=\"Helvetica,sans-Serif\" font-size=\"14.00\" fill=\"#000000\">samples = 1</text>\n<text text-anchor=\"start\" x=\"156.5\" y=\"-134.3\" font-family=\"Helvetica,sans-Serif\" font-size=\"14.00\" fill=\"#000000\">value = [0, 0, 1]</text>\n<text text-anchor=\"start\" x=\"154.5\" y=\"-119.3\" font-family=\"Helvetica,sans-Serif\" font-size=\"14.00\" fill=\"#000000\">class = virginica</text>\n</g>\n<!-- 4&#45;&gt;6 -->\n<g id=\"edge6\" class=\"edge\">\n<title>4&#45;&gt;6</title>\n<path fill=\"none\" stroke=\"#000000\" d=\"M206,-222.8796C206,-212.2134 206,-200.7021 206,-189.9015\"/>\n<polygon fill=\"#000000\" stroke=\"#000000\" points=\"209.5001,-189.8149 206,-179.8149 202.5001,-189.815 209.5001,-189.8149\"/>\n</g>\n<!-- 8 -->\n<g id=\"node9\" class=\"node\">\n<title>8</title>\n<path fill=\"#8139e5\" stroke=\"#000000\" d=\"M390.5,-179.5C390.5,-179.5 295.5,-179.5 295.5,-179.5 289.5,-179.5 283.5,-173.5 283.5,-167.5 283.5,-167.5 283.5,-123.5 283.5,-123.5 283.5,-117.5 289.5,-111.5 295.5,-111.5 295.5,-111.5 390.5,-111.5 390.5,-111.5 396.5,-111.5 402.5,-117.5 402.5,-123.5 402.5,-123.5 402.5,-167.5 402.5,-167.5 402.5,-173.5 396.5,-179.5 390.5,-179.5\"/>\n<text text-anchor=\"start\" x=\"313.5\" y=\"-164.3\" font-family=\"Helvetica,sans-Serif\" font-size=\"14.00\" fill=\"#000000\">gini = 0.0</text>\n<text text-anchor=\"start\" x=\"303.5\" y=\"-149.3\" font-family=\"Helvetica,sans-Serif\" font-size=\"14.00\" fill=\"#000000\">samples = 3</text>\n<text text-anchor=\"start\" x=\"293.5\" y=\"-134.3\" font-family=\"Helvetica,sans-Serif\" font-size=\"14.00\" fill=\"#000000\">value = [0, 0, 3]</text>\n<text text-anchor=\"start\" x=\"291.5\" y=\"-119.3\" font-family=\"Helvetica,sans-Serif\" font-size=\"14.00\" fill=\"#000000\">class = virginica</text>\n</g>\n<!-- 7&#45;&gt;8 -->\n<g id=\"edge8\" class=\"edge\">\n<title>7&#45;&gt;8</title>\n<path fill=\"none\" stroke=\"#000000\" d=\"M400.8721,-222.8796C392.4014,-211.5536 383.2181,-199.2748 374.7153,-187.9058\"/>\n<polygon fill=\"#000000\" stroke=\"#000000\" points=\"377.4562,-185.7268 368.6641,-179.8149 371.8505,-189.9193 377.4562,-185.7268\"/>\n</g>\n<!-- 9 -->\n<g id=\"node10\" class=\"node\">\n<title>9</title>\n<path fill=\"#9cf2c0\" stroke=\"#000000\" d=\"M575.5,-187C575.5,-187 432.5,-187 432.5,-187 426.5,-187 420.5,-181 420.5,-175 420.5,-175 420.5,-116 420.5,-116 420.5,-110 426.5,-104 432.5,-104 432.5,-104 575.5,-104 575.5,-104 581.5,-104 587.5,-110 587.5,-116 587.5,-116 587.5,-175 587.5,-175 587.5,-181 581.5,-187 575.5,-187\"/>\n<text text-anchor=\"start\" x=\"428.5\" y=\"-171.8\" font-family=\"Helvetica,sans-Serif\" font-size=\"14.00\" fill=\"#000000\">petal length (cm) ≤ 5.45</text>\n<text text-anchor=\"start\" x=\"466\" y=\"-156.8\" font-family=\"Helvetica,sans-Serif\" font-size=\"14.00\" fill=\"#000000\">gini = 0.444</text>\n<text text-anchor=\"start\" x=\"464.5\" y=\"-141.8\" font-family=\"Helvetica,sans-Serif\" font-size=\"14.00\" fill=\"#000000\">samples = 3</text>\n<text text-anchor=\"start\" x=\"454.5\" y=\"-126.8\" font-family=\"Helvetica,sans-Serif\" font-size=\"14.00\" fill=\"#000000\">value = [0, 2, 1]</text>\n<text text-anchor=\"start\" x=\"448\" y=\"-111.8\" font-family=\"Helvetica,sans-Serif\" font-size=\"14.00\" fill=\"#000000\">class = versicolor</text>\n</g>\n<!-- 7&#45;&gt;9 -->\n<g id=\"edge9\" class=\"edge\">\n<title>7&#45;&gt;9</title>\n<path fill=\"none\" stroke=\"#000000\" d=\"M457.1821,-222.8796C462.4133,-214.2335 467.9805,-205.0322 473.3823,-196.1042\"/>\n<polygon fill=\"#000000\" stroke=\"#000000\" points=\"476.5283,-197.6658 478.7104,-187.2981 470.5392,-194.0421 476.5283,-197.6658\"/>\n</g>\n<!-- 10 -->\n<g id=\"node11\" class=\"node\">\n<title>10</title>\n<path fill=\"#39e581\" stroke=\"#000000\" d=\"M485,-68C485,-68 381,-68 381,-68 375,-68 369,-62 369,-56 369,-56 369,-12 369,-12 369,-6 375,0 381,0 381,0 485,0 485,0 491,0 497,-6 497,-12 497,-12 497,-56 497,-56 497,-62 491,-68 485,-68\"/>\n<text text-anchor=\"start\" x=\"403.5\" y=\"-52.8\" font-family=\"Helvetica,sans-Serif\" font-size=\"14.00\" fill=\"#000000\">gini = 0.0</text>\n<text text-anchor=\"start\" x=\"393.5\" y=\"-37.8\" font-family=\"Helvetica,sans-Serif\" font-size=\"14.00\" fill=\"#000000\">samples = 2</text>\n<text text-anchor=\"start\" x=\"383.5\" y=\"-22.8\" font-family=\"Helvetica,sans-Serif\" font-size=\"14.00\" fill=\"#000000\">value = [0, 2, 0]</text>\n<text text-anchor=\"start\" x=\"377\" y=\"-7.8\" font-family=\"Helvetica,sans-Serif\" font-size=\"14.00\" fill=\"#000000\">class = versicolor</text>\n</g>\n<!-- 9&#45;&gt;10 -->\n<g id=\"edge10\" class=\"edge\">\n<title>9&#45;&gt;10</title>\n<path fill=\"none\" stroke=\"#000000\" d=\"M477.5622,-103.9815C471.944,-95.1585 466.0012,-85.8258 460.3497,-76.9506\"/>\n<polygon fill=\"#000000\" stroke=\"#000000\" points=\"463.1416,-74.8188 454.8181,-68.2637 457.2371,-78.5787 463.1416,-74.8188\"/>\n</g>\n<!-- 11 -->\n<g id=\"node12\" class=\"node\">\n<title>11</title>\n<path fill=\"#8139e5\" stroke=\"#000000\" d=\"M622.5,-68C622.5,-68 527.5,-68 527.5,-68 521.5,-68 515.5,-62 515.5,-56 515.5,-56 515.5,-12 515.5,-12 515.5,-6 521.5,0 527.5,0 527.5,0 622.5,0 622.5,0 628.5,0 634.5,-6 634.5,-12 634.5,-12 634.5,-56 634.5,-56 634.5,-62 628.5,-68 622.5,-68\"/>\n<text text-anchor=\"start\" x=\"545.5\" y=\"-52.8\" font-family=\"Helvetica,sans-Serif\" font-size=\"14.00\" fill=\"#000000\">gini = 0.0</text>\n<text text-anchor=\"start\" x=\"535.5\" y=\"-37.8\" font-family=\"Helvetica,sans-Serif\" font-size=\"14.00\" fill=\"#000000\">samples = 1</text>\n<text text-anchor=\"start\" x=\"525.5\" y=\"-22.8\" font-family=\"Helvetica,sans-Serif\" font-size=\"14.00\" fill=\"#000000\">value = [0, 0, 1]</text>\n<text text-anchor=\"start\" x=\"523.5\" y=\"-7.8\" font-family=\"Helvetica,sans-Serif\" font-size=\"14.00\" fill=\"#000000\">class = virginica</text>\n</g>\n<!-- 9&#45;&gt;11 -->\n<g id=\"edge11\" class=\"edge\">\n<title>9&#45;&gt;11</title>\n<path fill=\"none\" stroke=\"#000000\" d=\"M530.4378,-103.9815C536.056,-95.1585 541.9988,-85.8258 547.6503,-76.9506\"/>\n<polygon fill=\"#000000\" stroke=\"#000000\" points=\"550.7629,-78.5787 553.1819,-68.2637 544.8584,-74.8188 550.7629,-78.5787\"/>\n</g>\n<!-- 13 -->\n<g id=\"node14\" class=\"node\">\n<title>13</title>\n<path fill=\"#c09cf2\" stroke=\"#000000\" d=\"M731.5,-306C731.5,-306 598.5,-306 598.5,-306 592.5,-306 586.5,-300 586.5,-294 586.5,-294 586.5,-235 586.5,-235 586.5,-229 592.5,-223 598.5,-223 598.5,-223 731.5,-223 731.5,-223 737.5,-223 743.5,-229 743.5,-235 743.5,-235 743.5,-294 743.5,-294 743.5,-300 737.5,-306 731.5,-306\"/>\n<text text-anchor=\"start\" x=\"594.5\" y=\"-290.8\" font-family=\"Helvetica,sans-Serif\" font-size=\"14.00\" fill=\"#000000\">sepal width (cm) ≤ 3.1</text>\n<text text-anchor=\"start\" x=\"627\" y=\"-275.8\" font-family=\"Helvetica,sans-Serif\" font-size=\"14.00\" fill=\"#000000\">gini = 0.444</text>\n<text text-anchor=\"start\" x=\"625.5\" y=\"-260.8\" font-family=\"Helvetica,sans-Serif\" font-size=\"14.00\" fill=\"#000000\">samples = 3</text>\n<text text-anchor=\"start\" x=\"615.5\" y=\"-245.8\" font-family=\"Helvetica,sans-Serif\" font-size=\"14.00\" fill=\"#000000\">value = [0, 1, 2]</text>\n<text text-anchor=\"start\" x=\"613.5\" y=\"-230.8\" font-family=\"Helvetica,sans-Serif\" font-size=\"14.00\" fill=\"#000000\">class = virginica</text>\n</g>\n<!-- 12&#45;&gt;13 -->\n<g id=\"edge13\" class=\"edge\">\n<title>12&#45;&gt;13</title>\n<path fill=\"none\" stroke=\"#000000\" d=\"M665,-341.8796C665,-333.6838 665,-324.9891 665,-316.5013\"/>\n<polygon fill=\"#000000\" stroke=\"#000000\" points=\"668.5001,-316.298 665,-306.2981 661.5001,-316.2981 668.5001,-316.298\"/>\n</g>\n<!-- 16 -->\n<g id=\"node17\" class=\"node\">\n<title>16</title>\n<path fill=\"#8139e5\" stroke=\"#000000\" d=\"M872.5,-298.5C872.5,-298.5 773.5,-298.5 773.5,-298.5 767.5,-298.5 761.5,-292.5 761.5,-286.5 761.5,-286.5 761.5,-242.5 761.5,-242.5 761.5,-236.5 767.5,-230.5 773.5,-230.5 773.5,-230.5 872.5,-230.5 872.5,-230.5 878.5,-230.5 884.5,-236.5 884.5,-242.5 884.5,-242.5 884.5,-286.5 884.5,-286.5 884.5,-292.5 878.5,-298.5 872.5,-298.5\"/>\n<text text-anchor=\"start\" x=\"793.5\" y=\"-283.3\" font-family=\"Helvetica,sans-Serif\" font-size=\"14.00\" fill=\"#000000\">gini = 0.0</text>\n<text text-anchor=\"start\" x=\"779\" y=\"-268.3\" font-family=\"Helvetica,sans-Serif\" font-size=\"14.00\" fill=\"#000000\">samples = 43</text>\n<text text-anchor=\"start\" x=\"769.5\" y=\"-253.3\" font-family=\"Helvetica,sans-Serif\" font-size=\"14.00\" fill=\"#000000\">value = [0, 0, 43]</text>\n<text text-anchor=\"start\" x=\"771.5\" y=\"-238.3\" font-family=\"Helvetica,sans-Serif\" font-size=\"14.00\" fill=\"#000000\">class = virginica</text>\n</g>\n<!-- 12&#45;&gt;16 -->\n<g id=\"edge16\" class=\"edge\">\n<title>12&#45;&gt;16</title>\n<path fill=\"none\" stroke=\"#000000\" d=\"M720.2607,-341.8796C736.2503,-329.8368 753.6703,-316.7167 769.5474,-304.7586\"/>\n<polygon fill=\"#000000\" stroke=\"#000000\" points=\"771.8116,-307.435 777.6938,-298.623 767.6002,-301.8435 771.8116,-307.435\"/>\n</g>\n<!-- 14 -->\n<g id=\"node15\" class=\"node\">\n<title>14</title>\n<path fill=\"#8139e5\" stroke=\"#000000\" d=\"M712.5,-179.5C712.5,-179.5 617.5,-179.5 617.5,-179.5 611.5,-179.5 605.5,-173.5 605.5,-167.5 605.5,-167.5 605.5,-123.5 605.5,-123.5 605.5,-117.5 611.5,-111.5 617.5,-111.5 617.5,-111.5 712.5,-111.5 712.5,-111.5 718.5,-111.5 724.5,-117.5 724.5,-123.5 724.5,-123.5 724.5,-167.5 724.5,-167.5 724.5,-173.5 718.5,-179.5 712.5,-179.5\"/>\n<text text-anchor=\"start\" x=\"635.5\" y=\"-164.3\" font-family=\"Helvetica,sans-Serif\" font-size=\"14.00\" fill=\"#000000\">gini = 0.0</text>\n<text text-anchor=\"start\" x=\"625.5\" y=\"-149.3\" font-family=\"Helvetica,sans-Serif\" font-size=\"14.00\" fill=\"#000000\">samples = 2</text>\n<text text-anchor=\"start\" x=\"615.5\" y=\"-134.3\" font-family=\"Helvetica,sans-Serif\" font-size=\"14.00\" fill=\"#000000\">value = [0, 0, 2]</text>\n<text text-anchor=\"start\" x=\"613.5\" y=\"-119.3\" font-family=\"Helvetica,sans-Serif\" font-size=\"14.00\" fill=\"#000000\">class = virginica</text>\n</g>\n<!-- 13&#45;&gt;14 -->\n<g id=\"edge14\" class=\"edge\">\n<title>13&#45;&gt;14</title>\n<path fill=\"none\" stroke=\"#000000\" d=\"M665,-222.8796C665,-212.2134 665,-200.7021 665,-189.9015\"/>\n<polygon fill=\"#000000\" stroke=\"#000000\" points=\"668.5001,-189.8149 665,-179.8149 661.5001,-189.815 668.5001,-189.8149\"/>\n</g>\n<!-- 15 -->\n<g id=\"node16\" class=\"node\">\n<title>15</title>\n<path fill=\"#39e581\" stroke=\"#000000\" d=\"M859,-179.5C859,-179.5 755,-179.5 755,-179.5 749,-179.5 743,-173.5 743,-167.5 743,-167.5 743,-123.5 743,-123.5 743,-117.5 749,-111.5 755,-111.5 755,-111.5 859,-111.5 859,-111.5 865,-111.5 871,-117.5 871,-123.5 871,-123.5 871,-167.5 871,-167.5 871,-173.5 865,-179.5 859,-179.5\"/>\n<text text-anchor=\"start\" x=\"777.5\" y=\"-164.3\" font-family=\"Helvetica,sans-Serif\" font-size=\"14.00\" fill=\"#000000\">gini = 0.0</text>\n<text text-anchor=\"start\" x=\"767.5\" y=\"-149.3\" font-family=\"Helvetica,sans-Serif\" font-size=\"14.00\" fill=\"#000000\">samples = 1</text>\n<text text-anchor=\"start\" x=\"757.5\" y=\"-134.3\" font-family=\"Helvetica,sans-Serif\" font-size=\"14.00\" fill=\"#000000\">value = [0, 1, 0]</text>\n<text text-anchor=\"start\" x=\"751\" y=\"-119.3\" font-family=\"Helvetica,sans-Serif\" font-size=\"14.00\" fill=\"#000000\">class = versicolor</text>\n</g>\n<!-- 13&#45;&gt;15 -->\n<g id=\"edge15\" class=\"edge\">\n<title>13&#45;&gt;15</title>\n<path fill=\"none\" stroke=\"#000000\" d=\"M714.6647,-222.8796C728.8358,-211.0038 744.257,-198.0804 758.3658,-186.2568\"/>\n<polygon fill=\"#000000\" stroke=\"#000000\" points=\"760.6363,-188.9206 766.0528,-179.8149 756.1402,-183.5554 760.6363,-188.9206\"/>\n</g>\n</g>\n</svg>\n"
          },
          "metadata": {},
          "execution_count": 31
        }
      ]
    },
    {
      "cell_type": "markdown",
      "metadata": {
        "id": "pezjTpCX71iz"
      },
      "source": [
        "O como *texto*"
      ]
    },
    {
      "cell_type": "code",
      "metadata": {
        "id": "b1Z1Z3Gp1f7j",
        "colab": {
          "base_uri": "https://localhost:8080/"
        },
        "outputId": "b52d73bc-fd3d-44c4-8f07-313a9b79e335"
      },
      "source": [
        "from sklearn.datasets import load_iris\n",
        "from sklearn.tree import DecisionTreeClassifier\n",
        "from sklearn.tree import export_text\n",
        "iris = load_iris()\n",
        "decision_tree = DecisionTreeClassifier(random_state=0, max_depth=2)\n",
        "decision_tree = decision_tree.fit(iris.data, iris.target)\n",
        "r = export_text(decision_tree, feature_names=iris['feature_names'])\n",
        "print(r)"
      ],
      "execution_count": null,
      "outputs": [
        {
          "output_type": "stream",
          "name": "stdout",
          "text": [
            "|--- petal width (cm) <= 0.80\n",
            "|   |--- class: 0\n",
            "|--- petal width (cm) >  0.80\n",
            "|   |--- petal width (cm) <= 1.75\n",
            "|   |   |--- class: 1\n",
            "|   |--- petal width (cm) >  1.75\n",
            "|   |   |--- class: 2\n",
            "\n"
          ]
        }
      ]
    },
    {
      "cell_type": "code",
      "metadata": {
        "id": "oQLXDzNB8FlL"
      },
      "source": [],
      "execution_count": null,
      "outputs": []
    },
    {
      "cell_type": "markdown",
      "metadata": {
        "id": "z9ovLSJI93Iz"
      },
      "source": [
        "# [**Orange**](https://orange.biolab.si/) un entorno integrado **Open Source**\n",
        "Como hacernos la vida un poco más fácil"
      ]
    }
  ]
}