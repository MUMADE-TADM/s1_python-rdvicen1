{
  "nbformat": 4,
  "nbformat_minor": 0,
  "metadata": {
    "colab": {
      "provenance": [],
      "authorship_tag": "ABX9TyMnJDOZ7gsNCUmErH4V4gf+",
      "include_colab_link": true
    },
    "kernelspec": {
      "name": "python3",
      "display_name": "Python 3"
    },
    "language_info": {
      "name": "python"
    }
  },
  "cells": [
    {
      "cell_type": "markdown",
      "metadata": {
        "id": "view-in-github",
        "colab_type": "text"
      },
      "source": [
        "<a href=\"https://colab.research.google.com/github/MUMADE-TADM/s1_python-rdvicen1/blob/main/Ejerciciolibre.ipynb\" target=\"_parent\"><img src=\"https://colab.research.google.com/assets/colab-badge.svg\" alt=\"Open In Colab\"/></a>"
      ]
    },
    {
      "cell_type": "code",
      "execution_count": null,
      "metadata": {
        "colab": {
          "base_uri": "https://localhost:8080/"
        },
        "id": "UCyU70x8KKKi",
        "outputId": "07741a6c-0da4-499d-f7ac-4883772cd72d"
      },
      "outputs": [
        {
          "output_type": "stream",
          "name": "stdout",
          "text": [
            "/usr/local/lib/python3.8/dist-packages/gdown/cli.py:127: FutureWarning: Option `--id` was deprecated in version 4.3.1 and will be removed in 5.0. You don't need to pass it anymore to use a file ID.\n",
            "  warnings.warn(\n",
            "Downloading...\n",
            "From: https://drive.google.com/uc?id=1Osmr7qVN0NMuqYxvLesNn7H4nqPCVbsU\n",
            "To: /content/data_berka.db\n",
            "100% 70.2M/70.2M [00:00<00:00, 84.7MB/s]\n"
          ]
        }
      ],
      "source": [
        "!gdown --id 1Osmr7qVN0NMuqYxvLesNn7H4nqPCVbsU"
      ]
    },
    {
      "cell_type": "code",
      "source": [
        "%load_ext sql"
      ],
      "metadata": {
        "id": "CqtlOgp4KPDf"
      },
      "execution_count": null,
      "outputs": []
    },
    {
      "cell_type": "code",
      "source": [
        "%sql sqlite:///data_berka.db"
      ],
      "metadata": {
        "colab": {
          "base_uri": "https://localhost:8080/",
          "height": 36
        },
        "id": "xLptgcaUKPkk",
        "outputId": "c1703500-f02b-48f3-cdb7-77ac44c765b8"
      },
      "execution_count": null,
      "outputs": [
        {
          "output_type": "execute_result",
          "data": {
            "text/plain": [
              "'Connected: @data_berka.db'"
            ],
            "application/vnd.google.colaboratory.intrinsic+json": {
              "type": "string"
            }
          },
          "metadata": {},
          "execution_count": 3
        }
      ]
    },
    {
      "cell_type": "code",
      "source": [
        "%%sql\n",
        "SELECT name,type\n",
        "FROM sqlite_master\n",
        "WHERE type = 'table'"
      ],
      "metadata": {
        "colab": {
          "base_uri": "https://localhost:8080/",
          "height": 242
        },
        "id": "TOQcwdLVKVAK",
        "outputId": "dba3598d-0215-4c9d-b78e-5ec25135afc8"
      },
      "execution_count": null,
      "outputs": [
        {
          "output_type": "stream",
          "name": "stdout",
          "text": [
            " * sqlite:///data_berka.db\n",
            "Done.\n"
          ]
        },
        {
          "output_type": "execute_result",
          "data": {
            "text/plain": [
              "[('DISTRICT', 'table'),\n",
              " ('ACCOUNT', 'table'),\n",
              " ('TRANS', 'table'),\n",
              " ('CLIENT', 'table'),\n",
              " ('DISPOSITION', 'table'),\n",
              " ('CREDIT_CARD', 'table'),\n",
              " ('LOAN', 'table'),\n",
              " ('PERMANENT_ORDER', 'table')]"
            ],
            "text/html": [
              "<table>\n",
              "    <thead>\n",
              "        <tr>\n",
              "            <th>name</th>\n",
              "            <th>type</th>\n",
              "        </tr>\n",
              "    </thead>\n",
              "    <tbody>\n",
              "        <tr>\n",
              "            <td>DISTRICT</td>\n",
              "            <td>table</td>\n",
              "        </tr>\n",
              "        <tr>\n",
              "            <td>ACCOUNT</td>\n",
              "            <td>table</td>\n",
              "        </tr>\n",
              "        <tr>\n",
              "            <td>TRANS</td>\n",
              "            <td>table</td>\n",
              "        </tr>\n",
              "        <tr>\n",
              "            <td>CLIENT</td>\n",
              "            <td>table</td>\n",
              "        </tr>\n",
              "        <tr>\n",
              "            <td>DISPOSITION</td>\n",
              "            <td>table</td>\n",
              "        </tr>\n",
              "        <tr>\n",
              "            <td>CREDIT_CARD</td>\n",
              "            <td>table</td>\n",
              "        </tr>\n",
              "        <tr>\n",
              "            <td>LOAN</td>\n",
              "            <td>table</td>\n",
              "        </tr>\n",
              "        <tr>\n",
              "            <td>PERMANENT_ORDER</td>\n",
              "            <td>table</td>\n",
              "        </tr>\n",
              "    </tbody>\n",
              "</table>"
            ]
          },
          "metadata": {},
          "execution_count": 4
        }
      ]
    },
    {
      "cell_type": "code",
      "source": [
        "%%sql\n",
        "SELECT distinct type\n",
        "FROM CREDIT_CARD"
      ],
      "metadata": {
        "colab": {
          "base_uri": "https://localhost:8080/",
          "height": 137
        },
        "id": "-586xhiZCg4O",
        "outputId": "d7da6b8c-9dc4-4e83-eb94-e608a106f1d5"
      },
      "execution_count": null,
      "outputs": [
        {
          "output_type": "stream",
          "name": "stdout",
          "text": [
            " * sqlite:///data_berka.db\n",
            "Done.\n"
          ]
        },
        {
          "output_type": "execute_result",
          "data": {
            "text/plain": [
              "[('classic',), ('junior',), ('gold',)]"
            ],
            "text/html": [
              "<table>\n",
              "    <thead>\n",
              "        <tr>\n",
              "            <th>type</th>\n",
              "        </tr>\n",
              "    </thead>\n",
              "    <tbody>\n",
              "        <tr>\n",
              "            <td>classic</td>\n",
              "        </tr>\n",
              "        <tr>\n",
              "            <td>junior</td>\n",
              "        </tr>\n",
              "        <tr>\n",
              "            <td>gold</td>\n",
              "        </tr>\n",
              "    </tbody>\n",
              "</table>"
            ]
          },
          "metadata": {},
          "execution_count": 5
        }
      ]
    },
    {
      "cell_type": "code",
      "source": [
        "#Esta tabla tarjeta2 es solo para el trabajo con orange.\n",
        "%%sql\n",
        "tarjeta2 << SELECT  substr(c.birth_number,0,3) age, d.amount amount_op, e.amount amount_prest,\tduration duration_prest, status, a.type tipo_tarj, k_symbol\n",
        "FROM CREDIT_CARD a, DISPOSITION b, CLIENT c, TRANS d, LOAN e\n",
        "WHERE a.disp_id = b.disp_id\n",
        "AND b.client_id = c.client_id\n",
        "AND b.account_id = d.account_id\n",
        "AND b.account_id = e.account_id\n",
        "AND b.type = \"OWNER\"\n",
        "AND k_symbol in (\"DUCHOD\", \"UROK\", \"SIPO\", \"SLUZBY\", \"POJISTNE\", \"SANKC. UROK\",\"UVER\")"
      ],
      "metadata": {
        "id": "sqMw1kn4-tIV",
        "colab": {
          "base_uri": "https://localhost:8080/"
        },
        "outputId": "525a239d-976b-48bb-df45-e66f04dbc1a4"
      },
      "execution_count": null,
      "outputs": [
        {
          "output_type": "stream",
          "name": "stdout",
          "text": [
            " * sqlite:///data_berka.db\n",
            "Done.\n",
            "Returning data to local variable tarjeta2\n"
          ]
        }
      ]
    },
    {
      "cell_type": "code",
      "source": [
        "dftarjeta2 = tarjeta2.DataFrame()\n",
        "dftarjeta2 = dftarjeta2.dropna()\n",
        "dftarjeta2"
      ],
      "metadata": {
        "colab": {
          "base_uri": "https://localhost:8080/",
          "height": 423
        },
        "id": "62iW7fNv_G50",
        "outputId": "1544c992-5823-4551-8868-45fa8769a687"
      },
      "execution_count": null,
      "outputs": [
        {
          "output_type": "execute_result",
          "data": {
            "text/plain": [
              "      age  amount_op  amount_prest  duration_prest status tipo_tarj k_symbol\n",
              "0      68       14.6         51696              24      A   classic   SLUZBY\n",
              "1      68       14.6         51696              24      A   classic   SLUZBY\n",
              "2      68       14.6         51696              24      A   classic   SLUZBY\n",
              "3      68       14.6         51696              24      A   classic   SLUZBY\n",
              "4      68       14.6         51696              24      A   classic   SLUZBY\n",
              "...    ..        ...           ...             ...    ...       ...      ...\n",
              "20549  50     9642.0        141948              36      C   classic     SIPO\n",
              "20550  50     9642.0        141948              36      C   classic     SIPO\n",
              "20551  50     9642.0        141948              36      C   classic     SIPO\n",
              "20552  50     9642.0        141948              36      C   classic     SIPO\n",
              "20553  50     9642.0        141948              36      C   classic     SIPO\n",
              "\n",
              "[20554 rows x 7 columns]"
            ],
            "text/html": [
              "\n",
              "  <div id=\"df-2b604b66-4511-479f-8539-5347f0bc1b2b\">\n",
              "    <div class=\"colab-df-container\">\n",
              "      <div>\n",
              "<style scoped>\n",
              "    .dataframe tbody tr th:only-of-type {\n",
              "        vertical-align: middle;\n",
              "    }\n",
              "\n",
              "    .dataframe tbody tr th {\n",
              "        vertical-align: top;\n",
              "    }\n",
              "\n",
              "    .dataframe thead th {\n",
              "        text-align: right;\n",
              "    }\n",
              "</style>\n",
              "<table border=\"1\" class=\"dataframe\">\n",
              "  <thead>\n",
              "    <tr style=\"text-align: right;\">\n",
              "      <th></th>\n",
              "      <th>age</th>\n",
              "      <th>amount_op</th>\n",
              "      <th>amount_prest</th>\n",
              "      <th>duration_prest</th>\n",
              "      <th>status</th>\n",
              "      <th>tipo_tarj</th>\n",
              "      <th>k_symbol</th>\n",
              "    </tr>\n",
              "  </thead>\n",
              "  <tbody>\n",
              "    <tr>\n",
              "      <th>0</th>\n",
              "      <td>68</td>\n",
              "      <td>14.6</td>\n",
              "      <td>51696</td>\n",
              "      <td>24</td>\n",
              "      <td>A</td>\n",
              "      <td>classic</td>\n",
              "      <td>SLUZBY</td>\n",
              "    </tr>\n",
              "    <tr>\n",
              "      <th>1</th>\n",
              "      <td>68</td>\n",
              "      <td>14.6</td>\n",
              "      <td>51696</td>\n",
              "      <td>24</td>\n",
              "      <td>A</td>\n",
              "      <td>classic</td>\n",
              "      <td>SLUZBY</td>\n",
              "    </tr>\n",
              "    <tr>\n",
              "      <th>2</th>\n",
              "      <td>68</td>\n",
              "      <td>14.6</td>\n",
              "      <td>51696</td>\n",
              "      <td>24</td>\n",
              "      <td>A</td>\n",
              "      <td>classic</td>\n",
              "      <td>SLUZBY</td>\n",
              "    </tr>\n",
              "    <tr>\n",
              "      <th>3</th>\n",
              "      <td>68</td>\n",
              "      <td>14.6</td>\n",
              "      <td>51696</td>\n",
              "      <td>24</td>\n",
              "      <td>A</td>\n",
              "      <td>classic</td>\n",
              "      <td>SLUZBY</td>\n",
              "    </tr>\n",
              "    <tr>\n",
              "      <th>4</th>\n",
              "      <td>68</td>\n",
              "      <td>14.6</td>\n",
              "      <td>51696</td>\n",
              "      <td>24</td>\n",
              "      <td>A</td>\n",
              "      <td>classic</td>\n",
              "      <td>SLUZBY</td>\n",
              "    </tr>\n",
              "    <tr>\n",
              "      <th>...</th>\n",
              "      <td>...</td>\n",
              "      <td>...</td>\n",
              "      <td>...</td>\n",
              "      <td>...</td>\n",
              "      <td>...</td>\n",
              "      <td>...</td>\n",
              "      <td>...</td>\n",
              "    </tr>\n",
              "    <tr>\n",
              "      <th>20549</th>\n",
              "      <td>50</td>\n",
              "      <td>9642.0</td>\n",
              "      <td>141948</td>\n",
              "      <td>36</td>\n",
              "      <td>C</td>\n",
              "      <td>classic</td>\n",
              "      <td>SIPO</td>\n",
              "    </tr>\n",
              "    <tr>\n",
              "      <th>20550</th>\n",
              "      <td>50</td>\n",
              "      <td>9642.0</td>\n",
              "      <td>141948</td>\n",
              "      <td>36</td>\n",
              "      <td>C</td>\n",
              "      <td>classic</td>\n",
              "      <td>SIPO</td>\n",
              "    </tr>\n",
              "    <tr>\n",
              "      <th>20551</th>\n",
              "      <td>50</td>\n",
              "      <td>9642.0</td>\n",
              "      <td>141948</td>\n",
              "      <td>36</td>\n",
              "      <td>C</td>\n",
              "      <td>classic</td>\n",
              "      <td>SIPO</td>\n",
              "    </tr>\n",
              "    <tr>\n",
              "      <th>20552</th>\n",
              "      <td>50</td>\n",
              "      <td>9642.0</td>\n",
              "      <td>141948</td>\n",
              "      <td>36</td>\n",
              "      <td>C</td>\n",
              "      <td>classic</td>\n",
              "      <td>SIPO</td>\n",
              "    </tr>\n",
              "    <tr>\n",
              "      <th>20553</th>\n",
              "      <td>50</td>\n",
              "      <td>9642.0</td>\n",
              "      <td>141948</td>\n",
              "      <td>36</td>\n",
              "      <td>C</td>\n",
              "      <td>classic</td>\n",
              "      <td>SIPO</td>\n",
              "    </tr>\n",
              "  </tbody>\n",
              "</table>\n",
              "<p>20554 rows × 7 columns</p>\n",
              "</div>\n",
              "      <button class=\"colab-df-convert\" onclick=\"convertToInteractive('df-2b604b66-4511-479f-8539-5347f0bc1b2b')\"\n",
              "              title=\"Convert this dataframe to an interactive table.\"\n",
              "              style=\"display:none;\">\n",
              "        \n",
              "  <svg xmlns=\"http://www.w3.org/2000/svg\" height=\"24px\"viewBox=\"0 0 24 24\"\n",
              "       width=\"24px\">\n",
              "    <path d=\"M0 0h24v24H0V0z\" fill=\"none\"/>\n",
              "    <path d=\"M18.56 5.44l.94 2.06.94-2.06 2.06-.94-2.06-.94-.94-2.06-.94 2.06-2.06.94zm-11 1L8.5 8.5l.94-2.06 2.06-.94-2.06-.94L8.5 2.5l-.94 2.06-2.06.94zm10 10l.94 2.06.94-2.06 2.06-.94-2.06-.94-.94-2.06-.94 2.06-2.06.94z\"/><path d=\"M17.41 7.96l-1.37-1.37c-.4-.4-.92-.59-1.43-.59-.52 0-1.04.2-1.43.59L10.3 9.45l-7.72 7.72c-.78.78-.78 2.05 0 2.83L4 21.41c.39.39.9.59 1.41.59.51 0 1.02-.2 1.41-.59l7.78-7.78 2.81-2.81c.8-.78.8-2.07 0-2.86zM5.41 20L4 18.59l7.72-7.72 1.47 1.35L5.41 20z\"/>\n",
              "  </svg>\n",
              "      </button>\n",
              "      \n",
              "  <style>\n",
              "    .colab-df-container {\n",
              "      display:flex;\n",
              "      flex-wrap:wrap;\n",
              "      gap: 12px;\n",
              "    }\n",
              "\n",
              "    .colab-df-convert {\n",
              "      background-color: #E8F0FE;\n",
              "      border: none;\n",
              "      border-radius: 50%;\n",
              "      cursor: pointer;\n",
              "      display: none;\n",
              "      fill: #1967D2;\n",
              "      height: 32px;\n",
              "      padding: 0 0 0 0;\n",
              "      width: 32px;\n",
              "    }\n",
              "\n",
              "    .colab-df-convert:hover {\n",
              "      background-color: #E2EBFA;\n",
              "      box-shadow: 0px 1px 2px rgba(60, 64, 67, 0.3), 0px 1px 3px 1px rgba(60, 64, 67, 0.15);\n",
              "      fill: #174EA6;\n",
              "    }\n",
              "\n",
              "    [theme=dark] .colab-df-convert {\n",
              "      background-color: #3B4455;\n",
              "      fill: #D2E3FC;\n",
              "    }\n",
              "\n",
              "    [theme=dark] .colab-df-convert:hover {\n",
              "      background-color: #434B5C;\n",
              "      box-shadow: 0px 1px 3px 1px rgba(0, 0, 0, 0.15);\n",
              "      filter: drop-shadow(0px 1px 2px rgba(0, 0, 0, 0.3));\n",
              "      fill: #FFFFFF;\n",
              "    }\n",
              "  </style>\n",
              "\n",
              "      <script>\n",
              "        const buttonEl =\n",
              "          document.querySelector('#df-2b604b66-4511-479f-8539-5347f0bc1b2b button.colab-df-convert');\n",
              "        buttonEl.style.display =\n",
              "          google.colab.kernel.accessAllowed ? 'block' : 'none';\n",
              "\n",
              "        async function convertToInteractive(key) {\n",
              "          const element = document.querySelector('#df-2b604b66-4511-479f-8539-5347f0bc1b2b');\n",
              "          const dataTable =\n",
              "            await google.colab.kernel.invokeFunction('convertToInteractive',\n",
              "                                                     [key], {});\n",
              "          if (!dataTable) return;\n",
              "\n",
              "          const docLinkHtml = 'Like what you see? Visit the ' +\n",
              "            '<a target=\"_blank\" href=https://colab.research.google.com/notebooks/data_table.ipynb>data table notebook</a>'\n",
              "            + ' to learn more about interactive tables.';\n",
              "          element.innerHTML = '';\n",
              "          dataTable['output_type'] = 'display_data';\n",
              "          await google.colab.output.renderOutput(dataTable, element);\n",
              "          const docLink = document.createElement('div');\n",
              "          docLink.innerHTML = docLinkHtml;\n",
              "          element.appendChild(docLink);\n",
              "        }\n",
              "      </script>\n",
              "    </div>\n",
              "  </div>\n",
              "  "
            ]
          },
          "metadata": {},
          "execution_count": 7
        }
      ]
    },
    {
      "cell_type": "code",
      "source": [
        "dftarjeta2.to_csv(\"tarjeta2.csv\")"
      ],
      "metadata": {
        "id": "hKyXN5H3_OUp"
      },
      "execution_count": null,
      "outputs": []
    },
    {
      "cell_type": "markdown",
      "source": [
        "# Naive Bayes en pandas"
      ],
      "metadata": {
        "id": "0kHtPHRx_U8x"
      }
    },
    {
      "cell_type": "code",
      "source": [
        "%%sql\n",
        "tarjeta3 << SELECT  substr(c.birth_number,0,3) age, d.amount amount_op, e.amount amount_prest,\tduration duration_prest,\n",
        "CASE status WHEN 'A' THEN 0\n",
        "            WHEN 'B' THEN 1\n",
        "            WHEN 'C' THEN 2\n",
        "            WHEN 'D' THEN 3\n",
        "END status,\n",
        "CASE a.type WHEN 'classic' THEN 0\n",
        "            WHEN 'junior' THEN 1\n",
        "            WHEN 'gold' THEN 2                      \n",
        "END type,\n",
        "CASE k_symbol WHEN 'POJISTNE' THEN 0\n",
        "            WHEN 'SLUZBY' THEN 1\n",
        "            WHEN 'UROK' THEN 2\n",
        "            WHEN 'SANKC. UROK' THEN 3\n",
        "            WHEN 'DUCHOD' THEN 4\n",
        "            WHEN 'UROK' THEN 5\n",
        "            WHEN 'UVER' THEN 6\n",
        "END k_symbol\n",
        "FROM CREDIT_CARD a, DISPOSITION b, CLIENT c, TRANS d, LOAN e\n",
        "WHERE a.disp_id = b.disp_id\n",
        "AND b.client_id = c.client_id\n",
        "AND b.account_id = d.account_id\n",
        "AND b.account_id = e.account_id\n",
        "AND b.type = \"OWNER\""
      ],
      "metadata": {
        "colab": {
          "base_uri": "https://localhost:8080/"
        },
        "id": "HySTccgfN0hP",
        "outputId": "a5a70f23-db15-446c-b66b-e18de98d75ef"
      },
      "execution_count": null,
      "outputs": [
        {
          "output_type": "stream",
          "name": "stdout",
          "text": [
            " * sqlite:///data_berka.db\n",
            "Done.\n",
            "Returning data to local variable tarjeta3\n"
          ]
        }
      ]
    },
    {
      "cell_type": "code",
      "source": [
        "dftarjeta3 = tarjeta3.DataFrame()\n",
        "dftarjeta3 = dftarjeta3.dropna()\n",
        "dftarjeta3"
      ],
      "metadata": {
        "colab": {
          "base_uri": "https://localhost:8080/",
          "height": 423
        },
        "id": "LF9QygRWPE7l",
        "outputId": "a4d3e7f3-362f-4009-d4d8-9b78e590f6d5"
      },
      "execution_count": null,
      "outputs": [
        {
          "output_type": "execute_result",
          "data": {
            "text/plain": [
              "      age  amount_op  amount_prest  duration_prest  status  type  k_symbol\n",
              "0      68       14.6         51696              24       0     0       1.0\n",
              "1      68       14.6         51696              24       0     0       1.0\n",
              "2      68       14.6         51696              24       0     0       1.0\n",
              "3      68       14.6         51696              24       0     0       1.0\n",
              "4      68       14.6         51696              24       0     0       1.0\n",
              "...    ..        ...           ...             ...     ...   ...       ...\n",
              "47041  50     3943.0        141948              36       2     0       6.0\n",
              "47042  50     3943.0        141948              36       2     0       6.0\n",
              "47043  50     3943.0        141948              36       2     0       6.0\n",
              "47044  50     3943.0        141948              36       2     0       6.0\n",
              "47045  50     3943.0        141948              36       2     0       6.0\n",
              "\n",
              "[17153 rows x 7 columns]"
            ],
            "text/html": [
              "\n",
              "  <div id=\"df-0e68f254-dfaf-4a0d-b6b1-3bb0389272bf\">\n",
              "    <div class=\"colab-df-container\">\n",
              "      <div>\n",
              "<style scoped>\n",
              "    .dataframe tbody tr th:only-of-type {\n",
              "        vertical-align: middle;\n",
              "    }\n",
              "\n",
              "    .dataframe tbody tr th {\n",
              "        vertical-align: top;\n",
              "    }\n",
              "\n",
              "    .dataframe thead th {\n",
              "        text-align: right;\n",
              "    }\n",
              "</style>\n",
              "<table border=\"1\" class=\"dataframe\">\n",
              "  <thead>\n",
              "    <tr style=\"text-align: right;\">\n",
              "      <th></th>\n",
              "      <th>age</th>\n",
              "      <th>amount_op</th>\n",
              "      <th>amount_prest</th>\n",
              "      <th>duration_prest</th>\n",
              "      <th>status</th>\n",
              "      <th>type</th>\n",
              "      <th>k_symbol</th>\n",
              "    </tr>\n",
              "  </thead>\n",
              "  <tbody>\n",
              "    <tr>\n",
              "      <th>0</th>\n",
              "      <td>68</td>\n",
              "      <td>14.6</td>\n",
              "      <td>51696</td>\n",
              "      <td>24</td>\n",
              "      <td>0</td>\n",
              "      <td>0</td>\n",
              "      <td>1.0</td>\n",
              "    </tr>\n",
              "    <tr>\n",
              "      <th>1</th>\n",
              "      <td>68</td>\n",
              "      <td>14.6</td>\n",
              "      <td>51696</td>\n",
              "      <td>24</td>\n",
              "      <td>0</td>\n",
              "      <td>0</td>\n",
              "      <td>1.0</td>\n",
              "    </tr>\n",
              "    <tr>\n",
              "      <th>2</th>\n",
              "      <td>68</td>\n",
              "      <td>14.6</td>\n",
              "      <td>51696</td>\n",
              "      <td>24</td>\n",
              "      <td>0</td>\n",
              "      <td>0</td>\n",
              "      <td>1.0</td>\n",
              "    </tr>\n",
              "    <tr>\n",
              "      <th>3</th>\n",
              "      <td>68</td>\n",
              "      <td>14.6</td>\n",
              "      <td>51696</td>\n",
              "      <td>24</td>\n",
              "      <td>0</td>\n",
              "      <td>0</td>\n",
              "      <td>1.0</td>\n",
              "    </tr>\n",
              "    <tr>\n",
              "      <th>4</th>\n",
              "      <td>68</td>\n",
              "      <td>14.6</td>\n",
              "      <td>51696</td>\n",
              "      <td>24</td>\n",
              "      <td>0</td>\n",
              "      <td>0</td>\n",
              "      <td>1.0</td>\n",
              "    </tr>\n",
              "    <tr>\n",
              "      <th>...</th>\n",
              "      <td>...</td>\n",
              "      <td>...</td>\n",
              "      <td>...</td>\n",
              "      <td>...</td>\n",
              "      <td>...</td>\n",
              "      <td>...</td>\n",
              "      <td>...</td>\n",
              "    </tr>\n",
              "    <tr>\n",
              "      <th>47041</th>\n",
              "      <td>50</td>\n",
              "      <td>3943.0</td>\n",
              "      <td>141948</td>\n",
              "      <td>36</td>\n",
              "      <td>2</td>\n",
              "      <td>0</td>\n",
              "      <td>6.0</td>\n",
              "    </tr>\n",
              "    <tr>\n",
              "      <th>47042</th>\n",
              "      <td>50</td>\n",
              "      <td>3943.0</td>\n",
              "      <td>141948</td>\n",
              "      <td>36</td>\n",
              "      <td>2</td>\n",
              "      <td>0</td>\n",
              "      <td>6.0</td>\n",
              "    </tr>\n",
              "    <tr>\n",
              "      <th>47043</th>\n",
              "      <td>50</td>\n",
              "      <td>3943.0</td>\n",
              "      <td>141948</td>\n",
              "      <td>36</td>\n",
              "      <td>2</td>\n",
              "      <td>0</td>\n",
              "      <td>6.0</td>\n",
              "    </tr>\n",
              "    <tr>\n",
              "      <th>47044</th>\n",
              "      <td>50</td>\n",
              "      <td>3943.0</td>\n",
              "      <td>141948</td>\n",
              "      <td>36</td>\n",
              "      <td>2</td>\n",
              "      <td>0</td>\n",
              "      <td>6.0</td>\n",
              "    </tr>\n",
              "    <tr>\n",
              "      <th>47045</th>\n",
              "      <td>50</td>\n",
              "      <td>3943.0</td>\n",
              "      <td>141948</td>\n",
              "      <td>36</td>\n",
              "      <td>2</td>\n",
              "      <td>0</td>\n",
              "      <td>6.0</td>\n",
              "    </tr>\n",
              "  </tbody>\n",
              "</table>\n",
              "<p>17153 rows × 7 columns</p>\n",
              "</div>\n",
              "      <button class=\"colab-df-convert\" onclick=\"convertToInteractive('df-0e68f254-dfaf-4a0d-b6b1-3bb0389272bf')\"\n",
              "              title=\"Convert this dataframe to an interactive table.\"\n",
              "              style=\"display:none;\">\n",
              "        \n",
              "  <svg xmlns=\"http://www.w3.org/2000/svg\" height=\"24px\"viewBox=\"0 0 24 24\"\n",
              "       width=\"24px\">\n",
              "    <path d=\"M0 0h24v24H0V0z\" fill=\"none\"/>\n",
              "    <path d=\"M18.56 5.44l.94 2.06.94-2.06 2.06-.94-2.06-.94-.94-2.06-.94 2.06-2.06.94zm-11 1L8.5 8.5l.94-2.06 2.06-.94-2.06-.94L8.5 2.5l-.94 2.06-2.06.94zm10 10l.94 2.06.94-2.06 2.06-.94-2.06-.94-.94-2.06-.94 2.06-2.06.94z\"/><path d=\"M17.41 7.96l-1.37-1.37c-.4-.4-.92-.59-1.43-.59-.52 0-1.04.2-1.43.59L10.3 9.45l-7.72 7.72c-.78.78-.78 2.05 0 2.83L4 21.41c.39.39.9.59 1.41.59.51 0 1.02-.2 1.41-.59l7.78-7.78 2.81-2.81c.8-.78.8-2.07 0-2.86zM5.41 20L4 18.59l7.72-7.72 1.47 1.35L5.41 20z\"/>\n",
              "  </svg>\n",
              "      </button>\n",
              "      \n",
              "  <style>\n",
              "    .colab-df-container {\n",
              "      display:flex;\n",
              "      flex-wrap:wrap;\n",
              "      gap: 12px;\n",
              "    }\n",
              "\n",
              "    .colab-df-convert {\n",
              "      background-color: #E8F0FE;\n",
              "      border: none;\n",
              "      border-radius: 50%;\n",
              "      cursor: pointer;\n",
              "      display: none;\n",
              "      fill: #1967D2;\n",
              "      height: 32px;\n",
              "      padding: 0 0 0 0;\n",
              "      width: 32px;\n",
              "    }\n",
              "\n",
              "    .colab-df-convert:hover {\n",
              "      background-color: #E2EBFA;\n",
              "      box-shadow: 0px 1px 2px rgba(60, 64, 67, 0.3), 0px 1px 3px 1px rgba(60, 64, 67, 0.15);\n",
              "      fill: #174EA6;\n",
              "    }\n",
              "\n",
              "    [theme=dark] .colab-df-convert {\n",
              "      background-color: #3B4455;\n",
              "      fill: #D2E3FC;\n",
              "    }\n",
              "\n",
              "    [theme=dark] .colab-df-convert:hover {\n",
              "      background-color: #434B5C;\n",
              "      box-shadow: 0px 1px 3px 1px rgba(0, 0, 0, 0.15);\n",
              "      filter: drop-shadow(0px 1px 2px rgba(0, 0, 0, 0.3));\n",
              "      fill: #FFFFFF;\n",
              "    }\n",
              "  </style>\n",
              "\n",
              "      <script>\n",
              "        const buttonEl =\n",
              "          document.querySelector('#df-0e68f254-dfaf-4a0d-b6b1-3bb0389272bf button.colab-df-convert');\n",
              "        buttonEl.style.display =\n",
              "          google.colab.kernel.accessAllowed ? 'block' : 'none';\n",
              "\n",
              "        async function convertToInteractive(key) {\n",
              "          const element = document.querySelector('#df-0e68f254-dfaf-4a0d-b6b1-3bb0389272bf');\n",
              "          const dataTable =\n",
              "            await google.colab.kernel.invokeFunction('convertToInteractive',\n",
              "                                                     [key], {});\n",
              "          if (!dataTable) return;\n",
              "\n",
              "          const docLinkHtml = 'Like what you see? Visit the ' +\n",
              "            '<a target=\"_blank\" href=https://colab.research.google.com/notebooks/data_table.ipynb>data table notebook</a>'\n",
              "            + ' to learn more about interactive tables.';\n",
              "          element.innerHTML = '';\n",
              "          dataTable['output_type'] = 'display_data';\n",
              "          await google.colab.output.renderOutput(dataTable, element);\n",
              "          const docLink = document.createElement('div');\n",
              "          docLink.innerHTML = docLinkHtml;\n",
              "          element.appendChild(docLink);\n",
              "        }\n",
              "      </script>\n",
              "    </div>\n",
              "  </div>\n",
              "  "
            ]
          },
          "metadata": {},
          "execution_count": 10
        }
      ]
    },
    {
      "cell_type": "code",
      "source": [
        "from sklearn.model_selection import train_test_split\n",
        "\n",
        "train, test = train_test_split(dftarjeta3, test_size=0.3)"
      ],
      "metadata": {
        "id": "0wLRYWnOPNam"
      },
      "execution_count": null,
      "outputs": []
    },
    {
      "cell_type": "code",
      "source": [
        "features2 = [\"age\",\t\"amount_prest\",\t\"duration_prest\",\t\"status\", \"amount_op\", \"k_symbol\"]"
      ],
      "metadata": {
        "id": "E2wmc1LhPTEK"
      },
      "execution_count": null,
      "outputs": []
    },
    {
      "cell_type": "code",
      "source": [
        "X_train = train[features2]\n",
        "y_train = train[\"type\"]\n",
        "\n",
        "X_test = test[features2]\n",
        "y_test = test[\"type\"]"
      ],
      "metadata": {
        "id": "HJEyZ051Pr6c"
      },
      "execution_count": null,
      "outputs": []
    },
    {
      "cell_type": "code",
      "source": [
        "from sklearn.preprocessing import StandardScaler\n",
        "scaler = StandardScaler()\n",
        "scaler.fit(X_train) \n",
        "X_train = scaler.transform(X_train)\n",
        "X_test = scaler.transform(X_test)"
      ],
      "metadata": {
        "id": "bQP3tXeo9DV6"
      },
      "execution_count": null,
      "outputs": []
    },
    {
      "cell_type": "code",
      "source": [
        "from sklearn.naive_bayes import GaussianNB\n",
        "\n",
        "gnb = GaussianNB()\n",
        "clf = gnb.fit(X_train, y_train)\n",
        "y_pred = clf.predict(X_test)\n",
        "print(\"Número de préstamos clasificados erroneamente %d de un total de  %d\"  % (X_test.shape[0], (y_test != y_pred).sum()))"
      ],
      "metadata": {
        "colab": {
          "base_uri": "https://localhost:8080/"
        },
        "id": "aB7896xeP10Z",
        "outputId": "e00629f1-8aa3-4bc3-b4c5-f2cd253bec42"
      },
      "execution_count": null,
      "outputs": [
        {
          "output_type": "stream",
          "name": "stdout",
          "text": [
            "Número de préstamos clasificados erroneamente 5146 de un total de  727\n"
          ]
        }
      ]
    },
    {
      "cell_type": "code",
      "source": [
        "from sklearn.metrics import classification_report\n",
        "print(classification_report(y_test, y_pred, labels=clf.classes_))"
      ],
      "metadata": {
        "colab": {
          "base_uri": "https://localhost:8080/"
        },
        "id": "xDPaDktVRWJI",
        "outputId": "ef78be36-5325-4475-c0da-f73309d9a638"
      },
      "execution_count": null,
      "outputs": [
        {
          "output_type": "stream",
          "name": "stdout",
          "text": [
            "              precision    recall  f1-score   support\n",
            "\n",
            "           0       0.86      0.97      0.91      3879\n",
            "           1       0.85      0.89      0.87       736\n",
            "           2       0.00      0.00      0.00       531\n",
            "\n",
            "    accuracy                           0.86      5146\n",
            "   macro avg       0.57      0.62      0.59      5146\n",
            "weighted avg       0.77      0.86      0.81      5146\n",
            "\n"
          ]
        },
        {
          "output_type": "stream",
          "name": "stderr",
          "text": [
            "/usr/local/lib/python3.8/dist-packages/sklearn/metrics/_classification.py:1318: UndefinedMetricWarning: Precision and F-score are ill-defined and being set to 0.0 in labels with no predicted samples. Use `zero_division` parameter to control this behavior.\n",
            "  _warn_prf(average, modifier, msg_start, len(result))\n",
            "/usr/local/lib/python3.8/dist-packages/sklearn/metrics/_classification.py:1318: UndefinedMetricWarning: Precision and F-score are ill-defined and being set to 0.0 in labels with no predicted samples. Use `zero_division` parameter to control this behavior.\n",
            "  _warn_prf(average, modifier, msg_start, len(result))\n",
            "/usr/local/lib/python3.8/dist-packages/sklearn/metrics/_classification.py:1318: UndefinedMetricWarning: Precision and F-score are ill-defined and being set to 0.0 in labels with no predicted samples. Use `zero_division` parameter to control this behavior.\n",
            "  _warn_prf(average, modifier, msg_start, len(result))\n"
          ]
        }
      ]
    },
    {
      "cell_type": "code",
      "source": [
        "import matplotlib.pyplot as plt\n",
        "from sklearn.metrics import confusion_matrix, ConfusionMatrixDisplay\n",
        "cm = confusion_matrix(y_test, y_pred, labels= clf.classes_)\n",
        "disp = ConfusionMatrixDisplay(confusion_matrix=cm, display_labels=clf.classes_)\n",
        "disp.plot()"
      ],
      "metadata": {
        "colab": {
          "base_uri": "https://localhost:8080/",
          "height": 296
        },
        "id": "x7mVk-RpRhhN",
        "outputId": "fe69f38b-7a21-49fd-b182-82490da1b789"
      },
      "execution_count": null,
      "outputs": [
        {
          "output_type": "execute_result",
          "data": {
            "text/plain": [
              "<sklearn.metrics._plot.confusion_matrix.ConfusionMatrixDisplay at 0x7f5d04b5aa00>"
            ]
          },
          "metadata": {},
          "execution_count": 17
        },
        {
          "output_type": "display_data",
          "data": {
            "text/plain": [
              "<Figure size 432x288 with 2 Axes>"
            ],
            "image/png": "[encoded data removed]"
          },
          "metadata": {
            "needs_background": "light"
          }
        }
      ]
    },
    {
      "cell_type": "markdown",
      "source": [],
      "metadata": {
        "id": "syU2r3XdN1Ir"
      }
    }
  ]
}